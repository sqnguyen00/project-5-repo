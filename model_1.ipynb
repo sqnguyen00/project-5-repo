{
 "cells": [
  {
   "cell_type": "code",
   "execution_count": 62,
   "metadata": {},
   "outputs": [],
   "source": [
    "import pandas as pd\n",
    "import tensorflow as tf\n",
    "import os\n",
    "import numpy as np\n"
   ]
  },
  {
   "cell_type": "code",
   "execution_count": 63,
   "metadata": {},
   "outputs": [],
   "source": [
    "cal = pd.read_csv('./temperature_precipitation_data/dm_export_20011222_20211222 (4).csv')"
   ]
  },
  {
   "cell_type": "code",
   "execution_count": 64,
   "metadata": {},
   "outputs": [
    {
     "data": {
      "text/html": [
       "<div>\n",
       "<style scoped>\n",
       "    .dataframe tbody tr th:only-of-type {\n",
       "        vertical-align: middle;\n",
       "    }\n",
       "\n",
       "    .dataframe tbody tr th {\n",
       "        vertical-align: top;\n",
       "    }\n",
       "\n",
       "    .dataframe thead th {\n",
       "        text-align: right;\n",
       "    }\n",
       "</style>\n",
       "<table border=\"1\" class=\"dataframe\">\n",
       "  <thead>\n",
       "    <tr style=\"text-align: right;\">\n",
       "      <th></th>\n",
       "      <th>MapDate</th>\n",
       "      <th>Region</th>\n",
       "      <th>None</th>\n",
       "      <th>D0</th>\n",
       "      <th>D1</th>\n",
       "      <th>D2</th>\n",
       "      <th>D3</th>\n",
       "      <th>D4</th>\n",
       "      <th>ValidStart</th>\n",
       "      <th>ValidEnd</th>\n",
       "      <th>StatisticFormatID</th>\n",
       "      <th>ClimateDivisionsID</th>\n",
       "    </tr>\n",
       "  </thead>\n",
       "  <tbody>\n",
       "    <tr>\n",
       "      <th>1024</th>\n",
       "      <td>20020430</td>\n",
       "      <td>Northeast Inter. Basins</td>\n",
       "      <td>74.98</td>\n",
       "      <td>11.85</td>\n",
       "      <td>13.17</td>\n",
       "      <td>0.00</td>\n",
       "      <td>0.00</td>\n",
       "      <td>0.0</td>\n",
       "      <td>2002-04-30</td>\n",
       "      <td>2002-05-06</td>\n",
       "      <td>2</td>\n",
       "      <td>403</td>\n",
       "    </tr>\n",
       "    <tr>\n",
       "      <th>1025</th>\n",
       "      <td>20020423</td>\n",
       "      <td>Northeast Inter. Basins</td>\n",
       "      <td>73.58</td>\n",
       "      <td>14.24</td>\n",
       "      <td>12.18</td>\n",
       "      <td>0.00</td>\n",
       "      <td>0.00</td>\n",
       "      <td>0.0</td>\n",
       "      <td>2002-04-23</td>\n",
       "      <td>2002-04-29</td>\n",
       "      <td>2</td>\n",
       "      <td>403</td>\n",
       "    </tr>\n",
       "    <tr>\n",
       "      <th>1026</th>\n",
       "      <td>20020416</td>\n",
       "      <td>Northeast Inter. Basins</td>\n",
       "      <td>72.12</td>\n",
       "      <td>13.38</td>\n",
       "      <td>14.49</td>\n",
       "      <td>0.00</td>\n",
       "      <td>0.00</td>\n",
       "      <td>0.0</td>\n",
       "      <td>2002-04-16</td>\n",
       "      <td>2002-04-22</td>\n",
       "      <td>2</td>\n",
       "      <td>403</td>\n",
       "    </tr>\n",
       "    <tr>\n",
       "      <th>1027</th>\n",
       "      <td>20020409</td>\n",
       "      <td>Northeast Inter. Basins</td>\n",
       "      <td>75.28</td>\n",
       "      <td>15.37</td>\n",
       "      <td>9.35</td>\n",
       "      <td>0.00</td>\n",
       "      <td>0.00</td>\n",
       "      <td>0.0</td>\n",
       "      <td>2002-04-09</td>\n",
       "      <td>2002-04-15</td>\n",
       "      <td>2</td>\n",
       "      <td>403</td>\n",
       "    </tr>\n",
       "    <tr>\n",
       "      <th>1028</th>\n",
       "      <td>20020402</td>\n",
       "      <td>Northeast Inter. Basins</td>\n",
       "      <td>74.60</td>\n",
       "      <td>20.57</td>\n",
       "      <td>4.83</td>\n",
       "      <td>0.00</td>\n",
       "      <td>0.00</td>\n",
       "      <td>0.0</td>\n",
       "      <td>2002-04-02</td>\n",
       "      <td>2002-04-08</td>\n",
       "      <td>2</td>\n",
       "      <td>403</td>\n",
       "    </tr>\n",
       "    <tr>\n",
       "      <th>1029</th>\n",
       "      <td>20020326</td>\n",
       "      <td>Northeast Inter. Basins</td>\n",
       "      <td>70.93</td>\n",
       "      <td>28.92</td>\n",
       "      <td>0.15</td>\n",
       "      <td>0.00</td>\n",
       "      <td>0.00</td>\n",
       "      <td>0.0</td>\n",
       "      <td>2002-03-26</td>\n",
       "      <td>2002-04-01</td>\n",
       "      <td>2</td>\n",
       "      <td>403</td>\n",
       "    </tr>\n",
       "    <tr>\n",
       "      <th>1030</th>\n",
       "      <td>20020319</td>\n",
       "      <td>Northeast Inter. Basins</td>\n",
       "      <td>73.59</td>\n",
       "      <td>26.41</td>\n",
       "      <td>0.00</td>\n",
       "      <td>0.00</td>\n",
       "      <td>0.00</td>\n",
       "      <td>0.0</td>\n",
       "      <td>2002-03-19</td>\n",
       "      <td>2002-03-25</td>\n",
       "      <td>2</td>\n",
       "      <td>403</td>\n",
       "    </tr>\n",
       "    <tr>\n",
       "      <th>1031</th>\n",
       "      <td>20020312</td>\n",
       "      <td>Northeast Inter. Basins</td>\n",
       "      <td>71.63</td>\n",
       "      <td>27.75</td>\n",
       "      <td>0.62</td>\n",
       "      <td>0.00</td>\n",
       "      <td>0.00</td>\n",
       "      <td>0.0</td>\n",
       "      <td>2002-03-12</td>\n",
       "      <td>2002-03-18</td>\n",
       "      <td>2</td>\n",
       "      <td>403</td>\n",
       "    </tr>\n",
       "    <tr>\n",
       "      <th>1032</th>\n",
       "      <td>20020305</td>\n",
       "      <td>Northeast Inter. Basins</td>\n",
       "      <td>53.82</td>\n",
       "      <td>44.46</td>\n",
       "      <td>1.72</td>\n",
       "      <td>0.00</td>\n",
       "      <td>0.00</td>\n",
       "      <td>0.0</td>\n",
       "      <td>2002-03-05</td>\n",
       "      <td>2002-03-11</td>\n",
       "      <td>2</td>\n",
       "      <td>403</td>\n",
       "    </tr>\n",
       "    <tr>\n",
       "      <th>1033</th>\n",
       "      <td>20020226</td>\n",
       "      <td>Northeast Inter. Basins</td>\n",
       "      <td>59.18</td>\n",
       "      <td>40.34</td>\n",
       "      <td>0.48</td>\n",
       "      <td>0.00</td>\n",
       "      <td>0.00</td>\n",
       "      <td>0.0</td>\n",
       "      <td>2002-02-26</td>\n",
       "      <td>2002-03-04</td>\n",
       "      <td>2</td>\n",
       "      <td>403</td>\n",
       "    </tr>\n",
       "    <tr>\n",
       "      <th>1034</th>\n",
       "      <td>20020219</td>\n",
       "      <td>Northeast Inter. Basins</td>\n",
       "      <td>58.41</td>\n",
       "      <td>41.58</td>\n",
       "      <td>0.01</td>\n",
       "      <td>0.00</td>\n",
       "      <td>0.00</td>\n",
       "      <td>0.0</td>\n",
       "      <td>2002-02-19</td>\n",
       "      <td>2002-02-25</td>\n",
       "      <td>2</td>\n",
       "      <td>403</td>\n",
       "    </tr>\n",
       "    <tr>\n",
       "      <th>1035</th>\n",
       "      <td>20020212</td>\n",
       "      <td>Northeast Inter. Basins</td>\n",
       "      <td>53.74</td>\n",
       "      <td>44.82</td>\n",
       "      <td>1.44</td>\n",
       "      <td>0.00</td>\n",
       "      <td>0.00</td>\n",
       "      <td>0.0</td>\n",
       "      <td>2002-02-12</td>\n",
       "      <td>2002-02-18</td>\n",
       "      <td>2</td>\n",
       "      <td>403</td>\n",
       "    </tr>\n",
       "    <tr>\n",
       "      <th>1036</th>\n",
       "      <td>20020205</td>\n",
       "      <td>Northeast Inter. Basins</td>\n",
       "      <td>64.61</td>\n",
       "      <td>34.77</td>\n",
       "      <td>0.62</td>\n",
       "      <td>0.00</td>\n",
       "      <td>0.00</td>\n",
       "      <td>0.0</td>\n",
       "      <td>2002-02-05</td>\n",
       "      <td>2002-02-11</td>\n",
       "      <td>2</td>\n",
       "      <td>403</td>\n",
       "    </tr>\n",
       "    <tr>\n",
       "      <th>1037</th>\n",
       "      <td>20020129</td>\n",
       "      <td>Northeast Inter. Basins</td>\n",
       "      <td>57.86</td>\n",
       "      <td>41.66</td>\n",
       "      <td>0.48</td>\n",
       "      <td>0.00</td>\n",
       "      <td>0.00</td>\n",
       "      <td>0.0</td>\n",
       "      <td>2002-01-29</td>\n",
       "      <td>2002-02-04</td>\n",
       "      <td>2</td>\n",
       "      <td>403</td>\n",
       "    </tr>\n",
       "    <tr>\n",
       "      <th>1038</th>\n",
       "      <td>20020122</td>\n",
       "      <td>Northeast Inter. Basins</td>\n",
       "      <td>64.67</td>\n",
       "      <td>34.56</td>\n",
       "      <td>0.77</td>\n",
       "      <td>0.00</td>\n",
       "      <td>0.00</td>\n",
       "      <td>0.0</td>\n",
       "      <td>2002-01-22</td>\n",
       "      <td>2002-01-28</td>\n",
       "      <td>2</td>\n",
       "      <td>403</td>\n",
       "    </tr>\n",
       "    <tr>\n",
       "      <th>1039</th>\n",
       "      <td>20020115</td>\n",
       "      <td>Northeast Inter. Basins</td>\n",
       "      <td>53.87</td>\n",
       "      <td>43.79</td>\n",
       "      <td>2.34</td>\n",
       "      <td>0.00</td>\n",
       "      <td>0.00</td>\n",
       "      <td>0.0</td>\n",
       "      <td>2002-01-15</td>\n",
       "      <td>2002-01-21</td>\n",
       "      <td>2</td>\n",
       "      <td>403</td>\n",
       "    </tr>\n",
       "    <tr>\n",
       "      <th>1040</th>\n",
       "      <td>20020108</td>\n",
       "      <td>Northeast Inter. Basins</td>\n",
       "      <td>57.62</td>\n",
       "      <td>41.73</td>\n",
       "      <td>0.65</td>\n",
       "      <td>0.00</td>\n",
       "      <td>0.00</td>\n",
       "      <td>0.0</td>\n",
       "      <td>2002-01-08</td>\n",
       "      <td>2002-01-14</td>\n",
       "      <td>2</td>\n",
       "      <td>403</td>\n",
       "    </tr>\n",
       "    <tr>\n",
       "      <th>1041</th>\n",
       "      <td>20020101</td>\n",
       "      <td>Northeast Inter. Basins</td>\n",
       "      <td>0.00</td>\n",
       "      <td>1.54</td>\n",
       "      <td>43.80</td>\n",
       "      <td>54.66</td>\n",
       "      <td>0.00</td>\n",
       "      <td>0.0</td>\n",
       "      <td>2002-01-01</td>\n",
       "      <td>2002-01-07</td>\n",
       "      <td>2</td>\n",
       "      <td>403</td>\n",
       "    </tr>\n",
       "    <tr>\n",
       "      <th>1042</th>\n",
       "      <td>20011225</td>\n",
       "      <td>Northeast Inter. Basins</td>\n",
       "      <td>0.00</td>\n",
       "      <td>0.00</td>\n",
       "      <td>0.60</td>\n",
       "      <td>99.40</td>\n",
       "      <td>0.00</td>\n",
       "      <td>0.0</td>\n",
       "      <td>2001-12-25</td>\n",
       "      <td>2001-12-31</td>\n",
       "      <td>2</td>\n",
       "      <td>403</td>\n",
       "    </tr>\n",
       "    <tr>\n",
       "      <th>1043</th>\n",
       "      <td>20011218</td>\n",
       "      <td>Northeast Inter. Basins</td>\n",
       "      <td>0.00</td>\n",
       "      <td>0.00</td>\n",
       "      <td>0.00</td>\n",
       "      <td>52.52</td>\n",
       "      <td>47.48</td>\n",
       "      <td>0.0</td>\n",
       "      <td>2001-12-18</td>\n",
       "      <td>2001-12-24</td>\n",
       "      <td>2</td>\n",
       "      <td>403</td>\n",
       "    </tr>\n",
       "  </tbody>\n",
       "</table>\n",
       "</div>"
      ],
      "text/plain": [
       "       MapDate                   Region   None     D0     D1     D2     D3  \\\n",
       "1024  20020430  Northeast Inter. Basins  74.98  11.85  13.17   0.00   0.00   \n",
       "1025  20020423  Northeast Inter. Basins  73.58  14.24  12.18   0.00   0.00   \n",
       "1026  20020416  Northeast Inter. Basins  72.12  13.38  14.49   0.00   0.00   \n",
       "1027  20020409  Northeast Inter. Basins  75.28  15.37   9.35   0.00   0.00   \n",
       "1028  20020402  Northeast Inter. Basins  74.60  20.57   4.83   0.00   0.00   \n",
       "1029  20020326  Northeast Inter. Basins  70.93  28.92   0.15   0.00   0.00   \n",
       "1030  20020319  Northeast Inter. Basins  73.59  26.41   0.00   0.00   0.00   \n",
       "1031  20020312  Northeast Inter. Basins  71.63  27.75   0.62   0.00   0.00   \n",
       "1032  20020305  Northeast Inter. Basins  53.82  44.46   1.72   0.00   0.00   \n",
       "1033  20020226  Northeast Inter. Basins  59.18  40.34   0.48   0.00   0.00   \n",
       "1034  20020219  Northeast Inter. Basins  58.41  41.58   0.01   0.00   0.00   \n",
       "1035  20020212  Northeast Inter. Basins  53.74  44.82   1.44   0.00   0.00   \n",
       "1036  20020205  Northeast Inter. Basins  64.61  34.77   0.62   0.00   0.00   \n",
       "1037  20020129  Northeast Inter. Basins  57.86  41.66   0.48   0.00   0.00   \n",
       "1038  20020122  Northeast Inter. Basins  64.67  34.56   0.77   0.00   0.00   \n",
       "1039  20020115  Northeast Inter. Basins  53.87  43.79   2.34   0.00   0.00   \n",
       "1040  20020108  Northeast Inter. Basins  57.62  41.73   0.65   0.00   0.00   \n",
       "1041  20020101  Northeast Inter. Basins   0.00   1.54  43.80  54.66   0.00   \n",
       "1042  20011225  Northeast Inter. Basins   0.00   0.00   0.60  99.40   0.00   \n",
       "1043  20011218  Northeast Inter. Basins   0.00   0.00   0.00  52.52  47.48   \n",
       "\n",
       "       D4  ValidStart    ValidEnd  StatisticFormatID  ClimateDivisionsID  \n",
       "1024  0.0  2002-04-30  2002-05-06                  2                 403  \n",
       "1025  0.0  2002-04-23  2002-04-29                  2                 403  \n",
       "1026  0.0  2002-04-16  2002-04-22                  2                 403  \n",
       "1027  0.0  2002-04-09  2002-04-15                  2                 403  \n",
       "1028  0.0  2002-04-02  2002-04-08                  2                 403  \n",
       "1029  0.0  2002-03-26  2002-04-01                  2                 403  \n",
       "1030  0.0  2002-03-19  2002-03-25                  2                 403  \n",
       "1031  0.0  2002-03-12  2002-03-18                  2                 403  \n",
       "1032  0.0  2002-03-05  2002-03-11                  2                 403  \n",
       "1033  0.0  2002-02-26  2002-03-04                  2                 403  \n",
       "1034  0.0  2002-02-19  2002-02-25                  2                 403  \n",
       "1035  0.0  2002-02-12  2002-02-18                  2                 403  \n",
       "1036  0.0  2002-02-05  2002-02-11                  2                 403  \n",
       "1037  0.0  2002-01-29  2002-02-04                  2                 403  \n",
       "1038  0.0  2002-01-22  2002-01-28                  2                 403  \n",
       "1039  0.0  2002-01-15  2002-01-21                  2                 403  \n",
       "1040  0.0  2002-01-08  2002-01-14                  2                 403  \n",
       "1041  0.0  2002-01-01  2002-01-07                  2                 403  \n",
       "1042  0.0  2001-12-25  2001-12-31                  2                 403  \n",
       "1043  0.0  2001-12-18  2001-12-24                  2                 403  "
      ]
     },
     "execution_count": 64,
     "metadata": {},
     "output_type": "execute_result"
    }
   ],
   "source": [
    "cal.tail(20)"
   ]
  },
  {
   "cell_type": "code",
   "execution_count": 65,
   "metadata": {},
   "outputs": [],
   "source": [
    "cal['percent_area_severe_drought'] = cal['D2']+cal['D3']+cal['D4']"
   ]
  },
  {
   "cell_type": "code",
   "execution_count": 66,
   "metadata": {},
   "outputs": [],
   "source": [
    "cal['percent_area_minimal_drought'] = cal['None']+cal['D0']+cal['D1']"
   ]
  },
  {
   "cell_type": "code",
   "execution_count": 67,
   "metadata": {},
   "outputs": [],
   "source": [
    "cal['percent_area_no_drought'] = cal['None']"
   ]
  },
  {
   "cell_type": "code",
   "execution_count": 68,
   "metadata": {},
   "outputs": [],
   "source": [
    "cal['percent_in_drought'] = cal['D2']+cal['D3']+cal['D4']+cal['D0']+cal['D1']"
   ]
  },
  {
   "cell_type": "code",
   "execution_count": 69,
   "metadata": {},
   "outputs": [
    {
     "data": {
      "text/html": [
       "<div>\n",
       "<style scoped>\n",
       "    .dataframe tbody tr th:only-of-type {\n",
       "        vertical-align: middle;\n",
       "    }\n",
       "\n",
       "    .dataframe tbody tr th {\n",
       "        vertical-align: top;\n",
       "    }\n",
       "\n",
       "    .dataframe thead th {\n",
       "        text-align: right;\n",
       "    }\n",
       "</style>\n",
       "<table border=\"1\" class=\"dataframe\">\n",
       "  <thead>\n",
       "    <tr style=\"text-align: right;\">\n",
       "      <th></th>\n",
       "      <th>MapDate</th>\n",
       "      <th>Region</th>\n",
       "      <th>None</th>\n",
       "      <th>D0</th>\n",
       "      <th>D1</th>\n",
       "      <th>D2</th>\n",
       "      <th>D3</th>\n",
       "      <th>D4</th>\n",
       "      <th>ValidStart</th>\n",
       "      <th>ValidEnd</th>\n",
       "      <th>StatisticFormatID</th>\n",
       "      <th>ClimateDivisionsID</th>\n",
       "      <th>percent_area_severe_drought</th>\n",
       "      <th>percent_area_minimal_drought</th>\n",
       "      <th>percent_area_no_drought</th>\n",
       "      <th>percent_in_drought</th>\n",
       "    </tr>\n",
       "  </thead>\n",
       "  <tbody>\n",
       "    <tr>\n",
       "      <th>0</th>\n",
       "      <td>20211214</td>\n",
       "      <td>Northeast Inter. Basins</td>\n",
       "      <td>0.0</td>\n",
       "      <td>0.0</td>\n",
       "      <td>0.0</td>\n",
       "      <td>47.85</td>\n",
       "      <td>49.77</td>\n",
       "      <td>2.38</td>\n",
       "      <td>2021-12-14</td>\n",
       "      <td>2021-12-20</td>\n",
       "      <td>2</td>\n",
       "      <td>403</td>\n",
       "      <td>100.0</td>\n",
       "      <td>0.0</td>\n",
       "      <td>0.0</td>\n",
       "      <td>100.0</td>\n",
       "    </tr>\n",
       "    <tr>\n",
       "      <th>1</th>\n",
       "      <td>20211207</td>\n",
       "      <td>Northeast Inter. Basins</td>\n",
       "      <td>0.0</td>\n",
       "      <td>0.0</td>\n",
       "      <td>0.0</td>\n",
       "      <td>47.85</td>\n",
       "      <td>49.77</td>\n",
       "      <td>2.38</td>\n",
       "      <td>2021-12-07</td>\n",
       "      <td>2021-12-13</td>\n",
       "      <td>2</td>\n",
       "      <td>403</td>\n",
       "      <td>100.0</td>\n",
       "      <td>0.0</td>\n",
       "      <td>0.0</td>\n",
       "      <td>100.0</td>\n",
       "    </tr>\n",
       "    <tr>\n",
       "      <th>2</th>\n",
       "      <td>20211130</td>\n",
       "      <td>Northeast Inter. Basins</td>\n",
       "      <td>0.0</td>\n",
       "      <td>0.0</td>\n",
       "      <td>0.0</td>\n",
       "      <td>47.85</td>\n",
       "      <td>49.77</td>\n",
       "      <td>2.38</td>\n",
       "      <td>2021-11-30</td>\n",
       "      <td>2021-12-06</td>\n",
       "      <td>2</td>\n",
       "      <td>403</td>\n",
       "      <td>100.0</td>\n",
       "      <td>0.0</td>\n",
       "      <td>0.0</td>\n",
       "      <td>100.0</td>\n",
       "    </tr>\n",
       "  </tbody>\n",
       "</table>\n",
       "</div>"
      ],
      "text/plain": [
       "    MapDate                   Region  None   D0   D1     D2     D3    D4  \\\n",
       "0  20211214  Northeast Inter. Basins   0.0  0.0  0.0  47.85  49.77  2.38   \n",
       "1  20211207  Northeast Inter. Basins   0.0  0.0  0.0  47.85  49.77  2.38   \n",
       "2  20211130  Northeast Inter. Basins   0.0  0.0  0.0  47.85  49.77  2.38   \n",
       "\n",
       "   ValidStart    ValidEnd  StatisticFormatID  ClimateDivisionsID  \\\n",
       "0  2021-12-14  2021-12-20                  2                 403   \n",
       "1  2021-12-07  2021-12-13                  2                 403   \n",
       "2  2021-11-30  2021-12-06                  2                 403   \n",
       "\n",
       "   percent_area_severe_drought  percent_area_minimal_drought  \\\n",
       "0                        100.0                           0.0   \n",
       "1                        100.0                           0.0   \n",
       "2                        100.0                           0.0   \n",
       "\n",
       "   percent_area_no_drought  percent_in_drought  \n",
       "0                      0.0               100.0  \n",
       "1                      0.0               100.0  \n",
       "2                      0.0               100.0  "
      ]
     },
     "execution_count": 69,
     "metadata": {},
     "output_type": "execute_result"
    }
   ],
   "source": [
    "cal.head(3)"
   ]
  },
  {
   "cell_type": "code",
   "execution_count": 70,
   "metadata": {},
   "outputs": [
    {
     "data": {
      "text/plain": [
       "35.728333333333254"
      ]
     },
     "execution_count": 70,
     "metadata": {},
     "output_type": "execute_result"
    }
   ],
   "source": [
    "cal['percent_area_severe_drought'].mean()"
   ]
  },
  {
   "cell_type": "code",
   "execution_count": 71,
   "metadata": {},
   "outputs": [],
   "source": [
    "cal['is_severe'] = cal['percent_area_severe_drought']"
   ]
  },
  {
   "cell_type": "code",
   "execution_count": 72,
   "metadata": {},
   "outputs": [],
   "source": [
    "for i in cal['is_severe']:\n",
    "    if i == 0:\n",
    "        cal['is_severe'].replace({i: 0}, inplace=True)\n",
    "    else:\n",
    "        cal['is_severe'].replace({i: 1}, inplace=True)"
   ]
  },
  {
   "cell_type": "code",
   "execution_count": 73,
   "metadata": {},
   "outputs": [
    {
     "data": {
      "text/plain": [
       "1.0    0.606322\n",
       "0.0    0.393678\n",
       "Name: is_severe, dtype: float64"
      ]
     },
     "execution_count": 73,
     "metadata": {},
     "output_type": "execute_result"
    }
   ],
   "source": [
    "cal['is_severe'].value_counts(normalize=True)"
   ]
  },
  {
   "cell_type": "code",
   "execution_count": 74,
   "metadata": {},
   "outputs": [],
   "source": [
    "cal['ValidStart'] = pd.to_datetime(cal['ValidStart'])"
   ]
  },
  {
   "cell_type": "code",
   "execution_count": 75,
   "metadata": {},
   "outputs": [],
   "source": [
    "cal.sort_values(by=['ValidStart'], inplace=True)"
   ]
  },
  {
   "cell_type": "code",
   "execution_count": 76,
   "metadata": {},
   "outputs": [
    {
     "data": {
      "text/html": [
       "<div>\n",
       "<style scoped>\n",
       "    .dataframe tbody tr th:only-of-type {\n",
       "        vertical-align: middle;\n",
       "    }\n",
       "\n",
       "    .dataframe tbody tr th {\n",
       "        vertical-align: top;\n",
       "    }\n",
       "\n",
       "    .dataframe thead th {\n",
       "        text-align: right;\n",
       "    }\n",
       "</style>\n",
       "<table border=\"1\" class=\"dataframe\">\n",
       "  <thead>\n",
       "    <tr style=\"text-align: right;\">\n",
       "      <th></th>\n",
       "      <th>MapDate</th>\n",
       "      <th>Region</th>\n",
       "      <th>None</th>\n",
       "      <th>D0</th>\n",
       "      <th>D1</th>\n",
       "      <th>D2</th>\n",
       "      <th>D3</th>\n",
       "      <th>D4</th>\n",
       "      <th>ValidStart</th>\n",
       "      <th>ValidEnd</th>\n",
       "      <th>StatisticFormatID</th>\n",
       "      <th>ClimateDivisionsID</th>\n",
       "      <th>percent_area_severe_drought</th>\n",
       "      <th>percent_area_minimal_drought</th>\n",
       "      <th>percent_area_no_drought</th>\n",
       "      <th>percent_in_drought</th>\n",
       "      <th>is_severe</th>\n",
       "    </tr>\n",
       "  </thead>\n",
       "  <tbody>\n",
       "    <tr>\n",
       "      <th>1043</th>\n",
       "      <td>20011218</td>\n",
       "      <td>Northeast Inter. Basins</td>\n",
       "      <td>0.0</td>\n",
       "      <td>0.00</td>\n",
       "      <td>0.0</td>\n",
       "      <td>52.52</td>\n",
       "      <td>47.48</td>\n",
       "      <td>0.0</td>\n",
       "      <td>2001-12-18</td>\n",
       "      <td>2001-12-24</td>\n",
       "      <td>2</td>\n",
       "      <td>403</td>\n",
       "      <td>100.00</td>\n",
       "      <td>0.00</td>\n",
       "      <td>0.0</td>\n",
       "      <td>100.0</td>\n",
       "      <td>1.0</td>\n",
       "    </tr>\n",
       "    <tr>\n",
       "      <th>1042</th>\n",
       "      <td>20011225</td>\n",
       "      <td>Northeast Inter. Basins</td>\n",
       "      <td>0.0</td>\n",
       "      <td>0.00</td>\n",
       "      <td>0.6</td>\n",
       "      <td>99.40</td>\n",
       "      <td>0.00</td>\n",
       "      <td>0.0</td>\n",
       "      <td>2001-12-25</td>\n",
       "      <td>2001-12-31</td>\n",
       "      <td>2</td>\n",
       "      <td>403</td>\n",
       "      <td>99.40</td>\n",
       "      <td>0.60</td>\n",
       "      <td>0.0</td>\n",
       "      <td>100.0</td>\n",
       "      <td>1.0</td>\n",
       "    </tr>\n",
       "    <tr>\n",
       "      <th>1041</th>\n",
       "      <td>20020101</td>\n",
       "      <td>Northeast Inter. Basins</td>\n",
       "      <td>0.0</td>\n",
       "      <td>1.54</td>\n",
       "      <td>43.8</td>\n",
       "      <td>54.66</td>\n",
       "      <td>0.00</td>\n",
       "      <td>0.0</td>\n",
       "      <td>2002-01-01</td>\n",
       "      <td>2002-01-07</td>\n",
       "      <td>2</td>\n",
       "      <td>403</td>\n",
       "      <td>54.66</td>\n",
       "      <td>45.34</td>\n",
       "      <td>0.0</td>\n",
       "      <td>100.0</td>\n",
       "      <td>1.0</td>\n",
       "    </tr>\n",
       "  </tbody>\n",
       "</table>\n",
       "</div>"
      ],
      "text/plain": [
       "       MapDate                   Region  None    D0    D1     D2     D3   D4  \\\n",
       "1043  20011218  Northeast Inter. Basins   0.0  0.00   0.0  52.52  47.48  0.0   \n",
       "1042  20011225  Northeast Inter. Basins   0.0  0.00   0.6  99.40   0.00  0.0   \n",
       "1041  20020101  Northeast Inter. Basins   0.0  1.54  43.8  54.66   0.00  0.0   \n",
       "\n",
       "     ValidStart    ValidEnd  StatisticFormatID  ClimateDivisionsID  \\\n",
       "1043 2001-12-18  2001-12-24                  2                 403   \n",
       "1042 2001-12-25  2001-12-31                  2                 403   \n",
       "1041 2002-01-01  2002-01-07                  2                 403   \n",
       "\n",
       "      percent_area_severe_drought  percent_area_minimal_drought  \\\n",
       "1043                       100.00                          0.00   \n",
       "1042                        99.40                          0.60   \n",
       "1041                        54.66                         45.34   \n",
       "\n",
       "      percent_area_no_drought  percent_in_drought  is_severe  \n",
       "1043                      0.0               100.0        1.0  \n",
       "1042                      0.0               100.0        1.0  \n",
       "1041                      0.0               100.0        1.0  "
      ]
     },
     "execution_count": 76,
     "metadata": {},
     "output_type": "execute_result"
    }
   ],
   "source": [
    "cal.head(3)"
   ]
  },
  {
   "cell_type": "code",
   "execution_count": 77,
   "metadata": {},
   "outputs": [
    {
     "data": {
      "text/plain": [
       "(1044, 17)"
      ]
     },
     "execution_count": 77,
     "metadata": {},
     "output_type": "execute_result"
    }
   ],
   "source": [
    "cal.shape"
   ]
  },
  {
   "cell_type": "code",
   "execution_count": 78,
   "metadata": {},
   "outputs": [],
   "source": [
    "cal.index = pd.to_datetime(cal['ValidStart'])"
   ]
  },
  {
   "cell_type": "code",
   "execution_count": 79,
   "metadata": {},
   "outputs": [
    {
     "data": {
      "text/html": [
       "<div>\n",
       "<style scoped>\n",
       "    .dataframe tbody tr th:only-of-type {\n",
       "        vertical-align: middle;\n",
       "    }\n",
       "\n",
       "    .dataframe tbody tr th {\n",
       "        vertical-align: top;\n",
       "    }\n",
       "\n",
       "    .dataframe thead th {\n",
       "        text-align: right;\n",
       "    }\n",
       "</style>\n",
       "<table border=\"1\" class=\"dataframe\">\n",
       "  <thead>\n",
       "    <tr style=\"text-align: right;\">\n",
       "      <th></th>\n",
       "      <th>MapDate</th>\n",
       "      <th>Region</th>\n",
       "      <th>None</th>\n",
       "      <th>D0</th>\n",
       "      <th>D1</th>\n",
       "      <th>D2</th>\n",
       "      <th>D3</th>\n",
       "      <th>D4</th>\n",
       "      <th>ValidStart</th>\n",
       "      <th>ValidEnd</th>\n",
       "      <th>StatisticFormatID</th>\n",
       "      <th>ClimateDivisionsID</th>\n",
       "      <th>percent_area_severe_drought</th>\n",
       "      <th>percent_area_minimal_drought</th>\n",
       "      <th>percent_area_no_drought</th>\n",
       "      <th>percent_in_drought</th>\n",
       "      <th>is_severe</th>\n",
       "    </tr>\n",
       "    <tr>\n",
       "      <th>ValidStart</th>\n",
       "      <th></th>\n",
       "      <th></th>\n",
       "      <th></th>\n",
       "      <th></th>\n",
       "      <th></th>\n",
       "      <th></th>\n",
       "      <th></th>\n",
       "      <th></th>\n",
       "      <th></th>\n",
       "      <th></th>\n",
       "      <th></th>\n",
       "      <th></th>\n",
       "      <th></th>\n",
       "      <th></th>\n",
       "      <th></th>\n",
       "      <th></th>\n",
       "      <th></th>\n",
       "    </tr>\n",
       "  </thead>\n",
       "  <tbody>\n",
       "    <tr>\n",
       "      <th>2001-12-18</th>\n",
       "      <td>20011218</td>\n",
       "      <td>Northeast Inter. Basins</td>\n",
       "      <td>0.00</td>\n",
       "      <td>0.00</td>\n",
       "      <td>0.00</td>\n",
       "      <td>52.52</td>\n",
       "      <td>47.48</td>\n",
       "      <td>0.0</td>\n",
       "      <td>2001-12-18</td>\n",
       "      <td>2001-12-24</td>\n",
       "      <td>2</td>\n",
       "      <td>403</td>\n",
       "      <td>100.00</td>\n",
       "      <td>0.00</td>\n",
       "      <td>0.00</td>\n",
       "      <td>100.00</td>\n",
       "      <td>1.0</td>\n",
       "    </tr>\n",
       "    <tr>\n",
       "      <th>2001-12-25</th>\n",
       "      <td>20011225</td>\n",
       "      <td>Northeast Inter. Basins</td>\n",
       "      <td>0.00</td>\n",
       "      <td>0.00</td>\n",
       "      <td>0.60</td>\n",
       "      <td>99.40</td>\n",
       "      <td>0.00</td>\n",
       "      <td>0.0</td>\n",
       "      <td>2001-12-25</td>\n",
       "      <td>2001-12-31</td>\n",
       "      <td>2</td>\n",
       "      <td>403</td>\n",
       "      <td>99.40</td>\n",
       "      <td>0.60</td>\n",
       "      <td>0.00</td>\n",
       "      <td>100.00</td>\n",
       "      <td>1.0</td>\n",
       "    </tr>\n",
       "    <tr>\n",
       "      <th>2002-01-01</th>\n",
       "      <td>20020101</td>\n",
       "      <td>Northeast Inter. Basins</td>\n",
       "      <td>0.00</td>\n",
       "      <td>1.54</td>\n",
       "      <td>43.80</td>\n",
       "      <td>54.66</td>\n",
       "      <td>0.00</td>\n",
       "      <td>0.0</td>\n",
       "      <td>2002-01-01</td>\n",
       "      <td>2002-01-07</td>\n",
       "      <td>2</td>\n",
       "      <td>403</td>\n",
       "      <td>54.66</td>\n",
       "      <td>45.34</td>\n",
       "      <td>0.00</td>\n",
       "      <td>100.00</td>\n",
       "      <td>1.0</td>\n",
       "    </tr>\n",
       "    <tr>\n",
       "      <th>2002-01-08</th>\n",
       "      <td>20020108</td>\n",
       "      <td>Northeast Inter. Basins</td>\n",
       "      <td>57.62</td>\n",
       "      <td>41.73</td>\n",
       "      <td>0.65</td>\n",
       "      <td>0.00</td>\n",
       "      <td>0.00</td>\n",
       "      <td>0.0</td>\n",
       "      <td>2002-01-08</td>\n",
       "      <td>2002-01-14</td>\n",
       "      <td>2</td>\n",
       "      <td>403</td>\n",
       "      <td>0.00</td>\n",
       "      <td>100.00</td>\n",
       "      <td>57.62</td>\n",
       "      <td>42.38</td>\n",
       "      <td>0.0</td>\n",
       "    </tr>\n",
       "    <tr>\n",
       "      <th>2002-01-15</th>\n",
       "      <td>20020115</td>\n",
       "      <td>Northeast Inter. Basins</td>\n",
       "      <td>53.87</td>\n",
       "      <td>43.79</td>\n",
       "      <td>2.34</td>\n",
       "      <td>0.00</td>\n",
       "      <td>0.00</td>\n",
       "      <td>0.0</td>\n",
       "      <td>2002-01-15</td>\n",
       "      <td>2002-01-21</td>\n",
       "      <td>2</td>\n",
       "      <td>403</td>\n",
       "      <td>0.00</td>\n",
       "      <td>100.00</td>\n",
       "      <td>53.87</td>\n",
       "      <td>46.13</td>\n",
       "      <td>0.0</td>\n",
       "    </tr>\n",
       "  </tbody>\n",
       "</table>\n",
       "</div>"
      ],
      "text/plain": [
       "             MapDate                   Region   None     D0     D1     D2  \\\n",
       "ValidStart                                                                  \n",
       "2001-12-18  20011218  Northeast Inter. Basins   0.00   0.00   0.00  52.52   \n",
       "2001-12-25  20011225  Northeast Inter. Basins   0.00   0.00   0.60  99.40   \n",
       "2002-01-01  20020101  Northeast Inter. Basins   0.00   1.54  43.80  54.66   \n",
       "2002-01-08  20020108  Northeast Inter. Basins  57.62  41.73   0.65   0.00   \n",
       "2002-01-15  20020115  Northeast Inter. Basins  53.87  43.79   2.34   0.00   \n",
       "\n",
       "               D3   D4 ValidStart    ValidEnd  StatisticFormatID  \\\n",
       "ValidStart                                                         \n",
       "2001-12-18  47.48  0.0 2001-12-18  2001-12-24                  2   \n",
       "2001-12-25   0.00  0.0 2001-12-25  2001-12-31                  2   \n",
       "2002-01-01   0.00  0.0 2002-01-01  2002-01-07                  2   \n",
       "2002-01-08   0.00  0.0 2002-01-08  2002-01-14                  2   \n",
       "2002-01-15   0.00  0.0 2002-01-15  2002-01-21                  2   \n",
       "\n",
       "            ClimateDivisionsID  percent_area_severe_drought  \\\n",
       "ValidStart                                                    \n",
       "2001-12-18                 403                       100.00   \n",
       "2001-12-25                 403                        99.40   \n",
       "2002-01-01                 403                        54.66   \n",
       "2002-01-08                 403                         0.00   \n",
       "2002-01-15                 403                         0.00   \n",
       "\n",
       "            percent_area_minimal_drought  percent_area_no_drought  \\\n",
       "ValidStart                                                          \n",
       "2001-12-18                          0.00                     0.00   \n",
       "2001-12-25                          0.60                     0.00   \n",
       "2002-01-01                         45.34                     0.00   \n",
       "2002-01-08                        100.00                    57.62   \n",
       "2002-01-15                        100.00                    53.87   \n",
       "\n",
       "            percent_in_drought  is_severe  \n",
       "ValidStart                                 \n",
       "2001-12-18              100.00        1.0  \n",
       "2001-12-25              100.00        1.0  \n",
       "2002-01-01              100.00        1.0  \n",
       "2002-01-08               42.38        0.0  \n",
       "2002-01-15               46.13        0.0  "
      ]
     },
     "execution_count": 79,
     "metadata": {},
     "output_type": "execute_result"
    }
   ],
   "source": [
    "cal.head()"
   ]
  },
  {
   "cell_type": "code",
   "execution_count": 102,
   "metadata": {},
   "outputs": [
    {
     "data": {
      "text/plain": [
       "MapDate                         0\n",
       "Region                          0\n",
       "None                            0\n",
       "D0                              0\n",
       "D1                              0\n",
       "D2                              0\n",
       "D3                              0\n",
       "D4                              0\n",
       "ValidStart                      0\n",
       "ValidEnd                        0\n",
       "StatisticFormatID               0\n",
       "ClimateDivisionsID              0\n",
       "percent_area_severe_drought     0\n",
       "percent_area_minimal_drought    0\n",
       "percent_area_no_drought         0\n",
       "percent_in_drought              0\n",
       "is_severe                       0\n",
       "dtype: int64"
      ]
     },
     "execution_count": 102,
     "metadata": {},
     "output_type": "execute_result"
    }
   ],
   "source": [
    "cal.isna().sum()"
   ]
  },
  {
   "cell_type": "code",
   "execution_count": 80,
   "metadata": {},
   "outputs": [
    {
     "data": {
      "text/plain": [
       "<AxesSubplot:xlabel='ValidStart'>"
      ]
     },
     "execution_count": 80,
     "metadata": {},
     "output_type": "execute_result"
    },
    {
     "data": {
      "image/png": "[encoded data removed]",
      "text/plain": [
       "<Figure size 432x288 with 1 Axes>"
      ]
     },
     "metadata": {
      "needs_background": "light"
     },
     "output_type": "display_data"
    }
   ],
   "source": [
    "area_severe = cal['percent_area_severe_drought']\n",
    "area_severe.plot()"
   ]
  },
  {
   "cell_type": "code",
   "execution_count": 81,
   "metadata": {},
   "outputs": [
    {
     "data": {
      "text/plain": [
       "<AxesSubplot:xlabel='ValidStart'>"
      ]
     },
     "execution_count": 81,
     "metadata": {},
     "output_type": "execute_result"
    },
    {
     "data": {
      "image/png": "[encoded data removed]",
      "text/plain": [
       "<Figure size 432x288 with 1 Axes>"
      ]
     },
     "metadata": {
      "needs_background": "light"
     },
     "output_type": "display_data"
    }
   ],
   "source": [
    "area_in_drought = cal['is_severe']\n",
    "area_in_drought.plot()"
   ]
  },
  {
   "cell_type": "code",
   "execution_count": 83,
   "metadata": {},
   "outputs": [
    {
     "data": {
      "text/plain": [
       "<AxesSubplot:xlabel='ValidStart'>"
      ]
     },
     "execution_count": 83,
     "metadata": {},
     "output_type": "execute_result"
    },
    {
     "data": {
      "image/png": "[encoded data removed]",
      "text/plain": [
       "<Figure size 432x288 with 1 Axes>"
      ]
     },
     "metadata": {
      "needs_background": "light"
     },
     "output_type": "display_data"
    }
   ],
   "source": [
    "area_no_drought = cal['percent_area_no_drought']\n",
    "area_no_drought.plot()"
   ]
  },
  {
   "cell_type": "code",
   "execution_count": 88,
   "metadata": {},
   "outputs": [
    {
     "data": {
      "text/plain": [
       "<AxesSubplot:xlabel='ValidStart'>"
      ]
     },
     "execution_count": 88,
     "metadata": {},
     "output_type": "execute_result"
    },
    {
     "data": {
      "image/png": "[encoded data removed]",
      "text/plain": [
       "<Figure size 432x288 with 1 Axes>"
      ]
     },
     "metadata": {
      "needs_background": "light"
     },
     "output_type": "display_data"
    }
   ],
   "source": [
    "area_in_drought = cal['percent_in_drought']\n",
    "area_in_drought.plot()"
   ]
  },
  {
   "cell_type": "code",
   "execution_count": 86,
   "metadata": {},
   "outputs": [],
   "source": [
    "def df_to_X_y(df, windowsize=5):\n",
    "    df_as_np = df.to_numpy()\n",
    "    X = []\n",
    "    y = []\n",
    "    for i in range(len(df_as_np)-windowsize):\n",
    "        row = [[a] for a in df_as_np[i:i+5]]\n",
    "        X.append(row)\n",
    "        label = df_as_np[i+5]\n",
    "        y.append(label)\n",
    "    return np.array(X), np.array(y)\n"
   ]
  },
  {
   "cell_type": "code",
   "execution_count": 89,
   "metadata": {},
   "outputs": [
    {
     "data": {
      "text/plain": [
       "((1039, 5, 1), (1039,))"
      ]
     },
     "execution_count": 89,
     "metadata": {},
     "output_type": "execute_result"
    }
   ],
   "source": [
    "WINDOW_SIZE = 5\n",
    "X, y = df_to_X_y(area_in_drought, WINDOW_SIZE)\n",
    "X.shape, y.shape\n"
   ]
  },
  {
   "cell_type": "code",
   "execution_count": 139,
   "metadata": {},
   "outputs": [],
   "source": [
    "X_train, y_train = X[:800], y[:800]\n",
    "X_val, y_val = X[800:900], y[800:900]\n",
    "X_test, y_test = X[900:], y[900:]"
   ]
  },
  {
   "cell_type": "code",
   "execution_count": 140,
   "metadata": {},
   "outputs": [
    {
     "name": "stdout",
     "output_type": "stream",
     "text": [
      "Model: \"sequential_4\"\n",
      "_________________________________________________________________\n",
      "Layer (type)                 Output Shape              Param #   \n",
      "=================================================================\n",
      "lstm_3 (LSTM)                (None, 64)                16896     \n",
      "_________________________________________________________________\n",
      "dense_6 (Dense)              (None, 8)                 520       \n",
      "_________________________________________________________________\n",
      "dense_7 (Dense)              (None, 1)                 9         \n",
      "=================================================================\n",
      "Total params: 17,425\n",
      "Trainable params: 17,425\n",
      "Non-trainable params: 0\n",
      "_________________________________________________________________\n"
     ]
    }
   ],
   "source": [
    "from tensorflow.keras.models import Sequential\n",
    "from tensorflow.keras.layers import *\n",
    "from tensorflow.keras.callbacks import ModelCheckpoint\n",
    "from tensorflow.keras.losses import MeanSquaredError\n",
    "from tensorflow.keras.metrics import RootMeanSquaredError\n",
    "from tensorflow.keras.optimizers import Adam\n",
    "\n",
    "model1 = Sequential()\n",
    "model1.add(InputLayer((5,1)))\n",
    "model1.add(LSTM(64))\n",
    "model1.add(Dense(8, 'relu'))\n",
    "model1.add(Dense(1, 'linear'))\n",
    "model1.summary()"
   ]
  },
  {
   "cell_type": "code",
   "execution_count": 141,
   "metadata": {},
   "outputs": [],
   "source": [
    "cp = ModelCheckpoint('model1/', save_best_only=True)\n",
    "model1.compile(loss=MeanSquaredError(), optimizer = Adam(learning_rate=0.0005), metrics=[RootMeanSquaredError()])\n"
   ]
  },
  {
   "cell_type": "code",
   "execution_count": 142,
   "metadata": {},
   "outputs": [
    {
     "name": "stdout",
     "output_type": "stream",
     "text": [
      "Epoch 1/10\n",
      "25/25 [==============================] - 3s 31ms/step - loss: 6751.0898 - root_mean_squared_error: 82.1650 - val_loss: 1561.5381 - val_root_mean_squared_error: 39.5163\n"
     ]
    },
    {
     "name": "stderr",
     "output_type": "stream",
     "text": [
      "WARNING:absl:Found untraced functions such as lstm_cell_6_layer_call_fn, lstm_cell_6_layer_call_and_return_conditional_losses, lstm_cell_6_layer_call_fn, lstm_cell_6_layer_call_and_return_conditional_losses, lstm_cell_6_layer_call_and_return_conditional_losses while saving (showing 5 of 5). These functions will not be directly callable after loading.\n"
     ]
    },
    {
     "name": "stdout",
     "output_type": "stream",
     "text": [
      "INFO:tensorflow:Assets written to: model1/assets\n"
     ]
    },
    {
     "name": "stderr",
     "output_type": "stream",
     "text": [
      "INFO:tensorflow:Assets written to: model1/assets\n"
     ]
    },
    {
     "name": "stdout",
     "output_type": "stream",
     "text": [
      "Epoch 2/10\n",
      "25/25 [==============================] - 0s 8ms/step - loss: 6568.1343 - root_mean_squared_error: 81.0440 - val_loss: 1495.8453 - val_root_mean_squared_error: 38.6762\n"
     ]
    },
    {
     "name": "stderr",
     "output_type": "stream",
     "text": [
      "WARNING:absl:Found untraced functions such as lstm_cell_6_layer_call_fn, lstm_cell_6_layer_call_and_return_conditional_losses, lstm_cell_6_layer_call_fn, lstm_cell_6_layer_call_and_return_conditional_losses, lstm_cell_6_layer_call_and_return_conditional_losses while saving (showing 5 of 5). These functions will not be directly callable after loading.\n"
     ]
    },
    {
     "name": "stdout",
     "output_type": "stream",
     "text": [
      "INFO:tensorflow:Assets written to: model1/assets\n"
     ]
    },
    {
     "name": "stderr",
     "output_type": "stream",
     "text": [
      "INFO:tensorflow:Assets written to: model1/assets\n"
     ]
    },
    {
     "name": "stdout",
     "output_type": "stream",
     "text": [
      "Epoch 3/10\n",
      "25/25 [==============================] - 0s 8ms/step - loss: 6316.6025 - root_mean_squared_error: 79.4771 - val_loss: 1410.7979 - val_root_mean_squared_error: 37.5606\n"
     ]
    },
    {
     "name": "stderr",
     "output_type": "stream",
     "text": [
      "WARNING:absl:Found untraced functions such as lstm_cell_6_layer_call_fn, lstm_cell_6_layer_call_and_return_conditional_losses, lstm_cell_6_layer_call_fn, lstm_cell_6_layer_call_and_return_conditional_losses, lstm_cell_6_layer_call_and_return_conditional_losses while saving (showing 5 of 5). These functions will not be directly callable after loading.\n"
     ]
    },
    {
     "name": "stdout",
     "output_type": "stream",
     "text": [
      "INFO:tensorflow:Assets written to: model1/assets\n"
     ]
    },
    {
     "name": "stderr",
     "output_type": "stream",
     "text": [
      "INFO:tensorflow:Assets written to: model1/assets\n"
     ]
    },
    {
     "name": "stdout",
     "output_type": "stream",
     "text": [
      "Epoch 4/10\n",
      "25/25 [==============================] - 0s 7ms/step - loss: 5928.7539 - root_mean_squared_error: 76.9984 - val_loss: 1301.9326 - val_root_mean_squared_error: 36.0823\n"
     ]
    },
    {
     "name": "stderr",
     "output_type": "stream",
     "text": [
      "WARNING:absl:Found untraced functions such as lstm_cell_6_layer_call_fn, lstm_cell_6_layer_call_and_return_conditional_losses, lstm_cell_6_layer_call_fn, lstm_cell_6_layer_call_and_return_conditional_losses, lstm_cell_6_layer_call_and_return_conditional_losses while saving (showing 5 of 5). These functions will not be directly callable after loading.\n"
     ]
    },
    {
     "name": "stdout",
     "output_type": "stream",
     "text": [
      "INFO:tensorflow:Assets written to: model1/assets\n"
     ]
    },
    {
     "name": "stderr",
     "output_type": "stream",
     "text": [
      "INFO:tensorflow:Assets written to: model1/assets\n"
     ]
    },
    {
     "name": "stdout",
     "output_type": "stream",
     "text": [
      "Epoch 5/10\n",
      "25/25 [==============================] - 0s 8ms/step - loss: 5409.2031 - root_mean_squared_error: 73.5473 - val_loss: 1165.8336 - val_root_mean_squared_error: 34.1443\n"
     ]
    },
    {
     "name": "stderr",
     "output_type": "stream",
     "text": [
      "WARNING:absl:Found untraced functions such as lstm_cell_6_layer_call_fn, lstm_cell_6_layer_call_and_return_conditional_losses, lstm_cell_6_layer_call_fn, lstm_cell_6_layer_call_and_return_conditional_losses, lstm_cell_6_layer_call_and_return_conditional_losses while saving (showing 5 of 5). These functions will not be directly callable after loading.\n"
     ]
    },
    {
     "name": "stdout",
     "output_type": "stream",
     "text": [
      "INFO:tensorflow:Assets written to: model1/assets\n"
     ]
    },
    {
     "name": "stderr",
     "output_type": "stream",
     "text": [
      "INFO:tensorflow:Assets written to: model1/assets\n"
     ]
    },
    {
     "name": "stdout",
     "output_type": "stream",
     "text": [
      "Epoch 6/10\n",
      "25/25 [==============================] - 0s 7ms/step - loss: 4751.3652 - root_mean_squared_error: 68.9301 - val_loss: 1030.3811 - val_root_mean_squared_error: 32.0995\n"
     ]
    },
    {
     "name": "stderr",
     "output_type": "stream",
     "text": [
      "WARNING:absl:Found untraced functions such as lstm_cell_6_layer_call_fn, lstm_cell_6_layer_call_and_return_conditional_losses, lstm_cell_6_layer_call_fn, lstm_cell_6_layer_call_and_return_conditional_losses, lstm_cell_6_layer_call_and_return_conditional_losses while saving (showing 5 of 5). These functions will not be directly callable after loading.\n"
     ]
    },
    {
     "name": "stdout",
     "output_type": "stream",
     "text": [
      "INFO:tensorflow:Assets written to: model1/assets\n"
     ]
    },
    {
     "name": "stderr",
     "output_type": "stream",
     "text": [
      "INFO:tensorflow:Assets written to: model1/assets\n"
     ]
    },
    {
     "name": "stdout",
     "output_type": "stream",
     "text": [
      "Epoch 7/10\n",
      "25/25 [==============================] - 0s 7ms/step - loss: 4162.0996 - root_mean_squared_error: 64.5143 - val_loss: 929.8128 - val_root_mean_squared_error: 30.4928\n"
     ]
    },
    {
     "name": "stderr",
     "output_type": "stream",
     "text": [
      "WARNING:absl:Found untraced functions such as lstm_cell_6_layer_call_fn, lstm_cell_6_layer_call_and_return_conditional_losses, lstm_cell_6_layer_call_fn, lstm_cell_6_layer_call_and_return_conditional_losses, lstm_cell_6_layer_call_and_return_conditional_losses while saving (showing 5 of 5). These functions will not be directly callable after loading.\n"
     ]
    },
    {
     "name": "stdout",
     "output_type": "stream",
     "text": [
      "INFO:tensorflow:Assets written to: model1/assets\n"
     ]
    },
    {
     "name": "stderr",
     "output_type": "stream",
     "text": [
      "INFO:tensorflow:Assets written to: model1/assets\n"
     ]
    },
    {
     "name": "stdout",
     "output_type": "stream",
     "text": [
      "Epoch 8/10\n",
      "25/25 [==============================] - 0s 7ms/step - loss: 3742.2432 - root_mean_squared_error: 61.1739 - val_loss: 857.1981 - val_root_mean_squared_error: 29.2779\n"
     ]
    },
    {
     "name": "stderr",
     "output_type": "stream",
     "text": [
      "WARNING:absl:Found untraced functions such as lstm_cell_6_layer_call_fn, lstm_cell_6_layer_call_and_return_conditional_losses, lstm_cell_6_layer_call_fn, lstm_cell_6_layer_call_and_return_conditional_losses, lstm_cell_6_layer_call_and_return_conditional_losses while saving (showing 5 of 5). These functions will not be directly callable after loading.\n"
     ]
    },
    {
     "name": "stdout",
     "output_type": "stream",
     "text": [
      "INFO:tensorflow:Assets written to: model1/assets\n"
     ]
    },
    {
     "name": "stderr",
     "output_type": "stream",
     "text": [
      "INFO:tensorflow:Assets written to: model1/assets\n"
     ]
    },
    {
     "name": "stdout",
     "output_type": "stream",
     "text": [
      "Epoch 9/10\n",
      "25/25 [==============================] - 0s 7ms/step - loss: 3371.8682 - root_mean_squared_error: 58.0678 - val_loss: 791.0438 - val_root_mean_squared_error: 28.1255\n"
     ]
    },
    {
     "name": "stderr",
     "output_type": "stream",
     "text": [
      "WARNING:absl:Found untraced functions such as lstm_cell_6_layer_call_fn, lstm_cell_6_layer_call_and_return_conditional_losses, lstm_cell_6_layer_call_fn, lstm_cell_6_layer_call_and_return_conditional_losses, lstm_cell_6_layer_call_and_return_conditional_losses while saving (showing 5 of 5). These functions will not be directly callable after loading.\n"
     ]
    },
    {
     "name": "stdout",
     "output_type": "stream",
     "text": [
      "INFO:tensorflow:Assets written to: model1/assets\n"
     ]
    },
    {
     "name": "stderr",
     "output_type": "stream",
     "text": [
      "INFO:tensorflow:Assets written to: model1/assets\n"
     ]
    },
    {
     "name": "stdout",
     "output_type": "stream",
     "text": [
      "Epoch 10/10\n",
      "25/25 [==============================] - 0s 7ms/step - loss: 3034.7515 - root_mean_squared_error: 55.0886 - val_loss: 732.7449 - val_root_mean_squared_error: 27.0693\n"
     ]
    },
    {
     "name": "stderr",
     "output_type": "stream",
     "text": [
      "WARNING:absl:Found untraced functions such as lstm_cell_6_layer_call_fn, lstm_cell_6_layer_call_and_return_conditional_losses, lstm_cell_6_layer_call_fn, lstm_cell_6_layer_call_and_return_conditional_losses, lstm_cell_6_layer_call_and_return_conditional_losses while saving (showing 5 of 5). These functions will not be directly callable after loading.\n"
     ]
    },
    {
     "name": "stdout",
     "output_type": "stream",
     "text": [
      "INFO:tensorflow:Assets written to: model1/assets\n"
     ]
    },
    {
     "name": "stderr",
     "output_type": "stream",
     "text": [
      "INFO:tensorflow:Assets written to: model1/assets\n"
     ]
    },
    {
     "data": {
      "text/plain": [
       "<keras.callbacks.History at 0x148882910>"
      ]
     },
     "execution_count": 142,
     "metadata": {},
     "output_type": "execute_result"
    }
   ],
   "source": [
    "model1.fit(X_train, y_train, validation_data=(X_val, y_val), epochs=10, callbacks=[cp])"
   ]
  },
  {
   "cell_type": "code",
   "execution_count": 143,
   "metadata": {},
   "outputs": [],
   "source": [
    "from tensorflow.keras.models import load_model\n",
    "model1 = load_model(\"model1/\")"
   ]
  },
  {
   "cell_type": "code",
   "execution_count": 158,
   "metadata": {},
   "outputs": [
    {
     "data": {
      "text/html": [
       "<div>\n",
       "<style scoped>\n",
       "    .dataframe tbody tr th:only-of-type {\n",
       "        vertical-align: middle;\n",
       "    }\n",
       "\n",
       "    .dataframe tbody tr th {\n",
       "        vertical-align: top;\n",
       "    }\n",
       "\n",
       "    .dataframe thead th {\n",
       "        text-align: right;\n",
       "    }\n",
       "</style>\n",
       "<table border=\"1\" class=\"dataframe\">\n",
       "  <thead>\n",
       "    <tr style=\"text-align: right;\">\n",
       "      <th></th>\n",
       "      <th>Train Predictions</th>\n",
       "      <th>Actuals</th>\n",
       "    </tr>\n",
       "  </thead>\n",
       "  <tbody>\n",
       "    <tr>\n",
       "      <th>0</th>\n",
       "      <td>34.634808</td>\n",
       "      <td>35.33</td>\n",
       "    </tr>\n",
       "    <tr>\n",
       "      <th>1</th>\n",
       "      <td>34.494301</td>\n",
       "      <td>42.14</td>\n",
       "    </tr>\n",
       "    <tr>\n",
       "      <th>2</th>\n",
       "      <td>34.588299</td>\n",
       "      <td>35.39</td>\n",
       "    </tr>\n",
       "    <tr>\n",
       "      <th>3</th>\n",
       "      <td>34.477261</td>\n",
       "      <td>46.26</td>\n",
       "    </tr>\n",
       "    <tr>\n",
       "      <th>4</th>\n",
       "      <td>34.618855</td>\n",
       "      <td>41.59</td>\n",
       "    </tr>\n",
       "    <tr>\n",
       "      <th>...</th>\n",
       "      <td>...</td>\n",
       "      <td>...</td>\n",
       "    </tr>\n",
       "    <tr>\n",
       "      <th>795</th>\n",
       "      <td>0.489038</td>\n",
       "      <td>0.00</td>\n",
       "    </tr>\n",
       "    <tr>\n",
       "      <th>796</th>\n",
       "      <td>0.489038</td>\n",
       "      <td>0.00</td>\n",
       "    </tr>\n",
       "    <tr>\n",
       "      <th>797</th>\n",
       "      <td>0.489038</td>\n",
       "      <td>0.00</td>\n",
       "    </tr>\n",
       "    <tr>\n",
       "      <th>798</th>\n",
       "      <td>0.489038</td>\n",
       "      <td>0.00</td>\n",
       "    </tr>\n",
       "    <tr>\n",
       "      <th>799</th>\n",
       "      <td>0.489038</td>\n",
       "      <td>0.00</td>\n",
       "    </tr>\n",
       "  </tbody>\n",
       "</table>\n",
       "<p>800 rows × 2 columns</p>\n",
       "</div>"
      ],
      "text/plain": [
       "     Train Predictions  Actuals\n",
       "0            34.634808    35.33\n",
       "1            34.494301    42.14\n",
       "2            34.588299    35.39\n",
       "3            34.477261    46.26\n",
       "4            34.618855    41.59\n",
       "..                 ...      ...\n",
       "795           0.489038     0.00\n",
       "796           0.489038     0.00\n",
       "797           0.489038     0.00\n",
       "798           0.489038     0.00\n",
       "799           0.489038     0.00\n",
       "\n",
       "[800 rows x 2 columns]"
      ]
     },
     "execution_count": 158,
     "metadata": {},
     "output_type": "execute_result"
    }
   ],
   "source": [
    "train_predictions = model1.predict(X_train).flatten()\n",
    "train_results = pd.DataFrame(data={'Train Predictions':train_predictions, 'Actuals': y_train})\n",
    "train_results"
   ]
  },
  {
   "cell_type": "code",
   "execution_count": 162,
   "metadata": {},
   "outputs": [
    {
     "data": {
      "text/plain": [
       "[<matplotlib.lines.Line2D at 0x14b33f100>]"
      ]
     },
     "execution_count": 162,
     "metadata": {},
     "output_type": "execute_result"
    },
    {
     "data": {
      "image/png": "[encoded data removed]",
      "text/plain": [
       "<Figure size 432x288 with 1 Axes>"
      ]
     },
     "metadata": {
      "needs_background": "light"
     },
     "output_type": "display_data"
    }
   ],
   "source": [
    "import matplotlib.pyplot as plt\n",
    "plt.plot(train_results['Train Predictions'])\n",
    "plt.plot(train_results['Actuals'])"
   ]
  },
  {
   "cell_type": "code",
   "execution_count": 153,
   "metadata": {},
   "outputs": [
    {
     "data": {
      "text/html": [
       "<div>\n",
       "<style scoped>\n",
       "    .dataframe tbody tr th:only-of-type {\n",
       "        vertical-align: middle;\n",
       "    }\n",
       "\n",
       "    .dataframe tbody tr th {\n",
       "        vertical-align: top;\n",
       "    }\n",
       "\n",
       "    .dataframe thead th {\n",
       "        text-align: right;\n",
       "    }\n",
       "</style>\n",
       "<table border=\"1\" class=\"dataframe\">\n",
       "  <thead>\n",
       "    <tr style=\"text-align: right;\">\n",
       "      <th></th>\n",
       "      <th>Val Predictions</th>\n",
       "      <th>Actuals</th>\n",
       "    </tr>\n",
       "  </thead>\n",
       "  <tbody>\n",
       "    <tr>\n",
       "      <th>0</th>\n",
       "      <td>0.489038</td>\n",
       "      <td>0.00</td>\n",
       "    </tr>\n",
       "    <tr>\n",
       "      <th>1</th>\n",
       "      <td>0.489038</td>\n",
       "      <td>0.00</td>\n",
       "    </tr>\n",
       "    <tr>\n",
       "      <th>2</th>\n",
       "      <td>0.489038</td>\n",
       "      <td>0.00</td>\n",
       "    </tr>\n",
       "    <tr>\n",
       "      <th>3</th>\n",
       "      <td>0.489038</td>\n",
       "      <td>0.00</td>\n",
       "    </tr>\n",
       "    <tr>\n",
       "      <th>4</th>\n",
       "      <td>0.489038</td>\n",
       "      <td>0.00</td>\n",
       "    </tr>\n",
       "    <tr>\n",
       "      <th>...</th>\n",
       "      <td>...</td>\n",
       "      <td>...</td>\n",
       "    </tr>\n",
       "    <tr>\n",
       "      <th>95</th>\n",
       "      <td>0.946361</td>\n",
       "      <td>1.03</td>\n",
       "    </tr>\n",
       "    <tr>\n",
       "      <th>96</th>\n",
       "      <td>0.403556</td>\n",
       "      <td>1.03</td>\n",
       "    </tr>\n",
       "    <tr>\n",
       "      <th>97</th>\n",
       "      <td>0.846121</td>\n",
       "      <td>1.03</td>\n",
       "    </tr>\n",
       "    <tr>\n",
       "      <th>98</th>\n",
       "      <td>1.581193</td>\n",
       "      <td>0.00</td>\n",
       "    </tr>\n",
       "    <tr>\n",
       "      <th>99</th>\n",
       "      <td>0.870918</td>\n",
       "      <td>0.00</td>\n",
       "    </tr>\n",
       "  </tbody>\n",
       "</table>\n",
       "<p>100 rows × 2 columns</p>\n",
       "</div>"
      ],
      "text/plain": [
       "    Val Predictions  Actuals\n",
       "0          0.489038     0.00\n",
       "1          0.489038     0.00\n",
       "2          0.489038     0.00\n",
       "3          0.489038     0.00\n",
       "4          0.489038     0.00\n",
       "..              ...      ...\n",
       "95         0.946361     1.03\n",
       "96         0.403556     1.03\n",
       "97         0.846121     1.03\n",
       "98         1.581193     0.00\n",
       "99         0.870918     0.00\n",
       "\n",
       "[100 rows x 2 columns]"
      ]
     },
     "execution_count": 153,
     "metadata": {},
     "output_type": "execute_result"
    }
   ],
   "source": [
    "val_predictions = model1.predict(X_val).flatten()\n",
    "val_results = pd.DataFrame(data={'Val Predictions':val_predictions, 'Actuals': y_val})\n",
    "val_results"
   ]
  },
  {
   "cell_type": "code",
   "execution_count": 161,
   "metadata": {},
   "outputs": [
    {
     "data": {
      "text/plain": [
       "[<matplotlib.lines.Line2D at 0x14a9362b0>]"
      ]
     },
     "execution_count": 161,
     "metadata": {},
     "output_type": "execute_result"
    },
    {
     "data": {
      "image/png": "[encoded data removed]",
      "text/plain": [
       "<Figure size 432x288 with 1 Axes>"
      ]
     },
     "metadata": {
      "needs_background": "light"
     },
     "output_type": "display_data"
    }
   ],
   "source": [
    "plt.plot(val_results['Val Predictions'][:100])\n",
    "plt.plot(val_results['Actuals'][:100])"
   ]
  },
  {
   "cell_type": "code",
   "execution_count": 155,
   "metadata": {},
   "outputs": [
    {
     "data": {
      "text/html": [
       "<div>\n",
       "<style scoped>\n",
       "    .dataframe tbody tr th:only-of-type {\n",
       "        vertical-align: middle;\n",
       "    }\n",
       "\n",
       "    .dataframe tbody tr th {\n",
       "        vertical-align: top;\n",
       "    }\n",
       "\n",
       "    .dataframe thead th {\n",
       "        text-align: right;\n",
       "    }\n",
       "</style>\n",
       "<table border=\"1\" class=\"dataframe\">\n",
       "  <thead>\n",
       "    <tr style=\"text-align: right;\">\n",
       "      <th></th>\n",
       "      <th>Test Predictions</th>\n",
       "      <th>Actuals</th>\n",
       "    </tr>\n",
       "  </thead>\n",
       "  <tbody>\n",
       "    <tr>\n",
       "      <th>0</th>\n",
       "      <td>0.489038</td>\n",
       "      <td>0.00</td>\n",
       "    </tr>\n",
       "    <tr>\n",
       "      <th>1</th>\n",
       "      <td>0.489038</td>\n",
       "      <td>0.00</td>\n",
       "    </tr>\n",
       "    <tr>\n",
       "      <th>2</th>\n",
       "      <td>0.489038</td>\n",
       "      <td>0.00</td>\n",
       "    </tr>\n",
       "    <tr>\n",
       "      <th>3</th>\n",
       "      <td>0.489038</td>\n",
       "      <td>0.00</td>\n",
       "    </tr>\n",
       "    <tr>\n",
       "      <th>4</th>\n",
       "      <td>0.489038</td>\n",
       "      <td>0.00</td>\n",
       "    </tr>\n",
       "    <tr>\n",
       "      <th>...</th>\n",
       "      <td>...</td>\n",
       "      <td>...</td>\n",
       "    </tr>\n",
       "    <tr>\n",
       "      <th>95</th>\n",
       "      <td>0.946361</td>\n",
       "      <td>1.03</td>\n",
       "    </tr>\n",
       "    <tr>\n",
       "      <th>96</th>\n",
       "      <td>0.403556</td>\n",
       "      <td>1.03</td>\n",
       "    </tr>\n",
       "    <tr>\n",
       "      <th>97</th>\n",
       "      <td>0.846121</td>\n",
       "      <td>1.03</td>\n",
       "    </tr>\n",
       "    <tr>\n",
       "      <th>98</th>\n",
       "      <td>1.581193</td>\n",
       "      <td>0.00</td>\n",
       "    </tr>\n",
       "    <tr>\n",
       "      <th>99</th>\n",
       "      <td>0.870918</td>\n",
       "      <td>0.00</td>\n",
       "    </tr>\n",
       "  </tbody>\n",
       "</table>\n",
       "<p>100 rows × 2 columns</p>\n",
       "</div>"
      ],
      "text/plain": [
       "    Test Predictions  Actuals\n",
       "0           0.489038     0.00\n",
       "1           0.489038     0.00\n",
       "2           0.489038     0.00\n",
       "3           0.489038     0.00\n",
       "4           0.489038     0.00\n",
       "..               ...      ...\n",
       "95          0.946361     1.03\n",
       "96          0.403556     1.03\n",
       "97          0.846121     1.03\n",
       "98          1.581193     0.00\n",
       "99          0.870918     0.00\n",
       "\n",
       "[100 rows x 2 columns]"
      ]
     },
     "execution_count": 155,
     "metadata": {},
     "output_type": "execute_result"
    }
   ],
   "source": [
    "test_predictions = model1.predict(X_test).flatten()\n",
    "test_results = pd.DataFrame(data={'Test Predictions':val_predictions, 'Actuals': y_val})\n",
    "test_results"
   ]
  },
  {
   "cell_type": "code",
   "execution_count": 156,
   "metadata": {},
   "outputs": [
    {
     "data": {
      "text/plain": [
       "[<matplotlib.lines.Line2D at 0x14ad6a820>]"
      ]
     },
     "execution_count": 156,
     "metadata": {},
     "output_type": "execute_result"
    },
    {
     "data": {
      "image/png": "[encoded data removed]",
      "text/plain": [
       "<Figure size 432x288 with 1 Axes>"
      ]
     },
     "metadata": {
      "needs_background": "light"
     },
     "output_type": "display_data"
    }
   ],
   "source": [
    "plt.plot(test_results['Test Predictions'][:100])\n",
    "plt.plot(test_results['Actuals'][:100])"
   ]
  },
  {
   "cell_type": "code",
   "execution_count": null,
   "metadata": {},
   "outputs": [],
   "source": []
  }
 ],
 "metadata": {
  "interpreter": {
   "hash": "3cb97f1d83f7509b06d804007dcb96c6ab417962c4fd7570dc4f1a7dc82dce2f"
  },
  "kernelspec": {
   "display_name": "Python 3.8.8 64-bit (conda)",
   "language": "python",
   "name": "python3"
  },
  "language_info": {
   "codemirror_mode": {
    "name": "ipython",
    "version": 3
   },
   "file_extension": ".py",
   "mimetype": "text/x-python",
   "name": "python",
   "nbconvert_exporter": "python",
   "pygments_lexer": "ipython3",
   "version": "3.8.8"
  },
  "orig_nbformat": 4
 },
 "nbformat": 4,
 "nbformat_minor": 2
}
