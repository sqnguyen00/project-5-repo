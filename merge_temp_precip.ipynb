{
 "cells": [
  {
   "cell_type": "code",
   "execution_count": 32,
   "metadata": {},
   "outputs": [],
   "source": [
    "import pandas as pd\n",
    "import pickle"
   ]
  },
  {
   "cell_type": "code",
   "execution_count": 33,
   "metadata": {},
   "outputs": [],
   "source": [
    "citi_info = pd.read_csv('./temperature_precipitation_data/city_info.csv')"
   ]
  },
  {
   "cell_type": "code",
   "execution_count": 34,
   "metadata": {},
   "outputs": [],
   "source": [
    "#Creates variables that find file names that start with \"US\" to read in all data\n",
    "filesnames = os.listdir('./temperature_precipitation_data/')\n",
    "filesnames = [f for f in filesnames if (f.startswith(\"US\") and f.lower().endswith(\".csv\"))]"
   ]
  },
  {
   "cell_type": "code",
   "execution_count": 35,
   "metadata": {},
   "outputs": [],
   "source": [
    "# Reads in all relevant data and appends to list \n",
    "# https://stackoverflow.com/questions/58071982/read-csv-in-a-for-loop-using-pandas\n",
    "dfs = list()\n",
    "for filename in filesnames:\n",
    "     df = pd.read_csv(f'./temperature_precipitation_data/{filename}')\n",
    "     #creates a new column with csv file name\n",
    "     df['csv'] = f'{filename}'\n",
    "     #creates column name place holder with corresponding identifier. example: \"USW00023188\"\n",
    "     df['name'] = df['csv'].map(lambda x: str(x)[:-4])\n",
    "     #appends each fixed dataframe into dfs list\n",
    "     dfs.append(df)"
   ]
  },
  {
   "cell_type": "code",
   "execution_count": 36,
   "metadata": {},
   "outputs": [],
   "source": [
    "#Creates one dataframe from all read data\n",
    "new_df = pd.concat(dfs)"
   ]
  },
  {
   "cell_type": "code",
   "execution_count": 37,
   "metadata": {},
   "outputs": [
    {
     "data": {
      "text/plain": [
       "USW00023188    62092\n",
       "USW00094298    60266\n",
       "USW00013873    59535\n",
       "USW00014836    57344\n",
       "USW00014792    56613\n",
       "               ...  \n",
       "USW00013958    44925\n",
       "USW00014827    44925\n",
       "USW00094236    44925\n",
       "USW00003927    44560\n",
       "USW00003103    44560\n",
       "Name: name, Length: 210, dtype: int64"
      ]
     },
     "execution_count": 37,
     "metadata": {},
     "output_type": "execute_result"
    }
   ],
   "source": [
    "#checking to see if correctly set name to ID\n",
    "new_df['name'].value_counts()"
   ]
  },
  {
   "cell_type": "code",
   "execution_count": 38,
   "metadata": {},
   "outputs": [
    {
     "data": {
      "text/html": [
       "<div>\n",
       "<style scoped>\n",
       "    .dataframe tbody tr th:only-of-type {\n",
       "        vertical-align: middle;\n",
       "    }\n",
       "\n",
       "    .dataframe tbody tr th {\n",
       "        vertical-align: top;\n",
       "    }\n",
       "\n",
       "    .dataframe thead th {\n",
       "        text-align: right;\n",
       "    }\n",
       "</style>\n",
       "<table border=\"1\" class=\"dataframe\">\n",
       "  <thead>\n",
       "    <tr style=\"text-align: right;\">\n",
       "      <th></th>\n",
       "      <th>Unnamed: 0</th>\n",
       "      <th>Name</th>\n",
       "      <th>ID</th>\n",
       "      <th>Lat</th>\n",
       "      <th>Lon</th>\n",
       "      <th>Stn.Name</th>\n",
       "      <th>Stn.stDate</th>\n",
       "      <th>Stn.edDate</th>\n",
       "    </tr>\n",
       "  </thead>\n",
       "  <tbody>\n",
       "    <tr>\n",
       "      <th>0</th>\n",
       "      <td>1</td>\n",
       "      <td>Lander</td>\n",
       "      <td>USW00024021</td>\n",
       "      <td>42.8153</td>\n",
       "      <td>-108.7261</td>\n",
       "      <td>LANDER WBO</td>\n",
       "      <td>1892-01-01</td>\n",
       "      <td>1946-05-28</td>\n",
       "    </tr>\n",
       "    <tr>\n",
       "      <th>1</th>\n",
       "      <td>2</td>\n",
       "      <td>Lander</td>\n",
       "      <td>USW00024021</td>\n",
       "      <td>42.8153</td>\n",
       "      <td>-108.7261</td>\n",
       "      <td>LANDER HUNT FIELD</td>\n",
       "      <td>1946-05-29</td>\n",
       "      <td>2020-12-31</td>\n",
       "    </tr>\n",
       "    <tr>\n",
       "      <th>2</th>\n",
       "      <td>3</td>\n",
       "      <td>Cheyenne</td>\n",
       "      <td>USW00024018</td>\n",
       "      <td>41.1519</td>\n",
       "      <td>-104.8061</td>\n",
       "      <td>CHEYENNE WBO</td>\n",
       "      <td>1871-01-01</td>\n",
       "      <td>1935-08-31</td>\n",
       "    </tr>\n",
       "    <tr>\n",
       "      <th>3</th>\n",
       "      <td>4</td>\n",
       "      <td>Cheyenne</td>\n",
       "      <td>USW00024018</td>\n",
       "      <td>41.1519</td>\n",
       "      <td>-104.8061</td>\n",
       "      <td>CHEYENNE MUNICIPAL ARPT</td>\n",
       "      <td>1935-09-01</td>\n",
       "      <td>2020-12-31</td>\n",
       "    </tr>\n",
       "    <tr>\n",
       "      <th>4</th>\n",
       "      <td>5</td>\n",
       "      <td>Wausau</td>\n",
       "      <td>USW00014897</td>\n",
       "      <td>44.9258</td>\n",
       "      <td>-89.6256</td>\n",
       "      <td>Wausau Record Herald</td>\n",
       "      <td>1896-01-01</td>\n",
       "      <td>1941-12-31</td>\n",
       "    </tr>\n",
       "  </tbody>\n",
       "</table>\n",
       "</div>"
      ],
      "text/plain": [
       "   Unnamed: 0      Name           ID      Lat       Lon  \\\n",
       "0           1    Lander  USW00024021  42.8153 -108.7261   \n",
       "1           2    Lander  USW00024021  42.8153 -108.7261   \n",
       "2           3  Cheyenne  USW00024018  41.1519 -104.8061   \n",
       "3           4  Cheyenne  USW00024018  41.1519 -104.8061   \n",
       "4           5    Wausau  USW00014897  44.9258  -89.6256   \n",
       "\n",
       "                  Stn.Name  Stn.stDate  Stn.edDate  \n",
       "0               LANDER WBO  1892-01-01  1946-05-28  \n",
       "1        LANDER HUNT FIELD  1946-05-29  2020-12-31  \n",
       "2             CHEYENNE WBO  1871-01-01  1935-08-31  \n",
       "3  CHEYENNE MUNICIPAL ARPT  1935-09-01  2020-12-31  \n",
       "4     Wausau Record Herald  1896-01-01  1941-12-31  "
      ]
     },
     "execution_count": 38,
     "metadata": {},
     "output_type": "execute_result"
    }
   ],
   "source": [
    "#checks for columns in different dataframe with ID and Name\n",
    "citi_info.head()"
   ]
  },
  {
   "cell_type": "code",
   "execution_count": 39,
   "metadata": {},
   "outputs": [],
   "source": [
    "#zips ID and Name into dicitonary\n",
    "name_id = dict(zip(citi_info['ID'], citi_info['Name']))"
   ]
  },
  {
   "cell_type": "code",
   "execution_count": 40,
   "metadata": {},
   "outputs": [],
   "source": [
    "#replaces 'name' column value with corresponding city name\n",
    "new_df.replace({'name': name_id}, inplace=True)"
   ]
  },
  {
   "cell_type": "code",
   "execution_count": 41,
   "metadata": {},
   "outputs": [
    {
     "data": {
      "text/plain": [
       "SanDiego           62092\n",
       "Vancouver          60266\n",
       "Athens             59535\n",
       "Lansing            57344\n",
       "Trenton            56613\n",
       "                   ...  \n",
       "FortWayne          44925\n",
       "Saginaw            44925\n",
       "Austin             44925\n",
       "Flagstaff          44560\n",
       "DallasFortWorth    44560\n",
       "Name: name, Length: 210, dtype: int64"
      ]
     },
     "execution_count": 41,
     "metadata": {},
     "output_type": "execute_result"
    }
   ],
   "source": [
    "#checking to see if all citys made it in. \n",
    "new_df['name'].value_counts()"
   ]
  },
  {
   "cell_type": "code",
   "execution_count": 42,
   "metadata": {},
   "outputs": [
    {
     "data": {
      "text/html": [
       "<div>\n",
       "<style scoped>\n",
       "    .dataframe tbody tr th:only-of-type {\n",
       "        vertical-align: middle;\n",
       "    }\n",
       "\n",
       "    .dataframe tbody tr th {\n",
       "        vertical-align: top;\n",
       "    }\n",
       "\n",
       "    .dataframe thead th {\n",
       "        text-align: right;\n",
       "    }\n",
       "</style>\n",
       "<table border=\"1\" class=\"dataframe\">\n",
       "  <thead>\n",
       "    <tr style=\"text-align: right;\">\n",
       "      <th></th>\n",
       "      <th>Unnamed: 0</th>\n",
       "      <th>Date</th>\n",
       "      <th>tmax</th>\n",
       "      <th>tmin</th>\n",
       "      <th>prcp</th>\n",
       "      <th>csv</th>\n",
       "      <th>name</th>\n",
       "    </tr>\n",
       "  </thead>\n",
       "  <tbody>\n",
       "    <tr>\n",
       "      <th>0</th>\n",
       "      <td>1</td>\n",
       "      <td>1871-01-01</td>\n",
       "      <td>NaN</td>\n",
       "      <td>NaN</td>\n",
       "      <td>0.0</td>\n",
       "      <td>USW00003822.csv</td>\n",
       "      <td>Savannah</td>\n",
       "    </tr>\n",
       "    <tr>\n",
       "      <th>1</th>\n",
       "      <td>2</td>\n",
       "      <td>1871-01-02</td>\n",
       "      <td>NaN</td>\n",
       "      <td>NaN</td>\n",
       "      <td>0.0</td>\n",
       "      <td>USW00003822.csv</td>\n",
       "      <td>Savannah</td>\n",
       "    </tr>\n",
       "    <tr>\n",
       "      <th>2</th>\n",
       "      <td>3</td>\n",
       "      <td>1871-01-03</td>\n",
       "      <td>NaN</td>\n",
       "      <td>NaN</td>\n",
       "      <td>0.0</td>\n",
       "      <td>USW00003822.csv</td>\n",
       "      <td>Savannah</td>\n",
       "    </tr>\n",
       "  </tbody>\n",
       "</table>\n",
       "</div>"
      ],
      "text/plain": [
       "   Unnamed: 0        Date  tmax  tmin  prcp              csv      name\n",
       "0           1  1871-01-01   NaN   NaN   0.0  USW00003822.csv  Savannah\n",
       "1           2  1871-01-02   NaN   NaN   0.0  USW00003822.csv  Savannah\n",
       "2           3  1871-01-03   NaN   NaN   0.0  USW00003822.csv  Savannah"
      ]
     },
     "execution_count": 42,
     "metadata": {},
     "output_type": "execute_result"
    }
   ],
   "source": [
    "new_df.head(3)"
   ]
  },
  {
   "cell_type": "code",
   "execution_count": 43,
   "metadata": {},
   "outputs": [],
   "source": [
    "new_df.drop('Unnamed: 0', axis=1, inplace=True)"
   ]
  },
  {
   "cell_type": "code",
   "execution_count": 44,
   "metadata": {},
   "outputs": [],
   "source": [
    "#temp = pd.read_csv('./temperature_precipitation_data/merged_temp.csv')"
   ]
  },
  {
   "cell_type": "code",
   "execution_count": 45,
   "metadata": {},
   "outputs": [],
   "source": [
    "new_df['Date'] = pd.to_datetime(new_df['Date'])"
   ]
  },
  {
   "cell_type": "code",
   "execution_count": 52,
   "metadata": {},
   "outputs": [],
   "source": [
    "final_csv = new_df[new_df['Date']>'2001-12-22']\n",
    "#df_filtered = df[df['Age'] >= 25]"
   ]
  },
  {
   "cell_type": "code",
   "execution_count": 53,
   "metadata": {},
   "outputs": [
    {
     "data": {
      "text/html": [
       "<div>\n",
       "<style scoped>\n",
       "    .dataframe tbody tr th:only-of-type {\n",
       "        vertical-align: middle;\n",
       "    }\n",
       "\n",
       "    .dataframe tbody tr th {\n",
       "        vertical-align: top;\n",
       "    }\n",
       "\n",
       "    .dataframe thead th {\n",
       "        text-align: right;\n",
       "    }\n",
       "</style>\n",
       "<table border=\"1\" class=\"dataframe\">\n",
       "  <thead>\n",
       "    <tr style=\"text-align: right;\">\n",
       "      <th></th>\n",
       "      <th>Date</th>\n",
       "      <th>tmax</th>\n",
       "      <th>tmin</th>\n",
       "      <th>prcp</th>\n",
       "      <th>csv</th>\n",
       "      <th>name</th>\n",
       "    </tr>\n",
       "  </thead>\n",
       "  <tbody>\n",
       "    <tr>\n",
       "      <th>47838</th>\n",
       "      <td>2001-12-23</td>\n",
       "      <td>70.0</td>\n",
       "      <td>43.0</td>\n",
       "      <td>0.00</td>\n",
       "      <td>USW00003822.csv</td>\n",
       "      <td>Savannah</td>\n",
       "    </tr>\n",
       "    <tr>\n",
       "      <th>47839</th>\n",
       "      <td>2001-12-24</td>\n",
       "      <td>64.0</td>\n",
       "      <td>38.0</td>\n",
       "      <td>0.04</td>\n",
       "      <td>USW00003822.csv</td>\n",
       "      <td>Savannah</td>\n",
       "    </tr>\n",
       "    <tr>\n",
       "      <th>47840</th>\n",
       "      <td>2001-12-25</td>\n",
       "      <td>46.0</td>\n",
       "      <td>36.0</td>\n",
       "      <td>0.00</td>\n",
       "      <td>USW00003822.csv</td>\n",
       "      <td>Savannah</td>\n",
       "    </tr>\n",
       "    <tr>\n",
       "      <th>47841</th>\n",
       "      <td>2001-12-26</td>\n",
       "      <td>49.0</td>\n",
       "      <td>30.0</td>\n",
       "      <td>0.00</td>\n",
       "      <td>USW00003822.csv</td>\n",
       "      <td>Savannah</td>\n",
       "    </tr>\n",
       "    <tr>\n",
       "      <th>47842</th>\n",
       "      <td>2001-12-27</td>\n",
       "      <td>53.0</td>\n",
       "      <td>24.0</td>\n",
       "      <td>0.00</td>\n",
       "      <td>USW00003822.csv</td>\n",
       "      <td>Savannah</td>\n",
       "    </tr>\n",
       "  </tbody>\n",
       "</table>\n",
       "</div>"
      ],
      "text/plain": [
       "            Date  tmax  tmin  prcp              csv      name\n",
       "47838 2001-12-23  70.0  43.0  0.00  USW00003822.csv  Savannah\n",
       "47839 2001-12-24  64.0  38.0  0.04  USW00003822.csv  Savannah\n",
       "47840 2001-12-25  46.0  36.0  0.00  USW00003822.csv  Savannah\n",
       "47841 2001-12-26  49.0  30.0  0.00  USW00003822.csv  Savannah\n",
       "47842 2001-12-27  53.0  24.0  0.00  USW00003822.csv  Savannah"
      ]
     },
     "execution_count": 53,
     "metadata": {},
     "output_type": "execute_result"
    }
   ],
   "source": [
    "final_csv.head()"
   ]
  },
  {
   "cell_type": "code",
   "execution_count": 54,
   "metadata": {},
   "outputs": [
    {
     "data": {
      "text/plain": [
       "1459290"
      ]
     },
     "execution_count": 54,
     "metadata": {},
     "output_type": "execute_result"
    }
   ],
   "source": [
    "final_csv['name'].value_counts().sum()"
   ]
  },
  {
   "cell_type": "code",
   "execution_count": 55,
   "metadata": {},
   "outputs": [],
   "source": [
    "#save merged data\n",
    "final_csv.to_pickle('./temperature_precipitation_data/merged_temp.pkl')"
   ]
  },
  {
   "cell_type": "code",
   "execution_count": null,
   "metadata": {},
   "outputs": [],
   "source": []
  }
 ],
 "metadata": {
  "interpreter": {
   "hash": "3cb97f1d83f7509b06d804007dcb96c6ab417962c4fd7570dc4f1a7dc82dce2f"
  },
  "kernelspec": {
   "display_name": "Python 3.8.8 64-bit ('dsi-111': conda)",
   "language": "python",
   "name": "python3"
  },
  "language_info": {
   "codemirror_mode": {
    "name": "ipython",
    "version": 3
   },
   "file_extension": ".py",
   "mimetype": "text/x-python",
   "name": "python",
   "nbconvert_exporter": "python",
   "pygments_lexer": "ipython3",
   "version": "3.8.8"
  },
  "orig_nbformat": 4
 },
 "nbformat": 4,
 "nbformat_minor": 2
}
