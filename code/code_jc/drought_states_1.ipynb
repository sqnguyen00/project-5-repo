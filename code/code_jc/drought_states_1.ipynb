{
 "cells": [
  {
   "cell_type": "markdown",
   "id": "9004897d-c8f5-4f37-a945-bab5da0c0666",
   "metadata": {},
   "source": [
    "## Reading and merging drought dataset\n",
    "---"
   ]
  },
  {
   "cell_type": "code",
   "execution_count": 6,
   "id": "c3153131-74f0-4a4e-88d4-d05e47aa4e12",
   "metadata": {},
   "outputs": [],
   "source": [
    "import pandas as pd\n",
    "import numpy as np\n",
    "import matplotlib.pyplot as plt\n",
    "import seaborn as sns\n",
    "import plotly.express as px\n"
   ]
  },
  {
   "cell_type": "code",
   "execution_count": 7,
   "id": "d7c1ee28-018a-4d48-a1d5-c0d6dc74f619",
   "metadata": {
    "tags": []
   },
   "outputs": [],
   "source": [
    "# ! pip install geopandas==0.3.0\n",
    "# ! pip install pyshp==1.2.10\n",
    "# ! pip install shapely==1.6.3"
   ]
  },
  {
   "cell_type": "markdown",
   "id": "05051f98-b3ae-4b04-a476-9ae6810e6d45",
   "metadata": {},
   "source": [
    "### drought states dataset\n",
    "\n",
    "#### merged \n",
    "---"
   ]
  },
  {
   "cell_type": "code",
   "execution_count": 11,
   "id": "d8d5afca-ed17-40c8-9d10-22b5baa1b545",
   "metadata": {
    "tags": []
   },
   "outputs": [],
   "source": [
    "# dataset of drought by population, area, and DSCI\n",
    "populat_grought = pd.read_csv('../data/drought/population.csv')\n",
    "area_drought = pd.read_csv('../data/drought/areas.csv')\n",
    "values_drought = pd.read_csv('../data/drought/values_DSCI.csv')"
   ]
  },
  {
   "cell_type": "code",
   "execution_count": 12,
   "id": "0b5afdc3-141d-422e-ad19-86b732a8ec73",
   "metadata": {},
   "outputs": [],
   "source": [
    "# sort the values \n",
    "cities=values_drought['Name'].unique() # create a list with the cities\n",
    "dfr=pd.DataFrame() # empty dataframe\n",
    "\n",
    "#for loop to sort the time\n",
    "for i in cities:\n",
    "    e=values_drought[values_drought['Name']==i]\n",
    "    dfr=dfr.append(e.iloc[::-1])\n",
    "\n",
    "#reset index \n",
    "dfr.reset_index(inplace=True)\n",
    "dfr.drop('index',axis=1,inplace=True)\n"
   ]
  },
  {
   "cell_type": "code",
   "execution_count": 13,
   "id": "71d1ddc8-65e2-4f4b-b2fd-0f578be529a5",
   "metadata": {},
   "outputs": [],
   "source": [
    "#changing names columns to merge them\n",
    "populat_grought['population_none']=populat_grought['None']\n",
    "populat_grought['population_d0']=populat_grought['D0']\n",
    "populat_grought['population_d1']=populat_grought['D1']\n",
    "populat_grought['population_d2']=populat_grought['D2']\n",
    "populat_grought['population_d3']=populat_grought['D3']\n",
    "populat_grought['population_d4']=populat_grought['D4']\n",
    "\n",
    "#droping columns duplicated \n",
    "populat_grought.drop(populat_grought.iloc[:, :11], inplace = True, axis = 1)"
   ]
  },
  {
   "cell_type": "code",
   "execution_count": 14,
   "id": "84f293d1-3b6d-4b3b-b25b-b493cac88fe8",
   "metadata": {},
   "outputs": [
    {
     "name": "stdout",
     "output_type": "stream",
     "text": [
      "(56888, 20)\n"
     ]
    }
   ],
   "source": [
    "# Merging the 3 dataframes prueba\n",
    "\n",
    "drought_state = pd.concat([area_drought, populat_grought,dfr], axis=1)\n",
    "print(drought_state.shape)"
   ]
  },
  {
   "cell_type": "code",
   "execution_count": 15,
   "id": "17837d77-0533-43c4-9b08-35c058f5747b",
   "metadata": {},
   "outputs": [],
   "source": [
    "#Change the numbers on float\n",
    "\n",
    "drought_state['None'] = drought_state['None'].str.replace(\",\", \"\").astype(float)\n",
    "drought_state['D0'] = drought_state['D0'].str.replace(\",\", \"\").astype(float)\n",
    "drought_state['D1'] = drought_state['D1'].str.replace(\",\", \"\").astype(float)\n",
    "drought_state['D2'] = drought_state['D2'].str.replace(\",\", \"\").astype(float)\n",
    "drought_state['D3'] = drought_state['D3'].str.replace(\",\", \"\").astype(float)\n",
    "drought_state['D4'] = drought_state['D4'].str.replace(\",\", \"\").astype(float)\n",
    "\n",
    "drought_state['population_none'] = drought_state['population_none'].str.replace(\",\", \"\").astype(float)\n",
    "drought_state['population_d0'] = drought_state['population_d0'].str.replace(\",\", \"\").astype(float)\n",
    "drought_state['population_d1'] = drought_state['population_d1'].str.replace(\",\", \"\").astype(float)\n",
    "drought_state['population_d2'] = drought_state['population_d2'].str.replace(\",\", \"\").astype(float)\n",
    "drought_state['population_d3'] = drought_state['population_d3'].str.replace(\",\", \"\").astype(float)\n",
    "drought_state['population_d4'] = drought_state['population_d4'].str.replace(\",\", \"\").astype(float)"
   ]
  },
  {
   "cell_type": "code",
   "execution_count": 16,
   "id": "e117e6dd-a3b9-48f5-998e-222d4b32e741",
   "metadata": {},
   "outputs": [],
   "source": [
    "#changing the format of the time\n",
    "drought_state['ValidStart']= pd.to_datetime(drought_state['ValidStart'])\n",
    "drought_state['ValidStart'] = drought_state['ValidStart'].dt.strftime('%m/%d/%Y')\n",
    "\n",
    "drought_state['ValidEnd']= pd.to_datetime(drought_state['ValidEnd'])\n",
    "drought_state['ValidEnd'] = drought_state['ValidEnd'].dt.strftime('%m/%d/%Y')\n",
    "\n",
    "drought_state['ValidStart']=drought_state['ValidStart'].astype('datetime64[ns]')\n",
    "drought_state['ValidEnd']=drought_state['ValidEnd'].astype('datetime64[ns]')"
   ]
  },
  {
   "cell_type": "code",
   "execution_count": 17,
   "id": "d18083d1-3503-44b3-a9c0-b81319d26f3d",
   "metadata": {},
   "outputs": [],
   "source": [
    "#drop unnecessary columns\n",
    "drought_state.drop(columns=['MapDate','StatisticFormatID'],axis=1,inplace=True)"
   ]
  },
  {
   "cell_type": "code",
   "execution_count": 18,
   "id": "53fd1d8b-7ed1-4fd6-af10-111897d1cd92",
   "metadata": {},
   "outputs": [],
   "source": [
    "# rename the columns\n",
    "\n",
    "drought_state.rename(columns={'StateAbbreviation':'state','None':'area_none','D0':'area_d0','D1':'area_d1','D2':'area_d2','D3':'area_d3','D4':'area_d4'},inplace=True)\n",
    "\n",
    "\n",
    "# Organize the columns\n",
    "\n",
    "drought_state=drought_state[['Name','state','ValidStart', 'ValidEnd','area_none', 'area_d0', 'area_d1', 'area_d2', 'area_d3','area_d4','population_none', 'population_d0',\n",
    "       'population_d1', 'population_d2', 'population_d3', 'population_d4','DSCI']]\n",
    "\n",
    "# creating new columns adding the columns total_area and total population\n",
    "\n",
    "drought_state['total_area']=drought_state['area_none']+drought_state['area_d0']+drought_state['area_d1']+drought_state['area_d2']+drought_state['area_d3']+drought_state['area_d4']\n",
    "drought_state['total_population']=drought_state['population_none']+drought_state['population_d0']+drought_state['population_d1']+drought_state['population_d2']+drought_state['population_d3']+drought_state['population_d4']"
   ]
  },
  {
   "cell_type": "markdown",
   "id": "49d30d81-3ae6-4fa6-8ffe-74237404aa18",
   "metadata": {},
   "source": [
    "#### Data info\n",
    "---"
   ]
  },
  {
   "cell_type": "code",
   "execution_count": 19,
   "id": "919017a4-21d3-44f1-8128-60a2b722558d",
   "metadata": {},
   "outputs": [
    {
     "data": {
      "text/html": [
       "<div>\n",
       "<style scoped>\n",
       "    .dataframe tbody tr th:only-of-type {\n",
       "        vertical-align: middle;\n",
       "    }\n",
       "\n",
       "    .dataframe tbody tr th {\n",
       "        vertical-align: top;\n",
       "    }\n",
       "\n",
       "    .dataframe thead th {\n",
       "        text-align: right;\n",
       "    }\n",
       "</style>\n",
       "<table border=\"1\" class=\"dataframe\">\n",
       "  <thead>\n",
       "    <tr style=\"text-align: right;\">\n",
       "      <th></th>\n",
       "      <th>Name</th>\n",
       "      <th>state</th>\n",
       "      <th>ValidStart</th>\n",
       "      <th>ValidEnd</th>\n",
       "      <th>area_none</th>\n",
       "      <th>area_d0</th>\n",
       "      <th>area_d1</th>\n",
       "      <th>area_d2</th>\n",
       "      <th>area_d3</th>\n",
       "      <th>area_d4</th>\n",
       "      <th>population_none</th>\n",
       "      <th>population_d0</th>\n",
       "      <th>population_d1</th>\n",
       "      <th>population_d2</th>\n",
       "      <th>population_d3</th>\n",
       "      <th>population_d4</th>\n",
       "      <th>DSCI</th>\n",
       "      <th>total_area</th>\n",
       "      <th>total_population</th>\n",
       "    </tr>\n",
       "  </thead>\n",
       "  <tbody>\n",
       "    <tr>\n",
       "      <th>0</th>\n",
       "      <td>Alaska</td>\n",
       "      <td>AK</td>\n",
       "      <td>2021-12-07</td>\n",
       "      <td>2021-12-13</td>\n",
       "      <td>582568.29</td>\n",
       "      <td>0.0</td>\n",
       "      <td>0.0</td>\n",
       "      <td>0.0</td>\n",
       "      <td>0.0</td>\n",
       "      <td>0.0</td>\n",
       "      <td>709629.99</td>\n",
       "      <td>0.0</td>\n",
       "      <td>0.0</td>\n",
       "      <td>0.0</td>\n",
       "      <td>0.0</td>\n",
       "      <td>0.0</td>\n",
       "      <td>0</td>\n",
       "      <td>582568.29</td>\n",
       "      <td>709629.99</td>\n",
       "    </tr>\n",
       "    <tr>\n",
       "      <th>1</th>\n",
       "      <td>Alaska</td>\n",
       "      <td>AK</td>\n",
       "      <td>2021-11-30</td>\n",
       "      <td>2021-12-06</td>\n",
       "      <td>582568.29</td>\n",
       "      <td>0.0</td>\n",
       "      <td>0.0</td>\n",
       "      <td>0.0</td>\n",
       "      <td>0.0</td>\n",
       "      <td>0.0</td>\n",
       "      <td>709629.99</td>\n",
       "      <td>0.0</td>\n",
       "      <td>0.0</td>\n",
       "      <td>0.0</td>\n",
       "      <td>0.0</td>\n",
       "      <td>0.0</td>\n",
       "      <td>0</td>\n",
       "      <td>582568.29</td>\n",
       "      <td>709629.99</td>\n",
       "    </tr>\n",
       "    <tr>\n",
       "      <th>2</th>\n",
       "      <td>Alaska</td>\n",
       "      <td>AK</td>\n",
       "      <td>2021-11-23</td>\n",
       "      <td>2021-11-29</td>\n",
       "      <td>582568.29</td>\n",
       "      <td>0.0</td>\n",
       "      <td>0.0</td>\n",
       "      <td>0.0</td>\n",
       "      <td>0.0</td>\n",
       "      <td>0.0</td>\n",
       "      <td>709629.99</td>\n",
       "      <td>0.0</td>\n",
       "      <td>0.0</td>\n",
       "      <td>0.0</td>\n",
       "      <td>0.0</td>\n",
       "      <td>0.0</td>\n",
       "      <td>0</td>\n",
       "      <td>582568.29</td>\n",
       "      <td>709629.99</td>\n",
       "    </tr>\n",
       "    <tr>\n",
       "      <th>3</th>\n",
       "      <td>Alaska</td>\n",
       "      <td>AK</td>\n",
       "      <td>2021-11-16</td>\n",
       "      <td>2021-11-22</td>\n",
       "      <td>582568.29</td>\n",
       "      <td>0.0</td>\n",
       "      <td>0.0</td>\n",
       "      <td>0.0</td>\n",
       "      <td>0.0</td>\n",
       "      <td>0.0</td>\n",
       "      <td>709629.99</td>\n",
       "      <td>0.0</td>\n",
       "      <td>0.0</td>\n",
       "      <td>0.0</td>\n",
       "      <td>0.0</td>\n",
       "      <td>0.0</td>\n",
       "      <td>0</td>\n",
       "      <td>582568.29</td>\n",
       "      <td>709629.99</td>\n",
       "    </tr>\n",
       "    <tr>\n",
       "      <th>4</th>\n",
       "      <td>Alaska</td>\n",
       "      <td>AK</td>\n",
       "      <td>2021-11-09</td>\n",
       "      <td>2021-11-15</td>\n",
       "      <td>582568.29</td>\n",
       "      <td>0.0</td>\n",
       "      <td>0.0</td>\n",
       "      <td>0.0</td>\n",
       "      <td>0.0</td>\n",
       "      <td>0.0</td>\n",
       "      <td>709629.99</td>\n",
       "      <td>0.0</td>\n",
       "      <td>0.0</td>\n",
       "      <td>0.0</td>\n",
       "      <td>0.0</td>\n",
       "      <td>0.0</td>\n",
       "      <td>0</td>\n",
       "      <td>582568.29</td>\n",
       "      <td>709629.99</td>\n",
       "    </tr>\n",
       "  </tbody>\n",
       "</table>\n",
       "</div>"
      ],
      "text/plain": [
       "     Name state ValidStart   ValidEnd  area_none  area_d0  area_d1  area_d2  \\\n",
       "0  Alaska    AK 2021-12-07 2021-12-13  582568.29      0.0      0.0      0.0   \n",
       "1  Alaska    AK 2021-11-30 2021-12-06  582568.29      0.0      0.0      0.0   \n",
       "2  Alaska    AK 2021-11-23 2021-11-29  582568.29      0.0      0.0      0.0   \n",
       "3  Alaska    AK 2021-11-16 2021-11-22  582568.29      0.0      0.0      0.0   \n",
       "4  Alaska    AK 2021-11-09 2021-11-15  582568.29      0.0      0.0      0.0   \n",
       "\n",
       "   area_d3  area_d4  population_none  population_d0  population_d1  \\\n",
       "0      0.0      0.0        709629.99            0.0            0.0   \n",
       "1      0.0      0.0        709629.99            0.0            0.0   \n",
       "2      0.0      0.0        709629.99            0.0            0.0   \n",
       "3      0.0      0.0        709629.99            0.0            0.0   \n",
       "4      0.0      0.0        709629.99            0.0            0.0   \n",
       "\n",
       "   population_d2  population_d3  population_d4  DSCI  total_area  \\\n",
       "0            0.0            0.0            0.0     0   582568.29   \n",
       "1            0.0            0.0            0.0     0   582568.29   \n",
       "2            0.0            0.0            0.0     0   582568.29   \n",
       "3            0.0            0.0            0.0     0   582568.29   \n",
       "4            0.0            0.0            0.0     0   582568.29   \n",
       "\n",
       "   total_population  \n",
       "0         709629.99  \n",
       "1         709629.99  \n",
       "2         709629.99  \n",
       "3         709629.99  \n",
       "4         709629.99  "
      ]
     },
     "execution_count": 19,
     "metadata": {},
     "output_type": "execute_result"
    }
   ],
   "source": [
    "drought_state.head()"
   ]
  },
  {
   "cell_type": "code",
   "execution_count": 20,
   "id": "357cc7d9-6338-4855-bbc4-f36a95f5db48",
   "metadata": {},
   "outputs": [
    {
     "name": "stdout",
     "output_type": "stream",
     "text": [
      "<class 'pandas.core.frame.DataFrame'>\n",
      "RangeIndex: 56888 entries, 0 to 56887\n",
      "Data columns (total 19 columns):\n",
      " #   Column            Non-Null Count  Dtype         \n",
      "---  ------            --------------  -----         \n",
      " 0   Name              56888 non-null  object        \n",
      " 1   state             56888 non-null  object        \n",
      " 2   ValidStart        56888 non-null  datetime64[ns]\n",
      " 3   ValidEnd          56888 non-null  datetime64[ns]\n",
      " 4   area_none         56888 non-null  float64       \n",
      " 5   area_d0           56888 non-null  float64       \n",
      " 6   area_d1           56888 non-null  float64       \n",
      " 7   area_d2           56888 non-null  float64       \n",
      " 8   area_d3           56888 non-null  float64       \n",
      " 9   area_d4           56888 non-null  float64       \n",
      " 10  population_none   56888 non-null  float64       \n",
      " 11  population_d0     56888 non-null  float64       \n",
      " 12  population_d1     56888 non-null  float64       \n",
      " 13  population_d2     56888 non-null  float64       \n",
      " 14  population_d3     56888 non-null  float64       \n",
      " 15  population_d4     56888 non-null  float64       \n",
      " 16  DSCI              56888 non-null  int64         \n",
      " 17  total_area        56888 non-null  float64       \n",
      " 18  total_population  56888 non-null  float64       \n",
      "dtypes: datetime64[ns](2), float64(14), int64(1), object(2)\n",
      "memory usage: 8.2+ MB\n"
     ]
    }
   ],
   "source": [
    "drought_state.info()"
   ]
  },
  {
   "cell_type": "code",
   "execution_count": 21,
   "id": "59832d9d-ff00-4c44-83f7-7318a909032b",
   "metadata": {},
   "outputs": [
    {
     "data": {
      "text/html": [
       "<div>\n",
       "<style scoped>\n",
       "    .dataframe tbody tr th:only-of-type {\n",
       "        vertical-align: middle;\n",
       "    }\n",
       "\n",
       "    .dataframe tbody tr th {\n",
       "        vertical-align: top;\n",
       "    }\n",
       "\n",
       "    .dataframe thead th {\n",
       "        text-align: right;\n",
       "    }\n",
       "</style>\n",
       "<table border=\"1\" class=\"dataframe\">\n",
       "  <thead>\n",
       "    <tr style=\"text-align: right;\">\n",
       "      <th></th>\n",
       "      <th>DSCI</th>\n",
       "      <th>total_area</th>\n",
       "      <th>total_population</th>\n",
       "    </tr>\n",
       "  </thead>\n",
       "  <tbody>\n",
       "    <tr>\n",
       "      <th>count</th>\n",
       "      <td>56888.000000</td>\n",
       "      <td>56888.000000</td>\n",
       "      <td>5.688800e+04</td>\n",
       "    </tr>\n",
       "    <tr>\n",
       "      <th>mean</th>\n",
       "      <td>75.988556</td>\n",
       "      <td>69226.005450</td>\n",
       "      <td>5.989620e+06</td>\n",
       "    </tr>\n",
       "    <tr>\n",
       "      <th>std</th>\n",
       "      <td>100.787834</td>\n",
       "      <td>85895.250749</td>\n",
       "      <td>6.692471e+06</td>\n",
       "    </tr>\n",
       "    <tr>\n",
       "      <th>min</th>\n",
       "      <td>0.000000</td>\n",
       "      <td>60.200000</td>\n",
       "      <td>5.636260e+05</td>\n",
       "    </tr>\n",
       "    <tr>\n",
       "      <th>25%</th>\n",
       "      <td>0.000000</td>\n",
       "      <td>32077.540000</td>\n",
       "      <td>1.761651e+06</td>\n",
       "    </tr>\n",
       "    <tr>\n",
       "      <th>50%</th>\n",
       "      <td>29.000000</td>\n",
       "      <td>54605.605000</td>\n",
       "      <td>4.085220e+06</td>\n",
       "    </tr>\n",
       "    <tr>\n",
       "      <th>75%</th>\n",
       "      <td>117.000000</td>\n",
       "      <td>82607.670000</td>\n",
       "      <td>6.591857e+06</td>\n",
       "    </tr>\n",
       "    <tr>\n",
       "      <th>max</th>\n",
       "      <td>484.000000</td>\n",
       "      <td>582568.300000</td>\n",
       "      <td>3.725396e+07</td>\n",
       "    </tr>\n",
       "  </tbody>\n",
       "</table>\n",
       "</div>"
      ],
      "text/plain": [
       "               DSCI     total_area  total_population\n",
       "count  56888.000000   56888.000000      5.688800e+04\n",
       "mean      75.988556   69226.005450      5.989620e+06\n",
       "std      100.787834   85895.250749      6.692471e+06\n",
       "min        0.000000      60.200000      5.636260e+05\n",
       "25%        0.000000   32077.540000      1.761651e+06\n",
       "50%       29.000000   54605.605000      4.085220e+06\n",
       "75%      117.000000   82607.670000      6.591857e+06\n",
       "max      484.000000  582568.300000      3.725396e+07"
      ]
     },
     "execution_count": 21,
     "metadata": {},
     "output_type": "execute_result"
    }
   ],
   "source": [
    "drought_state[['DSCI','total_area','total_population']].describe()"
   ]
  },
  {
   "cell_type": "code",
   "execution_count": 22,
   "id": "b689b66e-3ac6-420a-a05f-a1e2634f8aa9",
   "metadata": {},
   "outputs": [
    {
     "data": {
      "text/plain": [
       "Index(['Name', 'state', 'ValidStart', 'ValidEnd', 'area_none', 'area_d0',\n",
       "       'area_d1', 'area_d2', 'area_d3', 'area_d4', 'population_none',\n",
       "       'population_d0', 'population_d1', 'population_d2', 'population_d3',\n",
       "       'population_d4', 'DSCI', 'total_area', 'total_population'],\n",
       "      dtype='object')"
      ]
     },
     "execution_count": 22,
     "metadata": {},
     "output_type": "execute_result"
    }
   ],
   "source": [
    "drought_state.columns"
   ]
  },
  {
   "cell_type": "code",
   "execution_count": 23,
   "id": "788955f9-b9d7-432c-86ba-38ff3d38f23b",
   "metadata": {},
   "outputs": [
    {
     "data": {
      "text/plain": [
       "(56888, 19)"
      ]
     },
     "execution_count": 23,
     "metadata": {},
     "output_type": "execute_result"
    }
   ],
   "source": [
    "drought_state.shape"
   ]
  },
  {
   "cell_type": "code",
   "execution_count": 24,
   "id": "48c07e78-2725-452f-8d90-4f4fcc104929",
   "metadata": {},
   "outputs": [
    {
     "data": {
      "text/plain": [
       "OR    1094\n",
       "WI    1094\n",
       "IN    1094\n",
       "KY    1094\n",
       "NE    1094\n",
       "RI    1094\n",
       "WV    1094\n",
       "AL    1094\n",
       "VT    1094\n",
       "CA    1094\n",
       "MT    1094\n",
       "NV    1094\n",
       "WY    1094\n",
       "CT    1094\n",
       "FL    1094\n",
       "MD    1094\n",
       "VA    1094\n",
       "SD    1094\n",
       "AZ    1094\n",
       "AK    1094\n",
       "GA    1094\n",
       "TX    1094\n",
       "NY    1094\n",
       "OH    1094\n",
       "NM    1094\n",
       "MA    1094\n",
       "HI    1094\n",
       "DE    1094\n",
       "NJ    1094\n",
       "MN    1094\n",
       "TN    1094\n",
       "KS    1094\n",
       "CO    1094\n",
       "MI    1094\n",
       "MS    1094\n",
       "SC    1094\n",
       "WA    1094\n",
       "IA    1094\n",
       "PR    1094\n",
       "DC    1094\n",
       "NH    1094\n",
       "AR    1094\n",
       "MO    1094\n",
       "UT    1094\n",
       "OK    1094\n",
       "IL    1094\n",
       "ID    1094\n",
       "NC    1094\n",
       "ND    1094\n",
       "ME    1094\n",
       "PA    1094\n",
       "LA    1094\n",
       "Name: state, dtype: int64"
      ]
     },
     "execution_count": 24,
     "metadata": {},
     "output_type": "execute_result"
    }
   ],
   "source": [
    "#checking how many day have a state\n",
    "\n",
    "drought_state['state'].value_counts()"
   ]
  },
  {
   "cell_type": "code",
   "execution_count": 25,
   "id": "7931e886-71f2-4f27-aca8-281cddb26bff",
   "metadata": {},
   "outputs": [],
   "source": []
  },
  {
   "cell_type": "code",
   "execution_count": null,
   "id": "ef6c02c5-4166-47e7-9b93-615edbce245b",
   "metadata": {},
   "outputs": [],
   "source": []
  },
  {
   "cell_type": "markdown",
   "id": "7fa3e4cf-585d-4fed-9eee-a5c0a47db303",
   "metadata": {},
   "source": [
    "# creating a Region column for 9 climate regions "
   ]
  },
  {
   "cell_type": "code",
   "execution_count": 28,
   "id": "4840d78b-d051-40b6-ae03-51cd3473203b",
   "metadata": {},
   "outputs": [],
   "source": [
    "#function to combine states and region into dictionary by using code for ohio_valley\n",
    "#needs list of states and the string(region)\n",
    "def state_region_dict(list_states,string_region):\n",
    "    return dict.fromkeys(list_states,string_region)"
   ]
  },
  {
   "cell_type": "code",
   "execution_count": 75,
   "id": "6b12f122-7cfb-46f2-8638-2f9e1b9d3e47",
   "metadata": {},
   "outputs": [],
   "source": [
    "oh_list=['Illinois','Indiana','Kentucky','Missouri','Ohio','Tennessee','West Virginia']\n",
    "oh='Ohio Valley'\n",
    "ohio_valley=state_region_dict(oh_list,oh)\n",
    "\n",
    "um_list=['Iowa', 'Michigan', 'Minnesota', 'Wisconsin']\n",
    "um_region='Upper Midwest'\n",
    "upper_midwest=state_region_dict(um_list,um_region)\n",
    "\n",
    "ne_list=['Delaware','Maine','Maryland','Massachusetts', 'New Hampshire', 'New Jersey',\n",
    "        'New York', 'Pennsylvania','Vermont']#,'Rhode Island''Connecticut',\n",
    "ne_region='Northeast'\n",
    "north_east=state_region_dict(ne_list,ne_region)\n",
    "\n",
    "nw_list=['Idaho','Oregon','Washington']\n",
    "nw_region='Northwest'\n",
    "north_west=state_region_dict(nw_list,nw_region)\n",
    "\n",
    "s_list=['Arkansas','Kansas','Louisiana','Mississippi','Oklahoma','Texas']\n",
    "s_region='South'\n",
    "south=state_region_dict(s_list,s_region)\n",
    "\n",
    "se_list=['Alabama','Florida','Georgia','North Carolina','South Carolina','Virginia']\n",
    "se_region='Southeast'\n",
    "south_east=state_region_dict(se_list,se_region)\n",
    "\n",
    "sw_list=['Arizona','Colorado','New Mexico','Utah']\n",
    "sw_region='Southwest'\n",
    "south_west=state_region_dict(sw_list,sw_region)\n",
    "\n",
    "w_list=['California','Nevada']\n",
    "w_region='West'\n",
    "west=state_region_dict(w_list,w_region)\n",
    "\n",
    "wnc_list=['Montana','Nebraska','North Dakota','South Dakota','Wyoming']\n",
    "wnc_region='Northern Rockies and Plains'\n",
    "northern_rockies=state_region_dict(wnc_list,wnc_region)\n",
    "\n",
    "#https://stackoverflow.com/questions/11977730/creating-a-dictionary-with-same-values"
   ]
  },
  {
   "cell_type": "code",
   "execution_count": 76,
   "id": "01d665bf-8246-49a3-8bff-e3a85371096c",
   "metadata": {},
   "outputs": [
    {
     "data": {
      "text/plain": [
       "{'Illinois': 'Ohio Valley',\n",
       " 'Indiana': 'Ohio Valley',\n",
       " 'Kentucky': 'Ohio Valley',\n",
       " 'Missouri': 'Ohio Valley',\n",
       " 'Ohio': 'Ohio Valley',\n",
       " 'Tennessee': 'Ohio Valley',\n",
       " 'West Virginia': 'Ohio Valley',\n",
       " 'Iowa': 'Upper Midwest',\n",
       " 'Michigan': 'Upper Midwest',\n",
       " 'Minnesota': 'Upper Midwest',\n",
       " 'Wisconsin': 'Upper Midwest',\n",
       " 'Delaware': 'Northeast',\n",
       " 'Maine': 'Northeast',\n",
       " 'Maryland': 'Northeast',\n",
       " 'Massachusetts': 'Northeast',\n",
       " 'New Hampshire': 'Northeast',\n",
       " 'New Jersey': 'Northeast',\n",
       " 'New York': 'Northeast',\n",
       " 'Pennsylvania': 'Northeast',\n",
       " 'Vermont': 'Northeast',\n",
       " 'Idaho': 'Northwest',\n",
       " 'Oregon': 'Northwest',\n",
       " 'Washington': 'Northwest',\n",
       " 'Arkansas': 'South',\n",
       " 'Kansas': 'South',\n",
       " 'Louisiana': 'South',\n",
       " 'Mississippi': 'South',\n",
       " 'Oklahoma': 'South',\n",
       " 'Texas': 'South',\n",
       " 'Alabama': 'Southeast',\n",
       " 'Florida': 'Southeast',\n",
       " 'Georgia': 'Southeast',\n",
       " 'North Carolina': 'Southeast',\n",
       " 'South Carolina': 'Southeast',\n",
       " 'Virginia': 'Southeast',\n",
       " 'Arizona': 'Southwest',\n",
       " 'Colorado': 'Southwest',\n",
       " 'New Mexico': 'Southwest',\n",
       " 'Utah': 'Southwest',\n",
       " 'California': 'West',\n",
       " 'Nevada': 'West',\n",
       " 'Montana': 'Northern Rockies and Plains',\n",
       " 'Nebraska': 'Northern Rockies and Plains',\n",
       " 'North Dakota': 'Northern Rockies and Plains',\n",
       " 'South Dakota': 'Northern Rockies and Plains',\n",
       " 'Wyoming': 'Northern Rockies and Plains'}"
      ]
     },
     "execution_count": 76,
     "metadata": {},
     "output_type": "execute_result"
    }
   ],
   "source": [
    "#combine multiple dictionaries into one\n",
    "final_dict={**ohio_valley,**upper_midwest,**north_east,**north_west,**south,\n",
    "            **south_east,**south_west,**west,**northern_rockies}\n",
    "final_dict\n",
    "#https://towardsdatascience.com/merge-dictionaries-in-python-d4e9ce137374"
   ]
  },
  {
   "cell_type": "code",
   "execution_count": 46,
   "id": "02f284ef-65a9-4e11-8130-0a4cfde9601b",
   "metadata": {},
   "outputs": [
    {
     "name": "stdout",
     "output_type": "stream",
     "text": [
      "46\n"
     ]
    }
   ],
   "source": [
    "#print how many states are\n",
    "print(len(final_dict.keys()))"
   ]
  },
  {
   "cell_type": "code",
   "execution_count": 48,
   "id": "69f8e4d2-896f-4b1b-80cd-52d074f66aea",
   "metadata": {},
   "outputs": [],
   "source": [
    "#Replaced initial values with dictionary region values\n",
    "drought_state['climate_regions']=drought_state['Name']\n",
    "drought_state.replace({'climate_regions':final_dict},inplace=True)\n",
    "#https://sparkbyexamples.com/pandas/pandas-remap-values-in-column-with-a-dictionary-dict/"
   ]
  },
  {
   "cell_type": "code",
   "execution_count": 49,
   "id": "6c1fbfa1-3d30-49cf-9dc5-64f8e32c890e",
   "metadata": {},
   "outputs": [
    {
     "data": {
      "text/html": [
       "<div>\n",
       "<style scoped>\n",
       "    .dataframe tbody tr th:only-of-type {\n",
       "        vertical-align: middle;\n",
       "    }\n",
       "\n",
       "    .dataframe tbody tr th {\n",
       "        vertical-align: top;\n",
       "    }\n",
       "\n",
       "    .dataframe thead th {\n",
       "        text-align: right;\n",
       "    }\n",
       "</style>\n",
       "<table border=\"1\" class=\"dataframe\">\n",
       "  <thead>\n",
       "    <tr style=\"text-align: right;\">\n",
       "      <th></th>\n",
       "      <th>Name</th>\n",
       "      <th>state</th>\n",
       "      <th>ValidStart</th>\n",
       "      <th>ValidEnd</th>\n",
       "      <th>area_none</th>\n",
       "      <th>area_d0</th>\n",
       "      <th>area_d1</th>\n",
       "      <th>area_d2</th>\n",
       "      <th>area_d3</th>\n",
       "      <th>area_d4</th>\n",
       "      <th>population_none</th>\n",
       "      <th>population_d0</th>\n",
       "      <th>population_d1</th>\n",
       "      <th>population_d2</th>\n",
       "      <th>population_d3</th>\n",
       "      <th>population_d4</th>\n",
       "      <th>DSCI</th>\n",
       "      <th>total_area</th>\n",
       "      <th>total_population</th>\n",
       "      <th>climate_regions</th>\n",
       "    </tr>\n",
       "  </thead>\n",
       "  <tbody>\n",
       "    <tr>\n",
       "      <th>1094</th>\n",
       "      <td>Alabama</td>\n",
       "      <td>AL</td>\n",
       "      <td>2021-12-07</td>\n",
       "      <td>2021-12-13</td>\n",
       "      <td>24009.42</td>\n",
       "      <td>26435.31</td>\n",
       "      <td>1159.61</td>\n",
       "      <td>0.0</td>\n",
       "      <td>0.0</td>\n",
       "      <td>0.0</td>\n",
       "      <td>3011792.40</td>\n",
       "      <td>1749463.44</td>\n",
       "      <td>18480.18</td>\n",
       "      <td>0.0</td>\n",
       "      <td>0.0</td>\n",
       "      <td>0.0</td>\n",
       "      <td>56</td>\n",
       "      <td>51604.34</td>\n",
       "      <td>4779736.02</td>\n",
       "      <td>Southeast</td>\n",
       "    </tr>\n",
       "    <tr>\n",
       "      <th>1095</th>\n",
       "      <td>Alabama</td>\n",
       "      <td>AL</td>\n",
       "      <td>2021-11-30</td>\n",
       "      <td>2021-12-06</td>\n",
       "      <td>26482.82</td>\n",
       "      <td>25121.53</td>\n",
       "      <td>0.00</td>\n",
       "      <td>0.0</td>\n",
       "      <td>0.0</td>\n",
       "      <td>0.0</td>\n",
       "      <td>3153556.89</td>\n",
       "      <td>1626179.13</td>\n",
       "      <td>0.00</td>\n",
       "      <td>0.0</td>\n",
       "      <td>0.0</td>\n",
       "      <td>0.0</td>\n",
       "      <td>49</td>\n",
       "      <td>51604.35</td>\n",
       "      <td>4779736.02</td>\n",
       "      <td>Southeast</td>\n",
       "    </tr>\n",
       "    <tr>\n",
       "      <th>1096</th>\n",
       "      <td>Alabama</td>\n",
       "      <td>AL</td>\n",
       "      <td>2021-11-23</td>\n",
       "      <td>2021-11-29</td>\n",
       "      <td>37734.50</td>\n",
       "      <td>13869.85</td>\n",
       "      <td>0.00</td>\n",
       "      <td>0.0</td>\n",
       "      <td>0.0</td>\n",
       "      <td>0.0</td>\n",
       "      <td>3917434.59</td>\n",
       "      <td>862301.43</td>\n",
       "      <td>0.00</td>\n",
       "      <td>0.0</td>\n",
       "      <td>0.0</td>\n",
       "      <td>0.0</td>\n",
       "      <td>27</td>\n",
       "      <td>51604.35</td>\n",
       "      <td>4779736.02</td>\n",
       "      <td>Southeast</td>\n",
       "    </tr>\n",
       "    <tr>\n",
       "      <th>1097</th>\n",
       "      <td>Alabama</td>\n",
       "      <td>AL</td>\n",
       "      <td>2021-11-16</td>\n",
       "      <td>2021-11-22</td>\n",
       "      <td>50440.75</td>\n",
       "      <td>1163.60</td>\n",
       "      <td>0.00</td>\n",
       "      <td>0.0</td>\n",
       "      <td>0.0</td>\n",
       "      <td>0.0</td>\n",
       "      <td>4752055.32</td>\n",
       "      <td>27680.71</td>\n",
       "      <td>0.00</td>\n",
       "      <td>0.0</td>\n",
       "      <td>0.0</td>\n",
       "      <td>0.0</td>\n",
       "      <td>2</td>\n",
       "      <td>51604.35</td>\n",
       "      <td>4779736.03</td>\n",
       "      <td>Southeast</td>\n",
       "    </tr>\n",
       "    <tr>\n",
       "      <th>1098</th>\n",
       "      <td>Alabama</td>\n",
       "      <td>AL</td>\n",
       "      <td>2021-11-09</td>\n",
       "      <td>2021-11-15</td>\n",
       "      <td>51604.35</td>\n",
       "      <td>0.00</td>\n",
       "      <td>0.00</td>\n",
       "      <td>0.0</td>\n",
       "      <td>0.0</td>\n",
       "      <td>0.0</td>\n",
       "      <td>4779736.02</td>\n",
       "      <td>0.00</td>\n",
       "      <td>0.00</td>\n",
       "      <td>0.0</td>\n",
       "      <td>0.0</td>\n",
       "      <td>0.0</td>\n",
       "      <td>0</td>\n",
       "      <td>51604.35</td>\n",
       "      <td>4779736.02</td>\n",
       "      <td>Southeast</td>\n",
       "    </tr>\n",
       "  </tbody>\n",
       "</table>\n",
       "</div>"
      ],
      "text/plain": [
       "         Name state ValidStart   ValidEnd  area_none   area_d0  area_d1  \\\n",
       "1094  Alabama    AL 2021-12-07 2021-12-13   24009.42  26435.31  1159.61   \n",
       "1095  Alabama    AL 2021-11-30 2021-12-06   26482.82  25121.53     0.00   \n",
       "1096  Alabama    AL 2021-11-23 2021-11-29   37734.50  13869.85     0.00   \n",
       "1097  Alabama    AL 2021-11-16 2021-11-22   50440.75   1163.60     0.00   \n",
       "1098  Alabama    AL 2021-11-09 2021-11-15   51604.35      0.00     0.00   \n",
       "\n",
       "      area_d2  area_d3  area_d4  population_none  population_d0  \\\n",
       "1094      0.0      0.0      0.0       3011792.40     1749463.44   \n",
       "1095      0.0      0.0      0.0       3153556.89     1626179.13   \n",
       "1096      0.0      0.0      0.0       3917434.59      862301.43   \n",
       "1097      0.0      0.0      0.0       4752055.32       27680.71   \n",
       "1098      0.0      0.0      0.0       4779736.02           0.00   \n",
       "\n",
       "      population_d1  population_d2  population_d3  population_d4  DSCI  \\\n",
       "1094       18480.18            0.0            0.0            0.0    56   \n",
       "1095           0.00            0.0            0.0            0.0    49   \n",
       "1096           0.00            0.0            0.0            0.0    27   \n",
       "1097           0.00            0.0            0.0            0.0     2   \n",
       "1098           0.00            0.0            0.0            0.0     0   \n",
       "\n",
       "      total_area  total_population climate_regions  \n",
       "1094    51604.34        4779736.02       Southeast  \n",
       "1095    51604.35        4779736.02       Southeast  \n",
       "1096    51604.35        4779736.02       Southeast  \n",
       "1097    51604.35        4779736.03       Southeast  \n",
       "1098    51604.35        4779736.02       Southeast  "
      ]
     },
     "execution_count": 49,
     "metadata": {},
     "output_type": "execute_result"
    }
   ],
   "source": [
    "drought_state.head()"
   ]
  },
  {
   "cell_type": "code",
   "execution_count": 52,
   "id": "914fe5c1-35ad-4ef4-bdc3-6beca62d0661",
   "metadata": {},
   "outputs": [
    {
     "data": {
      "text/plain": [
       "Northeast                      9846\n",
       "Ohio Valley                    7658\n",
       "South                          6564\n",
       "Southeast                      6564\n",
       "Northern Rockies and Plains    5470\n",
       "Southwest                      4376\n",
       "Upper Midwest                  4376\n",
       "Northwest                      3282\n",
       "West                           2188\n",
       "Name: climate_regions, dtype: int64"
      ]
     },
     "execution_count": 52,
     "metadata": {},
     "output_type": "execute_result"
    }
   ],
   "source": [
    "drought_state['climate_regions'].value_counts()"
   ]
  },
  {
   "cell_type": "code",
   "execution_count": 51,
   "id": "66c415d3-2370-4bbf-9718-e2078d61dffa",
   "metadata": {},
   "outputs": [
    {
     "data": {
      "text/plain": [
       "Northeast                      9846\n",
       "Ohio Valley                    7658\n",
       "South                          6564\n",
       "Southeast                      6564\n",
       "Northern Rockies and Plains    5470\n",
       "Southwest                      4376\n",
       "Upper Midwest                  4376\n",
       "Northwest                      3282\n",
       "West                           2188\n",
       "Name: climate_regions, dtype: int64"
      ]
     },
     "execution_count": 51,
     "metadata": {},
     "output_type": "execute_result"
    }
   ],
   "source": [
    "#dropping some states\n",
    "drought_state=drought_state[drought_state['climate_regions'].str.contains('Alaska')==False]\n",
    "drought_state=drought_state[drought_state['climate_regions'].str.contains('District of Columbia')==False]\n",
    "drought_state=drought_state[drought_state['climate_regions'].str.contains('Hawaii')==False]\n",
    "drought_state=drought_state[drought_state['climate_regions'].str.contains('Puerto Rico')==False]\n",
    "drought_state=drought_state[drought_state['climate_regions'].str.contains('Rhode Island')==False]\n",
    "drought_state=drought_state[drought_state['climate_regions'].str.contains('Connecticut')==False]\n",
    "\n",
    "\n",
    "drought_state['climate_regions'].value_counts()"
   ]
  },
  {
   "cell_type": "markdown",
   "id": "349e9c57-e6e3-479c-9de5-6bfa1f2adfb1",
   "metadata": {},
   "source": [
    "## Creating 9 dataframes for every region"
   ]
  },
  {
   "cell_type": "code",
   "execution_count": 64,
   "id": "91d2d5cf-3c1b-420f-8616-93fc26f3eb0b",
   "metadata": {},
   "outputs": [],
   "source": [
    "#function to collect the regions\n",
    "def nine_regions(state_list):\n",
    "    return drought_state[drought_state['Name'].isin(state_list)]"
   ]
  },
  {
   "cell_type": "code",
   "execution_count": 65,
   "id": "062b062a-d20d-41c6-a04d-adb058dc482a",
   "metadata": {},
   "outputs": [],
   "source": [
    "oh_df=nine_regions(oh_list)\n",
    "um_df=nine_regions(um_list)\n",
    "ne_df=nine_regions(ne_list)\n",
    "nw_df=nine_regions(nw_list)\n",
    "s_df=nine_regions(s_list)\n",
    "se_df=nine_regions(se_list)\n",
    "sw_df=nine_regions(sw_list)\n",
    "w_df=nine_regions(w_list)\n",
    "wnc_df=nine_regions(wnc_list)"
   ]
  },
  {
   "cell_type": "code",
   "execution_count": 89,
   "id": "fa8dd622-833b-4d8b-9b77-bc2ce166146b",
   "metadata": {
    "tags": []
   },
   "outputs": [],
   "source": [
    "#saving the dataframe\n",
    "drought_state.to_csv('../data/drought/drought_state_merge.csv', index=False)\n",
    "oh_df.to_csv('../data/drought/drought_ohio_valley.csv', index=False)\n",
    "um_df.to_csv('../data/drought/drought_Upper_Midwest.csv', index=False)\n",
    "ne_df.to_csv('../data/drought/drought_Northwest.csv', index=False)\n",
    "nw_df.to_csv('../data/drought/drought_Northwest.csv', index=False)\n",
    "s_df.to_csv('../data/drought/drought_South.csv', index=False)\n",
    "se_df.to_csv('../data/drought/drought_Southeast.csv', index=False)\n",
    "sw_df.to_csv('../data/drought/drought_Southwest.csv', index=False)\n",
    "w_df.to_csv('../data/drought/drought_West.csv', index=False)\n",
    "wnc_df.to_csv('../data/drought/drought_Northern_Rockies_Plains.csv', index=False)"
   ]
  },
  {
   "cell_type": "code",
   "execution_count": null,
   "id": "8a81498c-fca7-44fc-9e62-f29fa2d42fab",
   "metadata": {},
   "outputs": [],
   "source": []
  }
 ],
 "metadata": {
  "kernelspec": {
   "display_name": "Python [conda env:root] *",
   "language": "python",
   "name": "conda-root-py"
  },
  "language_info": {
   "codemirror_mode": {
    "name": "ipython",
    "version": 3
   },
   "file_extension": ".py",
   "mimetype": "text/x-python",
   "name": "python",
   "nbconvert_exporter": "python",
   "pygments_lexer": "ipython3",
   "version": "3.8.2"
  }
 },
 "nbformat": 4,
 "nbformat_minor": 5
}
