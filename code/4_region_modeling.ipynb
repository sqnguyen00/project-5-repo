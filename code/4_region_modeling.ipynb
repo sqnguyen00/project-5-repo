{
 "cells": [
  {
   "cell_type": "code",
   "execution_count": 1,
   "metadata": {},
   "outputs": [],
   "source": [
    "# Code by Son Nguyen"
   ]
  },
  {
   "cell_type": "code",
   "execution_count": 2,
   "metadata": {},
   "outputs": [],
   "source": [
    "#imports\n",
    "import pandas as pd\n",
    "import tensorflow as tf\n",
    "import os\n",
    "import numpy as np\n",
    "import matplotlib.pyplot as plt\n",
    "import time\n",
    "from sklearn.preprocessing import StandardScaler"
   ]
  },
  {
   "cell_type": "code",
   "execution_count": 3,
   "metadata": {},
   "outputs": [],
   "source": [
    "#read in data\n",
    "drought = pd.read_csv('data/final_drought_temp_data.csv')"
   ]
  },
  {
   "cell_type": "markdown",
   "metadata": {},
   "source": [
    "#### David's Code"
   ]
  },
  {
   "cell_type": "code",
   "execution_count": 4,
   "metadata": {},
   "outputs": [],
   "source": [
    "drought['climate_regions']=drought['Name']"
   ]
  },
  {
   "cell_type": "code",
   "execution_count": 5,
   "metadata": {},
   "outputs": [],
   "source": [
    "oh='Ohio Valley'\n",
    "ohio_valley=dict.fromkeys(['Illinois','Indiana','Kentucky','Missouri',\n",
    "             'Ohio','Tennessee','West Virginia'],oh)\n",
    "#https://stackoverflow.com/questions/11977730/creating-a-dictionary-with-same-values"
   ]
  },
  {
   "cell_type": "code",
   "execution_count": 6,
   "metadata": {},
   "outputs": [],
   "source": [
    "oh_list=['Illinois','Indiana','Kentucky','Missouri',\n",
    "             'Ohio','Tennessee','West Virginia']"
   ]
  },
  {
   "cell_type": "code",
   "execution_count": 7,
   "metadata": {},
   "outputs": [],
   "source": [
    "def state_region_dict(list_states,string_region):\n",
    "    return dict.fromkeys(list_states,string_region)\n",
    "#function to combine states and region into dictionary\n"
   ]
  },
  {
   "cell_type": "code",
   "execution_count": 8,
   "metadata": {},
   "outputs": [],
   "source": [
    "um_list=['Iowa', 'Michigan', 'Minnesota', 'Wisconsin']\n",
    "um_region='Upper Midwest'\n",
    "upper_midwest=state_region_dict(um_list,um_region)\n"
   ]
  },
  {
   "cell_type": "code",
   "execution_count": 9,
   "metadata": {},
   "outputs": [],
   "source": [
    "ne_list=['Connecticut','Delaware','Maine','Maryland','Massachusetts', 'New Hampshire', 'New Jersey',\n",
    "        'New York', 'Pennsylvania','Rhode Island','Vermont']\n",
    "ne_region='Northeast'\n",
    "north_east=state_region_dict(ne_list,ne_region)"
   ]
  },
  {
   "cell_type": "code",
   "execution_count": 10,
   "metadata": {},
   "outputs": [],
   "source": [
    "nw_list=['Idaho','Oregon','Washington']\n",
    "nw_region='Northwest'\n",
    "north_west=state_region_dict(nw_list,nw_region)\n",
    "\n",
    "s_list=['Arkansas','Kansas','Louisiana','Mississippi','Oklahoma','Texas']\n",
    "s_region='South'\n",
    "south=state_region_dict(s_list,s_region)\n",
    "\n",
    "se_list=['Alabama','Florida','Georgia','North Carolina','South Carolina','Virginia']\n",
    "se_region='Southeast'\n",
    "south_east=state_region_dict(se_list,se_region)\n",
    "\n",
    "sw_list=['Arizona','Colorado','New Mexico','Utah']\n",
    "sw_region='Southwest'\n",
    "south_west=state_region_dict(sw_list,sw_region)\n",
    "\n",
    "w_list=['California','Nevada']\n",
    "w_region='West'\n",
    "west=state_region_dict(w_list,w_region)\n",
    "\n",
    "wnc_list=['Montana','Nebraska','North Dakota','South Dakota','Wyoming']\n",
    "wnc_region='Northern Rockies and Plains'\n",
    "northern_rockies=state_region_dict(wnc_list,wnc_region)"
   ]
  },
  {
   "cell_type": "code",
   "execution_count": 11,
   "metadata": {},
   "outputs": [],
   "source": [
    "final_dict={**ohio_valley,**upper_midwest,**north_east,**north_west,**south,\n",
    "            **south_east,**south_west,**west,**northern_rockies}\n",
    "#combine multiple dictionaries into one\n",
    "#https://towardsdatascience.com/merge-dictionaries-in-python-d4e9ce137374"
   ]
  },
  {
   "cell_type": "code",
   "execution_count": 12,
   "metadata": {},
   "outputs": [],
   "source": [
    "drought['climate_regions']=drought['Name']"
   ]
  },
  {
   "cell_type": "code",
   "execution_count": 13,
   "metadata": {},
   "outputs": [],
   "source": [
    "#Replaced initial values with dictionary region values\n",
    "drought.replace({'climate_regions':final_dict},inplace=True)\n",
    "#https://sparkbyexamples.com/pandas/pandas-remap-values-in-column-with-a-dictionary-dict/"
   ]
  },
  {
   "cell_type": "code",
   "execution_count": 14,
   "metadata": {},
   "outputs": [],
   "source": [
    "drought['ValidEnd'] = pd.to_datetime(drought['ValidEnd'])"
   ]
  },
  {
   "cell_type": "code",
   "execution_count": 15,
   "metadata": {},
   "outputs": [],
   "source": [
    "drought = drought[drought['ValidEnd']<'2021-01-01']"
   ]
  },
  {
   "cell_type": "code",
   "execution_count": 16,
   "metadata": {},
   "outputs": [],
   "source": [
    "ohio_valley = drought[drought['climate_regions'] == 'Ohio Valley']"
   ]
  },
  {
   "cell_type": "code",
   "execution_count": 17,
   "metadata": {},
   "outputs": [],
   "source": [
    "west = drought[drought['climate_regions'] == 'West']"
   ]
  },
  {
   "cell_type": "code",
   "execution_count": 18,
   "metadata": {},
   "outputs": [],
   "source": [
    "up_mid = drought[drought['climate_regions'] == 'Upper Midwest']"
   ]
  },
  {
   "cell_type": "code",
   "execution_count": 19,
   "metadata": {},
   "outputs": [],
   "source": [
    "nrp = drought[drought['climate_regions'] == 'Northern Rockies and Plains']"
   ]
  },
  {
   "cell_type": "code",
   "execution_count": 20,
   "metadata": {},
   "outputs": [],
   "source": [
    "ne = drought[drought['climate_regions'] == 'Northeast']"
   ]
  },
  {
   "cell_type": "code",
   "execution_count": 21,
   "metadata": {},
   "outputs": [],
   "source": [
    "nw = drought[drought['climate_regions'] == 'Northwest']"
   ]
  },
  {
   "cell_type": "code",
   "execution_count": 22,
   "metadata": {},
   "outputs": [],
   "source": [
    "south = drought[drought['climate_regions'] == 'South']"
   ]
  },
  {
   "cell_type": "code",
   "execution_count": 23,
   "metadata": {},
   "outputs": [],
   "source": [
    "sw = drought[drought['climate_regions'] == 'Southwest']"
   ]
  },
  {
   "cell_type": "code",
   "execution_count": 24,
   "metadata": {},
   "outputs": [],
   "source": [
    "se = sw = drought[drought['climate_regions'] == 'Southeast']"
   ]
  },
  {
   "cell_type": "code",
   "execution_count": 25,
   "metadata": {},
   "outputs": [
    {
     "data": {
      "text/html": [
       "<div>\n",
       "<style scoped>\n",
       "    .dataframe tbody tr th:only-of-type {\n",
       "        vertical-align: middle;\n",
       "    }\n",
       "\n",
       "    .dataframe tbody tr th {\n",
       "        vertical-align: top;\n",
       "    }\n",
       "\n",
       "    .dataframe thead th {\n",
       "        text-align: right;\n",
       "    }\n",
       "</style>\n",
       "<table border=\"1\" class=\"dataframe\">\n",
       "  <thead>\n",
       "    <tr style=\"text-align: right;\">\n",
       "      <th></th>\n",
       "      <th>ValidEnd</th>\n",
       "      <th>Name</th>\n",
       "      <th>state</th>\n",
       "      <th>area_none</th>\n",
       "      <th>area_d0</th>\n",
       "      <th>area_d1</th>\n",
       "      <th>area_d2</th>\n",
       "      <th>area_d3</th>\n",
       "      <th>area_d4</th>\n",
       "      <th>population_none</th>\n",
       "      <th>...</th>\n",
       "      <th>population_d3</th>\n",
       "      <th>population_d4</th>\n",
       "      <th>DSCI</th>\n",
       "      <th>total_area</th>\n",
       "      <th>total_population</th>\n",
       "      <th>avg_tmax</th>\n",
       "      <th>avg_tmin</th>\n",
       "      <th>total_avg_prcp_inches</th>\n",
       "      <th>total_avg_prcp_mm</th>\n",
       "      <th>climate_regions</th>\n",
       "    </tr>\n",
       "  </thead>\n",
       "  <tbody>\n",
       "    <tr>\n",
       "      <th>10451</th>\n",
       "      <td>2020-12-28</td>\n",
       "      <td>Illinois</td>\n",
       "      <td>IL</td>\n",
       "      <td>33454.57</td>\n",
       "      <td>15550.66</td>\n",
       "      <td>6236.48</td>\n",
       "      <td>1140.83</td>\n",
       "      <td>0.0</td>\n",
       "      <td>0.0</td>\n",
       "      <td>8875219.25</td>\n",
       "      <td>...</td>\n",
       "      <td>0.0</td>\n",
       "      <td>0.0</td>\n",
       "      <td>56</td>\n",
       "      <td>56382.54</td>\n",
       "      <td>12847389.79</td>\n",
       "      <td>38.465714</td>\n",
       "      <td>17.117143</td>\n",
       "      <td>0.108000</td>\n",
       "      <td>2.743200</td>\n",
       "      <td>Ohio Valley</td>\n",
       "    </tr>\n",
       "    <tr>\n",
       "      <th>10452</th>\n",
       "      <td>2020-12-21</td>\n",
       "      <td>Illinois</td>\n",
       "      <td>IL</td>\n",
       "      <td>33454.57</td>\n",
       "      <td>15550.66</td>\n",
       "      <td>6236.48</td>\n",
       "      <td>1140.83</td>\n",
       "      <td>0.0</td>\n",
       "      <td>0.0</td>\n",
       "      <td>8875219.25</td>\n",
       "      <td>...</td>\n",
       "      <td>0.0</td>\n",
       "      <td>0.0</td>\n",
       "      <td>56</td>\n",
       "      <td>56382.54</td>\n",
       "      <td>12847389.79</td>\n",
       "      <td>39.528571</td>\n",
       "      <td>26.411429</td>\n",
       "      <td>0.006000</td>\n",
       "      <td>0.152400</td>\n",
       "      <td>Ohio Valley</td>\n",
       "    </tr>\n",
       "    <tr>\n",
       "      <th>10453</th>\n",
       "      <td>2020-12-14</td>\n",
       "      <td>Illinois</td>\n",
       "      <td>IL</td>\n",
       "      <td>32814.14</td>\n",
       "      <td>16191.10</td>\n",
       "      <td>6236.48</td>\n",
       "      <td>1140.83</td>\n",
       "      <td>0.0</td>\n",
       "      <td>0.0</td>\n",
       "      <td>8839298.46</td>\n",
       "      <td>...</td>\n",
       "      <td>0.0</td>\n",
       "      <td>0.0</td>\n",
       "      <td>57</td>\n",
       "      <td>56382.55</td>\n",
       "      <td>12847389.79</td>\n",
       "      <td>44.220000</td>\n",
       "      <td>29.057143</td>\n",
       "      <td>1.026000</td>\n",
       "      <td>26.060400</td>\n",
       "      <td>Ohio Valley</td>\n",
       "    </tr>\n",
       "    <tr>\n",
       "      <th>10454</th>\n",
       "      <td>2020-12-07</td>\n",
       "      <td>Illinois</td>\n",
       "      <td>IL</td>\n",
       "      <td>32794.13</td>\n",
       "      <td>18023.24</td>\n",
       "      <td>4619.65</td>\n",
       "      <td>945.53</td>\n",
       "      <td>0.0</td>\n",
       "      <td>0.0</td>\n",
       "      <td>8650968.46</td>\n",
       "      <td>...</td>\n",
       "      <td>0.0</td>\n",
       "      <td>0.0</td>\n",
       "      <td>53</td>\n",
       "      <td>56382.55</td>\n",
       "      <td>12847389.80</td>\n",
       "      <td>43.485714</td>\n",
       "      <td>24.954286</td>\n",
       "      <td>0.000000</td>\n",
       "      <td>0.000000</td>\n",
       "      <td>Ohio Valley</td>\n",
       "    </tr>\n",
       "    <tr>\n",
       "      <th>10455</th>\n",
       "      <td>2020-11-30</td>\n",
       "      <td>Illinois</td>\n",
       "      <td>IL</td>\n",
       "      <td>28067.62</td>\n",
       "      <td>21244.44</td>\n",
       "      <td>6124.95</td>\n",
       "      <td>945.53</td>\n",
       "      <td>0.0</td>\n",
       "      <td>0.0</td>\n",
       "      <td>8375517.01</td>\n",
       "      <td>...</td>\n",
       "      <td>0.0</td>\n",
       "      <td>0.0</td>\n",
       "      <td>64</td>\n",
       "      <td>56382.54</td>\n",
       "      <td>12847389.80</td>\n",
       "      <td>46.328571</td>\n",
       "      <td>32.782857</td>\n",
       "      <td>1.082000</td>\n",
       "      <td>27.482800</td>\n",
       "      <td>Ohio Valley</td>\n",
       "    </tr>\n",
       "    <tr>\n",
       "      <th>...</th>\n",
       "      <td>...</td>\n",
       "      <td>...</td>\n",
       "      <td>...</td>\n",
       "      <td>...</td>\n",
       "      <td>...</td>\n",
       "      <td>...</td>\n",
       "      <td>...</td>\n",
       "      <td>...</td>\n",
       "      <td>...</td>\n",
       "      <td>...</td>\n",
       "      <td>...</td>\n",
       "      <td>...</td>\n",
       "      <td>...</td>\n",
       "      <td>...</td>\n",
       "      <td>...</td>\n",
       "      <td>...</td>\n",
       "      <td>...</td>\n",
       "      <td>...</td>\n",
       "      <td>...</td>\n",
       "      <td>...</td>\n",
       "      <td>...</td>\n",
       "    </tr>\n",
       "    <tr>\n",
       "      <th>45975</th>\n",
       "      <td>2001-01-29</td>\n",
       "      <td>West Virginia</td>\n",
       "      <td>WV</td>\n",
       "      <td>3547.74</td>\n",
       "      <td>19253.58</td>\n",
       "      <td>1403.34</td>\n",
       "      <td>0.00</td>\n",
       "      <td>0.0</td>\n",
       "      <td>0.0</td>\n",
       "      <td>261876.40</td>\n",
       "      <td>...</td>\n",
       "      <td>0.0</td>\n",
       "      <td>0.0</td>\n",
       "      <td>91</td>\n",
       "      <td>24204.66</td>\n",
       "      <td>1852994.01</td>\n",
       "      <td>40.380952</td>\n",
       "      <td>19.880952</td>\n",
       "      <td>0.223333</td>\n",
       "      <td>5.672667</td>\n",
       "      <td>Ohio Valley</td>\n",
       "    </tr>\n",
       "    <tr>\n",
       "      <th>45976</th>\n",
       "      <td>2001-01-22</td>\n",
       "      <td>West Virginia</td>\n",
       "      <td>WV</td>\n",
       "      <td>5496.60</td>\n",
       "      <td>14287.99</td>\n",
       "      <td>3143.43</td>\n",
       "      <td>1276.64</td>\n",
       "      <td>0.0</td>\n",
       "      <td>0.0</td>\n",
       "      <td>443651.89</td>\n",
       "      <td>...</td>\n",
       "      <td>0.0</td>\n",
       "      <td>0.0</td>\n",
       "      <td>101</td>\n",
       "      <td>24204.66</td>\n",
       "      <td>1852994.00</td>\n",
       "      <td>35.142857</td>\n",
       "      <td>23.095238</td>\n",
       "      <td>1.165000</td>\n",
       "      <td>29.591000</td>\n",
       "      <td>Ohio Valley</td>\n",
       "    </tr>\n",
       "    <tr>\n",
       "      <th>45977</th>\n",
       "      <td>2001-01-15</td>\n",
       "      <td>West Virginia</td>\n",
       "      <td>WV</td>\n",
       "      <td>7763.39</td>\n",
       "      <td>12021.20</td>\n",
       "      <td>3143.44</td>\n",
       "      <td>1276.64</td>\n",
       "      <td>0.0</td>\n",
       "      <td>0.0</td>\n",
       "      <td>664684.83</td>\n",
       "      <td>...</td>\n",
       "      <td>0.0</td>\n",
       "      <td>0.0</td>\n",
       "      <td>91</td>\n",
       "      <td>24204.67</td>\n",
       "      <td>1852994.00</td>\n",
       "      <td>43.904762</td>\n",
       "      <td>24.714286</td>\n",
       "      <td>0.008333</td>\n",
       "      <td>0.211667</td>\n",
       "      <td>Ohio Valley</td>\n",
       "    </tr>\n",
       "    <tr>\n",
       "      <th>45978</th>\n",
       "      <td>2001-01-08</td>\n",
       "      <td>West Virginia</td>\n",
       "      <td>WV</td>\n",
       "      <td>7763.16</td>\n",
       "      <td>12391.29</td>\n",
       "      <td>3670.41</td>\n",
       "      <td>379.81</td>\n",
       "      <td>0.0</td>\n",
       "      <td>0.0</td>\n",
       "      <td>664647.42</td>\n",
       "      <td>...</td>\n",
       "      <td>0.0</td>\n",
       "      <td>0.0</td>\n",
       "      <td>86</td>\n",
       "      <td>24204.67</td>\n",
       "      <td>1852993.99</td>\n",
       "      <td>33.119048</td>\n",
       "      <td>21.452381</td>\n",
       "      <td>0.055000</td>\n",
       "      <td>1.397000</td>\n",
       "      <td>Ohio Valley</td>\n",
       "    </tr>\n",
       "    <tr>\n",
       "      <th>45979</th>\n",
       "      <td>2001-01-01</td>\n",
       "      <td>West Virginia</td>\n",
       "      <td>WV</td>\n",
       "      <td>7763.16</td>\n",
       "      <td>12391.31</td>\n",
       "      <td>3670.42</td>\n",
       "      <td>379.79</td>\n",
       "      <td>0.0</td>\n",
       "      <td>0.0</td>\n",
       "      <td>664647.42</td>\n",
       "      <td>...</td>\n",
       "      <td>0.0</td>\n",
       "      <td>0.0</td>\n",
       "      <td>86</td>\n",
       "      <td>24204.68</td>\n",
       "      <td>1852994.00</td>\n",
       "      <td>24.000000</td>\n",
       "      <td>18.333333</td>\n",
       "      <td>0.000000</td>\n",
       "      <td>0.000000</td>\n",
       "      <td>Ohio Valley</td>\n",
       "    </tr>\n",
       "  </tbody>\n",
       "</table>\n",
       "<p>7308 rows × 23 columns</p>\n",
       "</div>"
      ],
      "text/plain": [
       "        ValidEnd           Name state  area_none   area_d0  area_d1  area_d2  \\\n",
       "10451 2020-12-28       Illinois    IL   33454.57  15550.66  6236.48  1140.83   \n",
       "10452 2020-12-21       Illinois    IL   33454.57  15550.66  6236.48  1140.83   \n",
       "10453 2020-12-14       Illinois    IL   32814.14  16191.10  6236.48  1140.83   \n",
       "10454 2020-12-07       Illinois    IL   32794.13  18023.24  4619.65   945.53   \n",
       "10455 2020-11-30       Illinois    IL   28067.62  21244.44  6124.95   945.53   \n",
       "...          ...            ...   ...        ...       ...      ...      ...   \n",
       "45975 2001-01-29  West Virginia    WV    3547.74  19253.58  1403.34     0.00   \n",
       "45976 2001-01-22  West Virginia    WV    5496.60  14287.99  3143.43  1276.64   \n",
       "45977 2001-01-15  West Virginia    WV    7763.39  12021.20  3143.44  1276.64   \n",
       "45978 2001-01-08  West Virginia    WV    7763.16  12391.29  3670.41   379.81   \n",
       "45979 2001-01-01  West Virginia    WV    7763.16  12391.31  3670.42   379.79   \n",
       "\n",
       "       area_d3  area_d4  population_none  ...  population_d3  population_d4  \\\n",
       "10451      0.0      0.0       8875219.25  ...            0.0            0.0   \n",
       "10452      0.0      0.0       8875219.25  ...            0.0            0.0   \n",
       "10453      0.0      0.0       8839298.46  ...            0.0            0.0   \n",
       "10454      0.0      0.0       8650968.46  ...            0.0            0.0   \n",
       "10455      0.0      0.0       8375517.01  ...            0.0            0.0   \n",
       "...        ...      ...              ...  ...            ...            ...   \n",
       "45975      0.0      0.0        261876.40  ...            0.0            0.0   \n",
       "45976      0.0      0.0        443651.89  ...            0.0            0.0   \n",
       "45977      0.0      0.0        664684.83  ...            0.0            0.0   \n",
       "45978      0.0      0.0        664647.42  ...            0.0            0.0   \n",
       "45979      0.0      0.0        664647.42  ...            0.0            0.0   \n",
       "\n",
       "       DSCI  total_area  total_population   avg_tmax   avg_tmin  \\\n",
       "10451    56    56382.54       12847389.79  38.465714  17.117143   \n",
       "10452    56    56382.54       12847389.79  39.528571  26.411429   \n",
       "10453    57    56382.55       12847389.79  44.220000  29.057143   \n",
       "10454    53    56382.55       12847389.80  43.485714  24.954286   \n",
       "10455    64    56382.54       12847389.80  46.328571  32.782857   \n",
       "...     ...         ...               ...        ...        ...   \n",
       "45975    91    24204.66        1852994.01  40.380952  19.880952   \n",
       "45976   101    24204.66        1852994.00  35.142857  23.095238   \n",
       "45977    91    24204.67        1852994.00  43.904762  24.714286   \n",
       "45978    86    24204.67        1852993.99  33.119048  21.452381   \n",
       "45979    86    24204.68        1852994.00  24.000000  18.333333   \n",
       "\n",
       "       total_avg_prcp_inches  total_avg_prcp_mm  climate_regions  \n",
       "10451               0.108000           2.743200      Ohio Valley  \n",
       "10452               0.006000           0.152400      Ohio Valley  \n",
       "10453               1.026000          26.060400      Ohio Valley  \n",
       "10454               0.000000           0.000000      Ohio Valley  \n",
       "10455               1.082000          27.482800      Ohio Valley  \n",
       "...                      ...                ...              ...  \n",
       "45975               0.223333           5.672667      Ohio Valley  \n",
       "45976               1.165000          29.591000      Ohio Valley  \n",
       "45977               0.008333           0.211667      Ohio Valley  \n",
       "45978               0.055000           1.397000      Ohio Valley  \n",
       "45979               0.000000           0.000000      Ohio Valley  \n",
       "\n",
       "[7308 rows x 23 columns]"
      ]
     },
     "execution_count": 25,
     "metadata": {},
     "output_type": "execute_result"
    }
   ],
   "source": [
    "ohio_valley"
   ]
  },
  {
   "cell_type": "markdown",
   "metadata": {},
   "source": [
    "#### Julio's Code"
   ]
  },
  {
   "cell_type": "code",
   "execution_count": 26,
   "metadata": {},
   "outputs": [],
   "source": [
    "#julio's code\n",
    "west=west.groupby('ValidEnd').agg({'area_none':'sum','area_d0':'sum','area_d1':'sum','area_d2':'sum','area_d3':'sum','area_d4':'sum',\n",
    "                                                  'population_none':'sum','population_d0':'sum','population_d1':'sum','population_d2':'sum','population_d3':'sum',\n",
    "                                                  'population_d4':'sum','DSCI':'mean','total_population':'sum','total_area':'sum', 'avg_tmax': 'mean', 'avg_tmin': 'mean', 'total_avg_prcp_inches':'sum', 'total_avg_prcp_mm': 'sum'})"
   ]
  },
  {
   "cell_type": "code",
   "execution_count": 27,
   "metadata": {},
   "outputs": [
    {
     "data": {
      "text/html": [
       "<div>\n",
       "<style scoped>\n",
       "    .dataframe tbody tr th:only-of-type {\n",
       "        vertical-align: middle;\n",
       "    }\n",
       "\n",
       "    .dataframe tbody tr th {\n",
       "        vertical-align: top;\n",
       "    }\n",
       "\n",
       "    .dataframe thead th {\n",
       "        text-align: right;\n",
       "    }\n",
       "</style>\n",
       "<table border=\"1\" class=\"dataframe\">\n",
       "  <thead>\n",
       "    <tr style=\"text-align: right;\">\n",
       "      <th></th>\n",
       "      <th>area_none</th>\n",
       "      <th>area_d0</th>\n",
       "      <th>area_d1</th>\n",
       "      <th>area_d2</th>\n",
       "      <th>area_d3</th>\n",
       "      <th>area_d4</th>\n",
       "      <th>population_none</th>\n",
       "      <th>population_d0</th>\n",
       "      <th>population_d1</th>\n",
       "      <th>population_d2</th>\n",
       "      <th>population_d3</th>\n",
       "      <th>population_d4</th>\n",
       "      <th>DSCI</th>\n",
       "      <th>total_population</th>\n",
       "      <th>total_area</th>\n",
       "      <th>avg_tmax</th>\n",
       "      <th>avg_tmin</th>\n",
       "      <th>total_avg_prcp_inches</th>\n",
       "      <th>total_avg_prcp_mm</th>\n",
       "    </tr>\n",
       "    <tr>\n",
       "      <th>ValidEnd</th>\n",
       "      <th></th>\n",
       "      <th></th>\n",
       "      <th></th>\n",
       "      <th></th>\n",
       "      <th></th>\n",
       "      <th></th>\n",
       "      <th></th>\n",
       "      <th></th>\n",
       "      <th></th>\n",
       "      <th></th>\n",
       "      <th></th>\n",
       "      <th></th>\n",
       "      <th></th>\n",
       "      <th></th>\n",
       "      <th></th>\n",
       "      <th></th>\n",
       "      <th></th>\n",
       "      <th></th>\n",
       "      <th></th>\n",
       "    </tr>\n",
       "  </thead>\n",
       "  <tbody>\n",
       "    <tr>\n",
       "      <th>2001-01-01</th>\n",
       "      <td>268682.71</td>\n",
       "      <td>0.00</td>\n",
       "      <td>0.00</td>\n",
       "      <td>0.00</td>\n",
       "      <td>0.00</td>\n",
       "      <td>0.00</td>\n",
       "      <td>39954507.39</td>\n",
       "      <td>0.00</td>\n",
       "      <td>0.00</td>\n",
       "      <td>0.00</td>\n",
       "      <td>0.00</td>\n",
       "      <td>0.00</td>\n",
       "      <td>0.0</td>\n",
       "      <td>39954507.39</td>\n",
       "      <td>268682.71</td>\n",
       "      <td>55.340909</td>\n",
       "      <td>25.125000</td>\n",
       "      <td>0.000000</td>\n",
       "      <td>0.000000</td>\n",
       "    </tr>\n",
       "    <tr>\n",
       "      <th>2001-01-08</th>\n",
       "      <td>219867.53</td>\n",
       "      <td>48815.18</td>\n",
       "      <td>0.00</td>\n",
       "      <td>0.00</td>\n",
       "      <td>0.00</td>\n",
       "      <td>0.00</td>\n",
       "      <td>19148835.12</td>\n",
       "      <td>20805672.27</td>\n",
       "      <td>0.00</td>\n",
       "      <td>0.00</td>\n",
       "      <td>0.00</td>\n",
       "      <td>0.00</td>\n",
       "      <td>15.5</td>\n",
       "      <td>39954507.39</td>\n",
       "      <td>268682.71</td>\n",
       "      <td>56.907792</td>\n",
       "      <td>26.157468</td>\n",
       "      <td>0.573636</td>\n",
       "      <td>14.570364</td>\n",
       "    </tr>\n",
       "    <tr>\n",
       "      <th>2001-01-15</th>\n",
       "      <td>183369.34</td>\n",
       "      <td>85313.37</td>\n",
       "      <td>0.00</td>\n",
       "      <td>0.00</td>\n",
       "      <td>0.00</td>\n",
       "      <td>0.00</td>\n",
       "      <td>19147061.90</td>\n",
       "      <td>20807445.49</td>\n",
       "      <td>0.00</td>\n",
       "      <td>0.00</td>\n",
       "      <td>0.00</td>\n",
       "      <td>0.00</td>\n",
       "      <td>29.5</td>\n",
       "      <td>39954507.39</td>\n",
       "      <td>268682.71</td>\n",
       "      <td>45.813312</td>\n",
       "      <td>28.798701</td>\n",
       "      <td>1.895909</td>\n",
       "      <td>48.156091</td>\n",
       "    </tr>\n",
       "    <tr>\n",
       "      <th>2001-01-22</th>\n",
       "      <td>229132.27</td>\n",
       "      <td>39550.44</td>\n",
       "      <td>0.00</td>\n",
       "      <td>0.00</td>\n",
       "      <td>0.00</td>\n",
       "      <td>0.00</td>\n",
       "      <td>38419211.81</td>\n",
       "      <td>1535295.58</td>\n",
       "      <td>0.00</td>\n",
       "      <td>0.00</td>\n",
       "      <td>0.00</td>\n",
       "      <td>0.00</td>\n",
       "      <td>15.0</td>\n",
       "      <td>39954507.39</td>\n",
       "      <td>268682.71</td>\n",
       "      <td>47.125649</td>\n",
       "      <td>23.713312</td>\n",
       "      <td>0.072500</td>\n",
       "      <td>1.841500</td>\n",
       "    </tr>\n",
       "    <tr>\n",
       "      <th>2001-01-29</th>\n",
       "      <td>193653.20</td>\n",
       "      <td>75029.51</td>\n",
       "      <td>0.00</td>\n",
       "      <td>0.00</td>\n",
       "      <td>0.00</td>\n",
       "      <td>0.00</td>\n",
       "      <td>38179628.97</td>\n",
       "      <td>1774878.42</td>\n",
       "      <td>0.00</td>\n",
       "      <td>0.00</td>\n",
       "      <td>0.00</td>\n",
       "      <td>0.00</td>\n",
       "      <td>28.5</td>\n",
       "      <td>39954507.39</td>\n",
       "      <td>268682.71</td>\n",
       "      <td>46.303571</td>\n",
       "      <td>27.376623</td>\n",
       "      <td>1.511818</td>\n",
       "      <td>38.400182</td>\n",
       "    </tr>\n",
       "    <tr>\n",
       "      <th>...</th>\n",
       "      <td>...</td>\n",
       "      <td>...</td>\n",
       "      <td>...</td>\n",
       "      <td>...</td>\n",
       "      <td>...</td>\n",
       "      <td>...</td>\n",
       "      <td>...</td>\n",
       "      <td>...</td>\n",
       "      <td>...</td>\n",
       "      <td>...</td>\n",
       "      <td>...</td>\n",
       "      <td>...</td>\n",
       "      <td>...</td>\n",
       "      <td>...</td>\n",
       "      <td>...</td>\n",
       "      <td>...</td>\n",
       "      <td>...</td>\n",
       "      <td>...</td>\n",
       "      <td>...</td>\n",
       "    </tr>\n",
       "    <tr>\n",
       "      <th>2020-11-30</th>\n",
       "      <td>5542.04</td>\n",
       "      <td>34654.88</td>\n",
       "      <td>60303.12</td>\n",
       "      <td>60478.93</td>\n",
       "      <td>88304.37</td>\n",
       "      <td>19399.37</td>\n",
       "      <td>5547783.11</td>\n",
       "      <td>14970129.93</td>\n",
       "      <td>5063039.47</td>\n",
       "      <td>10253169.73</td>\n",
       "      <td>2805310.34</td>\n",
       "      <td>1315074.81</td>\n",
       "      <td>304.5</td>\n",
       "      <td>39954507.39</td>\n",
       "      <td>268682.71</td>\n",
       "      <td>56.321537</td>\n",
       "      <td>27.510931</td>\n",
       "      <td>0.078106</td>\n",
       "      <td>1.983894</td>\n",
       "    </tr>\n",
       "    <tr>\n",
       "      <th>2020-12-07</th>\n",
       "      <td>5473.73</td>\n",
       "      <td>34723.19</td>\n",
       "      <td>60303.12</td>\n",
       "      <td>60312.51</td>\n",
       "      <td>84406.25</td>\n",
       "      <td>23463.92</td>\n",
       "      <td>5523003.27</td>\n",
       "      <td>14994909.77</td>\n",
       "      <td>5063039.47</td>\n",
       "      <td>10252697.32</td>\n",
       "      <td>2798285.43</td>\n",
       "      <td>1322572.14</td>\n",
       "      <td>306.5</td>\n",
       "      <td>39954507.40</td>\n",
       "      <td>268682.72</td>\n",
       "      <td>57.441558</td>\n",
       "      <td>25.848864</td>\n",
       "      <td>0.075455</td>\n",
       "      <td>1.916545</td>\n",
       "    </tr>\n",
       "    <tr>\n",
       "      <th>2020-12-14</th>\n",
       "      <td>0.00</td>\n",
       "      <td>7958.10</td>\n",
       "      <td>54374.95</td>\n",
       "      <td>93821.89</td>\n",
       "      <td>89063.85</td>\n",
       "      <td>23463.92</td>\n",
       "      <td>0.00</td>\n",
       "      <td>6801658.18</td>\n",
       "      <td>16499875.50</td>\n",
       "      <td>12485483.68</td>\n",
       "      <td>2844917.89</td>\n",
       "      <td>1322572.14</td>\n",
       "      <td>333.0</td>\n",
       "      <td>39954507.39</td>\n",
       "      <td>268682.71</td>\n",
       "      <td>52.524567</td>\n",
       "      <td>28.696212</td>\n",
       "      <td>0.907500</td>\n",
       "      <td>23.050500</td>\n",
       "    </tr>\n",
       "    <tr>\n",
       "      <th>2020-12-21</th>\n",
       "      <td>0.00</td>\n",
       "      <td>7958.10</td>\n",
       "      <td>42367.07</td>\n",
       "      <td>84858.59</td>\n",
       "      <td>105442.72</td>\n",
       "      <td>28056.24</td>\n",
       "      <td>0.00</td>\n",
       "      <td>6801658.18</td>\n",
       "      <td>14056405.16</td>\n",
       "      <td>13318555.30</td>\n",
       "      <td>3622545.92</td>\n",
       "      <td>2155342.83</td>\n",
       "      <td>345.5</td>\n",
       "      <td>39954507.39</td>\n",
       "      <td>268682.72</td>\n",
       "      <td>53.556006</td>\n",
       "      <td>30.579545</td>\n",
       "      <td>0.725455</td>\n",
       "      <td>18.426545</td>\n",
       "    </tr>\n",
       "    <tr>\n",
       "      <th>2020-12-28</th>\n",
       "      <td>0.00</td>\n",
       "      <td>7958.10</td>\n",
       "      <td>42368.85</td>\n",
       "      <td>84856.81</td>\n",
       "      <td>105442.72</td>\n",
       "      <td>28056.24</td>\n",
       "      <td>0.00</td>\n",
       "      <td>6801657.29</td>\n",
       "      <td>14056474.71</td>\n",
       "      <td>13318486.65</td>\n",
       "      <td>3622545.92</td>\n",
       "      <td>2155342.83</td>\n",
       "      <td>345.5</td>\n",
       "      <td>39954507.40</td>\n",
       "      <td>268682.72</td>\n",
       "      <td>50.110714</td>\n",
       "      <td>28.344102</td>\n",
       "      <td>0.749848</td>\n",
       "      <td>19.046152</td>\n",
       "    </tr>\n",
       "  </tbody>\n",
       "</table>\n",
       "<p>1044 rows × 19 columns</p>\n",
       "</div>"
      ],
      "text/plain": [
       "            area_none   area_d0   area_d1   area_d2    area_d3   area_d4  \\\n",
       "ValidEnd                                                                   \n",
       "2001-01-01  268682.71      0.00      0.00      0.00       0.00      0.00   \n",
       "2001-01-08  219867.53  48815.18      0.00      0.00       0.00      0.00   \n",
       "2001-01-15  183369.34  85313.37      0.00      0.00       0.00      0.00   \n",
       "2001-01-22  229132.27  39550.44      0.00      0.00       0.00      0.00   \n",
       "2001-01-29  193653.20  75029.51      0.00      0.00       0.00      0.00   \n",
       "...               ...       ...       ...       ...        ...       ...   \n",
       "2020-11-30    5542.04  34654.88  60303.12  60478.93   88304.37  19399.37   \n",
       "2020-12-07    5473.73  34723.19  60303.12  60312.51   84406.25  23463.92   \n",
       "2020-12-14       0.00   7958.10  54374.95  93821.89   89063.85  23463.92   \n",
       "2020-12-21       0.00   7958.10  42367.07  84858.59  105442.72  28056.24   \n",
       "2020-12-28       0.00   7958.10  42368.85  84856.81  105442.72  28056.24   \n",
       "\n",
       "            population_none  population_d0  population_d1  population_d2  \\\n",
       "ValidEnd                                                                   \n",
       "2001-01-01      39954507.39           0.00           0.00           0.00   \n",
       "2001-01-08      19148835.12    20805672.27           0.00           0.00   \n",
       "2001-01-15      19147061.90    20807445.49           0.00           0.00   \n",
       "2001-01-22      38419211.81     1535295.58           0.00           0.00   \n",
       "2001-01-29      38179628.97     1774878.42           0.00           0.00   \n",
       "...                     ...            ...            ...            ...   \n",
       "2020-11-30       5547783.11    14970129.93     5063039.47    10253169.73   \n",
       "2020-12-07       5523003.27    14994909.77     5063039.47    10252697.32   \n",
       "2020-12-14             0.00     6801658.18    16499875.50    12485483.68   \n",
       "2020-12-21             0.00     6801658.18    14056405.16    13318555.30   \n",
       "2020-12-28             0.00     6801657.29    14056474.71    13318486.65   \n",
       "\n",
       "            population_d3  population_d4   DSCI  total_population  total_area  \\\n",
       "ValidEnd                                                                        \n",
       "2001-01-01           0.00           0.00    0.0       39954507.39   268682.71   \n",
       "2001-01-08           0.00           0.00   15.5       39954507.39   268682.71   \n",
       "2001-01-15           0.00           0.00   29.5       39954507.39   268682.71   \n",
       "2001-01-22           0.00           0.00   15.0       39954507.39   268682.71   \n",
       "2001-01-29           0.00           0.00   28.5       39954507.39   268682.71   \n",
       "...                   ...            ...    ...               ...         ...   \n",
       "2020-11-30     2805310.34     1315074.81  304.5       39954507.39   268682.71   \n",
       "2020-12-07     2798285.43     1322572.14  306.5       39954507.40   268682.72   \n",
       "2020-12-14     2844917.89     1322572.14  333.0       39954507.39   268682.71   \n",
       "2020-12-21     3622545.92     2155342.83  345.5       39954507.39   268682.72   \n",
       "2020-12-28     3622545.92     2155342.83  345.5       39954507.40   268682.72   \n",
       "\n",
       "             avg_tmax   avg_tmin  total_avg_prcp_inches  total_avg_prcp_mm  \n",
       "ValidEnd                                                                    \n",
       "2001-01-01  55.340909  25.125000               0.000000           0.000000  \n",
       "2001-01-08  56.907792  26.157468               0.573636          14.570364  \n",
       "2001-01-15  45.813312  28.798701               1.895909          48.156091  \n",
       "2001-01-22  47.125649  23.713312               0.072500           1.841500  \n",
       "2001-01-29  46.303571  27.376623               1.511818          38.400182  \n",
       "...               ...        ...                    ...                ...  \n",
       "2020-11-30  56.321537  27.510931               0.078106           1.983894  \n",
       "2020-12-07  57.441558  25.848864               0.075455           1.916545  \n",
       "2020-12-14  52.524567  28.696212               0.907500          23.050500  \n",
       "2020-12-21  53.556006  30.579545               0.725455          18.426545  \n",
       "2020-12-28  50.110714  28.344102               0.749848          19.046152  \n",
       "\n",
       "[1044 rows x 19 columns]"
      ]
     },
     "execution_count": 27,
     "metadata": {},
     "output_type": "execute_result"
    }
   ],
   "source": [
    "west"
   ]
  },
  {
   "cell_type": "markdown",
   "metadata": {},
   "source": [
    "#### Son's Code"
   ]
  },
  {
   "cell_type": "code",
   "execution_count": null,
   "metadata": {},
   "outputs": [],
   "source": [
    "#imports\n",
    "from tensorflow.keras.models import Sequential\n",
    "from tensorflow.keras.layers import * \n",
    "from tensorflow.keras.layers import Conv1D\n",
    "from tensorflow.keras.callbacks import ModelCheckpoint\n",
    "from tensorflow.keras.losses import MeanSquaredError\n",
    "from tensorflow.keras.metrics import RootMeanSquaredError\n",
    "from tensorflow.keras.optimizers import Adam\n",
    "from tensorflow.keras.models import load_model\n"
   ]
  },
  {
   "cell_type": "code",
   "execution_count": 28,
   "metadata": {},
   "outputs": [],
   "source": [
    "#plotting Drought history\n",
    "def plot_dsci(region, name):\n",
    "    region['DSCI'].plot(figsize = (10, 8))\n",
    "    plt.xlabel(\"Year\")\n",
    "    plt.ylabel(\"DSCI (Severity Level)\")\n",
    "    plt.title(f'{name} Region Drought Severity 2001-2020')\n",
    "    plt.savefig('fig.png')"
   ]
  },
  {
   "cell_type": "code",
   "execution_count": 29,
   "metadata": {},
   "outputs": [
    {
     "data": {
      "image/png": "[encoded data removed]",
      "text/plain": [
       "<Figure size 720x576 with 1 Axes>"
      ]
     },
     "metadata": {
      "needs_background": "light"
     },
     "output_type": "display_data"
    }
   ],
   "source": [
    "#looking at west drought severity\n",
    "plot_dsci(west, 'West')"
   ]
  },
  {
   "cell_type": "code",
   "execution_count": 30,
   "metadata": {},
   "outputs": [],
   "source": [
    "#creating function to create window size and DF input. window size or kernal size \n",
    "#is used by NN to make predictions on next iteration.\n",
    "# Code modified from Greg Hogg https://www.youtube.com/watch?v=kGdbPnMCdOg\n",
    "def df_to_X_y(df, windowsize=5):\n",
    "    df_as_np = df.to_numpy()\n",
    "    X = []\n",
    "    y = []\n",
    "    for i in range(len(df_as_np)-windowsize):\n",
    "        row = [[a] for a in df_as_np[i:i+5]]\n",
    "        X.append(row)\n",
    "        label = df_as_np[i+5]\n",
    "        y.append(label)\n",
    "    return np.array(X), np.array(y)"
   ]
  },
  {
   "cell_type": "code",
   "execution_count": 31,
   "metadata": {},
   "outputs": [
    {
     "data": {
      "text/plain": [
       "((1039, 5, 1), (1039,))"
      ]
     },
     "execution_count": 31,
     "metadata": {},
     "output_type": "execute_result"
    }
   ],
   "source": [
    "WINDOW_SIZE = 5\n",
    "X, y = df_to_X_y(west['DSCI'], WINDOW_SIZE)\n",
    "X.shape, y.shape"
   ]
  },
  {
   "cell_type": "code",
   "execution_count": 32,
   "metadata": {},
   "outputs": [],
   "source": [
    "#Creating training, val, and test set as shown By Hogg. https://www.youtube.com/watch?v=kGdbPnMCdOg\n",
    "X_train, y_train = X[:750], y[:750]\n",
    "X_val, y_val = X[750:850], y[750:850]\n",
    "X_test, y_test = X[850:], y[850:]"
   ]
  },
  {
   "cell_type": "code",
   "execution_count": 33,
   "metadata": {},
   "outputs": [
    {
     "name": "stdout",
     "output_type": "stream",
     "text": [
      "Model: \"sequential\"\n",
      "_________________________________________________________________\n",
      "Layer (type)                 Output Shape              Param #   \n",
      "=================================================================\n",
      "lstm (LSTM)                  (None, 64)                16896     \n",
      "_________________________________________________________________\n",
      "dense (Dense)                (None, 8)                 520       \n",
      "_________________________________________________________________\n",
      "dense_1 (Dense)              (None, 1)                 9         \n",
      "=================================================================\n",
      "Total params: 17,425\n",
      "Trainable params: 17,425\n",
      "Non-trainable params: 0\n",
      "_________________________________________________________________\n"
     ]
    }
   ],
   "source": [
    "model1 = Sequential()\n",
    "model1.add(InputLayer((5,1)))\n",
    "model1.add(LSTM(64))\n",
    "model1.add(Dense(8, 'relu'))\n",
    "model1.add(Dense(1, 'linear'))\n",
    "model1.summary()"
   ]
  },
  {
   "cell_type": "code",
   "execution_count": 34,
   "metadata": {},
   "outputs": [],
   "source": [
    "#Model checkpoint, saving best model. \n",
    "#Loss function is measured on MSE and metrics used is RMSE\n",
    "cp = ModelCheckpoint('model1/', save_best_only=True)\n",
    "model1.compile(loss=MeanSquaredError(), optimizer = Adam(learning_rate=0.005), metrics=[RootMeanSquaredError()])"
   ]
  },
  {
   "cell_type": "code",
   "execution_count": 35,
   "metadata": {},
   "outputs": [
    {
     "name": "stdout",
     "output_type": "stream",
     "text": [
      "Epoch 1/10\n",
      "24/24 [==============================] - 8s 92ms/step - loss: 42498.3711 - root_mean_squared_error: 206.1513 - val_loss: 67200.1016 - val_root_mean_squared_error: 259.2298\n"
     ]
    },
    {
     "name": "stderr",
     "output_type": "stream",
     "text": [
      "WARNING:absl:Found untraced functions such as lstm_cell_layer_call_fn, lstm_cell_layer_call_and_return_conditional_losses, lstm_cell_layer_call_fn, lstm_cell_layer_call_and_return_conditional_losses, lstm_cell_layer_call_and_return_conditional_losses while saving (showing 5 of 5). These functions will not be directly callable after loading.\n"
     ]
    },
    {
     "name": "stdout",
     "output_type": "stream",
     "text": [
      "INFO:tensorflow:Assets written to: model1/assets\n"
     ]
    },
    {
     "name": "stderr",
     "output_type": "stream",
     "text": [
      "INFO:tensorflow:Assets written to: model1/assets\n"
     ]
    },
    {
     "name": "stdout",
     "output_type": "stream",
     "text": [
      "Epoch 2/10\n",
      "24/24 [==============================] - 1s 21ms/step - loss: 36234.9883 - root_mean_squared_error: 190.3549 - val_loss: 55040.3008 - val_root_mean_squared_error: 234.6067\n"
     ]
    },
    {
     "name": "stderr",
     "output_type": "stream",
     "text": [
      "WARNING:absl:Found untraced functions such as lstm_cell_layer_call_fn, lstm_cell_layer_call_and_return_conditional_losses, lstm_cell_layer_call_fn, lstm_cell_layer_call_and_return_conditional_losses, lstm_cell_layer_call_and_return_conditional_losses while saving (showing 5 of 5). These functions will not be directly callable after loading.\n"
     ]
    },
    {
     "name": "stdout",
     "output_type": "stream",
     "text": [
      "INFO:tensorflow:Assets written to: model1/assets\n"
     ]
    },
    {
     "name": "stderr",
     "output_type": "stream",
     "text": [
      "INFO:tensorflow:Assets written to: model1/assets\n"
     ]
    },
    {
     "name": "stdout",
     "output_type": "stream",
     "text": [
      "Epoch 3/10\n",
      "24/24 [==============================] - 0s 20ms/step - loss: 28163.0938 - root_mean_squared_error: 167.8186 - val_loss: 42911.2266 - val_root_mean_squared_error: 207.1503\n"
     ]
    },
    {
     "name": "stderr",
     "output_type": "stream",
     "text": [
      "WARNING:absl:Found untraced functions such as lstm_cell_layer_call_fn, lstm_cell_layer_call_and_return_conditional_losses, lstm_cell_layer_call_fn, lstm_cell_layer_call_and_return_conditional_losses, lstm_cell_layer_call_and_return_conditional_losses while saving (showing 5 of 5). These functions will not be directly callable after loading.\n"
     ]
    },
    {
     "name": "stdout",
     "output_type": "stream",
     "text": [
      "INFO:tensorflow:Assets written to: model1/assets\n"
     ]
    },
    {
     "name": "stderr",
     "output_type": "stream",
     "text": [
      "INFO:tensorflow:Assets written to: model1/assets\n"
     ]
    },
    {
     "name": "stdout",
     "output_type": "stream",
     "text": [
      "Epoch 4/10\n",
      "24/24 [==============================] - 0s 18ms/step - loss: 19985.0566 - root_mean_squared_error: 141.3685 - val_loss: 30697.8242 - val_root_mean_squared_error: 175.2079\n"
     ]
    },
    {
     "name": "stderr",
     "output_type": "stream",
     "text": [
      "WARNING:absl:Found untraced functions such as lstm_cell_layer_call_fn, lstm_cell_layer_call_and_return_conditional_losses, lstm_cell_layer_call_fn, lstm_cell_layer_call_and_return_conditional_losses, lstm_cell_layer_call_and_return_conditional_losses while saving (showing 5 of 5). These functions will not be directly callable after loading.\n"
     ]
    },
    {
     "name": "stdout",
     "output_type": "stream",
     "text": [
      "INFO:tensorflow:Assets written to: model1/assets\n"
     ]
    },
    {
     "name": "stderr",
     "output_type": "stream",
     "text": [
      "INFO:tensorflow:Assets written to: model1/assets\n"
     ]
    },
    {
     "name": "stdout",
     "output_type": "stream",
     "text": [
      "Epoch 5/10\n",
      "24/24 [==============================] - 0s 21ms/step - loss: 12638.1270 - root_mean_squared_error: 112.4194 - val_loss: 20123.8184 - val_root_mean_squared_error: 141.8584\n"
     ]
    },
    {
     "name": "stderr",
     "output_type": "stream",
     "text": [
      "WARNING:absl:Found untraced functions such as lstm_cell_layer_call_fn, lstm_cell_layer_call_and_return_conditional_losses, lstm_cell_layer_call_fn, lstm_cell_layer_call_and_return_conditional_losses, lstm_cell_layer_call_and_return_conditional_losses while saving (showing 5 of 5). These functions will not be directly callable after loading.\n"
     ]
    },
    {
     "name": "stdout",
     "output_type": "stream",
     "text": [
      "INFO:tensorflow:Assets written to: model1/assets\n"
     ]
    },
    {
     "name": "stderr",
     "output_type": "stream",
     "text": [
      "INFO:tensorflow:Assets written to: model1/assets\n"
     ]
    },
    {
     "name": "stdout",
     "output_type": "stream",
     "text": [
      "Epoch 6/10\n",
      "24/24 [==============================] - 1s 27ms/step - loss: 7300.5332 - root_mean_squared_error: 85.4432 - val_loss: 12593.8525 - val_root_mean_squared_error: 112.2223\n"
     ]
    },
    {
     "name": "stderr",
     "output_type": "stream",
     "text": [
      "WARNING:absl:Found untraced functions such as lstm_cell_layer_call_fn, lstm_cell_layer_call_and_return_conditional_losses, lstm_cell_layer_call_fn, lstm_cell_layer_call_and_return_conditional_losses, lstm_cell_layer_call_and_return_conditional_losses while saving (showing 5 of 5). These functions will not be directly callable after loading.\n"
     ]
    },
    {
     "name": "stdout",
     "output_type": "stream",
     "text": [
      "INFO:tensorflow:Assets written to: model1/assets\n"
     ]
    },
    {
     "name": "stderr",
     "output_type": "stream",
     "text": [
      "INFO:tensorflow:Assets written to: model1/assets\n"
     ]
    },
    {
     "name": "stdout",
     "output_type": "stream",
     "text": [
      "Epoch 7/10\n",
      "24/24 [==============================] - 0s 17ms/step - loss: 4304.1914 - root_mean_squared_error: 65.6063 - val_loss: 7942.3545 - val_root_mean_squared_error: 89.1199\n"
     ]
    },
    {
     "name": "stderr",
     "output_type": "stream",
     "text": [
      "WARNING:absl:Found untraced functions such as lstm_cell_layer_call_fn, lstm_cell_layer_call_and_return_conditional_losses, lstm_cell_layer_call_fn, lstm_cell_layer_call_and_return_conditional_losses, lstm_cell_layer_call_and_return_conditional_losses while saving (showing 5 of 5). These functions will not be directly callable after loading.\n"
     ]
    },
    {
     "name": "stdout",
     "output_type": "stream",
     "text": [
      "INFO:tensorflow:Assets written to: model1/assets\n"
     ]
    },
    {
     "name": "stderr",
     "output_type": "stream",
     "text": [
      "INFO:tensorflow:Assets written to: model1/assets\n"
     ]
    },
    {
     "name": "stdout",
     "output_type": "stream",
     "text": [
      "Epoch 8/10\n",
      "24/24 [==============================] - 0s 17ms/step - loss: 2667.7717 - root_mean_squared_error: 51.6505 - val_loss: 5295.0117 - val_root_mean_squared_error: 72.7668\n"
     ]
    },
    {
     "name": "stderr",
     "output_type": "stream",
     "text": [
      "WARNING:absl:Found untraced functions such as lstm_cell_layer_call_fn, lstm_cell_layer_call_and_return_conditional_losses, lstm_cell_layer_call_fn, lstm_cell_layer_call_and_return_conditional_losses, lstm_cell_layer_call_and_return_conditional_losses while saving (showing 5 of 5). These functions will not be directly callable after loading.\n"
     ]
    },
    {
     "name": "stdout",
     "output_type": "stream",
     "text": [
      "INFO:tensorflow:Assets written to: model1/assets\n"
     ]
    },
    {
     "name": "stderr",
     "output_type": "stream",
     "text": [
      "INFO:tensorflow:Assets written to: model1/assets\n"
     ]
    },
    {
     "name": "stdout",
     "output_type": "stream",
     "text": [
      "Epoch 9/10\n",
      "24/24 [==============================] - 1s 34ms/step - loss: 1770.9662 - root_mean_squared_error: 42.0828 - val_loss: 3436.5889 - val_root_mean_squared_error: 58.6224\n"
     ]
    },
    {
     "name": "stderr",
     "output_type": "stream",
     "text": [
      "WARNING:absl:Found untraced functions such as lstm_cell_layer_call_fn, lstm_cell_layer_call_and_return_conditional_losses, lstm_cell_layer_call_fn, lstm_cell_layer_call_and_return_conditional_losses, lstm_cell_layer_call_and_return_conditional_losses while saving (showing 5 of 5). These functions will not be directly callable after loading.\n"
     ]
    },
    {
     "name": "stdout",
     "output_type": "stream",
     "text": [
      "INFO:tensorflow:Assets written to: model1/assets\n"
     ]
    },
    {
     "name": "stderr",
     "output_type": "stream",
     "text": [
      "INFO:tensorflow:Assets written to: model1/assets\n"
     ]
    },
    {
     "name": "stdout",
     "output_type": "stream",
     "text": [
      "Epoch 10/10\n",
      "24/24 [==============================] - 0s 8ms/step - loss: 1216.6454 - root_mean_squared_error: 34.8804 - val_loss: 2282.7512 - val_root_mean_squared_error: 47.7781\n"
     ]
    },
    {
     "name": "stderr",
     "output_type": "stream",
     "text": [
      "WARNING:absl:Found untraced functions such as lstm_cell_layer_call_fn, lstm_cell_layer_call_and_return_conditional_losses, lstm_cell_layer_call_fn, lstm_cell_layer_call_and_return_conditional_losses, lstm_cell_layer_call_and_return_conditional_losses while saving (showing 5 of 5). These functions will not be directly callable after loading.\n"
     ]
    },
    {
     "name": "stdout",
     "output_type": "stream",
     "text": [
      "INFO:tensorflow:Assets written to: model1/assets\n"
     ]
    },
    {
     "name": "stderr",
     "output_type": "stream",
     "text": [
      "INFO:tensorflow:Assets written to: model1/assets\n"
     ]
    }
   ],
   "source": [
    "#Saving history to view loss\n",
    "history = (model1.fit(X_train, y_train, validation_data=(X_val, y_val), epochs=10, callbacks=[cp]))"
   ]
  },
  {
   "cell_type": "code",
   "execution_count": 36,
   "metadata": {},
   "outputs": [
    {
     "data": {
      "text/html": [
       "<div>\n",
       "<style scoped>\n",
       "    .dataframe tbody tr th:only-of-type {\n",
       "        vertical-align: middle;\n",
       "    }\n",
       "\n",
       "    .dataframe tbody tr th {\n",
       "        vertical-align: top;\n",
       "    }\n",
       "\n",
       "    .dataframe thead th {\n",
       "        text-align: right;\n",
       "    }\n",
       "</style>\n",
       "<table border=\"1\" class=\"dataframe\">\n",
       "  <thead>\n",
       "    <tr style=\"text-align: right;\">\n",
       "      <th></th>\n",
       "      <th>loss</th>\n",
       "      <th>root_mean_squared_error</th>\n",
       "      <th>val_loss</th>\n",
       "      <th>val_root_mean_squared_error</th>\n",
       "    </tr>\n",
       "  </thead>\n",
       "  <tbody>\n",
       "    <tr>\n",
       "      <th>0</th>\n",
       "      <td>42498.371094</td>\n",
       "      <td>206.151337</td>\n",
       "      <td>67200.101562</td>\n",
       "      <td>259.229828</td>\n",
       "    </tr>\n",
       "    <tr>\n",
       "      <th>1</th>\n",
       "      <td>36234.988281</td>\n",
       "      <td>190.354904</td>\n",
       "      <td>55040.300781</td>\n",
       "      <td>234.606689</td>\n",
       "    </tr>\n",
       "    <tr>\n",
       "      <th>2</th>\n",
       "      <td>28163.093750</td>\n",
       "      <td>167.818634</td>\n",
       "      <td>42911.226562</td>\n",
       "      <td>207.150253</td>\n",
       "    </tr>\n",
       "    <tr>\n",
       "      <th>3</th>\n",
       "      <td>19985.056641</td>\n",
       "      <td>141.368515</td>\n",
       "      <td>30697.824219</td>\n",
       "      <td>175.207947</td>\n",
       "    </tr>\n",
       "    <tr>\n",
       "      <th>4</th>\n",
       "      <td>12638.126953</td>\n",
       "      <td>112.419426</td>\n",
       "      <td>20123.818359</td>\n",
       "      <td>141.858444</td>\n",
       "    </tr>\n",
       "    <tr>\n",
       "      <th>5</th>\n",
       "      <td>7300.533203</td>\n",
       "      <td>85.443161</td>\n",
       "      <td>12593.852539</td>\n",
       "      <td>112.222336</td>\n",
       "    </tr>\n",
       "    <tr>\n",
       "      <th>6</th>\n",
       "      <td>4304.191406</td>\n",
       "      <td>65.606339</td>\n",
       "      <td>7942.354492</td>\n",
       "      <td>89.119888</td>\n",
       "    </tr>\n",
       "    <tr>\n",
       "      <th>7</th>\n",
       "      <td>2667.771729</td>\n",
       "      <td>51.650478</td>\n",
       "      <td>5295.011719</td>\n",
       "      <td>72.766830</td>\n",
       "    </tr>\n",
       "    <tr>\n",
       "      <th>8</th>\n",
       "      <td>1770.966187</td>\n",
       "      <td>42.082848</td>\n",
       "      <td>3436.588867</td>\n",
       "      <td>58.622425</td>\n",
       "    </tr>\n",
       "    <tr>\n",
       "      <th>9</th>\n",
       "      <td>1216.645386</td>\n",
       "      <td>34.880444</td>\n",
       "      <td>2282.751221</td>\n",
       "      <td>47.778145</td>\n",
       "    </tr>\n",
       "  </tbody>\n",
       "</table>\n",
       "</div>"
      ],
      "text/plain": [
       "           loss  root_mean_squared_error      val_loss  \\\n",
       "0  42498.371094               206.151337  67200.101562   \n",
       "1  36234.988281               190.354904  55040.300781   \n",
       "2  28163.093750               167.818634  42911.226562   \n",
       "3  19985.056641               141.368515  30697.824219   \n",
       "4  12638.126953               112.419426  20123.818359   \n",
       "5   7300.533203                85.443161  12593.852539   \n",
       "6   4304.191406                65.606339   7942.354492   \n",
       "7   2667.771729                51.650478   5295.011719   \n",
       "8   1770.966187                42.082848   3436.588867   \n",
       "9   1216.645386                34.880444   2282.751221   \n",
       "\n",
       "   val_root_mean_squared_error  \n",
       "0                   259.229828  \n",
       "1                   234.606689  \n",
       "2                   207.150253  \n",
       "3                   175.207947  \n",
       "4                   141.858444  \n",
       "5                   112.222336  \n",
       "6                    89.119888  \n",
       "7                    72.766830  \n",
       "8                    58.622425  \n",
       "9                    47.778145  "
      ]
     },
     "execution_count": 36,
     "metadata": {},
     "output_type": "execute_result"
    }
   ],
   "source": [
    "#Creating DF for loss history\n",
    "history_df = pd.DataFrame(history.history)\n",
    "history_df"
   ]
  },
  {
   "cell_type": "code",
   "execution_count": 37,
   "metadata": {},
   "outputs": [
    {
     "data": {
      "image/png": "[encoded data removed]",
      "text/plain": [
       "<Figure size 432x288 with 1 Axes>"
      ]
     },
     "metadata": {
      "needs_background": "light"
     },
     "output_type": "display_data"
    }
   ],
   "source": [
    "#plotting loss\n",
    "history_df.filter(like='loss').plot()\n",
    "plt.title(\"LSTM MSE\", fontsize=16)\n",
    "plt.legend(loc='upper left')\n",
    "plt.savefig('fig2.png')"
   ]
  },
  {
   "cell_type": "code",
   "execution_count": 38,
   "metadata": {},
   "outputs": [],
   "source": [
    "#loading in best model from memory.\n",
    "model1 = load_model(\"model1/\")"
   ]
  },
  {
   "cell_type": "code",
   "execution_count": 39,
   "metadata": {},
   "outputs": [
    {
     "data": {
      "text/html": [
       "<div>\n",
       "<style scoped>\n",
       "    .dataframe tbody tr th:only-of-type {\n",
       "        vertical-align: middle;\n",
       "    }\n",
       "\n",
       "    .dataframe tbody tr th {\n",
       "        vertical-align: top;\n",
       "    }\n",
       "\n",
       "    .dataframe thead th {\n",
       "        text-align: right;\n",
       "    }\n",
       "</style>\n",
       "<table border=\"1\" class=\"dataframe\">\n",
       "  <thead>\n",
       "    <tr style=\"text-align: right;\">\n",
       "      <th></th>\n",
       "      <th>Train Predictions</th>\n",
       "      <th>Actuals</th>\n",
       "    </tr>\n",
       "  </thead>\n",
       "  <tbody>\n",
       "    <tr>\n",
       "      <th>0</th>\n",
       "      <td>23.394289</td>\n",
       "      <td>25.5</td>\n",
       "    </tr>\n",
       "    <tr>\n",
       "      <th>1</th>\n",
       "      <td>30.314129</td>\n",
       "      <td>34.0</td>\n",
       "    </tr>\n",
       "    <tr>\n",
       "      <th>2</th>\n",
       "      <td>44.168831</td>\n",
       "      <td>37.0</td>\n",
       "    </tr>\n",
       "    <tr>\n",
       "      <th>3</th>\n",
       "      <td>46.709217</td>\n",
       "      <td>32.5</td>\n",
       "    </tr>\n",
       "    <tr>\n",
       "      <th>4</th>\n",
       "      <td>34.624741</td>\n",
       "      <td>36.0</td>\n",
       "    </tr>\n",
       "    <tr>\n",
       "      <th>...</th>\n",
       "      <td>...</td>\n",
       "      <td>...</td>\n",
       "    </tr>\n",
       "    <tr>\n",
       "      <th>745</th>\n",
       "      <td>278.894440</td>\n",
       "      <td>379.5</td>\n",
       "    </tr>\n",
       "    <tr>\n",
       "      <th>746</th>\n",
       "      <td>278.894470</td>\n",
       "      <td>380.0</td>\n",
       "    </tr>\n",
       "    <tr>\n",
       "      <th>747</th>\n",
       "      <td>278.894623</td>\n",
       "      <td>380.5</td>\n",
       "    </tr>\n",
       "    <tr>\n",
       "      <th>748</th>\n",
       "      <td>278.894836</td>\n",
       "      <td>382.0</td>\n",
       "    </tr>\n",
       "    <tr>\n",
       "      <th>749</th>\n",
       "      <td>278.895355</td>\n",
       "      <td>378.5</td>\n",
       "    </tr>\n",
       "  </tbody>\n",
       "</table>\n",
       "<p>750 rows × 2 columns</p>\n",
       "</div>"
      ],
      "text/plain": [
       "     Train Predictions  Actuals\n",
       "0            23.394289     25.5\n",
       "1            30.314129     34.0\n",
       "2            44.168831     37.0\n",
       "3            46.709217     32.5\n",
       "4            34.624741     36.0\n",
       "..                 ...      ...\n",
       "745         278.894440    379.5\n",
       "746         278.894470    380.0\n",
       "747         278.894623    380.5\n",
       "748         278.894836    382.0\n",
       "749         278.895355    378.5\n",
       "\n",
       "[750 rows x 2 columns]"
      ]
     },
     "execution_count": 39,
     "metadata": {},
     "output_type": "execute_result"
    }
   ],
   "source": [
    "#Predictions\n",
    "train_predictions = model1.predict(X_train).flatten()\n",
    "train_results = pd.DataFrame(data={'Train Predictions':train_predictions, 'Actuals': y_train})\n",
    "train_results"
   ]
  },
  {
   "cell_type": "code",
   "execution_count": 40,
   "metadata": {},
   "outputs": [
    {
     "data": {
      "image/png": "[encoded data removed]",
      "text/plain": [
       "<Figure size 720x576 with 1 Axes>"
      ]
     },
     "metadata": {
      "needs_background": "light"
     },
     "output_type": "display_data"
    }
   ],
   "source": [
    "#plot pred vs actuals\n",
    "import matplotlib.pyplot as plt\n",
    "plt.figure(figsize = (10,8))\n",
    "plt.plot(train_results['Train Predictions'][:400], label = 'DSCI Predictions')\n",
    "plt.plot(train_results['Actuals'][:400], label = \"DSCI Actuals\")\n",
    "plt.xlabel(\"Weeks\", fontsize=14)\n",
    "plt.ylabel(\"DSCI\", fontsize=14)\n",
    "plt.title(\"DSCI Predicitions vs Actuals\", fontsize=16)\n",
    "plt.legend(loc='upper left')\n",
    "plt.savefig('fig1.png')"
   ]
  },
  {
   "cell_type": "code",
   "execution_count": 41,
   "metadata": {},
   "outputs": [
    {
     "data": {
      "text/html": [
       "<div>\n",
       "<style scoped>\n",
       "    .dataframe tbody tr th:only-of-type {\n",
       "        vertical-align: middle;\n",
       "    }\n",
       "\n",
       "    .dataframe tbody tr th {\n",
       "        vertical-align: top;\n",
       "    }\n",
       "\n",
       "    .dataframe thead th {\n",
       "        text-align: right;\n",
       "    }\n",
       "</style>\n",
       "<table border=\"1\" class=\"dataframe\">\n",
       "  <thead>\n",
       "    <tr style=\"text-align: right;\">\n",
       "      <th></th>\n",
       "      <th>Val Predictions</th>\n",
       "      <th>Actuals</th>\n",
       "    </tr>\n",
       "  </thead>\n",
       "  <tbody>\n",
       "    <tr>\n",
       "      <th>0</th>\n",
       "      <td>278.894043</td>\n",
       "      <td>370.5</td>\n",
       "    </tr>\n",
       "    <tr>\n",
       "      <th>1</th>\n",
       "      <td>278.889862</td>\n",
       "      <td>370.5</td>\n",
       "    </tr>\n",
       "    <tr>\n",
       "      <th>2</th>\n",
       "      <td>278.889801</td>\n",
       "      <td>370.5</td>\n",
       "    </tr>\n",
       "    <tr>\n",
       "      <th>3</th>\n",
       "      <td>278.889801</td>\n",
       "      <td>370.5</td>\n",
       "    </tr>\n",
       "    <tr>\n",
       "      <th>4</th>\n",
       "      <td>278.889801</td>\n",
       "      <td>370.0</td>\n",
       "    </tr>\n",
       "    <tr>\n",
       "      <th>...</th>\n",
       "      <td>...</td>\n",
       "      <td>...</td>\n",
       "    </tr>\n",
       "    <tr>\n",
       "      <th>95</th>\n",
       "      <td>20.821264</td>\n",
       "      <td>19.5</td>\n",
       "    </tr>\n",
       "    <tr>\n",
       "      <th>96</th>\n",
       "      <td>20.821262</td>\n",
       "      <td>19.5</td>\n",
       "    </tr>\n",
       "    <tr>\n",
       "      <th>97</th>\n",
       "      <td>20.821262</td>\n",
       "      <td>19.5</td>\n",
       "    </tr>\n",
       "    <tr>\n",
       "      <th>98</th>\n",
       "      <td>20.821262</td>\n",
       "      <td>19.5</td>\n",
       "    </tr>\n",
       "    <tr>\n",
       "      <th>99</th>\n",
       "      <td>20.821262</td>\n",
       "      <td>19.5</td>\n",
       "    </tr>\n",
       "  </tbody>\n",
       "</table>\n",
       "<p>100 rows × 2 columns</p>\n",
       "</div>"
      ],
      "text/plain": [
       "    Val Predictions  Actuals\n",
       "0        278.894043    370.5\n",
       "1        278.889862    370.5\n",
       "2        278.889801    370.5\n",
       "3        278.889801    370.5\n",
       "4        278.889801    370.0\n",
       "..              ...      ...\n",
       "95        20.821264     19.5\n",
       "96        20.821262     19.5\n",
       "97        20.821262     19.5\n",
       "98        20.821262     19.5\n",
       "99        20.821262     19.5\n",
       "\n",
       "[100 rows x 2 columns]"
      ]
     },
     "execution_count": 41,
     "metadata": {},
     "output_type": "execute_result"
    }
   ],
   "source": [
    "#Validation set results\n",
    "val_predictions = model1.predict(X_val).flatten()\n",
    "val_results = pd.DataFrame(data={'Val Predictions':val_predictions, 'Actuals': y_val})\n",
    "val_results"
   ]
  },
  {
   "cell_type": "code",
   "execution_count": 42,
   "metadata": {},
   "outputs": [
    {
     "data": {
      "image/png": "[encoded data removed]",
      "text/plain": [
       "<Figure size 720x576 with 1 Axes>"
      ]
     },
     "metadata": {
      "needs_background": "light"
     },
     "output_type": "display_data"
    }
   ],
   "source": [
    "#plot validation set \n",
    "plt.figure(figsize = (10,8))\n",
    "plt.plot(val_results['Val Predictions'], label = 'DSCI Predictions')\n",
    "plt.plot(val_results['Actuals'], label = 'DSCI Actuals')\n",
    "plt.xlabel(\"Weeks\", fontsize=14)\n",
    "plt.ylabel(\"DSCI\", fontsize=14)\n",
    "plt.title(\"DSCI Predicitions vs Actuals, Validation\", fontsize=16)\n",
    "plt.legend()\n",
    "plt.savefig('fig3.png')"
   ]
  },
  {
   "cell_type": "code",
   "execution_count": 43,
   "metadata": {},
   "outputs": [
    {
     "data": {
      "text/html": [
       "<div>\n",
       "<style scoped>\n",
       "    .dataframe tbody tr th:only-of-type {\n",
       "        vertical-align: middle;\n",
       "    }\n",
       "\n",
       "    .dataframe tbody tr th {\n",
       "        vertical-align: top;\n",
       "    }\n",
       "\n",
       "    .dataframe thead th {\n",
       "        text-align: right;\n",
       "    }\n",
       "</style>\n",
       "<table border=\"1\" class=\"dataframe\">\n",
       "  <thead>\n",
       "    <tr style=\"text-align: right;\">\n",
       "      <th></th>\n",
       "      <th>Test Predictions</th>\n",
       "      <th>Actuals</th>\n",
       "    </tr>\n",
       "  </thead>\n",
       "  <tbody>\n",
       "    <tr>\n",
       "      <th>0</th>\n",
       "      <td>278.894043</td>\n",
       "      <td>370.5</td>\n",
       "    </tr>\n",
       "    <tr>\n",
       "      <th>1</th>\n",
       "      <td>278.889862</td>\n",
       "      <td>370.5</td>\n",
       "    </tr>\n",
       "    <tr>\n",
       "      <th>2</th>\n",
       "      <td>278.889801</td>\n",
       "      <td>370.5</td>\n",
       "    </tr>\n",
       "    <tr>\n",
       "      <th>3</th>\n",
       "      <td>278.889801</td>\n",
       "      <td>370.5</td>\n",
       "    </tr>\n",
       "    <tr>\n",
       "      <th>4</th>\n",
       "      <td>278.889801</td>\n",
       "      <td>370.0</td>\n",
       "    </tr>\n",
       "    <tr>\n",
       "      <th>...</th>\n",
       "      <td>...</td>\n",
       "      <td>...</td>\n",
       "    </tr>\n",
       "    <tr>\n",
       "      <th>95</th>\n",
       "      <td>20.821264</td>\n",
       "      <td>19.5</td>\n",
       "    </tr>\n",
       "    <tr>\n",
       "      <th>96</th>\n",
       "      <td>20.821262</td>\n",
       "      <td>19.5</td>\n",
       "    </tr>\n",
       "    <tr>\n",
       "      <th>97</th>\n",
       "      <td>20.821262</td>\n",
       "      <td>19.5</td>\n",
       "    </tr>\n",
       "    <tr>\n",
       "      <th>98</th>\n",
       "      <td>20.821262</td>\n",
       "      <td>19.5</td>\n",
       "    </tr>\n",
       "    <tr>\n",
       "      <th>99</th>\n",
       "      <td>20.821262</td>\n",
       "      <td>19.5</td>\n",
       "    </tr>\n",
       "  </tbody>\n",
       "</table>\n",
       "<p>100 rows × 2 columns</p>\n",
       "</div>"
      ],
      "text/plain": [
       "    Test Predictions  Actuals\n",
       "0         278.894043    370.5\n",
       "1         278.889862    370.5\n",
       "2         278.889801    370.5\n",
       "3         278.889801    370.5\n",
       "4         278.889801    370.0\n",
       "..               ...      ...\n",
       "95         20.821264     19.5\n",
       "96         20.821262     19.5\n",
       "97         20.821262     19.5\n",
       "98         20.821262     19.5\n",
       "99         20.821262     19.5\n",
       "\n",
       "[100 rows x 2 columns]"
      ]
     },
     "execution_count": 43,
     "metadata": {},
     "output_type": "execute_result"
    }
   ],
   "source": [
    "test_predictions = model1.predict(X_test).flatten()\n",
    "test_results = pd.DataFrame(data={'Test Predictions':val_predictions, 'Actuals': y_val})\n",
    "test_results"
   ]
  },
  {
   "cell_type": "code",
   "execution_count": 44,
   "metadata": {},
   "outputs": [
    {
     "data": {
      "image/png": "[encoded data removed]",
      "text/plain": [
       "<Figure size 720x576 with 1 Axes>"
      ]
     },
     "metadata": {
      "needs_background": "light"
     },
     "output_type": "display_data"
    }
   ],
   "source": [
    "plt.figure(figsize = (10,8))\n",
    "plt.plot(test_results['Test Predictions'], label = 'DSCI Predictions')\n",
    "plt.plot(test_results['Actuals'], label = 'DSCI Actuals')\n",
    "plt.xlabel(\"Weeks\", fontsize=14)\n",
    "plt.ylabel(\"DSCI\", fontsize=14)\n",
    "plt.title(\"DSCI Predicitions vs Actuals, Test Data\", fontsize=16)\n",
    "plt.legend()\n",
    "plt.savefig('fig4.png')"
   ]
  },
  {
   "cell_type": "code",
   "execution_count": 45,
   "metadata": {},
   "outputs": [],
   "source": [
    "#plotting predictions \n",
    "from sklearn.metrics import mean_squared_error as mse\n",
    "\n",
    "def plot_predictions1(fignum, model, X, y, start = 0, end=100):\n",
    "    predictions = model.predict(X).flatten()\n",
    "    df = pd.DataFrame(data={'Predictions':predictions, 'Actuals':y})\n",
    "    plt.figure(figsize = (10,8))\n",
    "    plt.plot(df['Predictions'][start:end], label = 'DSCI Predictions')\n",
    "    plt.plot(df['Actuals'][start:end], label = 'DSCI Actuals' )\n",
    "    plt.xlabel(\"Weeks\", fontsize=14)\n",
    "    plt.ylabel(\"DSCI\", fontsize=14)\n",
    "    plt.title(\"DSCI Predicitions vs Actuals\", fontsize=16)\n",
    "    plt.legend()\n",
    "    plt.savefig(f'fig{str(fignum)}.png')\n",
    "    return df, mse(y, predictions)"
   ]
  },
  {
   "cell_type": "code",
   "execution_count": 46,
   "metadata": {},
   "outputs": [
    {
     "data": {
      "text/plain": [
       "(     Predictions  Actuals\n",
       " 0      20.821264     19.5\n",
       " 1      20.821264     19.5\n",
       " 2      20.821264     19.5\n",
       " 3      20.821264     19.5\n",
       " 4      20.821264     19.5\n",
       " ..           ...      ...\n",
       " 184   270.851105    304.5\n",
       " 185   277.211487    306.5\n",
       " 186   278.228821    333.0\n",
       " 187   278.793274    345.5\n",
       " 188   278.852203    345.5\n",
       " \n",
       " [189 rows x 2 columns],\n",
       " 224.4549631978381)"
      ]
     },
     "execution_count": 46,
     "metadata": {},
     "output_type": "execute_result"
    },
    {
     "data": {
      "image/png": "[encoded data removed]",
      "text/plain": [
       "<Figure size 720x576 with 1 Axes>"
      ]
     },
     "metadata": {
      "needs_background": "light"
     },
     "output_type": "display_data"
    }
   ],
   "source": [
    "plot_predictions1(5, model1, X_test, y_test)"
   ]
  },
  {
   "cell_type": "code",
   "execution_count": 47,
   "metadata": {},
   "outputs": [
    {
     "name": "stdout",
     "output_type": "stream",
     "text": [
      "Model: \"sequential_1\"\n",
      "_________________________________________________________________\n",
      "Layer (type)                 Output Shape              Param #   \n",
      "=================================================================\n",
      "conv1d (Conv1D)              (None, 4, 64)             192       \n",
      "_________________________________________________________________\n",
      "flatten (Flatten)            (None, 256)               0         \n",
      "_________________________________________________________________\n",
      "dense_2 (Dense)              (None, 8)                 2056      \n",
      "_________________________________________________________________\n",
      "dense_3 (Dense)              (None, 1)                 9         \n",
      "=================================================================\n",
      "Total params: 2,257\n",
      "Trainable params: 2,257\n",
      "Non-trainable params: 0\n",
      "_________________________________________________________________\n",
      "Model: \"sequential_1\"\n",
      "_________________________________________________________________\n",
      "Layer (type)                 Output Shape              Param #   \n",
      "=================================================================\n",
      "conv1d (Conv1D)              (None, 4, 64)             192       \n",
      "_________________________________________________________________\n",
      "flatten (Flatten)            (None, 256)               0         \n",
      "_________________________________________________________________\n",
      "dense_2 (Dense)              (None, 8)                 2056      \n",
      "_________________________________________________________________\n",
      "dense_3 (Dense)              (None, 1)                 9         \n",
      "=================================================================\n",
      "Total params: 2,257\n",
      "Trainable params: 2,257\n",
      "Non-trainable params: 0\n",
      "_________________________________________________________________\n"
     ]
    }
   ],
   "source": [
    "model2 = Sequential()\n",
    "model2.add(InputLayer((5,1)))\n",
    "model2.add(Conv1D(64, kernel_size=2))\n",
    "model2.add(Flatten())\n",
    "model2.add(Dense(8, 'relu'))\n",
    "model2.add(Dense(1, 'linear'))\n",
    "model2.summary()\n",
    "\n",
    "model2.summary()"
   ]
  },
  {
   "cell_type": "code",
   "execution_count": 48,
   "metadata": {},
   "outputs": [],
   "source": [
    "cp2 = ModelCheckpoint('model2/', save_best_only=True)\n",
    "model2.compile(loss=MeanSquaredError(), optimizer = Adam(learning_rate=0.005), metrics=[RootMeanSquaredError()])"
   ]
  },
  {
   "cell_type": "code",
   "execution_count": 49,
   "metadata": {},
   "outputs": [
    {
     "name": "stdout",
     "output_type": "stream",
     "text": [
      "Epoch 1/10\n",
      "24/24 [==============================] - 1s 14ms/step - loss: 5923.4785 - root_mean_squared_error: 76.9641 - val_loss: 509.6864 - val_root_mean_squared_error: 22.5762\n",
      "INFO:tensorflow:Assets written to: model2/assets\n"
     ]
    },
    {
     "name": "stderr",
     "output_type": "stream",
     "text": [
      "INFO:tensorflow:Assets written to: model2/assets\n"
     ]
    },
    {
     "name": "stdout",
     "output_type": "stream",
     "text": [
      "Epoch 2/10\n",
      "24/24 [==============================] - 0s 3ms/step - loss: 539.1119 - root_mean_squared_error: 23.2188 - val_loss: 451.6263 - val_root_mean_squared_error: 21.2515\n",
      "INFO:tensorflow:Assets written to: model2/assets\n"
     ]
    },
    {
     "name": "stderr",
     "output_type": "stream",
     "text": [
      "INFO:tensorflow:Assets written to: model2/assets\n"
     ]
    },
    {
     "name": "stdout",
     "output_type": "stream",
     "text": [
      "Epoch 3/10\n",
      "24/24 [==============================] - 0s 6ms/step - loss: 298.6753 - root_mean_squared_error: 17.2822 - val_loss: 447.9531 - val_root_mean_squared_error: 21.1649\n",
      "INFO:tensorflow:Assets written to: model2/assets\n"
     ]
    },
    {
     "name": "stderr",
     "output_type": "stream",
     "text": [
      "INFO:tensorflow:Assets written to: model2/assets\n"
     ]
    },
    {
     "name": "stdout",
     "output_type": "stream",
     "text": [
      "Epoch 4/10\n",
      "24/24 [==============================] - 0s 14ms/step - loss: 264.2693 - root_mean_squared_error: 16.2564 - val_loss: 348.8067 - val_root_mean_squared_error: 18.6764\n",
      "INFO:tensorflow:Assets written to: model2/assets\n"
     ]
    },
    {
     "name": "stderr",
     "output_type": "stream",
     "text": [
      "INFO:tensorflow:Assets written to: model2/assets\n"
     ]
    },
    {
     "name": "stdout",
     "output_type": "stream",
     "text": [
      "Epoch 5/10\n",
      "24/24 [==============================] - 0s 10ms/step - loss: 255.2632 - root_mean_squared_error: 15.9770 - val_loss: 348.7090 - val_root_mean_squared_error: 18.6738\n",
      "INFO:tensorflow:Assets written to: model2/assets\n"
     ]
    },
    {
     "name": "stderr",
     "output_type": "stream",
     "text": [
      "INFO:tensorflow:Assets written to: model2/assets\n"
     ]
    },
    {
     "name": "stdout",
     "output_type": "stream",
     "text": [
      "Epoch 6/10\n",
      "24/24 [==============================] - 0s 14ms/step - loss: 244.5317 - root_mean_squared_error: 15.6375 - val_loss: 329.3972 - val_root_mean_squared_error: 18.1493\n",
      "INFO:tensorflow:Assets written to: model2/assets\n"
     ]
    },
    {
     "name": "stderr",
     "output_type": "stream",
     "text": [
      "INFO:tensorflow:Assets written to: model2/assets\n"
     ]
    },
    {
     "name": "stdout",
     "output_type": "stream",
     "text": [
      "Epoch 7/10\n",
      "24/24 [==============================] - 0s 9ms/step - loss: 231.0008 - root_mean_squared_error: 15.1987 - val_loss: 330.7616 - val_root_mean_squared_error: 18.1869\n",
      "Epoch 8/10\n",
      "24/24 [==============================] - 0s 10ms/step - loss: 221.1573 - root_mean_squared_error: 14.8714 - val_loss: 289.0778 - val_root_mean_squared_error: 17.0023\n",
      "INFO:tensorflow:Assets written to: model2/assets\n"
     ]
    },
    {
     "name": "stderr",
     "output_type": "stream",
     "text": [
      "INFO:tensorflow:Assets written to: model2/assets\n"
     ]
    },
    {
     "name": "stdout",
     "output_type": "stream",
     "text": [
      "Epoch 9/10\n",
      "24/24 [==============================] - 0s 19ms/step - loss: 210.9894 - root_mean_squared_error: 14.5255 - val_loss: 233.7629 - val_root_mean_squared_error: 15.2893\n",
      "INFO:tensorflow:Assets written to: model2/assets\n"
     ]
    },
    {
     "name": "stderr",
     "output_type": "stream",
     "text": [
      "INFO:tensorflow:Assets written to: model2/assets\n"
     ]
    },
    {
     "name": "stdout",
     "output_type": "stream",
     "text": [
      "Epoch 10/10\n",
      "24/24 [==============================] - 0s 18ms/step - loss: 197.4850 - root_mean_squared_error: 14.0529 - val_loss: 266.8623 - val_root_mean_squared_error: 16.3359\n"
     ]
    }
   ],
   "source": [
    "history = (model2.fit(X_train, y_train, validation_data=(X_val, y_val), epochs=10, callbacks=[cp2]))"
   ]
  },
  {
   "cell_type": "code",
   "execution_count": 50,
   "metadata": {},
   "outputs": [
    {
     "data": {
      "text/html": [
       "<div>\n",
       "<style scoped>\n",
       "    .dataframe tbody tr th:only-of-type {\n",
       "        vertical-align: middle;\n",
       "    }\n",
       "\n",
       "    .dataframe tbody tr th {\n",
       "        vertical-align: top;\n",
       "    }\n",
       "\n",
       "    .dataframe thead th {\n",
       "        text-align: right;\n",
       "    }\n",
       "</style>\n",
       "<table border=\"1\" class=\"dataframe\">\n",
       "  <thead>\n",
       "    <tr style=\"text-align: right;\">\n",
       "      <th></th>\n",
       "      <th>loss</th>\n",
       "      <th>root_mean_squared_error</th>\n",
       "      <th>val_loss</th>\n",
       "      <th>val_root_mean_squared_error</th>\n",
       "    </tr>\n",
       "  </thead>\n",
       "  <tbody>\n",
       "    <tr>\n",
       "      <th>0</th>\n",
       "      <td>5923.478516</td>\n",
       "      <td>76.964134</td>\n",
       "      <td>509.686371</td>\n",
       "      <td>22.576235</td>\n",
       "    </tr>\n",
       "    <tr>\n",
       "      <th>1</th>\n",
       "      <td>539.111938</td>\n",
       "      <td>23.218784</td>\n",
       "      <td>451.626343</td>\n",
       "      <td>21.251503</td>\n",
       "    </tr>\n",
       "    <tr>\n",
       "      <th>2</th>\n",
       "      <td>298.675262</td>\n",
       "      <td>17.282225</td>\n",
       "      <td>447.953125</td>\n",
       "      <td>21.164904</td>\n",
       "    </tr>\n",
       "    <tr>\n",
       "      <th>3</th>\n",
       "      <td>264.269257</td>\n",
       "      <td>16.256361</td>\n",
       "      <td>348.806671</td>\n",
       "      <td>18.676367</td>\n",
       "    </tr>\n",
       "    <tr>\n",
       "      <th>4</th>\n",
       "      <td>255.263153</td>\n",
       "      <td>15.976957</td>\n",
       "      <td>348.708984</td>\n",
       "      <td>18.673752</td>\n",
       "    </tr>\n",
       "    <tr>\n",
       "      <th>5</th>\n",
       "      <td>244.531693</td>\n",
       "      <td>15.637509</td>\n",
       "      <td>329.397217</td>\n",
       "      <td>18.149303</td>\n",
       "    </tr>\n",
       "    <tr>\n",
       "      <th>6</th>\n",
       "      <td>231.000778</td>\n",
       "      <td>15.198709</td>\n",
       "      <td>330.761566</td>\n",
       "      <td>18.186852</td>\n",
       "    </tr>\n",
       "    <tr>\n",
       "      <th>7</th>\n",
       "      <td>221.157272</td>\n",
       "      <td>14.871358</td>\n",
       "      <td>289.077759</td>\n",
       "      <td>17.002287</td>\n",
       "    </tr>\n",
       "    <tr>\n",
       "      <th>8</th>\n",
       "      <td>210.989380</td>\n",
       "      <td>14.525474</td>\n",
       "      <td>233.762909</td>\n",
       "      <td>15.289307</td>\n",
       "    </tr>\n",
       "    <tr>\n",
       "      <th>9</th>\n",
       "      <td>197.485016</td>\n",
       "      <td>14.052937</td>\n",
       "      <td>266.862335</td>\n",
       "      <td>16.335922</td>\n",
       "    </tr>\n",
       "  </tbody>\n",
       "</table>\n",
       "</div>"
      ],
      "text/plain": [
       "          loss  root_mean_squared_error    val_loss  \\\n",
       "0  5923.478516                76.964134  509.686371   \n",
       "1   539.111938                23.218784  451.626343   \n",
       "2   298.675262                17.282225  447.953125   \n",
       "3   264.269257                16.256361  348.806671   \n",
       "4   255.263153                15.976957  348.708984   \n",
       "5   244.531693                15.637509  329.397217   \n",
       "6   231.000778                15.198709  330.761566   \n",
       "7   221.157272                14.871358  289.077759   \n",
       "8   210.989380                14.525474  233.762909   \n",
       "9   197.485016                14.052937  266.862335   \n",
       "\n",
       "   val_root_mean_squared_error  \n",
       "0                    22.576235  \n",
       "1                    21.251503  \n",
       "2                    21.164904  \n",
       "3                    18.676367  \n",
       "4                    18.673752  \n",
       "5                    18.149303  \n",
       "6                    18.186852  \n",
       "7                    17.002287  \n",
       "8                    15.289307  \n",
       "9                    16.335922  "
      ]
     },
     "execution_count": 50,
     "metadata": {},
     "output_type": "execute_result"
    }
   ],
   "source": [
    "history_df = pd.DataFrame(history.history)\n",
    "history_df"
   ]
  },
  {
   "cell_type": "code",
   "execution_count": 51,
   "metadata": {},
   "outputs": [
    {
     "data": {
      "image/png": "[encoded data removed]",
      "text/plain": [
       "<Figure size 432x288 with 1 Axes>"
      ]
     },
     "metadata": {
      "needs_background": "light"
     },
     "output_type": "display_data"
    }
   ],
   "source": [
    "history_df.filter(like='loss').plot();\n",
    "plt.title(\"CNN MSE Loss\", fontsize=16)\n",
    "plt.savefig('fig6.png')"
   ]
  },
  {
   "cell_type": "code",
   "execution_count": 52,
   "metadata": {},
   "outputs": [
    {
     "data": {
      "text/plain": [
       "(     Predictions  Actuals\n",
       " 0      19.932066     19.5\n",
       " 1      19.932066     19.5\n",
       " 2      19.932066     19.5\n",
       " 3      19.932066     19.5\n",
       " 4      19.932066     19.5\n",
       " ..           ...      ...\n",
       " 184   279.433167    304.5\n",
       " 185   289.277191    306.5\n",
       " 186   296.941193    333.0\n",
       " 187   312.347992    345.5\n",
       " 188   326.116089    345.5\n",
       " \n",
       " [189 rows x 2 columns],\n",
       " 337.2203922951545)"
      ]
     },
     "execution_count": 52,
     "metadata": {},
     "output_type": "execute_result"
    },
    {
     "data": {
      "image/png": "[encoded data removed]",
      "text/plain": [
       "<Figure size 720x576 with 1 Axes>"
      ]
     },
     "metadata": {
      "needs_background": "light"
     },
     "output_type": "display_data"
    }
   ],
   "source": [
    "plot_predictions1('cnn', model2, X_test, y_test)"
   ]
  },
  {
   "cell_type": "code",
   "execution_count": 53,
   "metadata": {},
   "outputs": [
    {
     "name": "stdout",
     "output_type": "stream",
     "text": [
      "Model: \"sequential_2\"\n",
      "_________________________________________________________________\n",
      "Layer (type)                 Output Shape              Param #   \n",
      "=================================================================\n",
      "gru (GRU)                    (None, 64)                12864     \n",
      "_________________________________________________________________\n",
      "dense_4 (Dense)              (None, 8)                 520       \n",
      "_________________________________________________________________\n",
      "dense_5 (Dense)              (None, 1)                 9         \n",
      "=================================================================\n",
      "Total params: 13,393\n",
      "Trainable params: 13,393\n",
      "Non-trainable params: 0\n",
      "_________________________________________________________________\n"
     ]
    }
   ],
   "source": [
    "model3 = Sequential()\n",
    "model3.add(InputLayer((5,1)))\n",
    "model3.add(GRU(64))\n",
    "model3.add(Dense(8, 'relu'))\n",
    "model3.add(Dense(1, 'linear'))\n",
    "model3.summary()"
   ]
  },
  {
   "cell_type": "code",
   "execution_count": 54,
   "metadata": {},
   "outputs": [],
   "source": [
    "cp3 = ModelCheckpoint('model3/', save_best_only=True)\n",
    "model3.compile(loss=MeanSquaredError(), optimizer = Adam(learning_rate=0.005), metrics=[RootMeanSquaredError()])"
   ]
  },
  {
   "cell_type": "code",
   "execution_count": 55,
   "metadata": {},
   "outputs": [
    {
     "name": "stdout",
     "output_type": "stream",
     "text": [
      "Epoch 1/10\n",
      "24/24 [==============================] - 11s 91ms/step - loss: 41545.7695 - root_mean_squared_error: 203.8278 - val_loss: 64578.2656 - val_root_mean_squared_error: 254.1225\n"
     ]
    },
    {
     "name": "stderr",
     "output_type": "stream",
     "text": [
      "WARNING:absl:Found untraced functions such as gru_cell_layer_call_fn, gru_cell_layer_call_and_return_conditional_losses, gru_cell_layer_call_fn, gru_cell_layer_call_and_return_conditional_losses, gru_cell_layer_call_and_return_conditional_losses while saving (showing 5 of 5). These functions will not be directly callable after loading.\n"
     ]
    },
    {
     "name": "stdout",
     "output_type": "stream",
     "text": [
      "INFO:tensorflow:Assets written to: model3/assets\n"
     ]
    },
    {
     "name": "stderr",
     "output_type": "stream",
     "text": [
      "INFO:tensorflow:Assets written to: model3/assets\n"
     ]
    },
    {
     "name": "stdout",
     "output_type": "stream",
     "text": [
      "Epoch 2/10\n",
      "24/24 [==============================] - 1s 27ms/step - loss: 35556.0000 - root_mean_squared_error: 188.5630 - val_loss: 53766.4453 - val_root_mean_squared_error: 231.8759\n"
     ]
    },
    {
     "name": "stderr",
     "output_type": "stream",
     "text": [
      "WARNING:absl:Found untraced functions such as gru_cell_layer_call_fn, gru_cell_layer_call_and_return_conditional_losses, gru_cell_layer_call_fn, gru_cell_layer_call_and_return_conditional_losses, gru_cell_layer_call_and_return_conditional_losses while saving (showing 5 of 5). These functions will not be directly callable after loading.\n"
     ]
    },
    {
     "name": "stdout",
     "output_type": "stream",
     "text": [
      "INFO:tensorflow:Assets written to: model3/assets\n"
     ]
    },
    {
     "name": "stderr",
     "output_type": "stream",
     "text": [
      "INFO:tensorflow:Assets written to: model3/assets\n"
     ]
    },
    {
     "name": "stdout",
     "output_type": "stream",
     "text": [
      "Epoch 3/10\n",
      "24/24 [==============================] - 1s 22ms/step - loss: 26708.0742 - root_mean_squared_error: 163.4261 - val_loss: 39489.6406 - val_root_mean_squared_error: 198.7200\n"
     ]
    },
    {
     "name": "stderr",
     "output_type": "stream",
     "text": [
      "WARNING:absl:Found untraced functions such as gru_cell_layer_call_fn, gru_cell_layer_call_and_return_conditional_losses, gru_cell_layer_call_fn, gru_cell_layer_call_and_return_conditional_losses, gru_cell_layer_call_and_return_conditional_losses while saving (showing 5 of 5). These functions will not be directly callable after loading.\n"
     ]
    },
    {
     "name": "stdout",
     "output_type": "stream",
     "text": [
      "INFO:tensorflow:Assets written to: model3/assets\n"
     ]
    },
    {
     "name": "stderr",
     "output_type": "stream",
     "text": [
      "INFO:tensorflow:Assets written to: model3/assets\n"
     ]
    },
    {
     "name": "stdout",
     "output_type": "stream",
     "text": [
      "Epoch 4/10\n",
      "24/24 [==============================] - 0s 16ms/step - loss: 17028.1074 - root_mean_squared_error: 130.4918 - val_loss: 25162.1699 - val_root_mean_squared_error: 158.6259\n"
     ]
    },
    {
     "name": "stderr",
     "output_type": "stream",
     "text": [
      "WARNING:absl:Found untraced functions such as gru_cell_layer_call_fn, gru_cell_layer_call_and_return_conditional_losses, gru_cell_layer_call_fn, gru_cell_layer_call_and_return_conditional_losses, gru_cell_layer_call_and_return_conditional_losses while saving (showing 5 of 5). These functions will not be directly callable after loading.\n"
     ]
    },
    {
     "name": "stdout",
     "output_type": "stream",
     "text": [
      "INFO:tensorflow:Assets written to: model3/assets\n"
     ]
    },
    {
     "name": "stderr",
     "output_type": "stream",
     "text": [
      "INFO:tensorflow:Assets written to: model3/assets\n"
     ]
    },
    {
     "name": "stdout",
     "output_type": "stream",
     "text": [
      "Epoch 5/10\n",
      "24/24 [==============================] - 1s 22ms/step - loss: 9261.6904 - root_mean_squared_error: 96.2377 - val_loss: 14232.9727 - val_root_mean_squared_error: 119.3020\n"
     ]
    },
    {
     "name": "stderr",
     "output_type": "stream",
     "text": [
      "WARNING:absl:Found untraced functions such as gru_cell_layer_call_fn, gru_cell_layer_call_and_return_conditional_losses, gru_cell_layer_call_fn, gru_cell_layer_call_and_return_conditional_losses, gru_cell_layer_call_and_return_conditional_losses while saving (showing 5 of 5). These functions will not be directly callable after loading.\n"
     ]
    },
    {
     "name": "stdout",
     "output_type": "stream",
     "text": [
      "INFO:tensorflow:Assets written to: model3/assets\n"
     ]
    },
    {
     "name": "stderr",
     "output_type": "stream",
     "text": [
      "INFO:tensorflow:Assets written to: model3/assets\n"
     ]
    },
    {
     "name": "stdout",
     "output_type": "stream",
     "text": [
      "Epoch 6/10\n",
      "24/24 [==============================] - 1s 28ms/step - loss: 4713.4619 - root_mean_squared_error: 68.6547 - val_loss: 8099.2920 - val_root_mean_squared_error: 89.9961\n"
     ]
    },
    {
     "name": "stderr",
     "output_type": "stream",
     "text": [
      "WARNING:absl:Found untraced functions such as gru_cell_layer_call_fn, gru_cell_layer_call_and_return_conditional_losses, gru_cell_layer_call_fn, gru_cell_layer_call_and_return_conditional_losses, gru_cell_layer_call_and_return_conditional_losses while saving (showing 5 of 5). These functions will not be directly callable after loading.\n"
     ]
    },
    {
     "name": "stdout",
     "output_type": "stream",
     "text": [
      "INFO:tensorflow:Assets written to: model3/assets\n"
     ]
    },
    {
     "name": "stderr",
     "output_type": "stream",
     "text": [
      "INFO:tensorflow:Assets written to: model3/assets\n"
     ]
    },
    {
     "name": "stdout",
     "output_type": "stream",
     "text": [
      "Epoch 7/10\n",
      "24/24 [==============================] - 0s 17ms/step - loss: 2648.2866 - root_mean_squared_error: 51.4615 - val_loss: 5237.0171 - val_root_mean_squared_error: 72.3672\n"
     ]
    },
    {
     "name": "stderr",
     "output_type": "stream",
     "text": [
      "WARNING:absl:Found untraced functions such as gru_cell_layer_call_fn, gru_cell_layer_call_and_return_conditional_losses, gru_cell_layer_call_fn, gru_cell_layer_call_and_return_conditional_losses, gru_cell_layer_call_and_return_conditional_losses while saving (showing 5 of 5). These functions will not be directly callable after loading.\n"
     ]
    },
    {
     "name": "stdout",
     "output_type": "stream",
     "text": [
      "INFO:tensorflow:Assets written to: model3/assets\n"
     ]
    },
    {
     "name": "stderr",
     "output_type": "stream",
     "text": [
      "INFO:tensorflow:Assets written to: model3/assets\n"
     ]
    },
    {
     "name": "stdout",
     "output_type": "stream",
     "text": [
      "Epoch 8/10\n",
      "24/24 [==============================] - 0s 19ms/step - loss: 1690.8427 - root_mean_squared_error: 41.1199 - val_loss: 3115.5237 - val_root_mean_squared_error: 55.8169\n"
     ]
    },
    {
     "name": "stderr",
     "output_type": "stream",
     "text": [
      "WARNING:absl:Found untraced functions such as gru_cell_layer_call_fn, gru_cell_layer_call_and_return_conditional_losses, gru_cell_layer_call_fn, gru_cell_layer_call_and_return_conditional_losses, gru_cell_layer_call_and_return_conditional_losses while saving (showing 5 of 5). These functions will not be directly callable after loading.\n"
     ]
    },
    {
     "name": "stdout",
     "output_type": "stream",
     "text": [
      "INFO:tensorflow:Assets written to: model3/assets\n"
     ]
    },
    {
     "name": "stderr",
     "output_type": "stream",
     "text": [
      "INFO:tensorflow:Assets written to: model3/assets\n"
     ]
    },
    {
     "name": "stdout",
     "output_type": "stream",
     "text": [
      "Epoch 9/10\n",
      "24/24 [==============================] - 1s 22ms/step - loss: 1095.3723 - root_mean_squared_error: 33.0964 - val_loss: 1972.2874 - val_root_mean_squared_error: 44.4104\n"
     ]
    },
    {
     "name": "stderr",
     "output_type": "stream",
     "text": [
      "WARNING:absl:Found untraced functions such as gru_cell_layer_call_fn, gru_cell_layer_call_and_return_conditional_losses, gru_cell_layer_call_fn, gru_cell_layer_call_and_return_conditional_losses, gru_cell_layer_call_and_return_conditional_losses while saving (showing 5 of 5). These functions will not be directly callable after loading.\n"
     ]
    },
    {
     "name": "stdout",
     "output_type": "stream",
     "text": [
      "INFO:tensorflow:Assets written to: model3/assets\n"
     ]
    },
    {
     "name": "stderr",
     "output_type": "stream",
     "text": [
      "INFO:tensorflow:Assets written to: model3/assets\n"
     ]
    },
    {
     "name": "stdout",
     "output_type": "stream",
     "text": [
      "Epoch 10/10\n",
      "24/24 [==============================] - 1s 22ms/step - loss: 726.4574 - root_mean_squared_error: 26.9529 - val_loss: 1247.9618 - val_root_mean_squared_error: 35.3265\n"
     ]
    },
    {
     "name": "stderr",
     "output_type": "stream",
     "text": [
      "WARNING:absl:Found untraced functions such as gru_cell_layer_call_fn, gru_cell_layer_call_and_return_conditional_losses, gru_cell_layer_call_fn, gru_cell_layer_call_and_return_conditional_losses, gru_cell_layer_call_and_return_conditional_losses while saving (showing 5 of 5). These functions will not be directly callable after loading.\n"
     ]
    },
    {
     "name": "stdout",
     "output_type": "stream",
     "text": [
      "INFO:tensorflow:Assets written to: model3/assets\n"
     ]
    },
    {
     "name": "stderr",
     "output_type": "stream",
     "text": [
      "INFO:tensorflow:Assets written to: model3/assets\n"
     ]
    }
   ],
   "source": [
    "history = (model3.fit(X_train, y_train, validation_data=(X_val, y_val), epochs=10, callbacks=[cp3]))"
   ]
  },
  {
   "cell_type": "code",
   "execution_count": 56,
   "metadata": {},
   "outputs": [
    {
     "data": {
      "text/plain": [
       "(     Predictions  Actuals\n",
       " 0      16.627172     19.5\n",
       " 1      16.627172     19.5\n",
       " 2      16.627172     19.5\n",
       " 3      16.627172     19.5\n",
       " 4      16.627172     19.5\n",
       " ..           ...      ...\n",
       " 184   280.027954    304.5\n",
       " 185   295.749573    306.5\n",
       " 186   297.138458    333.0\n",
       " 187   300.435699    345.5\n",
       " 188   300.717133    345.5\n",
       " \n",
       " [189 rows x 2 columns],\n",
       " 187.41685082661579)"
      ]
     },
     "execution_count": 56,
     "metadata": {},
     "output_type": "execute_result"
    },
    {
     "data": {
      "image/png": "[encoded data removed]",
      "text/plain": [
       "<Figure size 720x576 with 1 Axes>"
      ]
     },
     "metadata": {
      "needs_background": "light"
     },
     "output_type": "display_data"
    }
   ],
   "source": [
    "plot_predictions1(7, model3, X_test, y_test)"
   ]
  },
  {
   "cell_type": "code",
   "execution_count": 57,
   "metadata": {},
   "outputs": [
    {
     "data": {
      "text/html": [
       "<div>\n",
       "<style scoped>\n",
       "    .dataframe tbody tr th:only-of-type {\n",
       "        vertical-align: middle;\n",
       "    }\n",
       "\n",
       "    .dataframe tbody tr th {\n",
       "        vertical-align: top;\n",
       "    }\n",
       "\n",
       "    .dataframe thead th {\n",
       "        text-align: right;\n",
       "    }\n",
       "</style>\n",
       "<table border=\"1\" class=\"dataframe\">\n",
       "  <thead>\n",
       "    <tr style=\"text-align: right;\">\n",
       "      <th></th>\n",
       "      <th>loss</th>\n",
       "      <th>root_mean_squared_error</th>\n",
       "      <th>val_loss</th>\n",
       "      <th>val_root_mean_squared_error</th>\n",
       "    </tr>\n",
       "  </thead>\n",
       "  <tbody>\n",
       "    <tr>\n",
       "      <th>0</th>\n",
       "      <td>41545.769531</td>\n",
       "      <td>203.827789</td>\n",
       "      <td>64578.265625</td>\n",
       "      <td>254.122543</td>\n",
       "    </tr>\n",
       "    <tr>\n",
       "      <th>1</th>\n",
       "      <td>35556.000000</td>\n",
       "      <td>188.562988</td>\n",
       "      <td>53766.445312</td>\n",
       "      <td>231.875931</td>\n",
       "    </tr>\n",
       "    <tr>\n",
       "      <th>2</th>\n",
       "      <td>26708.074219</td>\n",
       "      <td>163.426056</td>\n",
       "      <td>39489.640625</td>\n",
       "      <td>198.720001</td>\n",
       "    </tr>\n",
       "    <tr>\n",
       "      <th>3</th>\n",
       "      <td>17028.107422</td>\n",
       "      <td>130.491791</td>\n",
       "      <td>25162.169922</td>\n",
       "      <td>158.625885</td>\n",
       "    </tr>\n",
       "    <tr>\n",
       "      <th>4</th>\n",
       "      <td>9261.690430</td>\n",
       "      <td>96.237679</td>\n",
       "      <td>14232.972656</td>\n",
       "      <td>119.302025</td>\n",
       "    </tr>\n",
       "    <tr>\n",
       "      <th>5</th>\n",
       "      <td>4713.461914</td>\n",
       "      <td>68.654655</td>\n",
       "      <td>8099.291992</td>\n",
       "      <td>89.996063</td>\n",
       "    </tr>\n",
       "    <tr>\n",
       "      <th>6</th>\n",
       "      <td>2648.286621</td>\n",
       "      <td>51.461506</td>\n",
       "      <td>5237.017090</td>\n",
       "      <td>72.367241</td>\n",
       "    </tr>\n",
       "    <tr>\n",
       "      <th>7</th>\n",
       "      <td>1690.842651</td>\n",
       "      <td>41.119858</td>\n",
       "      <td>3115.523682</td>\n",
       "      <td>55.816875</td>\n",
       "    </tr>\n",
       "    <tr>\n",
       "      <th>8</th>\n",
       "      <td>1095.372314</td>\n",
       "      <td>33.096409</td>\n",
       "      <td>1972.287354</td>\n",
       "      <td>44.410442</td>\n",
       "    </tr>\n",
       "    <tr>\n",
       "      <th>9</th>\n",
       "      <td>726.457397</td>\n",
       "      <td>26.952873</td>\n",
       "      <td>1247.961792</td>\n",
       "      <td>35.326504</td>\n",
       "    </tr>\n",
       "  </tbody>\n",
       "</table>\n",
       "</div>"
      ],
      "text/plain": [
       "           loss  root_mean_squared_error      val_loss  \\\n",
       "0  41545.769531               203.827789  64578.265625   \n",
       "1  35556.000000               188.562988  53766.445312   \n",
       "2  26708.074219               163.426056  39489.640625   \n",
       "3  17028.107422               130.491791  25162.169922   \n",
       "4   9261.690430                96.237679  14232.972656   \n",
       "5   4713.461914                68.654655   8099.291992   \n",
       "6   2648.286621                51.461506   5237.017090   \n",
       "7   1690.842651                41.119858   3115.523682   \n",
       "8   1095.372314                33.096409   1972.287354   \n",
       "9    726.457397                26.952873   1247.961792   \n",
       "\n",
       "   val_root_mean_squared_error  \n",
       "0                   254.122543  \n",
       "1                   231.875931  \n",
       "2                   198.720001  \n",
       "3                   158.625885  \n",
       "4                   119.302025  \n",
       "5                    89.996063  \n",
       "6                    72.367241  \n",
       "7                    55.816875  \n",
       "8                    44.410442  \n",
       "9                    35.326504  "
      ]
     },
     "execution_count": 57,
     "metadata": {},
     "output_type": "execute_result"
    }
   ],
   "source": [
    "history_df = pd.DataFrame(history.history)\n",
    "history_df"
   ]
  },
  {
   "cell_type": "code",
   "execution_count": 58,
   "metadata": {},
   "outputs": [
    {
     "data": {
      "image/png": "[encoded data removed]",
      "text/plain": [
       "<Figure size 432x288 with 1 Axes>"
      ]
     },
     "metadata": {
      "needs_background": "light"
     },
     "output_type": "display_data"
    }
   ],
   "source": [
    "history_df.filter(like='loss').plot();\n",
    "plt.title(\"GRU MSE Loss\", fontsize=16)\n",
    "plt.savefig('fig8.png')"
   ]
  },
  {
   "cell_type": "code",
   "execution_count": 59,
   "metadata": {},
   "outputs": [
    {
     "data": {
      "text/html": [
       "<div>\n",
       "<style scoped>\n",
       "    .dataframe tbody tr th:only-of-type {\n",
       "        vertical-align: middle;\n",
       "    }\n",
       "\n",
       "    .dataframe tbody tr th {\n",
       "        vertical-align: top;\n",
       "    }\n",
       "\n",
       "    .dataframe thead th {\n",
       "        text-align: right;\n",
       "    }\n",
       "</style>\n",
       "<table border=\"1\" class=\"dataframe\">\n",
       "  <thead>\n",
       "    <tr style=\"text-align: right;\">\n",
       "      <th></th>\n",
       "      <th>DSCI</th>\n",
       "      <th>Seconds</th>\n",
       "      <th>year sin</th>\n",
       "      <th>year cos</th>\n",
       "    </tr>\n",
       "    <tr>\n",
       "      <th>ValidEnd</th>\n",
       "      <th></th>\n",
       "      <th></th>\n",
       "      <th></th>\n",
       "      <th></th>\n",
       "    </tr>\n",
       "  </thead>\n",
       "  <tbody>\n",
       "    <tr>\n",
       "      <th>2001-01-01</th>\n",
       "      <td>0.0</td>\n",
       "      <td>9.783072e+08</td>\n",
       "      <td>0.008300</td>\n",
       "      <td>0.999966</td>\n",
       "    </tr>\n",
       "    <tr>\n",
       "      <th>2001-01-08</th>\n",
       "      <td>15.5</td>\n",
       "      <td>9.789120e+08</td>\n",
       "      <td>0.128365</td>\n",
       "      <td>0.991727</td>\n",
       "    </tr>\n",
       "    <tr>\n",
       "      <th>2001-01-15</th>\n",
       "      <td>29.5</td>\n",
       "      <td>9.795168e+08</td>\n",
       "      <td>0.246570</td>\n",
       "      <td>0.969125</td>\n",
       "    </tr>\n",
       "    <tr>\n",
       "      <th>2001-01-22</th>\n",
       "      <td>15.0</td>\n",
       "      <td>9.801216e+08</td>\n",
       "      <td>0.361204</td>\n",
       "      <td>0.932487</td>\n",
       "    </tr>\n",
       "    <tr>\n",
       "      <th>2001-01-29</th>\n",
       "      <td>28.5</td>\n",
       "      <td>9.807264e+08</td>\n",
       "      <td>0.470607</td>\n",
       "      <td>0.882343</td>\n",
       "    </tr>\n",
       "    <tr>\n",
       "      <th>...</th>\n",
       "      <td>...</td>\n",
       "      <td>...</td>\n",
       "      <td>...</td>\n",
       "      <td>...</td>\n",
       "    </tr>\n",
       "    <tr>\n",
       "      <th>2020-11-30</th>\n",
       "      <td>304.5</td>\n",
       "      <td>1.606694e+09</td>\n",
       "      <td>-0.513800</td>\n",
       "      <td>0.857910</td>\n",
       "    </tr>\n",
       "    <tr>\n",
       "      <th>2020-12-07</th>\n",
       "      <td>306.5</td>\n",
       "      <td>1.607299e+09</td>\n",
       "      <td>-0.407020</td>\n",
       "      <td>0.913419</td>\n",
       "    </tr>\n",
       "    <tr>\n",
       "      <th>2020-12-14</th>\n",
       "      <td>333.0</td>\n",
       "      <td>1.607904e+09</td>\n",
       "      <td>-0.294344</td>\n",
       "      <td>0.955699</td>\n",
       "    </tr>\n",
       "    <tr>\n",
       "      <th>2020-12-21</th>\n",
       "      <td>345.5</td>\n",
       "      <td>1.608509e+09</td>\n",
       "      <td>-0.177406</td>\n",
       "      <td>0.984138</td>\n",
       "    </tr>\n",
       "    <tr>\n",
       "      <th>2020-12-28</th>\n",
       "      <td>345.5</td>\n",
       "      <td>1.609114e+09</td>\n",
       "      <td>-0.057898</td>\n",
       "      <td>0.998323</td>\n",
       "    </tr>\n",
       "  </tbody>\n",
       "</table>\n",
       "<p>1044 rows × 4 columns</p>\n",
       "</div>"
      ],
      "text/plain": [
       "             DSCI       Seconds  year sin  year cos\n",
       "ValidEnd                                           \n",
       "2001-01-01    0.0  9.783072e+08  0.008300  0.999966\n",
       "2001-01-08   15.5  9.789120e+08  0.128365  0.991727\n",
       "2001-01-15   29.5  9.795168e+08  0.246570  0.969125\n",
       "2001-01-22   15.0  9.801216e+08  0.361204  0.932487\n",
       "2001-01-29   28.5  9.807264e+08  0.470607  0.882343\n",
       "...           ...           ...       ...       ...\n",
       "2020-11-30  304.5  1.606694e+09 -0.513800  0.857910\n",
       "2020-12-07  306.5  1.607299e+09 -0.407020  0.913419\n",
       "2020-12-14  333.0  1.607904e+09 -0.294344  0.955699\n",
       "2020-12-21  345.5  1.608509e+09 -0.177406  0.984138\n",
       "2020-12-28  345.5  1.609114e+09 -0.057898  0.998323\n",
       "\n",
       "[1044 rows x 4 columns]"
      ]
     },
     "execution_count": 59,
     "metadata": {},
     "output_type": "execute_result"
    }
   ],
   "source": [
    "dsci_df = pd.DataFrame({'DSCI':west['DSCI']})\n",
    "dsci_df['Seconds']=dsci_df.index.map(pd.Timestamp.timestamp)\n",
    "\n",
    "day = 60*60*24\n",
    "year = 365.2425*day\n",
    "dsci_df['year sin'] = np.sin(dsci_df['Seconds'] * (2*np.pi/year))\n",
    "dsci_df['year cos'] = np.cos(dsci_df['Seconds'] * (2*np.pi/year))\n",
    "dsci_df"
   ]
  },
  {
   "cell_type": "code",
   "execution_count": 60,
   "metadata": {},
   "outputs": [],
   "source": [
    "dsci_df.drop('Seconds', axis=1, inplace=True)"
   ]
  },
  {
   "cell_type": "code",
   "execution_count": 61,
   "metadata": {},
   "outputs": [],
   "source": [
    "def df_to_X_y2(df, windowsize=6):\n",
    "    df_as_np = df.to_numpy()\n",
    "    X = []\n",
    "    y = []\n",
    "    for i in range(len(df_as_np)-windowsize):\n",
    "        row = [r for r in df_as_np[i:i+windowsize]]\n",
    "        X.append(row)\n",
    "        label = df_as_np[i+5][0]\n",
    "        y.append(label)\n",
    "    return np.array(X), np.array(y)"
   ]
  },
  {
   "cell_type": "code",
   "execution_count": 62,
   "metadata": {},
   "outputs": [
    {
     "data": {
      "text/plain": [
       "((1038, 6, 3), (1038,))"
      ]
     },
     "execution_count": 62,
     "metadata": {},
     "output_type": "execute_result"
    }
   ],
   "source": [
    "X2, y2 = df_to_X_y2(dsci_df)\n",
    "X2.shape, y2.shape"
   ]
  },
  {
   "cell_type": "code",
   "execution_count": 63,
   "metadata": {},
   "outputs": [],
   "source": [
    "X2_train, y2_train = X2[:750], y2[:750]\n",
    "X2_val, y2_val = X2[750:850], y2[750:850]\n",
    "X2_test, y2_test = X2[850:], y2[850:]"
   ]
  },
  {
   "cell_type": "code",
   "execution_count": 64,
   "metadata": {},
   "outputs": [],
   "source": [
    "dsci_training_mean = np.mean(X2_train[:, :, 0])\n",
    "temp_training_sd = np.std(X2_train[:, :, 0])\n",
    "\n",
    "def preprocess(X):\n",
    "    X[:, :, 0] = (X[:, :, 0] - dsci_training_mean/temp_training_sd)\n",
    "    return X\n"
   ]
  },
  {
   "cell_type": "code",
   "execution_count": 65,
   "metadata": {},
   "outputs": [
    {
     "data": {
      "text/plain": [
       "array([[[ 1.79446130e+01,  9.65598082e-01, -2.60039120e-01],\n",
       "        [ 1.79446130e+01,  9.27367405e-01, -3.74151970e-01],\n",
       "        [ 1.79446130e+01,  8.75705362e-01, -4.82845853e-01],\n",
       "        [ 1.79446130e+01,  8.11360193e-01, -5.84546523e-01],\n",
       "        [ 1.79446130e+01,  7.35263828e-01, -6.77781014e-01],\n",
       "        [ 1.79446130e+01,  6.48518397e-01, -7.61198981e-01]],\n",
       "\n",
       "       [[ 1.79446130e+01,  9.27367405e-01, -3.74151970e-01],\n",
       "        [ 1.79446130e+01,  8.75705362e-01, -4.82845853e-01],\n",
       "        [ 1.79446130e+01,  8.11360193e-01, -5.84546523e-01],\n",
       "        [ 1.79446130e+01,  7.35263828e-01, -6.77781014e-01],\n",
       "        [ 1.79446130e+01,  6.48518397e-01, -7.61198981e-01],\n",
       "        [ 1.79446130e+01,  5.52380262e-01, -8.33592254e-01]],\n",
       "\n",
       "       [[ 1.79446130e+01,  8.75705362e-01, -4.82845853e-01],\n",
       "        [ 1.79446130e+01,  8.11360193e-01, -5.84546523e-01],\n",
       "        [ 1.79446130e+01,  7.35263828e-01, -6.77781014e-01],\n",
       "        [ 1.79446130e+01,  6.48518397e-01, -7.61198981e-01],\n",
       "        [ 1.79446130e+01,  5.52380262e-01, -8.33592254e-01],\n",
       "        [ 1.79446130e+01,  4.48241823e-01, -8.93912338e-01]],\n",
       "\n",
       "       ...,\n",
       "\n",
       "       [[ 2.69944613e+02, -8.52780297e-01,  5.22269820e-01],\n",
       "        [ 2.69944613e+02, -7.83865196e-01,  6.20931038e-01],\n",
       "        [ 2.80944613e+02, -7.03597120e-01,  7.10599109e-01],\n",
       "        [ 2.80444613e+02, -6.13138616e-01,  7.89975340e-01],\n",
       "        [ 3.02944613e+02, -5.13799825e-01,  8.57910100e-01],\n",
       "        [ 3.04944613e+02, -4.07019503e-01,  9.13419468e-01]],\n",
       "\n",
       "       [[ 2.69944613e+02, -7.83865196e-01,  6.20931038e-01],\n",
       "        [ 2.80944613e+02, -7.03597120e-01,  7.10599109e-01],\n",
       "        [ 2.80444613e+02, -6.13138616e-01,  7.89975340e-01],\n",
       "        [ 3.02944613e+02, -5.13799825e-01,  8.57910100e-01],\n",
       "        [ 3.04944613e+02, -4.07019503e-01,  9.13419468e-01],\n",
       "        [ 3.31444613e+02, -2.94344185e-01,  9.55699483e-01]],\n",
       "\n",
       "       [[ 2.80944613e+02, -7.03597120e-01,  7.10599109e-01],\n",
       "        [ 2.80444613e+02, -6.13138616e-01,  7.89975340e-01],\n",
       "        [ 3.02944613e+02, -5.13799825e-01,  8.57910100e-01],\n",
       "        [ 3.04944613e+02, -4.07019503e-01,  9.13419468e-01],\n",
       "        [ 3.31444613e+02, -2.94344185e-01,  9.55699483e-01],\n",
       "        [ 3.43944613e+02, -1.77405783e-01,  9.84137789e-01]]])"
      ]
     },
     "execution_count": 65,
     "metadata": {},
     "output_type": "execute_result"
    }
   ],
   "source": [
    "preprocess(X2_train)\n",
    "preprocess(X2_val)\n",
    "preprocess(X2_test)"
   ]
  },
  {
   "cell_type": "code",
   "execution_count": 66,
   "metadata": {},
   "outputs": [
    {
     "name": "stdout",
     "output_type": "stream",
     "text": [
      "Model: \"sequential_3\"\n",
      "_________________________________________________________________\n",
      "Layer (type)                 Output Shape              Param #   \n",
      "=================================================================\n",
      "lstm_1 (LSTM)                (None, 64)                17408     \n",
      "_________________________________________________________________\n",
      "dense_6 (Dense)              (None, 8)                 520       \n",
      "_________________________________________________________________\n",
      "dense_7 (Dense)              (None, 1)                 9         \n",
      "=================================================================\n",
      "Total params: 17,937\n",
      "Trainable params: 17,937\n",
      "Non-trainable params: 0\n",
      "_________________________________________________________________\n"
     ]
    }
   ],
   "source": [
    "model4 = Sequential()\n",
    "model4.add(InputLayer((5,3)))\n",
    "model4.add(LSTM(64))\n",
    "model4.add(Dense(8, 'relu'))\n",
    "model4.add(Dense(1, 'linear'))\n",
    "model4.summary()"
   ]
  },
  {
   "cell_type": "code",
   "execution_count": 67,
   "metadata": {},
   "outputs": [],
   "source": [
    "cp4 = ModelCheckpoint('model4/', save_best_only=True)\n",
    "model4.compile(loss=MeanSquaredError(), optimizer = Adam(learning_rate=0.005), metrics=[RootMeanSquaredError()])"
   ]
  },
  {
   "cell_type": "code",
   "execution_count": 68,
   "metadata": {},
   "outputs": [
    {
     "name": "stdout",
     "output_type": "stream",
     "text": [
      "Epoch 1/10\n",
      "WARNING:tensorflow:Model was constructed with shape (None, 5, 3) for input KerasTensor(type_spec=TensorSpec(shape=(None, 5, 3), dtype=tf.float32, name='input_4'), name='input_4', description=\"created by layer 'input_4'\"), but it was called on an input with incompatible shape (None, 6, 3).\n"
     ]
    },
    {
     "name": "stderr",
     "output_type": "stream",
     "text": [
      "WARNING:tensorflow:Model was constructed with shape (None, 5, 3) for input KerasTensor(type_spec=TensorSpec(shape=(None, 5, 3), dtype=tf.float32, name='input_4'), name='input_4', description=\"created by layer 'input_4'\"), but it was called on an input with incompatible shape (None, 6, 3).\n"
     ]
    },
    {
     "name": "stdout",
     "output_type": "stream",
     "text": [
      "WARNING:tensorflow:Model was constructed with shape (None, 5, 3) for input KerasTensor(type_spec=TensorSpec(shape=(None, 5, 3), dtype=tf.float32, name='input_4'), name='input_4', description=\"created by layer 'input_4'\"), but it was called on an input with incompatible shape (None, 6, 3).\n"
     ]
    },
    {
     "name": "stderr",
     "output_type": "stream",
     "text": [
      "WARNING:tensorflow:Model was constructed with shape (None, 5, 3) for input KerasTensor(type_spec=TensorSpec(shape=(None, 5, 3), dtype=tf.float32, name='input_4'), name='input_4', description=\"created by layer 'input_4'\"), but it was called on an input with incompatible shape (None, 6, 3).\n"
     ]
    },
    {
     "name": "stdout",
     "output_type": "stream",
     "text": [
      "24/24 [==============================] - ETA: 0s - loss: 40755.9531 - root_mean_squared_error: 201.8810WARNING:tensorflow:Model was constructed with shape (None, 5, 3) for input KerasTensor(type_spec=TensorSpec(shape=(None, 5, 3), dtype=tf.float32, name='input_4'), name='input_4', description=\"created by layer 'input_4'\"), but it was called on an input with incompatible shape (None, 6, 3).\n"
     ]
    },
    {
     "name": "stderr",
     "output_type": "stream",
     "text": [
      "WARNING:tensorflow:Model was constructed with shape (None, 5, 3) for input KerasTensor(type_spec=TensorSpec(shape=(None, 5, 3), dtype=tf.float32, name='input_4'), name='input_4', description=\"created by layer 'input_4'\"), but it was called on an input with incompatible shape (None, 6, 3).\n"
     ]
    },
    {
     "name": "stdout",
     "output_type": "stream",
     "text": [
      "24/24 [==============================] - 4s 50ms/step - loss: 40755.9531 - root_mean_squared_error: 201.8810 - val_loss: 61827.9609 - val_root_mean_squared_error: 248.6523\n"
     ]
    },
    {
     "name": "stderr",
     "output_type": "stream",
     "text": [
      "WARNING:absl:Found untraced functions such as lstm_cell_2_layer_call_fn, lstm_cell_2_layer_call_and_return_conditional_losses, lstm_cell_2_layer_call_fn, lstm_cell_2_layer_call_and_return_conditional_losses, lstm_cell_2_layer_call_and_return_conditional_losses while saving (showing 5 of 5). These functions will not be directly callable after loading.\n"
     ]
    },
    {
     "name": "stdout",
     "output_type": "stream",
     "text": [
      "INFO:tensorflow:Assets written to: model4/assets\n"
     ]
    },
    {
     "name": "stderr",
     "output_type": "stream",
     "text": [
      "INFO:tensorflow:Assets written to: model4/assets\n"
     ]
    },
    {
     "name": "stdout",
     "output_type": "stream",
     "text": [
      "Epoch 2/10\n",
      "24/24 [==============================] - 0s 11ms/step - loss: 32141.7363 - root_mean_squared_error: 179.2812 - val_loss: 47435.2344 - val_root_mean_squared_error: 217.7963\n"
     ]
    },
    {
     "name": "stderr",
     "output_type": "stream",
     "text": [
      "WARNING:absl:Found untraced functions such as lstm_cell_2_layer_call_fn, lstm_cell_2_layer_call_and_return_conditional_losses, lstm_cell_2_layer_call_fn, lstm_cell_2_layer_call_and_return_conditional_losses, lstm_cell_2_layer_call_and_return_conditional_losses while saving (showing 5 of 5). These functions will not be directly callable after loading.\n"
     ]
    },
    {
     "name": "stdout",
     "output_type": "stream",
     "text": [
      "INFO:tensorflow:Assets written to: model4/assets\n"
     ]
    },
    {
     "name": "stderr",
     "output_type": "stream",
     "text": [
      "INFO:tensorflow:Assets written to: model4/assets\n"
     ]
    },
    {
     "name": "stdout",
     "output_type": "stream",
     "text": [
      "Epoch 3/10\n",
      "24/24 [==============================] - 0s 11ms/step - loss: 22234.8848 - root_mean_squared_error: 149.1137 - val_loss: 32894.0156 - val_root_mean_squared_error: 181.3671\n"
     ]
    },
    {
     "name": "stderr",
     "output_type": "stream",
     "text": [
      "WARNING:absl:Found untraced functions such as lstm_cell_2_layer_call_fn, lstm_cell_2_layer_call_and_return_conditional_losses, lstm_cell_2_layer_call_fn, lstm_cell_2_layer_call_and_return_conditional_losses, lstm_cell_2_layer_call_and_return_conditional_losses while saving (showing 5 of 5). These functions will not be directly callable after loading.\n"
     ]
    },
    {
     "name": "stdout",
     "output_type": "stream",
     "text": [
      "INFO:tensorflow:Assets written to: model4/assets\n"
     ]
    },
    {
     "name": "stderr",
     "output_type": "stream",
     "text": [
      "INFO:tensorflow:Assets written to: model4/assets\n"
     ]
    },
    {
     "name": "stdout",
     "output_type": "stream",
     "text": [
      "Epoch 4/10\n",
      "24/24 [==============================] - 0s 10ms/step - loss: 13244.5000 - root_mean_squared_error: 115.0848 - val_loss: 19662.0820 - val_root_mean_squared_error: 140.2215\n"
     ]
    },
    {
     "name": "stderr",
     "output_type": "stream",
     "text": [
      "WARNING:absl:Found untraced functions such as lstm_cell_2_layer_call_fn, lstm_cell_2_layer_call_and_return_conditional_losses, lstm_cell_2_layer_call_fn, lstm_cell_2_layer_call_and_return_conditional_losses, lstm_cell_2_layer_call_and_return_conditional_losses while saving (showing 5 of 5). These functions will not be directly callable after loading.\n"
     ]
    },
    {
     "name": "stdout",
     "output_type": "stream",
     "text": [
      "INFO:tensorflow:Assets written to: model4/assets\n"
     ]
    },
    {
     "name": "stderr",
     "output_type": "stream",
     "text": [
      "INFO:tensorflow:Assets written to: model4/assets\n"
     ]
    },
    {
     "name": "stdout",
     "output_type": "stream",
     "text": [
      "Epoch 5/10\n",
      "24/24 [==============================] - 0s 10ms/step - loss: 6715.8062 - root_mean_squared_error: 81.9500 - val_loss: 10689.5977 - val_root_mean_squared_error: 103.3905\n"
     ]
    },
    {
     "name": "stderr",
     "output_type": "stream",
     "text": [
      "WARNING:absl:Found untraced functions such as lstm_cell_2_layer_call_fn, lstm_cell_2_layer_call_and_return_conditional_losses, lstm_cell_2_layer_call_fn, lstm_cell_2_layer_call_and_return_conditional_losses, lstm_cell_2_layer_call_and_return_conditional_losses while saving (showing 5 of 5). These functions will not be directly callable after loading.\n"
     ]
    },
    {
     "name": "stdout",
     "output_type": "stream",
     "text": [
      "INFO:tensorflow:Assets written to: model4/assets\n"
     ]
    },
    {
     "name": "stderr",
     "output_type": "stream",
     "text": [
      "INFO:tensorflow:Assets written to: model4/assets\n"
     ]
    },
    {
     "name": "stdout",
     "output_type": "stream",
     "text": [
      "Epoch 6/10\n",
      "24/24 [==============================] - 0s 10ms/step - loss: 3398.9971 - root_mean_squared_error: 58.3009 - val_loss: 5995.5186 - val_root_mean_squared_error: 77.4307\n"
     ]
    },
    {
     "name": "stderr",
     "output_type": "stream",
     "text": [
      "WARNING:absl:Found untraced functions such as lstm_cell_2_layer_call_fn, lstm_cell_2_layer_call_and_return_conditional_losses, lstm_cell_2_layer_call_fn, lstm_cell_2_layer_call_and_return_conditional_losses, lstm_cell_2_layer_call_and_return_conditional_losses while saving (showing 5 of 5). These functions will not be directly callable after loading.\n"
     ]
    },
    {
     "name": "stdout",
     "output_type": "stream",
     "text": [
      "INFO:tensorflow:Assets written to: model4/assets\n"
     ]
    },
    {
     "name": "stderr",
     "output_type": "stream",
     "text": [
      "INFO:tensorflow:Assets written to: model4/assets\n"
     ]
    },
    {
     "name": "stdout",
     "output_type": "stream",
     "text": [
      "Epoch 7/10\n",
      "24/24 [==============================] - 1s 23ms/step - loss: 1904.4237 - root_mean_squared_error: 43.6397 - val_loss: 3629.9297 - val_root_mean_squared_error: 60.2489 0s - loss: 1926.1749 - root_mean_squared_error: 43.888\n"
     ]
    },
    {
     "name": "stderr",
     "output_type": "stream",
     "text": [
      "WARNING:absl:Found untraced functions such as lstm_cell_2_layer_call_fn, lstm_cell_2_layer_call_and_return_conditional_losses, lstm_cell_2_layer_call_fn, lstm_cell_2_layer_call_and_return_conditional_losses, lstm_cell_2_layer_call_and_return_conditional_losses while saving (showing 5 of 5). These functions will not be directly callable after loading.\n"
     ]
    },
    {
     "name": "stdout",
     "output_type": "stream",
     "text": [
      "INFO:tensorflow:Assets written to: model4/assets\n"
     ]
    },
    {
     "name": "stderr",
     "output_type": "stream",
     "text": [
      "INFO:tensorflow:Assets written to: model4/assets\n"
     ]
    },
    {
     "name": "stdout",
     "output_type": "stream",
     "text": [
      "Epoch 8/10\n",
      "24/24 [==============================] - 0s 11ms/step - loss: 1171.4484 - root_mean_squared_error: 34.2264 - val_loss: 2186.1392 - val_root_mean_squared_error: 46.7562\n"
     ]
    },
    {
     "name": "stderr",
     "output_type": "stream",
     "text": [
      "WARNING:absl:Found untraced functions such as lstm_cell_2_layer_call_fn, lstm_cell_2_layer_call_and_return_conditional_losses, lstm_cell_2_layer_call_fn, lstm_cell_2_layer_call_and_return_conditional_losses, lstm_cell_2_layer_call_and_return_conditional_losses while saving (showing 5 of 5). These functions will not be directly callable after loading.\n"
     ]
    },
    {
     "name": "stdout",
     "output_type": "stream",
     "text": [
      "INFO:tensorflow:Assets written to: model4/assets\n"
     ]
    },
    {
     "name": "stderr",
     "output_type": "stream",
     "text": [
      "INFO:tensorflow:Assets written to: model4/assets\n"
     ]
    },
    {
     "name": "stdout",
     "output_type": "stream",
     "text": [
      "Epoch 9/10\n",
      "24/24 [==============================] - 0s 15ms/step - loss: 716.7828 - root_mean_squared_error: 26.7728 - val_loss: 1257.9543 - val_root_mean_squared_error: 35.4677\n"
     ]
    },
    {
     "name": "stderr",
     "output_type": "stream",
     "text": [
      "WARNING:absl:Found untraced functions such as lstm_cell_2_layer_call_fn, lstm_cell_2_layer_call_and_return_conditional_losses, lstm_cell_2_layer_call_fn, lstm_cell_2_layer_call_and_return_conditional_losses, lstm_cell_2_layer_call_and_return_conditional_losses while saving (showing 5 of 5). These functions will not be directly callable after loading.\n"
     ]
    },
    {
     "name": "stdout",
     "output_type": "stream",
     "text": [
      "INFO:tensorflow:Assets written to: model4/assets\n"
     ]
    },
    {
     "name": "stderr",
     "output_type": "stream",
     "text": [
      "INFO:tensorflow:Assets written to: model4/assets\n"
     ]
    },
    {
     "name": "stdout",
     "output_type": "stream",
     "text": [
      "Epoch 10/10\n",
      "24/24 [==============================] - 0s 17ms/step - loss: 437.8701 - root_mean_squared_error: 20.9253 - val_loss: 713.7823 - val_root_mean_squared_error: 26.7167\n"
     ]
    },
    {
     "name": "stderr",
     "output_type": "stream",
     "text": [
      "WARNING:absl:Found untraced functions such as lstm_cell_2_layer_call_fn, lstm_cell_2_layer_call_and_return_conditional_losses, lstm_cell_2_layer_call_fn, lstm_cell_2_layer_call_and_return_conditional_losses, lstm_cell_2_layer_call_and_return_conditional_losses while saving (showing 5 of 5). These functions will not be directly callable after loading.\n"
     ]
    },
    {
     "name": "stdout",
     "output_type": "stream",
     "text": [
      "INFO:tensorflow:Assets written to: model4/assets\n"
     ]
    },
    {
     "name": "stderr",
     "output_type": "stream",
     "text": [
      "INFO:tensorflow:Assets written to: model4/assets\n"
     ]
    }
   ],
   "source": [
    "history = (model4.fit(X2_train, y2_train, validation_data=(X2_val, y2_val), epochs=10, callbacks=[cp4]))"
   ]
  },
  {
   "cell_type": "code",
   "execution_count": 69,
   "metadata": {},
   "outputs": [
    {
     "name": "stdout",
     "output_type": "stream",
     "text": [
      "WARNING:tensorflow:Model was constructed with shape (None, 5, 3) for input KerasTensor(type_spec=TensorSpec(shape=(None, 5, 3), dtype=tf.float32, name='input_4'), name='input_4', description=\"created by layer 'input_4'\"), but it was called on an input with incompatible shape (None, 6, 3).\n"
     ]
    },
    {
     "name": "stderr",
     "output_type": "stream",
     "text": [
      "WARNING:tensorflow:Model was constructed with shape (None, 5, 3) for input KerasTensor(type_spec=TensorSpec(shape=(None, 5, 3), dtype=tf.float32, name='input_4'), name='input_4', description=\"created by layer 'input_4'\"), but it was called on an input with incompatible shape (None, 6, 3).\n"
     ]
    },
    {
     "data": {
      "text/plain": [
       "(     Predictions  Actuals\n",
       " 0      19.325010     19.5\n",
       " 1      19.353203     19.5\n",
       " 2      19.382109     19.5\n",
       " 3      19.411137     19.5\n",
       " 4      19.439680     19.5\n",
       " ..           ...      ...\n",
       " 183   282.496216    282.0\n",
       " 184   297.526489    304.5\n",
       " 185   303.708588    306.5\n",
       " 186   311.497559    333.0\n",
       " 187   313.468506    345.5\n",
       " \n",
       " [188 rows x 2 columns],\n",
       " 11.968407165705448)"
      ]
     },
     "execution_count": 69,
     "metadata": {},
     "output_type": "execute_result"
    },
    {
     "data": {
      "image/png": "[encoded data removed]",
      "text/plain": [
       "<Figure size 720x576 with 1 Axes>"
      ]
     },
     "metadata": {
      "needs_background": "light"
     },
     "output_type": "display_data"
    }
   ],
   "source": [
    "plot_predictions1(9, model4, X2_test, y2_test)"
   ]
  },
  {
   "cell_type": "code",
   "execution_count": 70,
   "metadata": {},
   "outputs": [
    {
     "data": {
      "text/html": [
       "<div>\n",
       "<style scoped>\n",
       "    .dataframe tbody tr th:only-of-type {\n",
       "        vertical-align: middle;\n",
       "    }\n",
       "\n",
       "    .dataframe tbody tr th {\n",
       "        vertical-align: top;\n",
       "    }\n",
       "\n",
       "    .dataframe thead th {\n",
       "        text-align: right;\n",
       "    }\n",
       "</style>\n",
       "<table border=\"1\" class=\"dataframe\">\n",
       "  <thead>\n",
       "    <tr style=\"text-align: right;\">\n",
       "      <th></th>\n",
       "      <th>loss</th>\n",
       "      <th>root_mean_squared_error</th>\n",
       "      <th>val_loss</th>\n",
       "      <th>val_root_mean_squared_error</th>\n",
       "    </tr>\n",
       "  </thead>\n",
       "  <tbody>\n",
       "    <tr>\n",
       "      <th>0</th>\n",
       "      <td>40755.953125</td>\n",
       "      <td>201.881042</td>\n",
       "      <td>61827.960938</td>\n",
       "      <td>248.652283</td>\n",
       "    </tr>\n",
       "    <tr>\n",
       "      <th>1</th>\n",
       "      <td>32141.736328</td>\n",
       "      <td>179.281158</td>\n",
       "      <td>47435.234375</td>\n",
       "      <td>217.796310</td>\n",
       "    </tr>\n",
       "    <tr>\n",
       "      <th>2</th>\n",
       "      <td>22234.884766</td>\n",
       "      <td>149.113663</td>\n",
       "      <td>32894.015625</td>\n",
       "      <td>181.367081</td>\n",
       "    </tr>\n",
       "    <tr>\n",
       "      <th>3</th>\n",
       "      <td>13244.500000</td>\n",
       "      <td>115.084755</td>\n",
       "      <td>19662.082031</td>\n",
       "      <td>140.221542</td>\n",
       "    </tr>\n",
       "    <tr>\n",
       "      <th>4</th>\n",
       "      <td>6715.806152</td>\n",
       "      <td>81.950020</td>\n",
       "      <td>10689.597656</td>\n",
       "      <td>103.390511</td>\n",
       "    </tr>\n",
       "    <tr>\n",
       "      <th>5</th>\n",
       "      <td>3398.997070</td>\n",
       "      <td>58.300919</td>\n",
       "      <td>5995.518555</td>\n",
       "      <td>77.430733</td>\n",
       "    </tr>\n",
       "    <tr>\n",
       "      <th>6</th>\n",
       "      <td>1904.423706</td>\n",
       "      <td>43.639702</td>\n",
       "      <td>3629.929688</td>\n",
       "      <td>60.248898</td>\n",
       "    </tr>\n",
       "    <tr>\n",
       "      <th>7</th>\n",
       "      <td>1171.448364</td>\n",
       "      <td>34.226429</td>\n",
       "      <td>2186.139160</td>\n",
       "      <td>46.756168</td>\n",
       "    </tr>\n",
       "    <tr>\n",
       "      <th>8</th>\n",
       "      <td>716.782837</td>\n",
       "      <td>26.772800</td>\n",
       "      <td>1257.954346</td>\n",
       "      <td>35.467651</td>\n",
       "    </tr>\n",
       "    <tr>\n",
       "      <th>9</th>\n",
       "      <td>437.870056</td>\n",
       "      <td>20.925344</td>\n",
       "      <td>713.782349</td>\n",
       "      <td>26.716705</td>\n",
       "    </tr>\n",
       "  </tbody>\n",
       "</table>\n",
       "</div>"
      ],
      "text/plain": [
       "           loss  root_mean_squared_error      val_loss  \\\n",
       "0  40755.953125               201.881042  61827.960938   \n",
       "1  32141.736328               179.281158  47435.234375   \n",
       "2  22234.884766               149.113663  32894.015625   \n",
       "3  13244.500000               115.084755  19662.082031   \n",
       "4   6715.806152                81.950020  10689.597656   \n",
       "5   3398.997070                58.300919   5995.518555   \n",
       "6   1904.423706                43.639702   3629.929688   \n",
       "7   1171.448364                34.226429   2186.139160   \n",
       "8    716.782837                26.772800   1257.954346   \n",
       "9    437.870056                20.925344    713.782349   \n",
       "\n",
       "   val_root_mean_squared_error  \n",
       "0                   248.652283  \n",
       "1                   217.796310  \n",
       "2                   181.367081  \n",
       "3                   140.221542  \n",
       "4                   103.390511  \n",
       "5                    77.430733  \n",
       "6                    60.248898  \n",
       "7                    46.756168  \n",
       "8                    35.467651  \n",
       "9                    26.716705  "
      ]
     },
     "execution_count": 70,
     "metadata": {},
     "output_type": "execute_result"
    }
   ],
   "source": [
    "history_df = pd.DataFrame(history.history)\n",
    "history_df"
   ]
  },
  {
   "cell_type": "code",
   "execution_count": 71,
   "metadata": {},
   "outputs": [
    {
     "data": {
      "image/png": "[encoded data removed]",
      "text/plain": [
       "<Figure size 432x288 with 1 Axes>"
      ]
     },
     "metadata": {
      "needs_background": "light"
     },
     "output_type": "display_data"
    }
   ],
   "source": [
    "history_df.filter(like='loss').plot();\n",
    "plt.title(\"LSTM MSE (Time Feature) Loss\", fontsize=16)\n",
    "plt.savefig('fig10.png')"
   ]
  },
  {
   "cell_type": "code",
   "execution_count": 72,
   "metadata": {},
   "outputs": [],
   "source": [
    "tmax_dsci_df = pd.concat([west['avg_tmax'], dsci_df], axis=1)"
   ]
  },
  {
   "cell_type": "code",
   "execution_count": 73,
   "metadata": {},
   "outputs": [],
   "source": [
    "prcp_dsci_df = pd.concat([west['total_avg_prcp_inches'], dsci_df], axis=1)"
   ]
  },
  {
   "cell_type": "code",
   "execution_count": 74,
   "metadata": {},
   "outputs": [
    {
     "data": {
      "text/html": [
       "<div>\n",
       "<style scoped>\n",
       "    .dataframe tbody tr th:only-of-type {\n",
       "        vertical-align: middle;\n",
       "    }\n",
       "\n",
       "    .dataframe tbody tr th {\n",
       "        vertical-align: top;\n",
       "    }\n",
       "\n",
       "    .dataframe thead th {\n",
       "        text-align: right;\n",
       "    }\n",
       "</style>\n",
       "<table border=\"1\" class=\"dataframe\">\n",
       "  <thead>\n",
       "    <tr style=\"text-align: right;\">\n",
       "      <th></th>\n",
       "      <th>avg_tmax</th>\n",
       "      <th>DSCI</th>\n",
       "      <th>year sin</th>\n",
       "      <th>year cos</th>\n",
       "    </tr>\n",
       "    <tr>\n",
       "      <th>ValidEnd</th>\n",
       "      <th></th>\n",
       "      <th></th>\n",
       "      <th></th>\n",
       "      <th></th>\n",
       "    </tr>\n",
       "  </thead>\n",
       "  <tbody>\n",
       "    <tr>\n",
       "      <th>2001-01-01</th>\n",
       "      <td>55.340909</td>\n",
       "      <td>0.0</td>\n",
       "      <td>0.008300</td>\n",
       "      <td>0.999966</td>\n",
       "    </tr>\n",
       "    <tr>\n",
       "      <th>2001-01-08</th>\n",
       "      <td>56.907792</td>\n",
       "      <td>15.5</td>\n",
       "      <td>0.128365</td>\n",
       "      <td>0.991727</td>\n",
       "    </tr>\n",
       "    <tr>\n",
       "      <th>2001-01-15</th>\n",
       "      <td>45.813312</td>\n",
       "      <td>29.5</td>\n",
       "      <td>0.246570</td>\n",
       "      <td>0.969125</td>\n",
       "    </tr>\n",
       "    <tr>\n",
       "      <th>2001-01-22</th>\n",
       "      <td>47.125649</td>\n",
       "      <td>15.0</td>\n",
       "      <td>0.361204</td>\n",
       "      <td>0.932487</td>\n",
       "    </tr>\n",
       "    <tr>\n",
       "      <th>2001-01-29</th>\n",
       "      <td>46.303571</td>\n",
       "      <td>28.5</td>\n",
       "      <td>0.470607</td>\n",
       "      <td>0.882343</td>\n",
       "    </tr>\n",
       "  </tbody>\n",
       "</table>\n",
       "</div>"
      ],
      "text/plain": [
       "             avg_tmax  DSCI  year sin  year cos\n",
       "ValidEnd                                       \n",
       "2001-01-01  55.340909   0.0  0.008300  0.999966\n",
       "2001-01-08  56.907792  15.5  0.128365  0.991727\n",
       "2001-01-15  45.813312  29.5  0.246570  0.969125\n",
       "2001-01-22  47.125649  15.0  0.361204  0.932487\n",
       "2001-01-29  46.303571  28.5  0.470607  0.882343"
      ]
     },
     "execution_count": 74,
     "metadata": {},
     "output_type": "execute_result"
    }
   ],
   "source": [
    "tmax_dsci_df.head()"
   ]
  },
  {
   "cell_type": "code",
   "execution_count": 75,
   "metadata": {},
   "outputs": [
    {
     "data": {
      "text/html": [
       "<div>\n",
       "<style scoped>\n",
       "    .dataframe tbody tr th:only-of-type {\n",
       "        vertical-align: middle;\n",
       "    }\n",
       "\n",
       "    .dataframe tbody tr th {\n",
       "        vertical-align: top;\n",
       "    }\n",
       "\n",
       "    .dataframe thead th {\n",
       "        text-align: right;\n",
       "    }\n",
       "</style>\n",
       "<table border=\"1\" class=\"dataframe\">\n",
       "  <thead>\n",
       "    <tr style=\"text-align: right;\">\n",
       "      <th></th>\n",
       "      <th>total_avg_prcp_inches</th>\n",
       "      <th>DSCI</th>\n",
       "      <th>year sin</th>\n",
       "      <th>year cos</th>\n",
       "    </tr>\n",
       "    <tr>\n",
       "      <th>ValidEnd</th>\n",
       "      <th></th>\n",
       "      <th></th>\n",
       "      <th></th>\n",
       "      <th></th>\n",
       "    </tr>\n",
       "  </thead>\n",
       "  <tbody>\n",
       "    <tr>\n",
       "      <th>2001-01-01</th>\n",
       "      <td>0.000000</td>\n",
       "      <td>0.0</td>\n",
       "      <td>0.008300</td>\n",
       "      <td>0.999966</td>\n",
       "    </tr>\n",
       "    <tr>\n",
       "      <th>2001-01-08</th>\n",
       "      <td>0.573636</td>\n",
       "      <td>15.5</td>\n",
       "      <td>0.128365</td>\n",
       "      <td>0.991727</td>\n",
       "    </tr>\n",
       "    <tr>\n",
       "      <th>2001-01-15</th>\n",
       "      <td>1.895909</td>\n",
       "      <td>29.5</td>\n",
       "      <td>0.246570</td>\n",
       "      <td>0.969125</td>\n",
       "    </tr>\n",
       "    <tr>\n",
       "      <th>2001-01-22</th>\n",
       "      <td>0.072500</td>\n",
       "      <td>15.0</td>\n",
       "      <td>0.361204</td>\n",
       "      <td>0.932487</td>\n",
       "    </tr>\n",
       "    <tr>\n",
       "      <th>2001-01-29</th>\n",
       "      <td>1.511818</td>\n",
       "      <td>28.5</td>\n",
       "      <td>0.470607</td>\n",
       "      <td>0.882343</td>\n",
       "    </tr>\n",
       "  </tbody>\n",
       "</table>\n",
       "</div>"
      ],
      "text/plain": [
       "            total_avg_prcp_inches  DSCI  year sin  year cos\n",
       "ValidEnd                                                   \n",
       "2001-01-01               0.000000   0.0  0.008300  0.999966\n",
       "2001-01-08               0.573636  15.5  0.128365  0.991727\n",
       "2001-01-15               1.895909  29.5  0.246570  0.969125\n",
       "2001-01-22               0.072500  15.0  0.361204  0.932487\n",
       "2001-01-29               1.511818  28.5  0.470607  0.882343"
      ]
     },
     "execution_count": 75,
     "metadata": {},
     "output_type": "execute_result"
    }
   ],
   "source": [
    "prcp_dsci_df.head()"
   ]
  },
  {
   "cell_type": "code",
   "execution_count": 76,
   "metadata": {},
   "outputs": [],
   "source": [
    "def df_to_X_y3(df, windowsize=7):\n",
    "    df_as_np = df.to_numpy()\n",
    "    X = []\n",
    "    y = []\n",
    "    for i in range(len(df_as_np)-windowsize):\n",
    "        row = [r for r in df_as_np[i:i+windowsize]]\n",
    "        X.append(row)\n",
    "        label = df_as_np[i+windowsize][0], df_as_np[i+windowsize][1]\n",
    "        y.append(label)\n",
    "    return np.array(X), np.array(y)"
   ]
  },
  {
   "cell_type": "code",
   "execution_count": 77,
   "metadata": {},
   "outputs": [
    {
     "data": {
      "text/plain": [
       "((1037, 7, 4), (1037, 2))"
      ]
     },
     "execution_count": 77,
     "metadata": {},
     "output_type": "execute_result"
    }
   ],
   "source": [
    "X3, y3 = df_to_X_y3(prcp_dsci_df)\n",
    "X3.shape, y3.shape"
   ]
  },
  {
   "cell_type": "code",
   "execution_count": 78,
   "metadata": {},
   "outputs": [],
   "source": [
    "X3_train, y3_train = X3[:750], y3[:750]\n",
    "X3_val, y3_val = X3[750:850], y3[750:850]\n",
    "X3_test, y3_test = X3[850:], y3[850:]"
   ]
  },
  {
   "cell_type": "code",
   "execution_count": 79,
   "metadata": {},
   "outputs": [],
   "source": [
    "#Standardizing for Preprocessing. Followed video instructions, but could try a MinMax scaler next time\n",
    "prcp_training_mean3 = np.mean(X3_train[:, :, 0])\n",
    "prcp_training_std3 = np.mean(X3_train[:, :, 0])\n",
    "\n",
    "dsci_training_mean3 = np.mean(X3_train[:, :, 1])\n",
    "dsci_training_sd3 = np.std(X3_train[:, :, 1])\n",
    "\n",
    "def preprocess3(X):\n",
    "    X[:, :, 0] = (X[:, :, 0] - prcp_training_mean3/prcp_training_std3)\n",
    "    X[:, :, 1] = (X[:, :,1] - dsci_training_mean3/dsci_training_sd3)\n",
    "    return X\n",
    "def preprocess_out(X):\n",
    "    X[:, 0] = (X[:, 0] - prcp_training_mean3/prcp_training_std3)\n",
    "    X[:, 1] = (X[:,1] - dsci_training_mean3/dsci_training_sd3)\n",
    "    return X\n",
    "\n"
   ]
  },
  {
   "cell_type": "code",
   "execution_count": 80,
   "metadata": {},
   "outputs": [
    {
     "data": {
      "text/plain": [
       "array([[[-3.33333333e-02,  1.79432586e+01,  9.65598082e-01,\n",
       "         -2.60039120e-01],\n",
       "        [-2.27500000e-01,  1.79432586e+01,  9.27367405e-01,\n",
       "         -3.74151970e-01],\n",
       "        [-7.27500000e-01,  1.79432586e+01,  8.75705362e-01,\n",
       "         -4.82845853e-01],\n",
       "        ...,\n",
       "        [-7.60000000e-01,  1.79432586e+01,  7.35263828e-01,\n",
       "         -6.77781014e-01],\n",
       "        [-7.49166667e-01,  1.79432586e+01,  6.48518397e-01,\n",
       "         -7.61198981e-01],\n",
       "        [-9.82500000e-01,  1.79432586e+01,  5.52380262e-01,\n",
       "         -8.33592254e-01]],\n",
       "\n",
       "       [[-2.27500000e-01,  1.79432586e+01,  9.27367405e-01,\n",
       "         -3.74151970e-01],\n",
       "        [-7.27500000e-01,  1.79432586e+01,  8.75705362e-01,\n",
       "         -4.82845853e-01],\n",
       "        [-5.22500000e-01,  1.79432586e+01,  8.11360193e-01,\n",
       "         -5.84546523e-01],\n",
       "        ...,\n",
       "        [-7.49166667e-01,  1.79432586e+01,  6.48518397e-01,\n",
       "         -7.61198981e-01],\n",
       "        [-9.82500000e-01,  1.79432586e+01,  5.52380262e-01,\n",
       "         -8.33592254e-01],\n",
       "        [-9.65000000e-01,  1.79432586e+01,  4.48241823e-01,\n",
       "         -8.93912338e-01]],\n",
       "\n",
       "       [[-7.27500000e-01,  1.79432586e+01,  8.75705362e-01,\n",
       "         -4.82845853e-01],\n",
       "        [-5.22500000e-01,  1.79432586e+01,  8.11360193e-01,\n",
       "         -5.84546523e-01],\n",
       "        [-7.60000000e-01,  1.79432586e+01,  7.35263828e-01,\n",
       "         -6.77781014e-01],\n",
       "        ...,\n",
       "        [-9.82500000e-01,  1.79432586e+01,  5.52380262e-01,\n",
       "         -8.33592254e-01],\n",
       "        [-9.65000000e-01,  1.79432586e+01,  4.48241823e-01,\n",
       "         -8.93912338e-01],\n",
       "        [-2.50833333e-01,  1.79432586e+01,  3.37611351e-01,\n",
       "         -9.41285597e-01]],\n",
       "\n",
       "       ...,\n",
       "\n",
       "       [[-9.83333333e-01,  2.69943259e+02, -9.09344302e-01,\n",
       "          4.16044398e-01],\n",
       "        [-1.00000000e+00,  2.69943259e+02, -8.52780297e-01,\n",
       "          5.22269820e-01],\n",
       "        [-2.33409091e-01,  2.69943259e+02, -7.83865196e-01,\n",
       "          6.20931038e-01],\n",
       "        ...,\n",
       "        [-3.73181818e-01,  2.80443259e+02, -6.13138616e-01,\n",
       "          7.89975340e-01],\n",
       "        [-9.21893939e-01,  3.02943259e+02, -5.13799825e-01,\n",
       "          8.57910100e-01],\n",
       "        [-9.24545455e-01,  3.04943259e+02, -4.07019503e-01,\n",
       "          9.13419468e-01]],\n",
       "\n",
       "       [[-1.00000000e+00,  2.69943259e+02, -8.52780297e-01,\n",
       "          5.22269820e-01],\n",
       "        [-2.33409091e-01,  2.69943259e+02, -7.83865196e-01,\n",
       "          6.20931038e-01],\n",
       "        [-4.62727273e-01,  2.80943259e+02, -7.03597120e-01,\n",
       "          7.10599109e-01],\n",
       "        ...,\n",
       "        [-9.21893939e-01,  3.02943259e+02, -5.13799825e-01,\n",
       "          8.57910100e-01],\n",
       "        [-9.24545455e-01,  3.04943259e+02, -4.07019503e-01,\n",
       "          9.13419468e-01],\n",
       "        [-9.25000000e-02,  3.31443259e+02, -2.94344185e-01,\n",
       "          9.55699483e-01]],\n",
       "\n",
       "       [[-2.33409091e-01,  2.69943259e+02, -7.83865196e-01,\n",
       "          6.20931038e-01],\n",
       "        [-4.62727273e-01,  2.80943259e+02, -7.03597120e-01,\n",
       "          7.10599109e-01],\n",
       "        [-3.73181818e-01,  2.80443259e+02, -6.13138616e-01,\n",
       "          7.89975340e-01],\n",
       "        ...,\n",
       "        [-9.24545455e-01,  3.04943259e+02, -4.07019503e-01,\n",
       "          9.13419468e-01],\n",
       "        [-9.25000000e-02,  3.31443259e+02, -2.94344185e-01,\n",
       "          9.55699483e-01],\n",
       "        [-2.74545455e-01,  3.43943259e+02, -1.77405783e-01,\n",
       "          9.84137789e-01]]])"
      ]
     },
     "execution_count": 80,
     "metadata": {},
     "output_type": "execute_result"
    }
   ],
   "source": [
    "preprocess3(X3_train)\n",
    "preprocess3(X3_val)\n",
    "preprocess3(X3_test)"
   ]
  },
  {
   "cell_type": "code",
   "execution_count": 81,
   "metadata": {},
   "outputs": [
    {
     "data": {
      "text/plain": [
       "array([[[-1.03333333e+00,  1.69432586e+01, -3.44019180e-02,\n",
       "         -1.26003912e+00],\n",
       "        [-1.78424143e+00,  1.63865171e+01, -6.29374023e-01,\n",
       "         -1.93089340e+00],\n",
       "        [-7.27500000e-01,  1.79432586e+01,  8.75705362e-01,\n",
       "         -4.82845853e-01],\n",
       "        ...,\n",
       "        [-7.60000000e-01,  1.79432586e+01,  7.35263828e-01,\n",
       "         -6.77781014e-01],\n",
       "        [-7.49166667e-01,  1.79432586e+01,  6.48518397e-01,\n",
       "         -7.61198981e-01],\n",
       "        [-9.82500000e-01,  1.79432586e+01,  5.52380262e-01,\n",
       "         -8.33592254e-01]],\n",
       "\n",
       "       [[-1.22750000e+00,  1.69432586e+01, -7.26325951e-02,\n",
       "         -1.37415197e+00],\n",
       "        [-2.28424143e+00,  1.63865171e+01, -6.81036065e-01,\n",
       "         -2.03958728e+00],\n",
       "        [-5.22500000e-01,  1.79432586e+01,  8.11360193e-01,\n",
       "         -5.84546523e-01],\n",
       "        ...,\n",
       "        [-7.49166667e-01,  1.79432586e+01,  6.48518397e-01,\n",
       "         -7.61198981e-01],\n",
       "        [-9.82500000e-01,  1.79432586e+01,  5.52380262e-01,\n",
       "         -8.33592254e-01],\n",
       "        [-9.65000000e-01,  1.79432586e+01,  4.48241823e-01,\n",
       "         -8.93912338e-01]],\n",
       "\n",
       "       [[-1.72750000e+00,  1.69432586e+01, -1.24294638e-01,\n",
       "         -1.48284585e+00],\n",
       "        [-2.07924143e+00,  1.63865171e+01, -7.45381235e-01,\n",
       "         -2.14128795e+00],\n",
       "        [-7.60000000e-01,  1.79432586e+01,  7.35263828e-01,\n",
       "         -6.77781014e-01],\n",
       "        ...,\n",
       "        [-9.82500000e-01,  1.79432586e+01,  5.52380262e-01,\n",
       "         -8.33592254e-01],\n",
       "        [-9.65000000e-01,  1.79432586e+01,  4.48241823e-01,\n",
       "         -8.93912338e-01],\n",
       "        [-2.50833333e-01,  1.79432586e+01,  3.37611351e-01,\n",
       "         -9.41285597e-01]],\n",
       "\n",
       "       ...,\n",
       "\n",
       "       [[-1.98333333e+00,  2.68943259e+02, -1.90934430e+00,\n",
       "         -5.83955602e-01],\n",
       "        [-2.55674143e+00,  2.68386517e+02, -2.40952172e+00,\n",
       "         -1.03447161e+00],\n",
       "        [-2.33409091e-01,  2.69943259e+02, -7.83865196e-01,\n",
       "          6.20931038e-01],\n",
       "        ...,\n",
       "        [-3.73181818e-01,  2.80443259e+02, -6.13138616e-01,\n",
       "          7.89975340e-01],\n",
       "        [-9.21893939e-01,  3.02943259e+02, -5.13799825e-01,\n",
       "          8.57910100e-01],\n",
       "        [-9.24545455e-01,  3.04943259e+02, -4.07019503e-01,\n",
       "          9.13419468e-01]],\n",
       "\n",
       "       [[-2.00000000e+00,  2.68943259e+02, -1.85278030e+00,\n",
       "         -4.77730180e-01],\n",
       "        [-1.79015052e+00,  2.68386517e+02, -2.34060662e+00,\n",
       "         -9.35810390e-01],\n",
       "        [-4.62727273e-01,  2.80943259e+02, -7.03597120e-01,\n",
       "          7.10599109e-01],\n",
       "        ...,\n",
       "        [-9.21893939e-01,  3.02943259e+02, -5.13799825e-01,\n",
       "          8.57910100e-01],\n",
       "        [-9.24545455e-01,  3.04943259e+02, -4.07019503e-01,\n",
       "          9.13419468e-01],\n",
       "        [-9.25000000e-02,  3.31443259e+02, -2.94344185e-01,\n",
       "          9.55699483e-01]],\n",
       "\n",
       "       [[-1.23340909e+00,  2.68943259e+02, -1.78386520e+00,\n",
       "         -3.79068962e-01],\n",
       "        [-2.01946870e+00,  2.79386517e+02, -2.26033855e+00,\n",
       "         -8.46142319e-01],\n",
       "        [-3.73181818e-01,  2.80443259e+02, -6.13138616e-01,\n",
       "          7.89975340e-01],\n",
       "        ...,\n",
       "        [-9.24545455e-01,  3.04943259e+02, -4.07019503e-01,\n",
       "          9.13419468e-01],\n",
       "        [-9.25000000e-02,  3.31443259e+02, -2.94344185e-01,\n",
       "          9.55699483e-01],\n",
       "        [-2.74545455e-01,  3.43943259e+02, -1.77405783e-01,\n",
       "          9.84137789e-01]]])"
      ]
     },
     "execution_count": 81,
     "metadata": {},
     "output_type": "execute_result"
    }
   ],
   "source": [
    "preprocess_out(X3_train)\n",
    "preprocess_out(X3_val)\n",
    "preprocess_out(X3_test)"
   ]
  },
  {
   "cell_type": "code",
   "execution_count": 82,
   "metadata": {},
   "outputs": [
    {
     "name": "stdout",
     "output_type": "stream",
     "text": [
      "Model: \"sequential_4\"\n",
      "_________________________________________________________________\n",
      "Layer (type)                 Output Shape              Param #   \n",
      "=================================================================\n",
      "lstm_2 (LSTM)                (None, 64)                17664     \n",
      "_________________________________________________________________\n",
      "dense_8 (Dense)              (None, 8)                 520       \n",
      "_________________________________________________________________\n",
      "dense_9 (Dense)              (None, 2)                 18        \n",
      "=================================================================\n",
      "Total params: 18,202\n",
      "Trainable params: 18,202\n",
      "Non-trainable params: 0\n",
      "_________________________________________________________________\n"
     ]
    }
   ],
   "source": [
    "model5 = Sequential()\n",
    "model5.add(InputLayer((7,4)))\n",
    "model5.add(LSTM(64))\n",
    "model5.add(Dense(8, 'relu'))\n",
    "model5.add(Dense(2, 'linear'))\n",
    "model5.summary()"
   ]
  },
  {
   "cell_type": "code",
   "execution_count": 83,
   "metadata": {},
   "outputs": [],
   "source": [
    "cp5 = ModelCheckpoint('model5/', save_best_only=True)\n",
    "model5.compile(loss=MeanSquaredError(), optimizer = Adam(learning_rate=0.005), metrics=[RootMeanSquaredError()])"
   ]
  },
  {
   "cell_type": "code",
   "execution_count": 84,
   "metadata": {},
   "outputs": [
    {
     "name": "stdout",
     "output_type": "stream",
     "text": [
      "Epoch 1/10\n",
      "24/24 [==============================] - 11s 113ms/step - loss: 21340.4668 - root_mean_squared_error: 146.0838 - val_loss: 31933.9395 - val_root_mean_squared_error: 178.7007\n"
     ]
    },
    {
     "name": "stderr",
     "output_type": "stream",
     "text": [
      "WARNING:absl:Found untraced functions such as lstm_cell_3_layer_call_fn, lstm_cell_3_layer_call_and_return_conditional_losses, lstm_cell_3_layer_call_fn, lstm_cell_3_layer_call_and_return_conditional_losses, lstm_cell_3_layer_call_and_return_conditional_losses while saving (showing 5 of 5). These functions will not be directly callable after loading.\n"
     ]
    },
    {
     "name": "stdout",
     "output_type": "stream",
     "text": [
      "INFO:tensorflow:Assets written to: model5/assets\n"
     ]
    },
    {
     "name": "stderr",
     "output_type": "stream",
     "text": [
      "INFO:tensorflow:Assets written to: model5/assets\n"
     ]
    },
    {
     "name": "stdout",
     "output_type": "stream",
     "text": [
      "Epoch 2/10\n",
      "24/24 [==============================] - 0s 13ms/step - loss: 18592.6914 - root_mean_squared_error: 136.3550 - val_loss: 26878.1484 - val_root_mean_squared_error: 163.9456\n"
     ]
    },
    {
     "name": "stderr",
     "output_type": "stream",
     "text": [
      "WARNING:absl:Found untraced functions such as lstm_cell_3_layer_call_fn, lstm_cell_3_layer_call_and_return_conditional_losses, lstm_cell_3_layer_call_fn, lstm_cell_3_layer_call_and_return_conditional_losses, lstm_cell_3_layer_call_and_return_conditional_losses while saving (showing 5 of 5). These functions will not be directly callable after loading.\n"
     ]
    },
    {
     "name": "stdout",
     "output_type": "stream",
     "text": [
      "INFO:tensorflow:Assets written to: model5/assets\n"
     ]
    },
    {
     "name": "stderr",
     "output_type": "stream",
     "text": [
      "INFO:tensorflow:Assets written to: model5/assets\n"
     ]
    },
    {
     "name": "stdout",
     "output_type": "stream",
     "text": [
      "Epoch 3/10\n",
      "24/24 [==============================] - 0s 20ms/step - loss: 14286.3174 - root_mean_squared_error: 119.5254 - val_loss: 20046.1387 - val_root_mean_squared_error: 141.5844\n"
     ]
    },
    {
     "name": "stderr",
     "output_type": "stream",
     "text": [
      "WARNING:absl:Found untraced functions such as lstm_cell_3_layer_call_fn, lstm_cell_3_layer_call_and_return_conditional_losses, lstm_cell_3_layer_call_fn, lstm_cell_3_layer_call_and_return_conditional_losses, lstm_cell_3_layer_call_and_return_conditional_losses while saving (showing 5 of 5). These functions will not be directly callable after loading.\n"
     ]
    },
    {
     "name": "stdout",
     "output_type": "stream",
     "text": [
      "INFO:tensorflow:Assets written to: model5/assets\n"
     ]
    },
    {
     "name": "stderr",
     "output_type": "stream",
     "text": [
      "INFO:tensorflow:Assets written to: model5/assets\n"
     ]
    },
    {
     "name": "stdout",
     "output_type": "stream",
     "text": [
      "Epoch 4/10\n",
      "24/24 [==============================] - 1s 22ms/step - loss: 9350.6699 - root_mean_squared_error: 96.6989 - val_loss: 12845.2822 - val_root_mean_squared_error: 113.3370\n"
     ]
    },
    {
     "name": "stderr",
     "output_type": "stream",
     "text": [
      "WARNING:absl:Found untraced functions such as lstm_cell_3_layer_call_fn, lstm_cell_3_layer_call_and_return_conditional_losses, lstm_cell_3_layer_call_fn, lstm_cell_3_layer_call_and_return_conditional_losses, lstm_cell_3_layer_call_and_return_conditional_losses while saving (showing 5 of 5). These functions will not be directly callable after loading.\n"
     ]
    },
    {
     "name": "stdout",
     "output_type": "stream",
     "text": [
      "INFO:tensorflow:Assets written to: model5/assets\n"
     ]
    },
    {
     "name": "stderr",
     "output_type": "stream",
     "text": [
      "INFO:tensorflow:Assets written to: model5/assets\n"
     ]
    },
    {
     "name": "stdout",
     "output_type": "stream",
     "text": [
      "Epoch 5/10\n",
      "24/24 [==============================] - 0s 16ms/step - loss: 5157.4888 - root_mean_squared_error: 71.8157 - val_loss: 7283.2495 - val_root_mean_squared_error: 85.3419\n"
     ]
    },
    {
     "name": "stderr",
     "output_type": "stream",
     "text": [
      "WARNING:absl:Found untraced functions such as lstm_cell_3_layer_call_fn, lstm_cell_3_layer_call_and_return_conditional_losses, lstm_cell_3_layer_call_fn, lstm_cell_3_layer_call_and_return_conditional_losses, lstm_cell_3_layer_call_and_return_conditional_losses while saving (showing 5 of 5). These functions will not be directly callable after loading.\n"
     ]
    },
    {
     "name": "stdout",
     "output_type": "stream",
     "text": [
      "INFO:tensorflow:Assets written to: model5/assets\n"
     ]
    },
    {
     "name": "stderr",
     "output_type": "stream",
     "text": [
      "INFO:tensorflow:Assets written to: model5/assets\n"
     ]
    },
    {
     "name": "stdout",
     "output_type": "stream",
     "text": [
      "Epoch 6/10\n",
      "24/24 [==============================] - 0s 10ms/step - loss: 2580.1189 - root_mean_squared_error: 50.7949 - val_loss: 4090.9385 - val_root_mean_squared_error: 63.9604\n"
     ]
    },
    {
     "name": "stderr",
     "output_type": "stream",
     "text": [
      "WARNING:absl:Found untraced functions such as lstm_cell_3_layer_call_fn, lstm_cell_3_layer_call_and_return_conditional_losses, lstm_cell_3_layer_call_fn, lstm_cell_3_layer_call_and_return_conditional_losses, lstm_cell_3_layer_call_and_return_conditional_losses while saving (showing 5 of 5). These functions will not be directly callable after loading.\n"
     ]
    },
    {
     "name": "stdout",
     "output_type": "stream",
     "text": [
      "INFO:tensorflow:Assets written to: model5/assets\n"
     ]
    },
    {
     "name": "stderr",
     "output_type": "stream",
     "text": [
      "INFO:tensorflow:Assets written to: model5/assets\n"
     ]
    },
    {
     "name": "stdout",
     "output_type": "stream",
     "text": [
      "Epoch 7/10\n",
      "24/24 [==============================] - 1s 24ms/step - loss: 1427.8463 - root_mean_squared_error: 37.7869 - val_loss: 2408.7688 - val_root_mean_squared_error: 49.0792\n"
     ]
    },
    {
     "name": "stderr",
     "output_type": "stream",
     "text": [
      "WARNING:absl:Found untraced functions such as lstm_cell_3_layer_call_fn, lstm_cell_3_layer_call_and_return_conditional_losses, lstm_cell_3_layer_call_fn, lstm_cell_3_layer_call_and_return_conditional_losses, lstm_cell_3_layer_call_and_return_conditional_losses while saving (showing 5 of 5). These functions will not be directly callable after loading.\n"
     ]
    },
    {
     "name": "stdout",
     "output_type": "stream",
     "text": [
      "INFO:tensorflow:Assets written to: model5/assets\n"
     ]
    },
    {
     "name": "stderr",
     "output_type": "stream",
     "text": [
      "INFO:tensorflow:Assets written to: model5/assets\n"
     ]
    },
    {
     "name": "stdout",
     "output_type": "stream",
     "text": [
      "Epoch 8/10\n",
      "24/24 [==============================] - 0s 10ms/step - loss: 864.0034 - root_mean_squared_error: 29.3939 - val_loss: 1488.1753 - val_root_mean_squared_error: 38.5769\n"
     ]
    },
    {
     "name": "stderr",
     "output_type": "stream",
     "text": [
      "WARNING:absl:Found untraced functions such as lstm_cell_3_layer_call_fn, lstm_cell_3_layer_call_and_return_conditional_losses, lstm_cell_3_layer_call_fn, lstm_cell_3_layer_call_and_return_conditional_losses, lstm_cell_3_layer_call_and_return_conditional_losses while saving (showing 5 of 5). These functions will not be directly callable after loading.\n"
     ]
    },
    {
     "name": "stdout",
     "output_type": "stream",
     "text": [
      "INFO:tensorflow:Assets written to: model5/assets\n"
     ]
    },
    {
     "name": "stderr",
     "output_type": "stream",
     "text": [
      "INFO:tensorflow:Assets written to: model5/assets\n"
     ]
    },
    {
     "name": "stdout",
     "output_type": "stream",
     "text": [
      "Epoch 9/10\n",
      "24/24 [==============================] - 0s 10ms/step - loss: 552.9808 - root_mean_squared_error: 23.5155 - val_loss: 910.1055 - val_root_mean_squared_error: 30.1680\n"
     ]
    },
    {
     "name": "stderr",
     "output_type": "stream",
     "text": [
      "WARNING:absl:Found untraced functions such as lstm_cell_3_layer_call_fn, lstm_cell_3_layer_call_and_return_conditional_losses, lstm_cell_3_layer_call_fn, lstm_cell_3_layer_call_and_return_conditional_losses, lstm_cell_3_layer_call_and_return_conditional_losses while saving (showing 5 of 5). These functions will not be directly callable after loading.\n"
     ]
    },
    {
     "name": "stdout",
     "output_type": "stream",
     "text": [
      "INFO:tensorflow:Assets written to: model5/assets\n"
     ]
    },
    {
     "name": "stderr",
     "output_type": "stream",
     "text": [
      "INFO:tensorflow:Assets written to: model5/assets\n"
     ]
    },
    {
     "name": "stdout",
     "output_type": "stream",
     "text": [
      "Epoch 10/10\n",
      "24/24 [==============================] - 1s 27ms/step - loss: 361.7173 - root_mean_squared_error: 19.0189 - val_loss: 551.8815 - val_root_mean_squared_error: 23.4922\n"
     ]
    },
    {
     "name": "stderr",
     "output_type": "stream",
     "text": [
      "WARNING:absl:Found untraced functions such as lstm_cell_3_layer_call_fn, lstm_cell_3_layer_call_and_return_conditional_losses, lstm_cell_3_layer_call_fn, lstm_cell_3_layer_call_and_return_conditional_losses, lstm_cell_3_layer_call_and_return_conditional_losses while saving (showing 5 of 5). These functions will not be directly callable after loading.\n"
     ]
    },
    {
     "name": "stdout",
     "output_type": "stream",
     "text": [
      "INFO:tensorflow:Assets written to: model5/assets\n"
     ]
    },
    {
     "name": "stderr",
     "output_type": "stream",
     "text": [
      "INFO:tensorflow:Assets written to: model5/assets\n"
     ]
    }
   ],
   "source": [
    "history = (model5.fit(X3_train, y3_train, validation_data=(X3_val, y3_val), epochs=10, callbacks=[cp5]))"
   ]
  },
  {
   "cell_type": "code",
   "execution_count": 85,
   "metadata": {},
   "outputs": [],
   "source": [
    "def plot_predictions2(fignum, model, X, y, start=0, end = 100):\n",
    "    predictions = model.predict(X)\n",
    "    prcp_preds, dsci_preds = predictions[:, 0], predictions[:, 1]\n",
    "    prcp_actuals, dsci_actuals = y[:, 0], y[:, 1]\n",
    "    df = pd.DataFrame(data= {\n",
    "        'Precipitation Predictions': prcp_preds, \n",
    "        'Precipitation Actuals': prcp_actuals,\n",
    "        'DSCI Pred': dsci_preds,\n",
    "        'DSCI Actuals': dsci_actuals\n",
    "        })\n",
    "    plt.plot(df['Precipitation Predictions'][start:end], label='Precipitation Pred')\n",
    "    plt.plot(df['Precipitation Actuals'][start:end], label='Precipitation Actual')\n",
    "    plt.plot(df['DSCI Pred'][start:end], label = 'DSCI Predictions')\n",
    "    plt.plot(df['DSCI Actuals'][start:end], label = 'DSCI Actuals')\n",
    "    plt.legend(loc= 'upper left')\n",
    "    plt.savefig(f'fig{fignum}.png')\n",
    "\n",
    "    return df[start:end]\n"
   ]
  },
  {
   "cell_type": "code",
   "execution_count": 86,
   "metadata": {},
   "outputs": [
    {
     "data": {
      "text/html": [
       "<div>\n",
       "<style scoped>\n",
       "    .dataframe tbody tr th:only-of-type {\n",
       "        vertical-align: middle;\n",
       "    }\n",
       "\n",
       "    .dataframe tbody tr th {\n",
       "        vertical-align: top;\n",
       "    }\n",
       "\n",
       "    .dataframe thead th {\n",
       "        text-align: right;\n",
       "    }\n",
       "</style>\n",
       "<table border=\"1\" class=\"dataframe\">\n",
       "  <thead>\n",
       "    <tr style=\"text-align: right;\">\n",
       "      <th></th>\n",
       "      <th>Precipitation Predictions</th>\n",
       "      <th>Precipitation Actuals</th>\n",
       "      <th>DSCI Pred</th>\n",
       "      <th>DSCI Actuals</th>\n",
       "    </tr>\n",
       "  </thead>\n",
       "  <tbody>\n",
       "    <tr>\n",
       "      <th>0</th>\n",
       "      <td>0.459759</td>\n",
       "      <td>0.035000</td>\n",
       "      <td>15.254169</td>\n",
       "      <td>19.5</td>\n",
       "    </tr>\n",
       "    <tr>\n",
       "      <th>1</th>\n",
       "      <td>0.466109</td>\n",
       "      <td>0.749167</td>\n",
       "      <td>16.143427</td>\n",
       "      <td>19.5</td>\n",
       "    </tr>\n",
       "    <tr>\n",
       "      <th>2</th>\n",
       "      <td>0.521639</td>\n",
       "      <td>0.023333</td>\n",
       "      <td>13.648584</td>\n",
       "      <td>19.5</td>\n",
       "    </tr>\n",
       "    <tr>\n",
       "      <th>3</th>\n",
       "      <td>0.461301</td>\n",
       "      <td>0.010000</td>\n",
       "      <td>17.247097</td>\n",
       "      <td>19.5</td>\n",
       "    </tr>\n",
       "    <tr>\n",
       "      <th>4</th>\n",
       "      <td>0.460573</td>\n",
       "      <td>0.005000</td>\n",
       "      <td>18.355185</td>\n",
       "      <td>19.5</td>\n",
       "    </tr>\n",
       "    <tr>\n",
       "      <th>...</th>\n",
       "      <td>...</td>\n",
       "      <td>...</td>\n",
       "      <td>...</td>\n",
       "      <td>...</td>\n",
       "    </tr>\n",
       "    <tr>\n",
       "      <th>95</th>\n",
       "      <td>0.317263</td>\n",
       "      <td>0.760000</td>\n",
       "      <td>8.957705</td>\n",
       "      <td>8.5</td>\n",
       "    </tr>\n",
       "    <tr>\n",
       "      <th>96</th>\n",
       "      <td>0.477157</td>\n",
       "      <td>1.267500</td>\n",
       "      <td>3.458208</td>\n",
       "      <td>8.5</td>\n",
       "    </tr>\n",
       "    <tr>\n",
       "      <th>97</th>\n",
       "      <td>0.487586</td>\n",
       "      <td>0.435000</td>\n",
       "      <td>3.921844</td>\n",
       "      <td>3.5</td>\n",
       "    </tr>\n",
       "    <tr>\n",
       "      <th>98</th>\n",
       "      <td>0.499943</td>\n",
       "      <td>0.490000</td>\n",
       "      <td>2.861746</td>\n",
       "      <td>3.0</td>\n",
       "    </tr>\n",
       "    <tr>\n",
       "      <th>99</th>\n",
       "      <td>0.502883</td>\n",
       "      <td>0.037500</td>\n",
       "      <td>2.792195</td>\n",
       "      <td>3.0</td>\n",
       "    </tr>\n",
       "  </tbody>\n",
       "</table>\n",
       "<p>100 rows × 4 columns</p>\n",
       "</div>"
      ],
      "text/plain": [
       "    Precipitation Predictions  Precipitation Actuals  DSCI Pred  DSCI Actuals\n",
       "0                    0.459759               0.035000  15.254169          19.5\n",
       "1                    0.466109               0.749167  16.143427          19.5\n",
       "2                    0.521639               0.023333  13.648584          19.5\n",
       "3                    0.461301               0.010000  17.247097          19.5\n",
       "4                    0.460573               0.005000  18.355185          19.5\n",
       "..                        ...                    ...        ...           ...\n",
       "95                   0.317263               0.760000   8.957705           8.5\n",
       "96                   0.477157               1.267500   3.458208           8.5\n",
       "97                   0.487586               0.435000   3.921844           3.5\n",
       "98                   0.499943               0.490000   2.861746           3.0\n",
       "99                   0.502883               0.037500   2.792195           3.0\n",
       "\n",
       "[100 rows x 4 columns]"
      ]
     },
     "execution_count": 86,
     "metadata": {},
     "output_type": "execute_result"
    },
    {
     "data": {
      "image/png": "[encoded data removed]",
      "text/plain": [
       "<Figure size 432x288 with 1 Axes>"
      ]
     },
     "metadata": {
      "needs_background": "light"
     },
     "output_type": "display_data"
    }
   ],
   "source": [
    "plot_predictions2(11, model5, X3_test, y3_test)"
   ]
  },
  {
   "cell_type": "markdown",
   "metadata": {},
   "source": []
  },
  {
   "cell_type": "code",
   "execution_count": 87,
   "metadata": {},
   "outputs": [],
   "source": [
    "def postprocess_dsci(arr):\n",
    "    arr = (arr*dsci_training_sd3) + dsci_training_mean3\n",
    "    return arr\n",
    "\n",
    "def postprocess_prcp(arr):\n",
    "    arr = (arr*prcp_training_std3) + prcp_training_mean3\n",
    "    return arr"
   ]
  },
  {
   "cell_type": "code",
   "execution_count": 88,
   "metadata": {},
   "outputs": [],
   "source": [
    "def plot_predictions2(fignum, model, X, y, start=0, end = 100):\n",
    "    predictions = model.predict(X)\n",
    "    prcp_preds, dsci_preds = postprocess_prcp(predictions[:, 0]), postprocess_dsci(predictions[:, 1])\n",
    "    prcp_actuals, dsci_actuals = postprocess_prcp(y[:, 0]), postprocess_dsci(y[:, 1])\n",
    "    df = pd.DataFrame(data= {\n",
    "        'Precipitation Predictions': prcp_preds, \n",
    "        'Precipitation Actuals': prcp_actuals,\n",
    "        'DSCI Pred': dsci_preds,\n",
    "        'DSCI Actuals': dsci_actuals\n",
    "        })\n",
    "    plt.plot(df['Precipitation Predictions'][start:end])\n",
    "    plt.plot(df['Precipitation Actuals'][start:end])\n",
    "    plt.plot(df['DSCI Pred'][start:end])\n",
    "    plt.plot(df['DSCI Actuals'][start:end])\n",
    "    plt.savefig(f'fig{str(fignum)}.png')\n",
    "    return df[start:end]"
   ]
  },
  {
   "cell_type": "code",
   "execution_count": 89,
   "metadata": {},
   "outputs": [
    {
     "data": {
      "image/png": "[encoded data removed]",
      "text/plain": [
       "<Figure size 432x288 with 1 Axes>"
      ]
     },
     "metadata": {
      "needs_background": "light"
     },
     "output_type": "display_data"
    }
   ],
   "source": [
    "post_processed_df = plot_predictions2(12, model5, X3_test, y3_test)"
   ]
  },
  {
   "cell_type": "code",
   "execution_count": 90,
   "metadata": {},
   "outputs": [
    {
     "data": {
      "text/plain": [
       "[<matplotlib.lines.Line2D at 0x15076f130>]"
      ]
     },
     "execution_count": 90,
     "metadata": {},
     "output_type": "execute_result"
    },
    {
     "data": {
      "image/png": "[encoded data removed]",
      "text/plain": [
       "<Figure size 432x288 with 1 Axes>"
      ]
     },
     "metadata": {
      "needs_background": "light"
     },
     "output_type": "display_data"
    }
   ],
   "source": [
    "start, end = 0, 100\n",
    "plt.plot(post_processed_df['DSCI Pred'][start: end])\n",
    "plt.plot(post_processed_df['DSCI Actuals'][start: end])"
   ]
  },
  {
   "cell_type": "code",
   "execution_count": 91,
   "metadata": {},
   "outputs": [
    {
     "data": {
      "text/plain": [
       "[<matplotlib.lines.Line2D at 0x150acbf70>]"
      ]
     },
     "execution_count": 91,
     "metadata": {},
     "output_type": "execute_result"
    },
    {
     "data": {
      "image/png": "[encoded data removed]",
      "text/plain": [
       "<Figure size 432x288 with 1 Axes>"
      ]
     },
     "metadata": {
      "needs_background": "light"
     },
     "output_type": "display_data"
    }
   ],
   "source": [
    "start, end = 0, 100\n",
    "plt.plot(post_processed_df['Precipitation Predictions'][start: end])\n",
    "plt.plot(post_processed_df['Precipitation Actuals'][start: end])"
   ]
  },
  {
   "cell_type": "code",
   "execution_count": 92,
   "metadata": {},
   "outputs": [
    {
     "data": {
      "text/html": [
       "<div>\n",
       "<style scoped>\n",
       "    .dataframe tbody tr th:only-of-type {\n",
       "        vertical-align: middle;\n",
       "    }\n",
       "\n",
       "    .dataframe tbody tr th {\n",
       "        vertical-align: top;\n",
       "    }\n",
       "\n",
       "    .dataframe thead th {\n",
       "        text-align: right;\n",
       "    }\n",
       "</style>\n",
       "<table border=\"1\" class=\"dataframe\">\n",
       "  <thead>\n",
       "    <tr style=\"text-align: right;\">\n",
       "      <th></th>\n",
       "      <th>loss</th>\n",
       "      <th>root_mean_squared_error</th>\n",
       "      <th>val_loss</th>\n",
       "      <th>val_root_mean_squared_error</th>\n",
       "    </tr>\n",
       "  </thead>\n",
       "  <tbody>\n",
       "    <tr>\n",
       "      <th>0</th>\n",
       "      <td>21340.466797</td>\n",
       "      <td>146.083771</td>\n",
       "      <td>31933.939453</td>\n",
       "      <td>178.700699</td>\n",
       "    </tr>\n",
       "    <tr>\n",
       "      <th>1</th>\n",
       "      <td>18592.691406</td>\n",
       "      <td>136.355026</td>\n",
       "      <td>26878.148438</td>\n",
       "      <td>163.945572</td>\n",
       "    </tr>\n",
       "    <tr>\n",
       "      <th>2</th>\n",
       "      <td>14286.317383</td>\n",
       "      <td>119.525375</td>\n",
       "      <td>20046.138672</td>\n",
       "      <td>141.584381</td>\n",
       "    </tr>\n",
       "    <tr>\n",
       "      <th>3</th>\n",
       "      <td>9350.669922</td>\n",
       "      <td>96.698860</td>\n",
       "      <td>12845.282227</td>\n",
       "      <td>113.337029</td>\n",
       "    </tr>\n",
       "    <tr>\n",
       "      <th>4</th>\n",
       "      <td>5157.488770</td>\n",
       "      <td>71.815659</td>\n",
       "      <td>7283.249512</td>\n",
       "      <td>85.341949</td>\n",
       "    </tr>\n",
       "    <tr>\n",
       "      <th>5</th>\n",
       "      <td>2580.118896</td>\n",
       "      <td>50.794872</td>\n",
       "      <td>4090.938477</td>\n",
       "      <td>63.960445</td>\n",
       "    </tr>\n",
       "    <tr>\n",
       "      <th>6</th>\n",
       "      <td>1427.846313</td>\n",
       "      <td>37.786854</td>\n",
       "      <td>2408.768799</td>\n",
       "      <td>49.079208</td>\n",
       "    </tr>\n",
       "    <tr>\n",
       "      <th>7</th>\n",
       "      <td>864.003357</td>\n",
       "      <td>29.393932</td>\n",
       "      <td>1488.175293</td>\n",
       "      <td>38.576874</td>\n",
       "    </tr>\n",
       "    <tr>\n",
       "      <th>8</th>\n",
       "      <td>552.980774</td>\n",
       "      <td>23.515543</td>\n",
       "      <td>910.105530</td>\n",
       "      <td>30.167953</td>\n",
       "    </tr>\n",
       "    <tr>\n",
       "      <th>9</th>\n",
       "      <td>361.717255</td>\n",
       "      <td>19.018867</td>\n",
       "      <td>551.881531</td>\n",
       "      <td>23.492159</td>\n",
       "    </tr>\n",
       "  </tbody>\n",
       "</table>\n",
       "</div>"
      ],
      "text/plain": [
       "           loss  root_mean_squared_error      val_loss  \\\n",
       "0  21340.466797               146.083771  31933.939453   \n",
       "1  18592.691406               136.355026  26878.148438   \n",
       "2  14286.317383               119.525375  20046.138672   \n",
       "3   9350.669922                96.698860  12845.282227   \n",
       "4   5157.488770                71.815659   7283.249512   \n",
       "5   2580.118896                50.794872   4090.938477   \n",
       "6   1427.846313                37.786854   2408.768799   \n",
       "7    864.003357                29.393932   1488.175293   \n",
       "8    552.980774                23.515543    910.105530   \n",
       "9    361.717255                19.018867    551.881531   \n",
       "\n",
       "   val_root_mean_squared_error  \n",
       "0                   178.700699  \n",
       "1                   163.945572  \n",
       "2                   141.584381  \n",
       "3                   113.337029  \n",
       "4                    85.341949  \n",
       "5                    63.960445  \n",
       "6                    49.079208  \n",
       "7                    38.576874  \n",
       "8                    30.167953  \n",
       "9                    23.492159  "
      ]
     },
     "execution_count": 92,
     "metadata": {},
     "output_type": "execute_result"
    }
   ],
   "source": [
    "history_df = pd.DataFrame(history.history)\n",
    "history_df"
   ]
  },
  {
   "cell_type": "code",
   "execution_count": 93,
   "metadata": {},
   "outputs": [
    {
     "data": {
      "image/png": "[encoded data removed]",
      "text/plain": [
       "<Figure size 432x288 with 1 Axes>"
      ]
     },
     "metadata": {
      "needs_background": "light"
     },
     "output_type": "display_data"
    }
   ],
   "source": [
    "history_df.filter(like='loss').plot();\n",
    "plt.title(\"LSTM MSE Loss (Precipitation & Time Features)\", fontsize=16)\n",
    "plt.savefig('fig13.png')"
   ]
  },
  {
   "cell_type": "code",
   "execution_count": 94,
   "metadata": {},
   "outputs": [
    {
     "data": {
      "text/plain": [
       "((1037, 7, 4), (1037, 2))"
      ]
     },
     "execution_count": 94,
     "metadata": {},
     "output_type": "execute_result"
    }
   ],
   "source": [
    "X4, y4 = df_to_X_y3(tmax_dsci_df)\n",
    "X4.shape, y4.shape"
   ]
  },
  {
   "cell_type": "code",
   "execution_count": 95,
   "metadata": {},
   "outputs": [],
   "source": [
    "X4_train, y4_train = X4[:750], y4[:750]\n",
    "X4_val, y4_val = X4[750:850], y4[750:850]\n",
    "X4_test, y4_test = X4[850:], y4[850:]"
   ]
  },
  {
   "cell_type": "code",
   "execution_count": 96,
   "metadata": {},
   "outputs": [
    {
     "data": {
      "text/plain": [
       "array([[[ 6.48452381e+01,  1.79432586e+01,  9.65598082e-01,\n",
       "         -2.60039120e-01],\n",
       "        [ 6.68095238e+01,  1.79432586e+01,  9.27367405e-01,\n",
       "         -3.74151970e-01],\n",
       "        [ 6.71130952e+01,  1.79432586e+01,  8.75705362e-01,\n",
       "         -4.82845853e-01],\n",
       "        ...,\n",
       "        [ 7.00535714e+01,  1.79432586e+01,  7.35263828e-01,\n",
       "         -6.77781014e-01],\n",
       "        [ 7.27797619e+01,  1.79432586e+01,  6.48518397e-01,\n",
       "         -7.61198981e-01],\n",
       "        [ 7.89464286e+01,  1.79432586e+01,  5.52380262e-01,\n",
       "         -8.33592254e-01]],\n",
       "\n",
       "       [[ 6.68095238e+01,  1.79432586e+01,  9.27367405e-01,\n",
       "         -3.74151970e-01],\n",
       "        [ 6.71130952e+01,  1.79432586e+01,  8.75705362e-01,\n",
       "         -4.82845853e-01],\n",
       "        [ 7.46130952e+01,  1.79432586e+01,  8.11360193e-01,\n",
       "         -5.84546523e-01],\n",
       "        ...,\n",
       "        [ 7.27797619e+01,  1.79432586e+01,  6.48518397e-01,\n",
       "         -7.61198981e-01],\n",
       "        [ 7.89464286e+01,  1.79432586e+01,  5.52380262e-01,\n",
       "         -8.33592254e-01],\n",
       "        [ 8.20535714e+01,  1.79432586e+01,  4.48241823e-01,\n",
       "         -8.93912338e-01]],\n",
       "\n",
       "       [[ 6.71130952e+01,  1.79432586e+01,  8.75705362e-01,\n",
       "         -4.82845853e-01],\n",
       "        [ 7.46130952e+01,  1.79432586e+01,  8.11360193e-01,\n",
       "         -5.84546523e-01],\n",
       "        [ 7.00535714e+01,  1.79432586e+01,  7.35263828e-01,\n",
       "         -6.77781014e-01],\n",
       "        ...,\n",
       "        [ 7.89464286e+01,  1.79432586e+01,  5.52380262e-01,\n",
       "         -8.33592254e-01],\n",
       "        [ 8.20535714e+01,  1.79432586e+01,  4.48241823e-01,\n",
       "         -8.93912338e-01],\n",
       "        [ 7.52559524e+01,  1.79432586e+01,  3.37611351e-01,\n",
       "         -9.41285597e-01]],\n",
       "\n",
       "       ...,\n",
       "\n",
       "       [[ 6.73023810e+01,  2.69943259e+02, -9.09344302e-01,\n",
       "          4.16044398e-01],\n",
       "        [ 7.28821429e+01,  2.69943259e+02, -8.52780297e-01,\n",
       "          5.22269820e-01],\n",
       "        [ 6.23613636e+01,  2.69943259e+02, -7.83865196e-01,\n",
       "          6.20931038e-01],\n",
       "        ...,\n",
       "        [ 5.82387987e+01,  2.80443259e+02, -6.13138616e-01,\n",
       "          7.89975340e-01],\n",
       "        [ 5.53215368e+01,  3.02943259e+02, -5.13799825e-01,\n",
       "          8.57910100e-01],\n",
       "        [ 5.64415584e+01,  3.04943259e+02, -4.07019503e-01,\n",
       "          9.13419468e-01]],\n",
       "\n",
       "       [[ 7.28821429e+01,  2.69943259e+02, -8.52780297e-01,\n",
       "          5.22269820e-01],\n",
       "        [ 6.23613636e+01,  2.69943259e+02, -7.83865196e-01,\n",
       "          6.20931038e-01],\n",
       "        [ 5.68425325e+01,  2.80943259e+02, -7.03597120e-01,\n",
       "          7.10599109e-01],\n",
       "        ...,\n",
       "        [ 5.53215368e+01,  3.02943259e+02, -5.13799825e-01,\n",
       "          8.57910100e-01],\n",
       "        [ 5.64415584e+01,  3.04943259e+02, -4.07019503e-01,\n",
       "          9.13419468e-01],\n",
       "        [ 5.15245671e+01,  3.31443259e+02, -2.94344185e-01,\n",
       "          9.55699483e-01]],\n",
       "\n",
       "       [[ 6.23613636e+01,  2.69943259e+02, -7.83865196e-01,\n",
       "          6.20931038e-01],\n",
       "        [ 5.68425325e+01,  2.80943259e+02, -7.03597120e-01,\n",
       "          7.10599109e-01],\n",
       "        [ 5.82387987e+01,  2.80443259e+02, -6.13138616e-01,\n",
       "          7.89975340e-01],\n",
       "        ...,\n",
       "        [ 5.64415584e+01,  3.04943259e+02, -4.07019503e-01,\n",
       "          9.13419468e-01],\n",
       "        [ 5.15245671e+01,  3.31443259e+02, -2.94344185e-01,\n",
       "          9.55699483e-01],\n",
       "        [ 5.25560065e+01,  3.43943259e+02, -1.77405783e-01,\n",
       "          9.84137789e-01]]])"
      ]
     },
     "execution_count": 96,
     "metadata": {},
     "output_type": "execute_result"
    }
   ],
   "source": [
    "preprocess3(X4_train)\n",
    "preprocess3(X4_val)\n",
    "preprocess3(X4_test)"
   ]
  },
  {
   "cell_type": "code",
   "execution_count": 97,
   "metadata": {},
   "outputs": [
    {
     "data": {
      "text/plain": [
       "array([[[ 6.38452381e+01,  1.69432586e+01, -3.44019180e-02,\n",
       "         -1.26003912e+00],\n",
       "        [ 6.52527824e+01,  1.63865171e+01, -6.29374023e-01,\n",
       "         -1.93089340e+00],\n",
       "        [ 6.71130952e+01,  1.79432586e+01,  8.75705362e-01,\n",
       "         -4.82845853e-01],\n",
       "        ...,\n",
       "        [ 7.00535714e+01,  1.79432586e+01,  7.35263828e-01,\n",
       "         -6.77781014e-01],\n",
       "        [ 7.27797619e+01,  1.79432586e+01,  6.48518397e-01,\n",
       "         -7.61198981e-01],\n",
       "        [ 7.89464286e+01,  1.79432586e+01,  5.52380262e-01,\n",
       "         -8.33592254e-01]],\n",
       "\n",
       "       [[ 6.58095238e+01,  1.69432586e+01, -7.26325951e-02,\n",
       "         -1.37415197e+00],\n",
       "        [ 6.55563538e+01,  1.63865171e+01, -6.81036065e-01,\n",
       "         -2.03958728e+00],\n",
       "        [ 7.46130952e+01,  1.79432586e+01,  8.11360193e-01,\n",
       "         -5.84546523e-01],\n",
       "        ...,\n",
       "        [ 7.27797619e+01,  1.79432586e+01,  6.48518397e-01,\n",
       "         -7.61198981e-01],\n",
       "        [ 7.89464286e+01,  1.79432586e+01,  5.52380262e-01,\n",
       "         -8.33592254e-01],\n",
       "        [ 8.20535714e+01,  1.79432586e+01,  4.48241823e-01,\n",
       "         -8.93912338e-01]],\n",
       "\n",
       "       [[ 6.61130952e+01,  1.69432586e+01, -1.24294638e-01,\n",
       "         -1.48284585e+00],\n",
       "        [ 7.30563538e+01,  1.63865171e+01, -7.45381235e-01,\n",
       "         -2.14128795e+00],\n",
       "        [ 7.00535714e+01,  1.79432586e+01,  7.35263828e-01,\n",
       "         -6.77781014e-01],\n",
       "        ...,\n",
       "        [ 7.89464286e+01,  1.79432586e+01,  5.52380262e-01,\n",
       "         -8.33592254e-01],\n",
       "        [ 8.20535714e+01,  1.79432586e+01,  4.48241823e-01,\n",
       "         -8.93912338e-01],\n",
       "        [ 7.52559524e+01,  1.79432586e+01,  3.37611351e-01,\n",
       "         -9.41285597e-01]],\n",
       "\n",
       "       ...,\n",
       "\n",
       "       [[ 6.63023810e+01,  2.68943259e+02, -1.90934430e+00,\n",
       "         -5.83955602e-01],\n",
       "        [ 7.13254014e+01,  2.68386517e+02, -2.40952172e+00,\n",
       "         -1.03447161e+00],\n",
       "        [ 6.23613636e+01,  2.69943259e+02, -7.83865196e-01,\n",
       "          6.20931038e-01],\n",
       "        ...,\n",
       "        [ 5.82387987e+01,  2.80443259e+02, -6.13138616e-01,\n",
       "          7.89975340e-01],\n",
       "        [ 5.53215368e+01,  3.02943259e+02, -5.13799825e-01,\n",
       "          8.57910100e-01],\n",
       "        [ 5.64415584e+01,  3.04943259e+02, -4.07019503e-01,\n",
       "          9.13419468e-01]],\n",
       "\n",
       "       [[ 7.18821429e+01,  2.68943259e+02, -1.85278030e+00,\n",
       "         -4.77730180e-01],\n",
       "        [ 6.08046222e+01,  2.68386517e+02, -2.34060662e+00,\n",
       "         -9.35810390e-01],\n",
       "        [ 5.68425325e+01,  2.80943259e+02, -7.03597120e-01,\n",
       "          7.10599109e-01],\n",
       "        ...,\n",
       "        [ 5.53215368e+01,  3.02943259e+02, -5.13799825e-01,\n",
       "          8.57910100e-01],\n",
       "        [ 5.64415584e+01,  3.04943259e+02, -4.07019503e-01,\n",
       "          9.13419468e-01],\n",
       "        [ 5.15245671e+01,  3.31443259e+02, -2.94344185e-01,\n",
       "          9.55699483e-01]],\n",
       "\n",
       "       [[ 6.13613636e+01,  2.68943259e+02, -1.78386520e+00,\n",
       "         -3.79068962e-01],\n",
       "        [ 5.52857910e+01,  2.79386517e+02, -2.26033855e+00,\n",
       "         -8.46142319e-01],\n",
       "        [ 5.82387987e+01,  2.80443259e+02, -6.13138616e-01,\n",
       "          7.89975340e-01],\n",
       "        ...,\n",
       "        [ 5.64415584e+01,  3.04943259e+02, -4.07019503e-01,\n",
       "          9.13419468e-01],\n",
       "        [ 5.15245671e+01,  3.31443259e+02, -2.94344185e-01,\n",
       "          9.55699483e-01],\n",
       "        [ 5.25560065e+01,  3.43943259e+02, -1.77405783e-01,\n",
       "          9.84137789e-01]]])"
      ]
     },
     "execution_count": 97,
     "metadata": {},
     "output_type": "execute_result"
    }
   ],
   "source": [
    "preprocess_out(X4_train)\n",
    "preprocess_out(X4_val)\n",
    "preprocess_out(X4_test)"
   ]
  },
  {
   "cell_type": "code",
   "execution_count": 98,
   "metadata": {},
   "outputs": [
    {
     "name": "stdout",
     "output_type": "stream",
     "text": [
      "Model: \"sequential_5\"\n",
      "_________________________________________________________________\n",
      "Layer (type)                 Output Shape              Param #   \n",
      "=================================================================\n",
      "lstm_3 (LSTM)                (None, 64)                17664     \n",
      "_________________________________________________________________\n",
      "dense_10 (Dense)             (None, 8)                 520       \n",
      "_________________________________________________________________\n",
      "dense_11 (Dense)             (None, 2)                 18        \n",
      "=================================================================\n",
      "Total params: 18,202\n",
      "Trainable params: 18,202\n",
      "Non-trainable params: 0\n",
      "_________________________________________________________________\n"
     ]
    }
   ],
   "source": [
    "model6 = Sequential()\n",
    "model6.add(InputLayer((7,4)))\n",
    "model6.add(LSTM(64))\n",
    "model6.add(Dense(8, 'relu'))\n",
    "model6.add(Dense(2, 'linear'))\n",
    "model6.summary()"
   ]
  },
  {
   "cell_type": "code",
   "execution_count": 99,
   "metadata": {},
   "outputs": [],
   "source": [
    "cp6 = ModelCheckpoint('model6/', save_best_only=True)\n",
    "model6.compile(loss=MeanSquaredError(), optimizer = Adam(learning_rate=0.005), metrics=[RootMeanSquaredError()])"
   ]
  },
  {
   "cell_type": "code",
   "execution_count": 100,
   "metadata": {},
   "outputs": [
    {
     "name": "stdout",
     "output_type": "stream",
     "text": [
      "Epoch 1/10\n",
      "24/24 [==============================] - 3s 36ms/step - loss: 23830.6367 - root_mean_squared_error: 154.3717 - val_loss: 34991.1406 - val_root_mean_squared_error: 187.0592\n"
     ]
    },
    {
     "name": "stderr",
     "output_type": "stream",
     "text": [
      "WARNING:absl:Found untraced functions such as lstm_cell_4_layer_call_fn, lstm_cell_4_layer_call_and_return_conditional_losses, lstm_cell_4_layer_call_fn, lstm_cell_4_layer_call_and_return_conditional_losses, lstm_cell_4_layer_call_and_return_conditional_losses while saving (showing 5 of 5). These functions will not be directly callable after loading.\n"
     ]
    },
    {
     "name": "stdout",
     "output_type": "stream",
     "text": [
      "INFO:tensorflow:Assets written to: model6/assets\n"
     ]
    },
    {
     "name": "stderr",
     "output_type": "stream",
     "text": [
      "INFO:tensorflow:Assets written to: model6/assets\n"
     ]
    },
    {
     "name": "stdout",
     "output_type": "stream",
     "text": [
      "Epoch 2/10\n",
      "24/24 [==============================] - 0s 10ms/step - loss: 21834.5195 - root_mean_squared_error: 147.7651 - val_loss: 30714.8359 - val_root_mean_squared_error: 175.2565\n"
     ]
    },
    {
     "name": "stderr",
     "output_type": "stream",
     "text": [
      "WARNING:absl:Found untraced functions such as lstm_cell_4_layer_call_fn, lstm_cell_4_layer_call_and_return_conditional_losses, lstm_cell_4_layer_call_fn, lstm_cell_4_layer_call_and_return_conditional_losses, lstm_cell_4_layer_call_and_return_conditional_losses while saving (showing 5 of 5). These functions will not be directly callable after loading.\n"
     ]
    },
    {
     "name": "stdout",
     "output_type": "stream",
     "text": [
      "INFO:tensorflow:Assets written to: model6/assets\n"
     ]
    },
    {
     "name": "stderr",
     "output_type": "stream",
     "text": [
      "INFO:tensorflow:Assets written to: model6/assets\n"
     ]
    },
    {
     "name": "stdout",
     "output_type": "stream",
     "text": [
      "Epoch 3/10\n",
      "24/24 [==============================] - 0s 14ms/step - loss: 16943.9062 - root_mean_squared_error: 130.1688 - val_loss: 22680.1895 - val_root_mean_squared_error: 150.5994\n"
     ]
    },
    {
     "name": "stderr",
     "output_type": "stream",
     "text": [
      "WARNING:absl:Found untraced functions such as lstm_cell_4_layer_call_fn, lstm_cell_4_layer_call_and_return_conditional_losses, lstm_cell_4_layer_call_fn, lstm_cell_4_layer_call_and_return_conditional_losses, lstm_cell_4_layer_call_and_return_conditional_losses while saving (showing 5 of 5). These functions will not be directly callable after loading.\n"
     ]
    },
    {
     "name": "stdout",
     "output_type": "stream",
     "text": [
      "INFO:tensorflow:Assets written to: model6/assets\n"
     ]
    },
    {
     "name": "stderr",
     "output_type": "stream",
     "text": [
      "INFO:tensorflow:Assets written to: model6/assets\n"
     ]
    },
    {
     "name": "stdout",
     "output_type": "stream",
     "text": [
      "Epoch 4/10\n",
      "24/24 [==============================] - 0s 10ms/step - loss: 11150.1240 - root_mean_squared_error: 105.5941 - val_loss: 15046.7217 - val_root_mean_squared_error: 122.6651\n"
     ]
    },
    {
     "name": "stderr",
     "output_type": "stream",
     "text": [
      "WARNING:absl:Found untraced functions such as lstm_cell_4_layer_call_fn, lstm_cell_4_layer_call_and_return_conditional_losses, lstm_cell_4_layer_call_fn, lstm_cell_4_layer_call_and_return_conditional_losses, lstm_cell_4_layer_call_and_return_conditional_losses while saving (showing 5 of 5). These functions will not be directly callable after loading.\n"
     ]
    },
    {
     "name": "stdout",
     "output_type": "stream",
     "text": [
      "INFO:tensorflow:Assets written to: model6/assets\n"
     ]
    },
    {
     "name": "stderr",
     "output_type": "stream",
     "text": [
      "INFO:tensorflow:Assets written to: model6/assets\n"
     ]
    },
    {
     "name": "stdout",
     "output_type": "stream",
     "text": [
      "Epoch 5/10\n",
      "24/24 [==============================] - 0s 14ms/step - loss: 6695.4312 - root_mean_squared_error: 81.8256 - val_loss: 9251.3184 - val_root_mean_squared_error: 96.1838\n"
     ]
    },
    {
     "name": "stderr",
     "output_type": "stream",
     "text": [
      "WARNING:absl:Found untraced functions such as lstm_cell_4_layer_call_fn, lstm_cell_4_layer_call_and_return_conditional_losses, lstm_cell_4_layer_call_fn, lstm_cell_4_layer_call_and_return_conditional_losses, lstm_cell_4_layer_call_and_return_conditional_losses while saving (showing 5 of 5). These functions will not be directly callable after loading.\n"
     ]
    },
    {
     "name": "stdout",
     "output_type": "stream",
     "text": [
      "INFO:tensorflow:Assets written to: model6/assets\n"
     ]
    },
    {
     "name": "stderr",
     "output_type": "stream",
     "text": [
      "INFO:tensorflow:Assets written to: model6/assets\n"
     ]
    },
    {
     "name": "stdout",
     "output_type": "stream",
     "text": [
      "Epoch 6/10\n",
      "24/24 [==============================] - 0s 11ms/step - loss: 3790.9587 - root_mean_squared_error: 61.5708 - val_loss: 5557.5049 - val_root_mean_squared_error: 74.5487\n"
     ]
    },
    {
     "name": "stderr",
     "output_type": "stream",
     "text": [
      "WARNING:absl:Found untraced functions such as lstm_cell_4_layer_call_fn, lstm_cell_4_layer_call_and_return_conditional_losses, lstm_cell_4_layer_call_fn, lstm_cell_4_layer_call_and_return_conditional_losses, lstm_cell_4_layer_call_and_return_conditional_losses while saving (showing 5 of 5). These functions will not be directly callable after loading.\n"
     ]
    },
    {
     "name": "stdout",
     "output_type": "stream",
     "text": [
      "INFO:tensorflow:Assets written to: model6/assets\n"
     ]
    },
    {
     "name": "stderr",
     "output_type": "stream",
     "text": [
      "INFO:tensorflow:Assets written to: model6/assets\n"
     ]
    },
    {
     "name": "stdout",
     "output_type": "stream",
     "text": [
      "Epoch 7/10\n",
      "24/24 [==============================] - 0s 15ms/step - loss: 2217.8989 - root_mean_squared_error: 47.0946 - val_loss: 3417.8752 - val_root_mean_squared_error: 58.4626\n"
     ]
    },
    {
     "name": "stderr",
     "output_type": "stream",
     "text": [
      "WARNING:absl:Found untraced functions such as lstm_cell_4_layer_call_fn, lstm_cell_4_layer_call_and_return_conditional_losses, lstm_cell_4_layer_call_fn, lstm_cell_4_layer_call_and_return_conditional_losses, lstm_cell_4_layer_call_and_return_conditional_losses while saving (showing 5 of 5). These functions will not be directly callable after loading.\n"
     ]
    },
    {
     "name": "stdout",
     "output_type": "stream",
     "text": [
      "INFO:tensorflow:Assets written to: model6/assets\n"
     ]
    },
    {
     "name": "stderr",
     "output_type": "stream",
     "text": [
      "INFO:tensorflow:Assets written to: model6/assets\n"
     ]
    },
    {
     "name": "stdout",
     "output_type": "stream",
     "text": [
      "Epoch 8/10\n",
      "24/24 [==============================] - 0s 12ms/step - loss: 1403.0916 - root_mean_squared_error: 37.4579 - val_loss: 2153.3484 - val_root_mean_squared_error: 46.4042\n"
     ]
    },
    {
     "name": "stderr",
     "output_type": "stream",
     "text": [
      "WARNING:absl:Found untraced functions such as lstm_cell_4_layer_call_fn, lstm_cell_4_layer_call_and_return_conditional_losses, lstm_cell_4_layer_call_fn, lstm_cell_4_layer_call_and_return_conditional_losses, lstm_cell_4_layer_call_and_return_conditional_losses while saving (showing 5 of 5). These functions will not be directly callable after loading.\n"
     ]
    },
    {
     "name": "stdout",
     "output_type": "stream",
     "text": [
      "INFO:tensorflow:Assets written to: model6/assets\n"
     ]
    },
    {
     "name": "stderr",
     "output_type": "stream",
     "text": [
      "INFO:tensorflow:Assets written to: model6/assets\n"
     ]
    },
    {
     "name": "stdout",
     "output_type": "stream",
     "text": [
      "Epoch 9/10\n",
      "24/24 [==============================] - 0s 19ms/step - loss: 925.8687 - root_mean_squared_error: 30.4281 - val_loss: 1443.1400 - val_root_mean_squared_error: 37.9887\n"
     ]
    },
    {
     "name": "stderr",
     "output_type": "stream",
     "text": [
      "WARNING:absl:Found untraced functions such as lstm_cell_4_layer_call_fn, lstm_cell_4_layer_call_and_return_conditional_losses, lstm_cell_4_layer_call_fn, lstm_cell_4_layer_call_and_return_conditional_losses, lstm_cell_4_layer_call_and_return_conditional_losses while saving (showing 5 of 5). These functions will not be directly callable after loading.\n"
     ]
    },
    {
     "name": "stdout",
     "output_type": "stream",
     "text": [
      "INFO:tensorflow:Assets written to: model6/assets\n"
     ]
    },
    {
     "name": "stderr",
     "output_type": "stream",
     "text": [
      "INFO:tensorflow:Assets written to: model6/assets\n"
     ]
    },
    {
     "name": "stdout",
     "output_type": "stream",
     "text": [
      "Epoch 10/10\n",
      "24/24 [==============================] - 0s 10ms/step - loss: 632.9952 - root_mean_squared_error: 25.1594 - val_loss: 1007.0449 - val_root_mean_squared_error: 31.7340\n"
     ]
    },
    {
     "name": "stderr",
     "output_type": "stream",
     "text": [
      "WARNING:absl:Found untraced functions such as lstm_cell_4_layer_call_fn, lstm_cell_4_layer_call_and_return_conditional_losses, lstm_cell_4_layer_call_fn, lstm_cell_4_layer_call_and_return_conditional_losses, lstm_cell_4_layer_call_and_return_conditional_losses while saving (showing 5 of 5). These functions will not be directly callable after loading.\n"
     ]
    },
    {
     "name": "stdout",
     "output_type": "stream",
     "text": [
      "INFO:tensorflow:Assets written to: model6/assets\n"
     ]
    },
    {
     "name": "stderr",
     "output_type": "stream",
     "text": [
      "INFO:tensorflow:Assets written to: model6/assets\n"
     ]
    }
   ],
   "source": [
    "history = (model6.fit(X4_train, y4_train, validation_data=(X4_val, y4_val), epochs=10, callbacks=[cp6]))"
   ]
  },
  {
   "cell_type": "code",
   "execution_count": 101,
   "metadata": {},
   "outputs": [],
   "source": [
    "def plot_predictions3(fignum, model, X, y, start=0, end = 100):\n",
    "    predictions = model.predict(X)\n",
    "    temp_preds, dsci_preds = predictions[:, 0], predictions[:, 1]\n",
    "    temp_actuals, dsci_actuals = y[:, 0], y[:, 1]\n",
    "    df = pd.DataFrame(data= {\n",
    "        'High Temperature Predictions': temp_preds, \n",
    "        'High Temperature Actuals': temp_actuals,\n",
    "        'DSCI Pred': dsci_preds,\n",
    "        'DSCI Actuals': dsci_actuals\n",
    "        })\n",
    "    plt.figure(figsize = (10,8))\n",
    "    plt.plot(df['High Temperature Predictions'][start:end], label='High Temperature Predictions')\n",
    "    plt.plot(df['High Temperature Actuals'][start:end], label='High Temperature Actuals')\n",
    "    plt.plot(df['DSCI Pred'][start:end], label = 'DSCI Predictions')\n",
    "    plt.plot(df['DSCI Actuals'][start:end], label = 'DSCI Actuals')\n",
    "    plt.legend(loc= 'upper left')\n",
    "    \n",
    "    plt.savefig(f'fig{fignum}.png')\n",
    "\n",
    "    return df[start:end]"
   ]
  },
  {
   "cell_type": "code",
   "execution_count": 102,
   "metadata": {},
   "outputs": [
    {
     "data": {
      "image/png": "[encoded data removed]",
      "text/plain": [
       "<Figure size 720x576 with 1 Axes>"
      ]
     },
     "metadata": {
      "needs_background": "light"
     },
     "output_type": "display_data"
    }
   ],
   "source": [
    "post_processed_df2 = plot_predictions3(16, model6, X4_test, y4_test)"
   ]
  },
  {
   "cell_type": "code",
   "execution_count": 103,
   "metadata": {},
   "outputs": [
    {
     "data": {
      "image/png": "[encoded data removed]",
      "text/plain": [
       "<Figure size 432x288 with 1 Axes>"
      ]
     },
     "metadata": {
      "needs_background": "light"
     },
     "output_type": "display_data"
    }
   ],
   "source": [
    "start, end = 0, 100\n",
    "plt.plot(post_processed_df2['DSCI Pred'][start: end])\n",
    "plt.plot(post_processed_df2['DSCI Actuals'][start: end])\n",
    "plt.savefig('fig15.png')"
   ]
  },
  {
   "cell_type": "code",
   "execution_count": 104,
   "metadata": {},
   "outputs": [
    {
     "data": {
      "text/plain": [
       "[<matplotlib.lines.Line2D at 0x1516abc40>]"
      ]
     },
     "execution_count": 104,
     "metadata": {},
     "output_type": "execute_result"
    },
    {
     "data": {
      "image/png": "[encoded data removed]",
      "text/plain": [
       "<Figure size 432x288 with 1 Axes>"
      ]
     },
     "metadata": {
      "needs_background": "light"
     },
     "output_type": "display_data"
    }
   ],
   "source": [
    "start, end = 0, 100\n",
    "plt.plot(post_processed_df2['High Temperature Predictions'][start: end])\n",
    "plt.plot(post_processed_df2['High Temperature Actuals'][start: end])"
   ]
  },
  {
   "cell_type": "code",
   "execution_count": 105,
   "metadata": {},
   "outputs": [
    {
     "data": {
      "text/html": [
       "<div>\n",
       "<style scoped>\n",
       "    .dataframe tbody tr th:only-of-type {\n",
       "        vertical-align: middle;\n",
       "    }\n",
       "\n",
       "    .dataframe tbody tr th {\n",
       "        vertical-align: top;\n",
       "    }\n",
       "\n",
       "    .dataframe thead th {\n",
       "        text-align: right;\n",
       "    }\n",
       "</style>\n",
       "<table border=\"1\" class=\"dataframe\">\n",
       "  <thead>\n",
       "    <tr style=\"text-align: right;\">\n",
       "      <th></th>\n",
       "      <th>loss</th>\n",
       "      <th>root_mean_squared_error</th>\n",
       "      <th>val_loss</th>\n",
       "      <th>val_root_mean_squared_error</th>\n",
       "    </tr>\n",
       "  </thead>\n",
       "  <tbody>\n",
       "    <tr>\n",
       "      <th>0</th>\n",
       "      <td>23830.636719</td>\n",
       "      <td>154.371750</td>\n",
       "      <td>34991.140625</td>\n",
       "      <td>187.059189</td>\n",
       "    </tr>\n",
       "    <tr>\n",
       "      <th>1</th>\n",
       "      <td>21834.519531</td>\n",
       "      <td>147.765076</td>\n",
       "      <td>30714.835938</td>\n",
       "      <td>175.256485</td>\n",
       "    </tr>\n",
       "    <tr>\n",
       "      <th>2</th>\n",
       "      <td>16943.906250</td>\n",
       "      <td>130.168762</td>\n",
       "      <td>22680.189453</td>\n",
       "      <td>150.599426</td>\n",
       "    </tr>\n",
       "    <tr>\n",
       "      <th>3</th>\n",
       "      <td>11150.124023</td>\n",
       "      <td>105.594147</td>\n",
       "      <td>15046.721680</td>\n",
       "      <td>122.665077</td>\n",
       "    </tr>\n",
       "    <tr>\n",
       "      <th>4</th>\n",
       "      <td>6695.431152</td>\n",
       "      <td>81.825615</td>\n",
       "      <td>9251.318359</td>\n",
       "      <td>96.183777</td>\n",
       "    </tr>\n",
       "    <tr>\n",
       "      <th>5</th>\n",
       "      <td>3790.958740</td>\n",
       "      <td>61.570763</td>\n",
       "      <td>5557.504883</td>\n",
       "      <td>74.548676</td>\n",
       "    </tr>\n",
       "    <tr>\n",
       "      <th>6</th>\n",
       "      <td>2217.898926</td>\n",
       "      <td>47.094574</td>\n",
       "      <td>3417.875244</td>\n",
       "      <td>58.462597</td>\n",
       "    </tr>\n",
       "    <tr>\n",
       "      <th>7</th>\n",
       "      <td>1403.091553</td>\n",
       "      <td>37.457863</td>\n",
       "      <td>2153.348389</td>\n",
       "      <td>46.404186</td>\n",
       "    </tr>\n",
       "    <tr>\n",
       "      <th>8</th>\n",
       "      <td>925.868652</td>\n",
       "      <td>30.428089</td>\n",
       "      <td>1443.140015</td>\n",
       "      <td>37.988682</td>\n",
       "    </tr>\n",
       "    <tr>\n",
       "      <th>9</th>\n",
       "      <td>632.995178</td>\n",
       "      <td>25.159395</td>\n",
       "      <td>1007.044861</td>\n",
       "      <td>31.733971</td>\n",
       "    </tr>\n",
       "  </tbody>\n",
       "</table>\n",
       "</div>"
      ],
      "text/plain": [
       "           loss  root_mean_squared_error      val_loss  \\\n",
       "0  23830.636719               154.371750  34991.140625   \n",
       "1  21834.519531               147.765076  30714.835938   \n",
       "2  16943.906250               130.168762  22680.189453   \n",
       "3  11150.124023               105.594147  15046.721680   \n",
       "4   6695.431152                81.825615   9251.318359   \n",
       "5   3790.958740                61.570763   5557.504883   \n",
       "6   2217.898926                47.094574   3417.875244   \n",
       "7   1403.091553                37.457863   2153.348389   \n",
       "8    925.868652                30.428089   1443.140015   \n",
       "9    632.995178                25.159395   1007.044861   \n",
       "\n",
       "   val_root_mean_squared_error  \n",
       "0                   187.059189  \n",
       "1                   175.256485  \n",
       "2                   150.599426  \n",
       "3                   122.665077  \n",
       "4                    96.183777  \n",
       "5                    74.548676  \n",
       "6                    58.462597  \n",
       "7                    46.404186  \n",
       "8                    37.988682  \n",
       "9                    31.733971  "
      ]
     },
     "execution_count": 105,
     "metadata": {},
     "output_type": "execute_result"
    }
   ],
   "source": [
    "history_df = pd.DataFrame(history.history)\n",
    "history_df"
   ]
  },
  {
   "cell_type": "code",
   "execution_count": 106,
   "metadata": {},
   "outputs": [
    {
     "data": {
      "image/png": "[encoded data removed]",
      "text/plain": [
       "<Figure size 432x288 with 1 Axes>"
      ]
     },
     "metadata": {
      "needs_background": "light"
     },
     "output_type": "display_data"
    }
   ],
   "source": [
    "history_df.filter(like='loss').plot();\n",
    "plt.title(\"LSTM MSE Loss (High Temp & Time Features)\", fontsize=16)\n",
    "plt.savefig('fig17.png')"
   ]
  },
  {
   "cell_type": "markdown",
   "metadata": {},
   "source": [
    "#### Model Summary"
   ]
  },
  {
   "cell_type": "markdown",
   "metadata": {},
   "source": [
    "Model|MSE|Val Loss|RMSE|\n",
    "|---|---|---|---|\n",
    "|LSTM|544.09|760.45|27.57|\n",
    "|CNN|138.06|123.14|11.75|\n",
    "|GRU|757.87|1187.01|44.91|\n",
    "|LSTM M.V.|615.95|1142.63|33.8|\n",
    "|LSTM Precip.|757.87|2000.4|44.7|\n",
    "|LSTM Temp|4628.32|8033.28|89.62|"
   ]
  }
 ],
 "metadata": {
  "interpreter": {
   "hash": "3cb97f1d83f7509b06d804007dcb96c6ab417962c4fd7570dc4f1a7dc82dce2f"
  },
  "kernelspec": {
   "display_name": "Python 3.8.8 64-bit ('dsi-111': conda)",
   "language": "python",
   "name": "python3"
  },
  "language_info": {
   "codemirror_mode": {
    "name": "ipython",
    "version": 3
   },
   "file_extension": ".py",
   "mimetype": "text/x-python",
   "name": "python",
   "nbconvert_exporter": "python",
   "pygments_lexer": "ipython3",
   "version": "3.8.8"
  },
  "orig_nbformat": 4
 },
 "nbformat": 4,
 "nbformat_minor": 2
}
