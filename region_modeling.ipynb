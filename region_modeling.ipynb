{
 "cells": [
  {
   "cell_type": "code",
   "execution_count": 1,
   "metadata": {},
   "outputs": [],
   "source": [
    "# Code by Son Nguyen"
   ]
  },
  {
   "cell_type": "code",
   "execution_count": 2,
   "metadata": {},
   "outputs": [],
   "source": [
    "import pandas as pd\n",
    "import tensorflow as tf\n",
    "import os\n",
    "import numpy as np\n",
    "import matplotlib.pyplot as plt\n",
    "import time\n",
    "from sklearn.preprocessing import StandardScaler"
   ]
  },
  {
   "cell_type": "code",
   "execution_count": 3,
   "metadata": {},
   "outputs": [],
   "source": [
    "drought = pd.read_csv('temperature and precipitation/final_drought_temp_data.csv')"
   ]
  },
  {
   "cell_type": "code",
   "execution_count": 4,
   "metadata": {},
   "outputs": [],
   "source": [
    "drought['climate_regions']=drought['Name']"
   ]
  },
  {
   "cell_type": "markdown",
   "metadata": {},
   "source": [
    "#### David's Code"
   ]
  },
  {
   "cell_type": "code",
   "execution_count": 5,
   "metadata": {},
   "outputs": [],
   "source": [
    "oh='Ohio Valley'\n",
    "ohio_valley=dict.fromkeys(['Illinois','Indiana','Kentucky','Missouri',\n",
    "             'Ohio','Tennessee','West Virginia'],oh)\n",
    "#https://stackoverflow.com/questions/11977730/creating-a-dictionary-with-same-values"
   ]
  },
  {
   "cell_type": "code",
   "execution_count": 6,
   "metadata": {},
   "outputs": [],
   "source": [
    "oh_list=['Illinois','Indiana','Kentucky','Missouri',\n",
    "             'Ohio','Tennessee','West Virginia']"
   ]
  },
  {
   "cell_type": "code",
   "execution_count": 7,
   "metadata": {},
   "outputs": [],
   "source": [
    "def state_region_dict(list_states,string_region):\n",
    "    return dict.fromkeys(list_states,string_region)\n",
    "#function to combine states and region into dictionary\n"
   ]
  },
  {
   "cell_type": "code",
   "execution_count": 8,
   "metadata": {},
   "outputs": [],
   "source": [
    "um_list=['Iowa', 'Michigan', 'Minnesota', 'Wisconsin']\n",
    "um_region='Upper Midwest'\n",
    "upper_midwest=state_region_dict(um_list,um_region)\n"
   ]
  },
  {
   "cell_type": "code",
   "execution_count": 9,
   "metadata": {},
   "outputs": [],
   "source": [
    "ne_list=['Connecticut','Delaware','Maine','Maryland','Massachusetts', 'New Hampshire', 'New Jersey',\n",
    "        'New York', 'Pennsylvania','Rhode Island','Vermont']\n",
    "ne_region='Northeast'\n",
    "north_east=state_region_dict(ne_list,ne_region)"
   ]
  },
  {
   "cell_type": "code",
   "execution_count": 10,
   "metadata": {},
   "outputs": [],
   "source": [
    "nw_list=['Idaho','Oregon','Washington']\n",
    "nw_region='Northwest'\n",
    "north_west=state_region_dict(nw_list,nw_region)\n",
    "\n",
    "s_list=['Arkansas','Kansas','Louisiana','Mississippi','Oklahoma','Texas']\n",
    "s_region='South'\n",
    "south=state_region_dict(s_list,s_region)\n",
    "\n",
    "se_list=['Alabama','Florida','Georgia','North Carolina','South Carolina','Virginia']\n",
    "se_region='Southeast'\n",
    "south_east=state_region_dict(se_list,se_region)\n",
    "\n",
    "sw_list=['Arizona','Colorado','New Mexico','Utah']\n",
    "sw_region='Southwest'\n",
    "south_west=state_region_dict(sw_list,sw_region)\n",
    "\n",
    "w_list=['California','Nevada']\n",
    "w_region='West'\n",
    "west=state_region_dict(w_list,w_region)\n",
    "\n",
    "wnc_list=['Montana','Nebraska','North Dakota','South Dakota','Wyoming']\n",
    "wnc_region='Northern Rockies and Plains'\n",
    "northern_rockies=state_region_dict(wnc_list,wnc_region)"
   ]
  },
  {
   "cell_type": "code",
   "execution_count": 11,
   "metadata": {},
   "outputs": [],
   "source": [
    "final_dict={**ohio_valley,**upper_midwest,**north_east,**north_west,**south,\n",
    "            **south_east,**south_west,**west,**northern_rockies}\n",
    "#combine multiple dictionaries into one\n",
    "#https://towardsdatascience.com/merge-dictionaries-in-python-d4e9ce137374"
   ]
  },
  {
   "cell_type": "code",
   "execution_count": 12,
   "metadata": {},
   "outputs": [],
   "source": [
    "drought['climate_regions']=drought['Name']"
   ]
  },
  {
   "cell_type": "code",
   "execution_count": 13,
   "metadata": {},
   "outputs": [],
   "source": [
    "#Replaced initial values with dictionary region values\n",
    "drought.replace({'climate_regions':final_dict},inplace=True)\n",
    "#https://sparkbyexamples.com/pandas/pandas-remap-values-in-column-with-a-dictionary-dict/"
   ]
  },
  {
   "cell_type": "code",
   "execution_count": 14,
   "metadata": {},
   "outputs": [],
   "source": [
    "drought['ValidEnd'] = pd.to_datetime(drought['ValidEnd'])"
   ]
  },
  {
   "cell_type": "code",
   "execution_count": 15,
   "metadata": {},
   "outputs": [],
   "source": [
    "drought = drought[drought['ValidEnd']<'2021-01-01']"
   ]
  },
  {
   "cell_type": "code",
   "execution_count": 16,
   "metadata": {},
   "outputs": [],
   "source": [
    "ohio_valley = drought[drought['climate_regions'] == 'Ohio Valley']"
   ]
  },
  {
   "cell_type": "code",
   "execution_count": 17,
   "metadata": {},
   "outputs": [],
   "source": [
    "west = drought[drought['climate_regions'] == 'West']"
   ]
  },
  {
   "cell_type": "code",
   "execution_count": 18,
   "metadata": {},
   "outputs": [],
   "source": [
    "up_mid = drought[drought['climate_regions'] == 'Upper Midwest']"
   ]
  },
  {
   "cell_type": "code",
   "execution_count": 19,
   "metadata": {},
   "outputs": [],
   "source": [
    "nrp = drought[drought['climate_regions'] == 'Northern Rockies and Plains']"
   ]
  },
  {
   "cell_type": "code",
   "execution_count": 20,
   "metadata": {},
   "outputs": [],
   "source": [
    "ne = drought[drought['climate_regions'] == 'Northeast']"
   ]
  },
  {
   "cell_type": "code",
   "execution_count": 21,
   "metadata": {},
   "outputs": [],
   "source": [
    "nw = drought[drought['climate_regions'] == 'Northwest']"
   ]
  },
  {
   "cell_type": "code",
   "execution_count": 22,
   "metadata": {},
   "outputs": [],
   "source": [
    "south = drought[drought['climate_regions'] == 'South']"
   ]
  },
  {
   "cell_type": "code",
   "execution_count": 23,
   "metadata": {},
   "outputs": [],
   "source": [
    "sw = drought[drought['climate_regions'] == 'Southwest']"
   ]
  },
  {
   "cell_type": "code",
   "execution_count": 24,
   "metadata": {},
   "outputs": [],
   "source": [
    "se = sw = drought[drought['climate_regions'] == 'Southeast']"
   ]
  },
  {
   "cell_type": "code",
   "execution_count": 25,
   "metadata": {},
   "outputs": [
    {
     "data": {
      "text/html": [
       "<div>\n",
       "<style scoped>\n",
       "    .dataframe tbody tr th:only-of-type {\n",
       "        vertical-align: middle;\n",
       "    }\n",
       "\n",
       "    .dataframe tbody tr th {\n",
       "        vertical-align: top;\n",
       "    }\n",
       "\n",
       "    .dataframe thead th {\n",
       "        text-align: right;\n",
       "    }\n",
       "</style>\n",
       "<table border=\"1\" class=\"dataframe\">\n",
       "  <thead>\n",
       "    <tr style=\"text-align: right;\">\n",
       "      <th></th>\n",
       "      <th>ValidEnd</th>\n",
       "      <th>Name</th>\n",
       "      <th>state</th>\n",
       "      <th>area_none</th>\n",
       "      <th>area_d0</th>\n",
       "      <th>area_d1</th>\n",
       "      <th>area_d2</th>\n",
       "      <th>area_d3</th>\n",
       "      <th>area_d4</th>\n",
       "      <th>population_none</th>\n",
       "      <th>...</th>\n",
       "      <th>population_d3</th>\n",
       "      <th>population_d4</th>\n",
       "      <th>DSCI</th>\n",
       "      <th>total_area</th>\n",
       "      <th>total_population</th>\n",
       "      <th>avg_tmax</th>\n",
       "      <th>avg_tmin</th>\n",
       "      <th>total_avg_prcp_inches</th>\n",
       "      <th>total_avg_prcp_mm</th>\n",
       "      <th>climate_regions</th>\n",
       "    </tr>\n",
       "  </thead>\n",
       "  <tbody>\n",
       "    <tr>\n",
       "      <th>10451</th>\n",
       "      <td>2020-12-28</td>\n",
       "      <td>Illinois</td>\n",
       "      <td>IL</td>\n",
       "      <td>33454.57</td>\n",
       "      <td>15550.66</td>\n",
       "      <td>6236.48</td>\n",
       "      <td>1140.83</td>\n",
       "      <td>0.0</td>\n",
       "      <td>0.0</td>\n",
       "      <td>8875219.25</td>\n",
       "      <td>...</td>\n",
       "      <td>0.0</td>\n",
       "      <td>0.0</td>\n",
       "      <td>56</td>\n",
       "      <td>56382.54</td>\n",
       "      <td>12847389.79</td>\n",
       "      <td>38.465714</td>\n",
       "      <td>17.117143</td>\n",
       "      <td>0.108000</td>\n",
       "      <td>2.743200</td>\n",
       "      <td>Ohio Valley</td>\n",
       "    </tr>\n",
       "    <tr>\n",
       "      <th>10452</th>\n",
       "      <td>2020-12-21</td>\n",
       "      <td>Illinois</td>\n",
       "      <td>IL</td>\n",
       "      <td>33454.57</td>\n",
       "      <td>15550.66</td>\n",
       "      <td>6236.48</td>\n",
       "      <td>1140.83</td>\n",
       "      <td>0.0</td>\n",
       "      <td>0.0</td>\n",
       "      <td>8875219.25</td>\n",
       "      <td>...</td>\n",
       "      <td>0.0</td>\n",
       "      <td>0.0</td>\n",
       "      <td>56</td>\n",
       "      <td>56382.54</td>\n",
       "      <td>12847389.79</td>\n",
       "      <td>39.528571</td>\n",
       "      <td>26.411429</td>\n",
       "      <td>0.006000</td>\n",
       "      <td>0.152400</td>\n",
       "      <td>Ohio Valley</td>\n",
       "    </tr>\n",
       "    <tr>\n",
       "      <th>10453</th>\n",
       "      <td>2020-12-14</td>\n",
       "      <td>Illinois</td>\n",
       "      <td>IL</td>\n",
       "      <td>32814.14</td>\n",
       "      <td>16191.10</td>\n",
       "      <td>6236.48</td>\n",
       "      <td>1140.83</td>\n",
       "      <td>0.0</td>\n",
       "      <td>0.0</td>\n",
       "      <td>8839298.46</td>\n",
       "      <td>...</td>\n",
       "      <td>0.0</td>\n",
       "      <td>0.0</td>\n",
       "      <td>57</td>\n",
       "      <td>56382.55</td>\n",
       "      <td>12847389.79</td>\n",
       "      <td>44.220000</td>\n",
       "      <td>29.057143</td>\n",
       "      <td>1.026000</td>\n",
       "      <td>26.060400</td>\n",
       "      <td>Ohio Valley</td>\n",
       "    </tr>\n",
       "    <tr>\n",
       "      <th>10454</th>\n",
       "      <td>2020-12-07</td>\n",
       "      <td>Illinois</td>\n",
       "      <td>IL</td>\n",
       "      <td>32794.13</td>\n",
       "      <td>18023.24</td>\n",
       "      <td>4619.65</td>\n",
       "      <td>945.53</td>\n",
       "      <td>0.0</td>\n",
       "      <td>0.0</td>\n",
       "      <td>8650968.46</td>\n",
       "      <td>...</td>\n",
       "      <td>0.0</td>\n",
       "      <td>0.0</td>\n",
       "      <td>53</td>\n",
       "      <td>56382.55</td>\n",
       "      <td>12847389.80</td>\n",
       "      <td>43.485714</td>\n",
       "      <td>24.954286</td>\n",
       "      <td>0.000000</td>\n",
       "      <td>0.000000</td>\n",
       "      <td>Ohio Valley</td>\n",
       "    </tr>\n",
       "    <tr>\n",
       "      <th>10455</th>\n",
       "      <td>2020-11-30</td>\n",
       "      <td>Illinois</td>\n",
       "      <td>IL</td>\n",
       "      <td>28067.62</td>\n",
       "      <td>21244.44</td>\n",
       "      <td>6124.95</td>\n",
       "      <td>945.53</td>\n",
       "      <td>0.0</td>\n",
       "      <td>0.0</td>\n",
       "      <td>8375517.01</td>\n",
       "      <td>...</td>\n",
       "      <td>0.0</td>\n",
       "      <td>0.0</td>\n",
       "      <td>64</td>\n",
       "      <td>56382.54</td>\n",
       "      <td>12847389.80</td>\n",
       "      <td>46.328571</td>\n",
       "      <td>32.782857</td>\n",
       "      <td>1.082000</td>\n",
       "      <td>27.482800</td>\n",
       "      <td>Ohio Valley</td>\n",
       "    </tr>\n",
       "    <tr>\n",
       "      <th>...</th>\n",
       "      <td>...</td>\n",
       "      <td>...</td>\n",
       "      <td>...</td>\n",
       "      <td>...</td>\n",
       "      <td>...</td>\n",
       "      <td>...</td>\n",
       "      <td>...</td>\n",
       "      <td>...</td>\n",
       "      <td>...</td>\n",
       "      <td>...</td>\n",
       "      <td>...</td>\n",
       "      <td>...</td>\n",
       "      <td>...</td>\n",
       "      <td>...</td>\n",
       "      <td>...</td>\n",
       "      <td>...</td>\n",
       "      <td>...</td>\n",
       "      <td>...</td>\n",
       "      <td>...</td>\n",
       "      <td>...</td>\n",
       "      <td>...</td>\n",
       "    </tr>\n",
       "    <tr>\n",
       "      <th>45975</th>\n",
       "      <td>2001-01-29</td>\n",
       "      <td>West Virginia</td>\n",
       "      <td>WV</td>\n",
       "      <td>3547.74</td>\n",
       "      <td>19253.58</td>\n",
       "      <td>1403.34</td>\n",
       "      <td>0.00</td>\n",
       "      <td>0.0</td>\n",
       "      <td>0.0</td>\n",
       "      <td>261876.40</td>\n",
       "      <td>...</td>\n",
       "      <td>0.0</td>\n",
       "      <td>0.0</td>\n",
       "      <td>91</td>\n",
       "      <td>24204.66</td>\n",
       "      <td>1852994.01</td>\n",
       "      <td>40.380952</td>\n",
       "      <td>19.880952</td>\n",
       "      <td>0.223333</td>\n",
       "      <td>5.672667</td>\n",
       "      <td>Ohio Valley</td>\n",
       "    </tr>\n",
       "    <tr>\n",
       "      <th>45976</th>\n",
       "      <td>2001-01-22</td>\n",
       "      <td>West Virginia</td>\n",
       "      <td>WV</td>\n",
       "      <td>5496.60</td>\n",
       "      <td>14287.99</td>\n",
       "      <td>3143.43</td>\n",
       "      <td>1276.64</td>\n",
       "      <td>0.0</td>\n",
       "      <td>0.0</td>\n",
       "      <td>443651.89</td>\n",
       "      <td>...</td>\n",
       "      <td>0.0</td>\n",
       "      <td>0.0</td>\n",
       "      <td>101</td>\n",
       "      <td>24204.66</td>\n",
       "      <td>1852994.00</td>\n",
       "      <td>35.142857</td>\n",
       "      <td>23.095238</td>\n",
       "      <td>1.165000</td>\n",
       "      <td>29.591000</td>\n",
       "      <td>Ohio Valley</td>\n",
       "    </tr>\n",
       "    <tr>\n",
       "      <th>45977</th>\n",
       "      <td>2001-01-15</td>\n",
       "      <td>West Virginia</td>\n",
       "      <td>WV</td>\n",
       "      <td>7763.39</td>\n",
       "      <td>12021.20</td>\n",
       "      <td>3143.44</td>\n",
       "      <td>1276.64</td>\n",
       "      <td>0.0</td>\n",
       "      <td>0.0</td>\n",
       "      <td>664684.83</td>\n",
       "      <td>...</td>\n",
       "      <td>0.0</td>\n",
       "      <td>0.0</td>\n",
       "      <td>91</td>\n",
       "      <td>24204.67</td>\n",
       "      <td>1852994.00</td>\n",
       "      <td>43.904762</td>\n",
       "      <td>24.714286</td>\n",
       "      <td>0.008333</td>\n",
       "      <td>0.211667</td>\n",
       "      <td>Ohio Valley</td>\n",
       "    </tr>\n",
       "    <tr>\n",
       "      <th>45978</th>\n",
       "      <td>2001-01-08</td>\n",
       "      <td>West Virginia</td>\n",
       "      <td>WV</td>\n",
       "      <td>7763.16</td>\n",
       "      <td>12391.29</td>\n",
       "      <td>3670.41</td>\n",
       "      <td>379.81</td>\n",
       "      <td>0.0</td>\n",
       "      <td>0.0</td>\n",
       "      <td>664647.42</td>\n",
       "      <td>...</td>\n",
       "      <td>0.0</td>\n",
       "      <td>0.0</td>\n",
       "      <td>86</td>\n",
       "      <td>24204.67</td>\n",
       "      <td>1852993.99</td>\n",
       "      <td>33.119048</td>\n",
       "      <td>21.452381</td>\n",
       "      <td>0.055000</td>\n",
       "      <td>1.397000</td>\n",
       "      <td>Ohio Valley</td>\n",
       "    </tr>\n",
       "    <tr>\n",
       "      <th>45979</th>\n",
       "      <td>2001-01-01</td>\n",
       "      <td>West Virginia</td>\n",
       "      <td>WV</td>\n",
       "      <td>7763.16</td>\n",
       "      <td>12391.31</td>\n",
       "      <td>3670.42</td>\n",
       "      <td>379.79</td>\n",
       "      <td>0.0</td>\n",
       "      <td>0.0</td>\n",
       "      <td>664647.42</td>\n",
       "      <td>...</td>\n",
       "      <td>0.0</td>\n",
       "      <td>0.0</td>\n",
       "      <td>86</td>\n",
       "      <td>24204.68</td>\n",
       "      <td>1852994.00</td>\n",
       "      <td>24.000000</td>\n",
       "      <td>18.333333</td>\n",
       "      <td>0.000000</td>\n",
       "      <td>0.000000</td>\n",
       "      <td>Ohio Valley</td>\n",
       "    </tr>\n",
       "  </tbody>\n",
       "</table>\n",
       "<p>7308 rows × 23 columns</p>\n",
       "</div>"
      ],
      "text/plain": [
       "        ValidEnd           Name state  area_none   area_d0  area_d1  area_d2  \\\n",
       "10451 2020-12-28       Illinois    IL   33454.57  15550.66  6236.48  1140.83   \n",
       "10452 2020-12-21       Illinois    IL   33454.57  15550.66  6236.48  1140.83   \n",
       "10453 2020-12-14       Illinois    IL   32814.14  16191.10  6236.48  1140.83   \n",
       "10454 2020-12-07       Illinois    IL   32794.13  18023.24  4619.65   945.53   \n",
       "10455 2020-11-30       Illinois    IL   28067.62  21244.44  6124.95   945.53   \n",
       "...          ...            ...   ...        ...       ...      ...      ...   \n",
       "45975 2001-01-29  West Virginia    WV    3547.74  19253.58  1403.34     0.00   \n",
       "45976 2001-01-22  West Virginia    WV    5496.60  14287.99  3143.43  1276.64   \n",
       "45977 2001-01-15  West Virginia    WV    7763.39  12021.20  3143.44  1276.64   \n",
       "45978 2001-01-08  West Virginia    WV    7763.16  12391.29  3670.41   379.81   \n",
       "45979 2001-01-01  West Virginia    WV    7763.16  12391.31  3670.42   379.79   \n",
       "\n",
       "       area_d3  area_d4  population_none  ...  population_d3  population_d4  \\\n",
       "10451      0.0      0.0       8875219.25  ...            0.0            0.0   \n",
       "10452      0.0      0.0       8875219.25  ...            0.0            0.0   \n",
       "10453      0.0      0.0       8839298.46  ...            0.0            0.0   \n",
       "10454      0.0      0.0       8650968.46  ...            0.0            0.0   \n",
       "10455      0.0      0.0       8375517.01  ...            0.0            0.0   \n",
       "...        ...      ...              ...  ...            ...            ...   \n",
       "45975      0.0      0.0        261876.40  ...            0.0            0.0   \n",
       "45976      0.0      0.0        443651.89  ...            0.0            0.0   \n",
       "45977      0.0      0.0        664684.83  ...            0.0            0.0   \n",
       "45978      0.0      0.0        664647.42  ...            0.0            0.0   \n",
       "45979      0.0      0.0        664647.42  ...            0.0            0.0   \n",
       "\n",
       "       DSCI  total_area  total_population   avg_tmax   avg_tmin  \\\n",
       "10451    56    56382.54       12847389.79  38.465714  17.117143   \n",
       "10452    56    56382.54       12847389.79  39.528571  26.411429   \n",
       "10453    57    56382.55       12847389.79  44.220000  29.057143   \n",
       "10454    53    56382.55       12847389.80  43.485714  24.954286   \n",
       "10455    64    56382.54       12847389.80  46.328571  32.782857   \n",
       "...     ...         ...               ...        ...        ...   \n",
       "45975    91    24204.66        1852994.01  40.380952  19.880952   \n",
       "45976   101    24204.66        1852994.00  35.142857  23.095238   \n",
       "45977    91    24204.67        1852994.00  43.904762  24.714286   \n",
       "45978    86    24204.67        1852993.99  33.119048  21.452381   \n",
       "45979    86    24204.68        1852994.00  24.000000  18.333333   \n",
       "\n",
       "       total_avg_prcp_inches  total_avg_prcp_mm  climate_regions  \n",
       "10451               0.108000           2.743200      Ohio Valley  \n",
       "10452               0.006000           0.152400      Ohio Valley  \n",
       "10453               1.026000          26.060400      Ohio Valley  \n",
       "10454               0.000000           0.000000      Ohio Valley  \n",
       "10455               1.082000          27.482800      Ohio Valley  \n",
       "...                      ...                ...              ...  \n",
       "45975               0.223333           5.672667      Ohio Valley  \n",
       "45976               1.165000          29.591000      Ohio Valley  \n",
       "45977               0.008333           0.211667      Ohio Valley  \n",
       "45978               0.055000           1.397000      Ohio Valley  \n",
       "45979               0.000000           0.000000      Ohio Valley  \n",
       "\n",
       "[7308 rows x 23 columns]"
      ]
     },
     "execution_count": 25,
     "metadata": {},
     "output_type": "execute_result"
    }
   ],
   "source": [
    "ohio_valley"
   ]
  },
  {
   "cell_type": "markdown",
   "metadata": {},
   "source": [
    "#### Julio's Code"
   ]
  },
  {
   "cell_type": "code",
   "execution_count": 26,
   "metadata": {},
   "outputs": [],
   "source": [
    "#julio's code\n",
    "west=west.groupby('ValidEnd').agg({'area_none':'sum','area_d0':'sum','area_d1':'sum','area_d2':'sum','area_d3':'sum','area_d4':'sum',\n",
    "                                                  'population_none':'sum','population_d0':'sum','population_d1':'sum','population_d2':'sum','population_d3':'sum',\n",
    "                                                  'population_d4':'sum','DSCI':'mean','total_population':'sum','total_area':'sum', 'avg_tmax': 'mean', 'avg_tmin': 'mean', 'total_avg_prcp_inches':'sum', 'total_avg_prcp_mm': 'sum'})"
   ]
  },
  {
   "cell_type": "code",
   "execution_count": 27,
   "metadata": {},
   "outputs": [
    {
     "data": {
      "text/html": [
       "<div>\n",
       "<style scoped>\n",
       "    .dataframe tbody tr th:only-of-type {\n",
       "        vertical-align: middle;\n",
       "    }\n",
       "\n",
       "    .dataframe tbody tr th {\n",
       "        vertical-align: top;\n",
       "    }\n",
       "\n",
       "    .dataframe thead th {\n",
       "        text-align: right;\n",
       "    }\n",
       "</style>\n",
       "<table border=\"1\" class=\"dataframe\">\n",
       "  <thead>\n",
       "    <tr style=\"text-align: right;\">\n",
       "      <th></th>\n",
       "      <th>area_none</th>\n",
       "      <th>area_d0</th>\n",
       "      <th>area_d1</th>\n",
       "      <th>area_d2</th>\n",
       "      <th>area_d3</th>\n",
       "      <th>area_d4</th>\n",
       "      <th>population_none</th>\n",
       "      <th>population_d0</th>\n",
       "      <th>population_d1</th>\n",
       "      <th>population_d2</th>\n",
       "      <th>population_d3</th>\n",
       "      <th>population_d4</th>\n",
       "      <th>DSCI</th>\n",
       "      <th>total_population</th>\n",
       "      <th>total_area</th>\n",
       "      <th>avg_tmax</th>\n",
       "      <th>avg_tmin</th>\n",
       "      <th>total_avg_prcp_inches</th>\n",
       "      <th>total_avg_prcp_mm</th>\n",
       "    </tr>\n",
       "    <tr>\n",
       "      <th>ValidEnd</th>\n",
       "      <th></th>\n",
       "      <th></th>\n",
       "      <th></th>\n",
       "      <th></th>\n",
       "      <th></th>\n",
       "      <th></th>\n",
       "      <th></th>\n",
       "      <th></th>\n",
       "      <th></th>\n",
       "      <th></th>\n",
       "      <th></th>\n",
       "      <th></th>\n",
       "      <th></th>\n",
       "      <th></th>\n",
       "      <th></th>\n",
       "      <th></th>\n",
       "      <th></th>\n",
       "      <th></th>\n",
       "      <th></th>\n",
       "    </tr>\n",
       "  </thead>\n",
       "  <tbody>\n",
       "    <tr>\n",
       "      <th>2001-01-01</th>\n",
       "      <td>268682.71</td>\n",
       "      <td>0.00</td>\n",
       "      <td>0.00</td>\n",
       "      <td>0.00</td>\n",
       "      <td>0.00</td>\n",
       "      <td>0.00</td>\n",
       "      <td>39954507.39</td>\n",
       "      <td>0.00</td>\n",
       "      <td>0.00</td>\n",
       "      <td>0.00</td>\n",
       "      <td>0.00</td>\n",
       "      <td>0.00</td>\n",
       "      <td>0.0</td>\n",
       "      <td>39954507.39</td>\n",
       "      <td>268682.71</td>\n",
       "      <td>55.340909</td>\n",
       "      <td>25.125000</td>\n",
       "      <td>0.000000</td>\n",
       "      <td>0.000000</td>\n",
       "    </tr>\n",
       "    <tr>\n",
       "      <th>2001-01-08</th>\n",
       "      <td>219867.53</td>\n",
       "      <td>48815.18</td>\n",
       "      <td>0.00</td>\n",
       "      <td>0.00</td>\n",
       "      <td>0.00</td>\n",
       "      <td>0.00</td>\n",
       "      <td>19148835.12</td>\n",
       "      <td>20805672.27</td>\n",
       "      <td>0.00</td>\n",
       "      <td>0.00</td>\n",
       "      <td>0.00</td>\n",
       "      <td>0.00</td>\n",
       "      <td>15.5</td>\n",
       "      <td>39954507.39</td>\n",
       "      <td>268682.71</td>\n",
       "      <td>56.907792</td>\n",
       "      <td>26.157468</td>\n",
       "      <td>0.573636</td>\n",
       "      <td>14.570364</td>\n",
       "    </tr>\n",
       "    <tr>\n",
       "      <th>2001-01-15</th>\n",
       "      <td>183369.34</td>\n",
       "      <td>85313.37</td>\n",
       "      <td>0.00</td>\n",
       "      <td>0.00</td>\n",
       "      <td>0.00</td>\n",
       "      <td>0.00</td>\n",
       "      <td>19147061.90</td>\n",
       "      <td>20807445.49</td>\n",
       "      <td>0.00</td>\n",
       "      <td>0.00</td>\n",
       "      <td>0.00</td>\n",
       "      <td>0.00</td>\n",
       "      <td>29.5</td>\n",
       "      <td>39954507.39</td>\n",
       "      <td>268682.71</td>\n",
       "      <td>45.813312</td>\n",
       "      <td>28.798701</td>\n",
       "      <td>1.895909</td>\n",
       "      <td>48.156091</td>\n",
       "    </tr>\n",
       "    <tr>\n",
       "      <th>2001-01-22</th>\n",
       "      <td>229132.27</td>\n",
       "      <td>39550.44</td>\n",
       "      <td>0.00</td>\n",
       "      <td>0.00</td>\n",
       "      <td>0.00</td>\n",
       "      <td>0.00</td>\n",
       "      <td>38419211.81</td>\n",
       "      <td>1535295.58</td>\n",
       "      <td>0.00</td>\n",
       "      <td>0.00</td>\n",
       "      <td>0.00</td>\n",
       "      <td>0.00</td>\n",
       "      <td>15.0</td>\n",
       "      <td>39954507.39</td>\n",
       "      <td>268682.71</td>\n",
       "      <td>47.125649</td>\n",
       "      <td>23.713312</td>\n",
       "      <td>0.072500</td>\n",
       "      <td>1.841500</td>\n",
       "    </tr>\n",
       "    <tr>\n",
       "      <th>2001-01-29</th>\n",
       "      <td>193653.20</td>\n",
       "      <td>75029.51</td>\n",
       "      <td>0.00</td>\n",
       "      <td>0.00</td>\n",
       "      <td>0.00</td>\n",
       "      <td>0.00</td>\n",
       "      <td>38179628.97</td>\n",
       "      <td>1774878.42</td>\n",
       "      <td>0.00</td>\n",
       "      <td>0.00</td>\n",
       "      <td>0.00</td>\n",
       "      <td>0.00</td>\n",
       "      <td>28.5</td>\n",
       "      <td>39954507.39</td>\n",
       "      <td>268682.71</td>\n",
       "      <td>46.303571</td>\n",
       "      <td>27.376623</td>\n",
       "      <td>1.511818</td>\n",
       "      <td>38.400182</td>\n",
       "    </tr>\n",
       "    <tr>\n",
       "      <th>...</th>\n",
       "      <td>...</td>\n",
       "      <td>...</td>\n",
       "      <td>...</td>\n",
       "      <td>...</td>\n",
       "      <td>...</td>\n",
       "      <td>...</td>\n",
       "      <td>...</td>\n",
       "      <td>...</td>\n",
       "      <td>...</td>\n",
       "      <td>...</td>\n",
       "      <td>...</td>\n",
       "      <td>...</td>\n",
       "      <td>...</td>\n",
       "      <td>...</td>\n",
       "      <td>...</td>\n",
       "      <td>...</td>\n",
       "      <td>...</td>\n",
       "      <td>...</td>\n",
       "      <td>...</td>\n",
       "    </tr>\n",
       "    <tr>\n",
       "      <th>2020-11-30</th>\n",
       "      <td>5542.04</td>\n",
       "      <td>34654.88</td>\n",
       "      <td>60303.12</td>\n",
       "      <td>60478.93</td>\n",
       "      <td>88304.37</td>\n",
       "      <td>19399.37</td>\n",
       "      <td>5547783.11</td>\n",
       "      <td>14970129.93</td>\n",
       "      <td>5063039.47</td>\n",
       "      <td>10253169.73</td>\n",
       "      <td>2805310.34</td>\n",
       "      <td>1315074.81</td>\n",
       "      <td>304.5</td>\n",
       "      <td>39954507.39</td>\n",
       "      <td>268682.71</td>\n",
       "      <td>56.321537</td>\n",
       "      <td>27.510931</td>\n",
       "      <td>0.078106</td>\n",
       "      <td>1.983894</td>\n",
       "    </tr>\n",
       "    <tr>\n",
       "      <th>2020-12-07</th>\n",
       "      <td>5473.73</td>\n",
       "      <td>34723.19</td>\n",
       "      <td>60303.12</td>\n",
       "      <td>60312.51</td>\n",
       "      <td>84406.25</td>\n",
       "      <td>23463.92</td>\n",
       "      <td>5523003.27</td>\n",
       "      <td>14994909.77</td>\n",
       "      <td>5063039.47</td>\n",
       "      <td>10252697.32</td>\n",
       "      <td>2798285.43</td>\n",
       "      <td>1322572.14</td>\n",
       "      <td>306.5</td>\n",
       "      <td>39954507.40</td>\n",
       "      <td>268682.72</td>\n",
       "      <td>57.441558</td>\n",
       "      <td>25.848864</td>\n",
       "      <td>0.075455</td>\n",
       "      <td>1.916545</td>\n",
       "    </tr>\n",
       "    <tr>\n",
       "      <th>2020-12-14</th>\n",
       "      <td>0.00</td>\n",
       "      <td>7958.10</td>\n",
       "      <td>54374.95</td>\n",
       "      <td>93821.89</td>\n",
       "      <td>89063.85</td>\n",
       "      <td>23463.92</td>\n",
       "      <td>0.00</td>\n",
       "      <td>6801658.18</td>\n",
       "      <td>16499875.50</td>\n",
       "      <td>12485483.68</td>\n",
       "      <td>2844917.89</td>\n",
       "      <td>1322572.14</td>\n",
       "      <td>333.0</td>\n",
       "      <td>39954507.39</td>\n",
       "      <td>268682.71</td>\n",
       "      <td>52.524567</td>\n",
       "      <td>28.696212</td>\n",
       "      <td>0.907500</td>\n",
       "      <td>23.050500</td>\n",
       "    </tr>\n",
       "    <tr>\n",
       "      <th>2020-12-21</th>\n",
       "      <td>0.00</td>\n",
       "      <td>7958.10</td>\n",
       "      <td>42367.07</td>\n",
       "      <td>84858.59</td>\n",
       "      <td>105442.72</td>\n",
       "      <td>28056.24</td>\n",
       "      <td>0.00</td>\n",
       "      <td>6801658.18</td>\n",
       "      <td>14056405.16</td>\n",
       "      <td>13318555.30</td>\n",
       "      <td>3622545.92</td>\n",
       "      <td>2155342.83</td>\n",
       "      <td>345.5</td>\n",
       "      <td>39954507.39</td>\n",
       "      <td>268682.72</td>\n",
       "      <td>53.556006</td>\n",
       "      <td>30.579545</td>\n",
       "      <td>0.725455</td>\n",
       "      <td>18.426545</td>\n",
       "    </tr>\n",
       "    <tr>\n",
       "      <th>2020-12-28</th>\n",
       "      <td>0.00</td>\n",
       "      <td>7958.10</td>\n",
       "      <td>42368.85</td>\n",
       "      <td>84856.81</td>\n",
       "      <td>105442.72</td>\n",
       "      <td>28056.24</td>\n",
       "      <td>0.00</td>\n",
       "      <td>6801657.29</td>\n",
       "      <td>14056474.71</td>\n",
       "      <td>13318486.65</td>\n",
       "      <td>3622545.92</td>\n",
       "      <td>2155342.83</td>\n",
       "      <td>345.5</td>\n",
       "      <td>39954507.40</td>\n",
       "      <td>268682.72</td>\n",
       "      <td>50.110714</td>\n",
       "      <td>28.344102</td>\n",
       "      <td>0.749848</td>\n",
       "      <td>19.046152</td>\n",
       "    </tr>\n",
       "  </tbody>\n",
       "</table>\n",
       "<p>1044 rows × 19 columns</p>\n",
       "</div>"
      ],
      "text/plain": [
       "            area_none   area_d0   area_d1   area_d2    area_d3   area_d4  \\\n",
       "ValidEnd                                                                   \n",
       "2001-01-01  268682.71      0.00      0.00      0.00       0.00      0.00   \n",
       "2001-01-08  219867.53  48815.18      0.00      0.00       0.00      0.00   \n",
       "2001-01-15  183369.34  85313.37      0.00      0.00       0.00      0.00   \n",
       "2001-01-22  229132.27  39550.44      0.00      0.00       0.00      0.00   \n",
       "2001-01-29  193653.20  75029.51      0.00      0.00       0.00      0.00   \n",
       "...               ...       ...       ...       ...        ...       ...   \n",
       "2020-11-30    5542.04  34654.88  60303.12  60478.93   88304.37  19399.37   \n",
       "2020-12-07    5473.73  34723.19  60303.12  60312.51   84406.25  23463.92   \n",
       "2020-12-14       0.00   7958.10  54374.95  93821.89   89063.85  23463.92   \n",
       "2020-12-21       0.00   7958.10  42367.07  84858.59  105442.72  28056.24   \n",
       "2020-12-28       0.00   7958.10  42368.85  84856.81  105442.72  28056.24   \n",
       "\n",
       "            population_none  population_d0  population_d1  population_d2  \\\n",
       "ValidEnd                                                                   \n",
       "2001-01-01      39954507.39           0.00           0.00           0.00   \n",
       "2001-01-08      19148835.12    20805672.27           0.00           0.00   \n",
       "2001-01-15      19147061.90    20807445.49           0.00           0.00   \n",
       "2001-01-22      38419211.81     1535295.58           0.00           0.00   \n",
       "2001-01-29      38179628.97     1774878.42           0.00           0.00   \n",
       "...                     ...            ...            ...            ...   \n",
       "2020-11-30       5547783.11    14970129.93     5063039.47    10253169.73   \n",
       "2020-12-07       5523003.27    14994909.77     5063039.47    10252697.32   \n",
       "2020-12-14             0.00     6801658.18    16499875.50    12485483.68   \n",
       "2020-12-21             0.00     6801658.18    14056405.16    13318555.30   \n",
       "2020-12-28             0.00     6801657.29    14056474.71    13318486.65   \n",
       "\n",
       "            population_d3  population_d4   DSCI  total_population  total_area  \\\n",
       "ValidEnd                                                                        \n",
       "2001-01-01           0.00           0.00    0.0       39954507.39   268682.71   \n",
       "2001-01-08           0.00           0.00   15.5       39954507.39   268682.71   \n",
       "2001-01-15           0.00           0.00   29.5       39954507.39   268682.71   \n",
       "2001-01-22           0.00           0.00   15.0       39954507.39   268682.71   \n",
       "2001-01-29           0.00           0.00   28.5       39954507.39   268682.71   \n",
       "...                   ...            ...    ...               ...         ...   \n",
       "2020-11-30     2805310.34     1315074.81  304.5       39954507.39   268682.71   \n",
       "2020-12-07     2798285.43     1322572.14  306.5       39954507.40   268682.72   \n",
       "2020-12-14     2844917.89     1322572.14  333.0       39954507.39   268682.71   \n",
       "2020-12-21     3622545.92     2155342.83  345.5       39954507.39   268682.72   \n",
       "2020-12-28     3622545.92     2155342.83  345.5       39954507.40   268682.72   \n",
       "\n",
       "             avg_tmax   avg_tmin  total_avg_prcp_inches  total_avg_prcp_mm  \n",
       "ValidEnd                                                                    \n",
       "2001-01-01  55.340909  25.125000               0.000000           0.000000  \n",
       "2001-01-08  56.907792  26.157468               0.573636          14.570364  \n",
       "2001-01-15  45.813312  28.798701               1.895909          48.156091  \n",
       "2001-01-22  47.125649  23.713312               0.072500           1.841500  \n",
       "2001-01-29  46.303571  27.376623               1.511818          38.400182  \n",
       "...               ...        ...                    ...                ...  \n",
       "2020-11-30  56.321537  27.510931               0.078106           1.983894  \n",
       "2020-12-07  57.441558  25.848864               0.075455           1.916545  \n",
       "2020-12-14  52.524567  28.696212               0.907500          23.050500  \n",
       "2020-12-21  53.556006  30.579545               0.725455          18.426545  \n",
       "2020-12-28  50.110714  28.344102               0.749848          19.046152  \n",
       "\n",
       "[1044 rows x 19 columns]"
      ]
     },
     "execution_count": 27,
     "metadata": {},
     "output_type": "execute_result"
    }
   ],
   "source": [
    "west"
   ]
  },
  {
   "cell_type": "markdown",
   "metadata": {},
   "source": [
    "#### Son's Code"
   ]
  },
  {
   "cell_type": "code",
   "execution_count": 28,
   "metadata": {},
   "outputs": [],
   "source": [
    "#plotting Drought history\n",
    "def plot_dsci(region, name):\n",
    "    region['DSCI'].plot(figsize = (10, 8))\n",
    "    plt.xlabel(\"Year\")\n",
    "    plt.ylabel(\"DSCI (Severity Level)\")\n",
    "    plt.title(f'{name} Region Drought Severity 2001-2020')\n",
    "    plt.savefig('fig.png')"
   ]
  },
  {
   "cell_type": "code",
   "execution_count": 29,
   "metadata": {},
   "outputs": [
    {
     "data": {
      "image/png": "[encoded data removed]",
      "text/plain": [
       "<Figure size 720x576 with 1 Axes>"
      ]
     },
     "metadata": {
      "needs_background": "light"
     },
     "output_type": "display_data"
    }
   ],
   "source": [
    "plot_dsci(west, 'West')"
   ]
  },
  {
   "cell_type": "code",
   "execution_count": 30,
   "metadata": {},
   "outputs": [],
   "source": [
    "#creating function to create window size and DF input. window size or kernal size \n",
    "#is used by NN to make predictions on next iteration.\n",
    "# Code modified from Greg Hogg https://www.youtube.com/watch?v=kGdbPnMCdOg\n",
    "def df_to_X_y(df, windowsize=5):\n",
    "    df_as_np = df.to_numpy()\n",
    "    X = []\n",
    "    y = []\n",
    "    for i in range(len(df_as_np)-windowsize):\n",
    "        row = [[a] for a in df_as_np[i:i+5]]\n",
    "        X.append(row)\n",
    "        label = df_as_np[i+5]\n",
    "        y.append(label)\n",
    "    return np.array(X), np.array(y)"
   ]
  },
  {
   "cell_type": "code",
   "execution_count": 31,
   "metadata": {},
   "outputs": [
    {
     "data": {
      "text/plain": [
       "((1039, 5, 1), (1039,))"
      ]
     },
     "execution_count": 31,
     "metadata": {},
     "output_type": "execute_result"
    }
   ],
   "source": [
    "WINDOW_SIZE = 5\n",
    "X, y = df_to_X_y(west['DSCI'], WINDOW_SIZE)\n",
    "X.shape, y.shape"
   ]
  },
  {
   "cell_type": "code",
   "execution_count": 32,
   "metadata": {},
   "outputs": [],
   "source": [
    "#Creating training, val, and test set\n",
    "X_train, y_train = X[:750], y[:750]\n",
    "X_val, y_val = X[750:850], y[750:850]\n",
    "X_test, y_test = X[850:], y[850:]"
   ]
  },
  {
   "cell_type": "code",
   "execution_count": 33,
   "metadata": {},
   "outputs": [
    {
     "name": "stdout",
     "output_type": "stream",
     "text": [
      "Model: \"sequential\"\n",
      "_________________________________________________________________\n",
      "Layer (type)                 Output Shape              Param #   \n",
      "=================================================================\n",
      "lstm (LSTM)                  (None, 64)                16896     \n",
      "_________________________________________________________________\n",
      "dense (Dense)                (None, 8)                 520       \n",
      "_________________________________________________________________\n",
      "dense_1 (Dense)              (None, 1)                 9         \n",
      "=================================================================\n",
      "Total params: 17,425\n",
      "Trainable params: 17,425\n",
      "Non-trainable params: 0\n",
      "_________________________________________________________________\n"
     ]
    }
   ],
   "source": [
    "#imports\n",
    "from tensorflow.keras.models import Sequential\n",
    "from tensorflow.keras.layers import * \n",
    "from tensorflow.keras.layers import Conv1D\n",
    "from tensorflow.keras.callbacks import ModelCheckpoint\n",
    "from tensorflow.keras.losses import MeanSquaredError\n",
    "from tensorflow.keras.metrics import RootMeanSquaredError\n",
    "from tensorflow.keras.optimizers import Adam\n",
    "\n",
    "model1 = Sequential()\n",
    "model1.add(InputLayer((5,1)))\n",
    "model1.add(LSTM(64))\n",
    "model1.add(Dense(8, 'relu'))\n",
    "model1.add(Dense(1, 'linear'))\n",
    "model1.summary()"
   ]
  },
  {
   "cell_type": "code",
   "execution_count": 34,
   "metadata": {},
   "outputs": [],
   "source": [
    "#Model checkpoint, saving best model. \n",
    "#Loss function is measured on MSE and metrics used is RMSE\n",
    "cp = ModelCheckpoint('model1/', save_best_only=True)\n",
    "model1.compile(loss=MeanSquaredError(), optimizer = Adam(learning_rate=0.005), metrics=[RootMeanSquaredError()])"
   ]
  },
  {
   "cell_type": "code",
   "execution_count": 35,
   "metadata": {},
   "outputs": [
    {
     "name": "stdout",
     "output_type": "stream",
     "text": [
      "Epoch 1/10\n",
      "24/24 [==============================] - 3s 37ms/step - loss: 42517.8516 - root_mean_squared_error: 206.1986 - val_loss: 67365.8672 - val_root_mean_squared_error: 259.5493\n"
     ]
    },
    {
     "name": "stderr",
     "output_type": "stream",
     "text": [
      "WARNING:absl:Found untraced functions such as lstm_cell_layer_call_and_return_conditional_losses, lstm_cell_layer_call_fn, lstm_cell_layer_call_fn, lstm_cell_layer_call_and_return_conditional_losses, lstm_cell_layer_call_and_return_conditional_losses while saving (showing 5 of 5). These functions will not be directly callable after loading.\n"
     ]
    },
    {
     "name": "stdout",
     "output_type": "stream",
     "text": [
      "INFO:tensorflow:Assets written to: model1/assets\n"
     ]
    },
    {
     "name": "stderr",
     "output_type": "stream",
     "text": [
      "INFO:tensorflow:Assets written to: model1/assets\n"
     ]
    },
    {
     "name": "stdout",
     "output_type": "stream",
     "text": [
      "Epoch 2/10\n",
      "24/24 [==============================] - 0s 8ms/step - loss: 37042.9492 - root_mean_squared_error: 192.4655 - val_loss: 56925.0703 - val_root_mean_squared_error: 238.5898\n"
     ]
    },
    {
     "name": "stderr",
     "output_type": "stream",
     "text": [
      "WARNING:absl:Found untraced functions such as lstm_cell_layer_call_and_return_conditional_losses, lstm_cell_layer_call_fn, lstm_cell_layer_call_fn, lstm_cell_layer_call_and_return_conditional_losses, lstm_cell_layer_call_and_return_conditional_losses while saving (showing 5 of 5). These functions will not be directly callable after loading.\n"
     ]
    },
    {
     "name": "stdout",
     "output_type": "stream",
     "text": [
      "INFO:tensorflow:Assets written to: model1/assets\n"
     ]
    },
    {
     "name": "stderr",
     "output_type": "stream",
     "text": [
      "INFO:tensorflow:Assets written to: model1/assets\n"
     ]
    },
    {
     "name": "stdout",
     "output_type": "stream",
     "text": [
      "Epoch 3/10\n",
      "24/24 [==============================] - 0s 6ms/step - loss: 29349.9980 - root_mean_squared_error: 171.3184 - val_loss: 43962.4609 - val_root_mean_squared_error: 209.6723\n"
     ]
    },
    {
     "name": "stderr",
     "output_type": "stream",
     "text": [
      "WARNING:absl:Found untraced functions such as lstm_cell_layer_call_and_return_conditional_losses, lstm_cell_layer_call_fn, lstm_cell_layer_call_fn, lstm_cell_layer_call_and_return_conditional_losses, lstm_cell_layer_call_and_return_conditional_losses while saving (showing 5 of 5). These functions will not be directly callable after loading.\n"
     ]
    },
    {
     "name": "stdout",
     "output_type": "stream",
     "text": [
      "INFO:tensorflow:Assets written to: model1/assets\n"
     ]
    },
    {
     "name": "stderr",
     "output_type": "stream",
     "text": [
      "INFO:tensorflow:Assets written to: model1/assets\n"
     ]
    },
    {
     "name": "stdout",
     "output_type": "stream",
     "text": [
      "Epoch 4/10\n",
      "24/24 [==============================] - 0s 7ms/step - loss: 20136.6270 - root_mean_squared_error: 141.9036 - val_loss: 30169.1152 - val_root_mean_squared_error: 173.6926\n"
     ]
    },
    {
     "name": "stderr",
     "output_type": "stream",
     "text": [
      "WARNING:absl:Found untraced functions such as lstm_cell_layer_call_and_return_conditional_losses, lstm_cell_layer_call_fn, lstm_cell_layer_call_fn, lstm_cell_layer_call_and_return_conditional_losses, lstm_cell_layer_call_and_return_conditional_losses while saving (showing 5 of 5). These functions will not be directly callable after loading.\n"
     ]
    },
    {
     "name": "stdout",
     "output_type": "stream",
     "text": [
      "INFO:tensorflow:Assets written to: model1/assets\n"
     ]
    },
    {
     "name": "stderr",
     "output_type": "stream",
     "text": [
      "INFO:tensorflow:Assets written to: model1/assets\n"
     ]
    },
    {
     "name": "stdout",
     "output_type": "stream",
     "text": [
      "Epoch 5/10\n",
      "24/24 [==============================] - 0s 7ms/step - loss: 11981.0195 - root_mean_squared_error: 109.4578 - val_loss: 18104.5371 - val_root_mean_squared_error: 134.5531\n"
     ]
    },
    {
     "name": "stderr",
     "output_type": "stream",
     "text": [
      "WARNING:absl:Found untraced functions such as lstm_cell_layer_call_and_return_conditional_losses, lstm_cell_layer_call_fn, lstm_cell_layer_call_fn, lstm_cell_layer_call_and_return_conditional_losses, lstm_cell_layer_call_and_return_conditional_losses while saving (showing 5 of 5). These functions will not be directly callable after loading.\n"
     ]
    },
    {
     "name": "stdout",
     "output_type": "stream",
     "text": [
      "INFO:tensorflow:Assets written to: model1/assets\n"
     ]
    },
    {
     "name": "stderr",
     "output_type": "stream",
     "text": [
      "INFO:tensorflow:Assets written to: model1/assets\n"
     ]
    },
    {
     "name": "stdout",
     "output_type": "stream",
     "text": [
      "Epoch 6/10\n",
      "24/24 [==============================] - 0s 7ms/step - loss: 6080.4380 - root_mean_squared_error: 77.9772 - val_loss: 9855.4707 - val_root_mean_squared_error: 99.2747\n"
     ]
    },
    {
     "name": "stderr",
     "output_type": "stream",
     "text": [
      "WARNING:absl:Found untraced functions such as lstm_cell_layer_call_and_return_conditional_losses, lstm_cell_layer_call_fn, lstm_cell_layer_call_fn, lstm_cell_layer_call_and_return_conditional_losses, lstm_cell_layer_call_and_return_conditional_losses while saving (showing 5 of 5). These functions will not be directly callable after loading.\n"
     ]
    },
    {
     "name": "stdout",
     "output_type": "stream",
     "text": [
      "INFO:tensorflow:Assets written to: model1/assets\n"
     ]
    },
    {
     "name": "stderr",
     "output_type": "stream",
     "text": [
      "INFO:tensorflow:Assets written to: model1/assets\n"
     ]
    },
    {
     "name": "stdout",
     "output_type": "stream",
     "text": [
      "Epoch 7/10\n",
      "24/24 [==============================] - 0s 7ms/step - loss: 2991.6375 - root_mean_squared_error: 54.6959 - val_loss: 4933.1895 - val_root_mean_squared_error: 70.2367\n"
     ]
    },
    {
     "name": "stderr",
     "output_type": "stream",
     "text": [
      "WARNING:absl:Found untraced functions such as lstm_cell_layer_call_and_return_conditional_losses, lstm_cell_layer_call_fn, lstm_cell_layer_call_fn, lstm_cell_layer_call_and_return_conditional_losses, lstm_cell_layer_call_and_return_conditional_losses while saving (showing 5 of 5). These functions will not be directly callable after loading.\n"
     ]
    },
    {
     "name": "stdout",
     "output_type": "stream",
     "text": [
      "INFO:tensorflow:Assets written to: model1/assets\n"
     ]
    },
    {
     "name": "stderr",
     "output_type": "stream",
     "text": [
      "INFO:tensorflow:Assets written to: model1/assets\n"
     ]
    },
    {
     "name": "stdout",
     "output_type": "stream",
     "text": [
      "Epoch 8/10\n",
      "24/24 [==============================] - 0s 6ms/step - loss: 1558.4905 - root_mean_squared_error: 39.4777 - val_loss: 2668.2920 - val_root_mean_squared_error: 51.6555\n"
     ]
    },
    {
     "name": "stderr",
     "output_type": "stream",
     "text": [
      "WARNING:absl:Found untraced functions such as lstm_cell_layer_call_and_return_conditional_losses, lstm_cell_layer_call_fn, lstm_cell_layer_call_fn, lstm_cell_layer_call_and_return_conditional_losses, lstm_cell_layer_call_and_return_conditional_losses while saving (showing 5 of 5). These functions will not be directly callable after loading.\n"
     ]
    },
    {
     "name": "stdout",
     "output_type": "stream",
     "text": [
      "INFO:tensorflow:Assets written to: model1/assets\n"
     ]
    },
    {
     "name": "stderr",
     "output_type": "stream",
     "text": [
      "INFO:tensorflow:Assets written to: model1/assets\n"
     ]
    },
    {
     "name": "stdout",
     "output_type": "stream",
     "text": [
      "Epoch 9/10\n",
      "24/24 [==============================] - 0s 6ms/step - loss: 914.3746 - root_mean_squared_error: 30.2386 - val_loss: 1441.6642 - val_root_mean_squared_error: 37.9693\n"
     ]
    },
    {
     "name": "stderr",
     "output_type": "stream",
     "text": [
      "WARNING:absl:Found untraced functions such as lstm_cell_layer_call_and_return_conditional_losses, lstm_cell_layer_call_fn, lstm_cell_layer_call_fn, lstm_cell_layer_call_and_return_conditional_losses, lstm_cell_layer_call_and_return_conditional_losses while saving (showing 5 of 5). These functions will not be directly callable after loading.\n"
     ]
    },
    {
     "name": "stdout",
     "output_type": "stream",
     "text": [
      "INFO:tensorflow:Assets written to: model1/assets\n"
     ]
    },
    {
     "name": "stderr",
     "output_type": "stream",
     "text": [
      "INFO:tensorflow:Assets written to: model1/assets\n"
     ]
    },
    {
     "name": "stdout",
     "output_type": "stream",
     "text": [
      "Epoch 10/10\n",
      "24/24 [==============================] - 0s 7ms/step - loss: 544.0947 - root_mean_squared_error: 23.3258 - val_loss: 760.4575 - val_root_mean_squared_error: 27.5764\n"
     ]
    },
    {
     "name": "stderr",
     "output_type": "stream",
     "text": [
      "WARNING:absl:Found untraced functions such as lstm_cell_layer_call_and_return_conditional_losses, lstm_cell_layer_call_fn, lstm_cell_layer_call_fn, lstm_cell_layer_call_and_return_conditional_losses, lstm_cell_layer_call_and_return_conditional_losses while saving (showing 5 of 5). These functions will not be directly callable after loading.\n"
     ]
    },
    {
     "name": "stdout",
     "output_type": "stream",
     "text": [
      "INFO:tensorflow:Assets written to: model1/assets\n"
     ]
    },
    {
     "name": "stderr",
     "output_type": "stream",
     "text": [
      "INFO:tensorflow:Assets written to: model1/assets\n"
     ]
    }
   ],
   "source": [
    "#Saving history to view loss\n",
    "history = (model1.fit(X_train, y_train, validation_data=(X_val, y_val), epochs=10, callbacks=[cp]))"
   ]
  },
  {
   "cell_type": "code",
   "execution_count": 36,
   "metadata": {},
   "outputs": [
    {
     "data": {
      "text/html": [
       "<div>\n",
       "<style scoped>\n",
       "    .dataframe tbody tr th:only-of-type {\n",
       "        vertical-align: middle;\n",
       "    }\n",
       "\n",
       "    .dataframe tbody tr th {\n",
       "        vertical-align: top;\n",
       "    }\n",
       "\n",
       "    .dataframe thead th {\n",
       "        text-align: right;\n",
       "    }\n",
       "</style>\n",
       "<table border=\"1\" class=\"dataframe\">\n",
       "  <thead>\n",
       "    <tr style=\"text-align: right;\">\n",
       "      <th></th>\n",
       "      <th>loss</th>\n",
       "      <th>root_mean_squared_error</th>\n",
       "      <th>val_loss</th>\n",
       "      <th>val_root_mean_squared_error</th>\n",
       "    </tr>\n",
       "  </thead>\n",
       "  <tbody>\n",
       "    <tr>\n",
       "      <th>0</th>\n",
       "      <td>42517.851562</td>\n",
       "      <td>206.198578</td>\n",
       "      <td>67365.867188</td>\n",
       "      <td>259.549347</td>\n",
       "    </tr>\n",
       "    <tr>\n",
       "      <th>1</th>\n",
       "      <td>37042.949219</td>\n",
       "      <td>192.465454</td>\n",
       "      <td>56925.070312</td>\n",
       "      <td>238.589752</td>\n",
       "    </tr>\n",
       "    <tr>\n",
       "      <th>2</th>\n",
       "      <td>29349.998047</td>\n",
       "      <td>171.318405</td>\n",
       "      <td>43962.460938</td>\n",
       "      <td>209.672272</td>\n",
       "    </tr>\n",
       "    <tr>\n",
       "      <th>3</th>\n",
       "      <td>20136.626953</td>\n",
       "      <td>141.903580</td>\n",
       "      <td>30169.115234</td>\n",
       "      <td>173.692581</td>\n",
       "    </tr>\n",
       "    <tr>\n",
       "      <th>4</th>\n",
       "      <td>11981.019531</td>\n",
       "      <td>109.457840</td>\n",
       "      <td>18104.537109</td>\n",
       "      <td>134.553101</td>\n",
       "    </tr>\n",
       "    <tr>\n",
       "      <th>5</th>\n",
       "      <td>6080.437988</td>\n",
       "      <td>77.977165</td>\n",
       "      <td>9855.470703</td>\n",
       "      <td>99.274727</td>\n",
       "    </tr>\n",
       "    <tr>\n",
       "      <th>6</th>\n",
       "      <td>2991.637451</td>\n",
       "      <td>54.695862</td>\n",
       "      <td>4933.189453</td>\n",
       "      <td>70.236664</td>\n",
       "    </tr>\n",
       "    <tr>\n",
       "      <th>7</th>\n",
       "      <td>1558.490479</td>\n",
       "      <td>39.477722</td>\n",
       "      <td>2668.291992</td>\n",
       "      <td>51.655514</td>\n",
       "    </tr>\n",
       "    <tr>\n",
       "      <th>8</th>\n",
       "      <td>914.374573</td>\n",
       "      <td>30.238626</td>\n",
       "      <td>1441.664185</td>\n",
       "      <td>37.969254</td>\n",
       "    </tr>\n",
       "    <tr>\n",
       "      <th>9</th>\n",
       "      <td>544.094727</td>\n",
       "      <td>23.325838</td>\n",
       "      <td>760.457520</td>\n",
       "      <td>27.576395</td>\n",
       "    </tr>\n",
       "  </tbody>\n",
       "</table>\n",
       "</div>"
      ],
      "text/plain": [
       "           loss  root_mean_squared_error      val_loss  \\\n",
       "0  42517.851562               206.198578  67365.867188   \n",
       "1  37042.949219               192.465454  56925.070312   \n",
       "2  29349.998047               171.318405  43962.460938   \n",
       "3  20136.626953               141.903580  30169.115234   \n",
       "4  11981.019531               109.457840  18104.537109   \n",
       "5   6080.437988                77.977165   9855.470703   \n",
       "6   2991.637451                54.695862   4933.189453   \n",
       "7   1558.490479                39.477722   2668.291992   \n",
       "8    914.374573                30.238626   1441.664185   \n",
       "9    544.094727                23.325838    760.457520   \n",
       "\n",
       "   val_root_mean_squared_error  \n",
       "0                   259.549347  \n",
       "1                   238.589752  \n",
       "2                   209.672272  \n",
       "3                   173.692581  \n",
       "4                   134.553101  \n",
       "5                    99.274727  \n",
       "6                    70.236664  \n",
       "7                    51.655514  \n",
       "8                    37.969254  \n",
       "9                    27.576395  "
      ]
     },
     "execution_count": 36,
     "metadata": {},
     "output_type": "execute_result"
    }
   ],
   "source": [
    "#Creating DF for loss history\n",
    "history_df = pd.DataFrame(history.history)\n",
    "history_df"
   ]
  },
  {
   "cell_type": "code",
   "execution_count": 37,
   "metadata": {},
   "outputs": [
    {
     "data": {
      "image/png": "[encoded data removed]",
      "text/plain": [
       "<Figure size 432x288 with 1 Axes>"
      ]
     },
     "metadata": {
      "needs_background": "light"
     },
     "output_type": "display_data"
    }
   ],
   "source": [
    "#plotting loss\n",
    "history_df.filter(like='loss').plot()\n",
    "plt.title(\"LSTM MSE\", fontsize=16)\n",
    "plt.legend(loc='upper left')\n",
    "plt.savefig('fig2.png')"
   ]
  },
  {
   "cell_type": "code",
   "execution_count": 38,
   "metadata": {},
   "outputs": [],
   "source": [
    "from tensorflow.keras.models import load_model\n",
    "model1 = load_model(\"model1/\")"
   ]
  },
  {
   "cell_type": "code",
   "execution_count": 39,
   "metadata": {},
   "outputs": [
    {
     "data": {
      "text/html": [
       "<div>\n",
       "<style scoped>\n",
       "    .dataframe tbody tr th:only-of-type {\n",
       "        vertical-align: middle;\n",
       "    }\n",
       "\n",
       "    .dataframe tbody tr th {\n",
       "        vertical-align: top;\n",
       "    }\n",
       "\n",
       "    .dataframe thead th {\n",
       "        text-align: right;\n",
       "    }\n",
       "</style>\n",
       "<table border=\"1\" class=\"dataframe\">\n",
       "  <thead>\n",
       "    <tr style=\"text-align: right;\">\n",
       "      <th></th>\n",
       "      <th>Train Predictions</th>\n",
       "      <th>Actuals</th>\n",
       "    </tr>\n",
       "  </thead>\n",
       "  <tbody>\n",
       "    <tr>\n",
       "      <th>0</th>\n",
       "      <td>27.447309</td>\n",
       "      <td>25.5</td>\n",
       "    </tr>\n",
       "    <tr>\n",
       "      <th>1</th>\n",
       "      <td>27.227859</td>\n",
       "      <td>34.0</td>\n",
       "    </tr>\n",
       "    <tr>\n",
       "      <th>2</th>\n",
       "      <td>36.078739</td>\n",
       "      <td>37.0</td>\n",
       "    </tr>\n",
       "    <tr>\n",
       "      <th>3</th>\n",
       "      <td>39.880558</td>\n",
       "      <td>32.5</td>\n",
       "    </tr>\n",
       "    <tr>\n",
       "      <th>4</th>\n",
       "      <td>30.551840</td>\n",
       "      <td>36.0</td>\n",
       "    </tr>\n",
       "    <tr>\n",
       "      <th>...</th>\n",
       "      <td>...</td>\n",
       "      <td>...</td>\n",
       "    </tr>\n",
       "    <tr>\n",
       "      <th>745</th>\n",
       "      <td>315.368164</td>\n",
       "      <td>379.5</td>\n",
       "    </tr>\n",
       "    <tr>\n",
       "      <th>746</th>\n",
       "      <td>315.368408</td>\n",
       "      <td>380.0</td>\n",
       "    </tr>\n",
       "    <tr>\n",
       "      <th>747</th>\n",
       "      <td>315.374451</td>\n",
       "      <td>380.5</td>\n",
       "    </tr>\n",
       "    <tr>\n",
       "      <th>748</th>\n",
       "      <td>315.381042</td>\n",
       "      <td>382.0</td>\n",
       "    </tr>\n",
       "    <tr>\n",
       "      <th>749</th>\n",
       "      <td>315.399048</td>\n",
       "      <td>378.5</td>\n",
       "    </tr>\n",
       "  </tbody>\n",
       "</table>\n",
       "<p>750 rows × 2 columns</p>\n",
       "</div>"
      ],
      "text/plain": [
       "     Train Predictions  Actuals\n",
       "0            27.447309     25.5\n",
       "1            27.227859     34.0\n",
       "2            36.078739     37.0\n",
       "3            39.880558     32.5\n",
       "4            30.551840     36.0\n",
       "..                 ...      ...\n",
       "745         315.368164    379.5\n",
       "746         315.368408    380.0\n",
       "747         315.374451    380.5\n",
       "748         315.381042    382.0\n",
       "749         315.399048    378.5\n",
       "\n",
       "[750 rows x 2 columns]"
      ]
     },
     "execution_count": 39,
     "metadata": {},
     "output_type": "execute_result"
    }
   ],
   "source": [
    "#Predictions\n",
    "train_predictions = model1.predict(X_train).flatten()\n",
    "train_results = pd.DataFrame(data={'Train Predictions':train_predictions, 'Actuals': y_train})\n",
    "train_results"
   ]
  },
  {
   "cell_type": "code",
   "execution_count": 40,
   "metadata": {},
   "outputs": [
    {
     "data": {
      "image/png": "[encoded data removed]",
      "text/plain": [
       "<Figure size 720x576 with 1 Axes>"
      ]
     },
     "metadata": {
      "needs_background": "light"
     },
     "output_type": "display_data"
    }
   ],
   "source": [
    "#plot pred vs actuals\n",
    "import matplotlib.pyplot as plt\n",
    "plt.figure(figsize = (10,8))\n",
    "plt.plot(train_results['Train Predictions'][:400], label = 'DSCI Predictions')\n",
    "plt.plot(train_results['Actuals'][:400], label = \"DSCI Actuals\")\n",
    "plt.xlabel(\"Weeks\", fontsize=14)\n",
    "plt.ylabel(\"DSCI\", fontsize=14)\n",
    "plt.title(\"DSCI Predicitions vs Actuals\", fontsize=16)\n",
    "plt.legend(loc='upper left')\n",
    "plt.savefig('fig1.png')"
   ]
  },
  {
   "cell_type": "code",
   "execution_count": 41,
   "metadata": {},
   "outputs": [
    {
     "data": {
      "text/html": [
       "<div>\n",
       "<style scoped>\n",
       "    .dataframe tbody tr th:only-of-type {\n",
       "        vertical-align: middle;\n",
       "    }\n",
       "\n",
       "    .dataframe tbody tr th {\n",
       "        vertical-align: top;\n",
       "    }\n",
       "\n",
       "    .dataframe thead th {\n",
       "        text-align: right;\n",
       "    }\n",
       "</style>\n",
       "<table border=\"1\" class=\"dataframe\">\n",
       "  <thead>\n",
       "    <tr style=\"text-align: right;\">\n",
       "      <th></th>\n",
       "      <th>Val Predictions</th>\n",
       "      <th>Actuals</th>\n",
       "    </tr>\n",
       "  </thead>\n",
       "  <tbody>\n",
       "    <tr>\n",
       "      <th>0</th>\n",
       "      <td>315.359894</td>\n",
       "      <td>370.5</td>\n",
       "    </tr>\n",
       "    <tr>\n",
       "      <th>1</th>\n",
       "      <td>315.236359</td>\n",
       "      <td>370.5</td>\n",
       "    </tr>\n",
       "    <tr>\n",
       "      <th>2</th>\n",
       "      <td>315.218903</td>\n",
       "      <td>370.5</td>\n",
       "    </tr>\n",
       "    <tr>\n",
       "      <th>3</th>\n",
       "      <td>315.210114</td>\n",
       "      <td>370.5</td>\n",
       "    </tr>\n",
       "    <tr>\n",
       "      <th>4</th>\n",
       "      <td>315.209045</td>\n",
       "      <td>370.0</td>\n",
       "    </tr>\n",
       "    <tr>\n",
       "      <th>...</th>\n",
       "      <td>...</td>\n",
       "      <td>...</td>\n",
       "    </tr>\n",
       "    <tr>\n",
       "      <th>95</th>\n",
       "      <td>17.644905</td>\n",
       "      <td>19.5</td>\n",
       "    </tr>\n",
       "    <tr>\n",
       "      <th>96</th>\n",
       "      <td>17.644905</td>\n",
       "      <td>19.5</td>\n",
       "    </tr>\n",
       "    <tr>\n",
       "      <th>97</th>\n",
       "      <td>17.644905</td>\n",
       "      <td>19.5</td>\n",
       "    </tr>\n",
       "    <tr>\n",
       "      <th>98</th>\n",
       "      <td>17.644905</td>\n",
       "      <td>19.5</td>\n",
       "    </tr>\n",
       "    <tr>\n",
       "      <th>99</th>\n",
       "      <td>17.644905</td>\n",
       "      <td>19.5</td>\n",
       "    </tr>\n",
       "  </tbody>\n",
       "</table>\n",
       "<p>100 rows × 2 columns</p>\n",
       "</div>"
      ],
      "text/plain": [
       "    Val Predictions  Actuals\n",
       "0        315.359894    370.5\n",
       "1        315.236359    370.5\n",
       "2        315.218903    370.5\n",
       "3        315.210114    370.5\n",
       "4        315.209045    370.0\n",
       "..              ...      ...\n",
       "95        17.644905     19.5\n",
       "96        17.644905     19.5\n",
       "97        17.644905     19.5\n",
       "98        17.644905     19.5\n",
       "99        17.644905     19.5\n",
       "\n",
       "[100 rows x 2 columns]"
      ]
     },
     "execution_count": 41,
     "metadata": {},
     "output_type": "execute_result"
    }
   ],
   "source": [
    "#Validation set results\n",
    "val_predictions = model1.predict(X_val).flatten()\n",
    "val_results = pd.DataFrame(data={'Val Predictions':val_predictions, 'Actuals': y_val})\n",
    "val_results"
   ]
  },
  {
   "cell_type": "code",
   "execution_count": 42,
   "metadata": {},
   "outputs": [
    {
     "data": {
      "image/png": "[encoded data removed]",
      "text/plain": [
       "<Figure size 720x576 with 1 Axes>"
      ]
     },
     "metadata": {
      "needs_background": "light"
     },
     "output_type": "display_data"
    }
   ],
   "source": [
    "#plot validation set \n",
    "plt.figure(figsize = (10,8))\n",
    "plt.plot(val_results['Val Predictions'], label = 'DSCI Predictions')\n",
    "plt.plot(val_results['Actuals'], label = 'DSCI Actuals')\n",
    "plt.xlabel(\"Weeks\", fontsize=14)\n",
    "plt.ylabel(\"DSCI\", fontsize=14)\n",
    "plt.title(\"DSCI Predicitions vs Actuals, Validation\", fontsize=16)\n",
    "plt.legend()\n",
    "plt.savefig('fig3.png')"
   ]
  },
  {
   "cell_type": "code",
   "execution_count": 43,
   "metadata": {},
   "outputs": [
    {
     "data": {
      "text/html": [
       "<div>\n",
       "<style scoped>\n",
       "    .dataframe tbody tr th:only-of-type {\n",
       "        vertical-align: middle;\n",
       "    }\n",
       "\n",
       "    .dataframe tbody tr th {\n",
       "        vertical-align: top;\n",
       "    }\n",
       "\n",
       "    .dataframe thead th {\n",
       "        text-align: right;\n",
       "    }\n",
       "</style>\n",
       "<table border=\"1\" class=\"dataframe\">\n",
       "  <thead>\n",
       "    <tr style=\"text-align: right;\">\n",
       "      <th></th>\n",
       "      <th>Test Predictions</th>\n",
       "      <th>Actuals</th>\n",
       "    </tr>\n",
       "  </thead>\n",
       "  <tbody>\n",
       "    <tr>\n",
       "      <th>0</th>\n",
       "      <td>315.359894</td>\n",
       "      <td>370.5</td>\n",
       "    </tr>\n",
       "    <tr>\n",
       "      <th>1</th>\n",
       "      <td>315.236359</td>\n",
       "      <td>370.5</td>\n",
       "    </tr>\n",
       "    <tr>\n",
       "      <th>2</th>\n",
       "      <td>315.218903</td>\n",
       "      <td>370.5</td>\n",
       "    </tr>\n",
       "    <tr>\n",
       "      <th>3</th>\n",
       "      <td>315.210114</td>\n",
       "      <td>370.5</td>\n",
       "    </tr>\n",
       "    <tr>\n",
       "      <th>4</th>\n",
       "      <td>315.209045</td>\n",
       "      <td>370.0</td>\n",
       "    </tr>\n",
       "    <tr>\n",
       "      <th>...</th>\n",
       "      <td>...</td>\n",
       "      <td>...</td>\n",
       "    </tr>\n",
       "    <tr>\n",
       "      <th>95</th>\n",
       "      <td>17.644905</td>\n",
       "      <td>19.5</td>\n",
       "    </tr>\n",
       "    <tr>\n",
       "      <th>96</th>\n",
       "      <td>17.644905</td>\n",
       "      <td>19.5</td>\n",
       "    </tr>\n",
       "    <tr>\n",
       "      <th>97</th>\n",
       "      <td>17.644905</td>\n",
       "      <td>19.5</td>\n",
       "    </tr>\n",
       "    <tr>\n",
       "      <th>98</th>\n",
       "      <td>17.644905</td>\n",
       "      <td>19.5</td>\n",
       "    </tr>\n",
       "    <tr>\n",
       "      <th>99</th>\n",
       "      <td>17.644905</td>\n",
       "      <td>19.5</td>\n",
       "    </tr>\n",
       "  </tbody>\n",
       "</table>\n",
       "<p>100 rows × 2 columns</p>\n",
       "</div>"
      ],
      "text/plain": [
       "    Test Predictions  Actuals\n",
       "0         315.359894    370.5\n",
       "1         315.236359    370.5\n",
       "2         315.218903    370.5\n",
       "3         315.210114    370.5\n",
       "4         315.209045    370.0\n",
       "..               ...      ...\n",
       "95         17.644905     19.5\n",
       "96         17.644905     19.5\n",
       "97         17.644905     19.5\n",
       "98         17.644905     19.5\n",
       "99         17.644905     19.5\n",
       "\n",
       "[100 rows x 2 columns]"
      ]
     },
     "execution_count": 43,
     "metadata": {},
     "output_type": "execute_result"
    }
   ],
   "source": [
    "test_predictions = model1.predict(X_test).flatten()\n",
    "test_results = pd.DataFrame(data={'Test Predictions':val_predictions, 'Actuals': y_val})\n",
    "test_results"
   ]
  },
  {
   "cell_type": "code",
   "execution_count": 44,
   "metadata": {},
   "outputs": [
    {
     "data": {
      "image/png": "[encoded data removed]",
      "text/plain": [
       "<Figure size 720x576 with 1 Axes>"
      ]
     },
     "metadata": {
      "needs_background": "light"
     },
     "output_type": "display_data"
    }
   ],
   "source": [
    "plt.figure(figsize = (10,8))\n",
    "plt.plot(test_results['Test Predictions'], label = 'DSCI Predictions')\n",
    "plt.plot(test_results['Actuals'], label = 'DSCI Actuals')\n",
    "plt.xlabel(\"Weeks\", fontsize=14)\n",
    "plt.ylabel(\"DSCI\", fontsize=14)\n",
    "plt.title(\"DSCI Predicitions vs Actuals, Test Data\", fontsize=16)\n",
    "plt.legend()\n",
    "plt.savefig('fig4.png')"
   ]
  },
  {
   "cell_type": "code",
   "execution_count": 45,
   "metadata": {},
   "outputs": [],
   "source": [
    "#plotting predictions \n",
    "from sklearn.metrics import mean_squared_error as mse\n",
    "\n",
    "def plot_predictions1(fignum, model, X, y, start = 0, end=100):\n",
    "    predictions = model.predict(X).flatten()\n",
    "    df = pd.DataFrame(data={'Predictions':predictions, 'Actuals':y})\n",
    "    plt.figure(figsize = (10,8))\n",
    "    plt.plot(df['Predictions'][start:end], label = 'DSCI Predictions')\n",
    "    plt.plot(df['Actuals'][start:end], label = 'DSCI Actuals' )\n",
    "    plt.xlabel(\"Weeks\", fontsize=14)\n",
    "    plt.ylabel(\"DSCI\", fontsize=14)\n",
    "    plt.title(\"DSCI Predicitions vs Actuals\", fontsize=16)\n",
    "    plt.legend()\n",
    "    plt.savefig(f'fig{str(fignum)}.png')\n",
    "    return df, mse(y, predictions)"
   ]
  },
  {
   "cell_type": "code",
   "execution_count": 46,
   "metadata": {},
   "outputs": [
    {
     "data": {
      "text/plain": [
       "(     Predictions  Actuals\n",
       " 0      17.644903     19.5\n",
       " 1      17.644903     19.5\n",
       " 2      17.644903     19.5\n",
       " 3      17.644903     19.5\n",
       " 4      17.644903     19.5\n",
       " ..           ...      ...\n",
       " 184   276.533661    304.5\n",
       " 185   295.167267    306.5\n",
       " 186   301.507874    333.0\n",
       " 187   310.775299    345.5\n",
       " 188   313.479736    345.5\n",
       " \n",
       " [189 rows x 2 columns],\n",
       " 170.09683517783958)"
      ]
     },
     "execution_count": 46,
     "metadata": {},
     "output_type": "execute_result"
    },
    {
     "data": {
      "image/png": "[encoded data removed]",
      "text/plain": [
       "<Figure size 720x576 with 1 Axes>"
      ]
     },
     "metadata": {
      "needs_background": "light"
     },
     "output_type": "display_data"
    }
   ],
   "source": [
    "plot_predictions1(5, model1, X_test, y_test)"
   ]
  },
  {
   "cell_type": "code",
   "execution_count": 106,
   "metadata": {},
   "outputs": [
    {
     "name": "stdout",
     "output_type": "stream",
     "text": [
      "Model: \"sequential_6\"\n",
      "_________________________________________________________________\n",
      "Layer (type)                 Output Shape              Param #   \n",
      "=================================================================\n",
      "conv1d_1 (Conv1D)            (None, 4, 64)             192       \n",
      "_________________________________________________________________\n",
      "flatten_1 (Flatten)          (None, 256)               0         \n",
      "_________________________________________________________________\n",
      "dense_12 (Dense)             (None, 8)                 2056      \n",
      "_________________________________________________________________\n",
      "dense_13 (Dense)             (None, 1)                 9         \n",
      "=================================================================\n",
      "Total params: 2,257\n",
      "Trainable params: 2,257\n",
      "Non-trainable params: 0\n",
      "_________________________________________________________________\n",
      "Model: \"sequential_6\"\n",
      "_________________________________________________________________\n",
      "Layer (type)                 Output Shape              Param #   \n",
      "=================================================================\n",
      "conv1d_1 (Conv1D)            (None, 4, 64)             192       \n",
      "_________________________________________________________________\n",
      "flatten_1 (Flatten)          (None, 256)               0         \n",
      "_________________________________________________________________\n",
      "dense_12 (Dense)             (None, 8)                 2056      \n",
      "_________________________________________________________________\n",
      "dense_13 (Dense)             (None, 1)                 9         \n",
      "=================================================================\n",
      "Total params: 2,257\n",
      "Trainable params: 2,257\n",
      "Non-trainable params: 0\n",
      "_________________________________________________________________\n"
     ]
    }
   ],
   "source": [
    "model2 = Sequential()\n",
    "model2.add(InputLayer((5,1)))\n",
    "model2.add(Conv1D(64, kernel_size=2))\n",
    "model2.add(Flatten())\n",
    "model2.add(Dense(8, 'relu'))\n",
    "model2.add(Dense(1, 'linear'))\n",
    "model2.summary()\n",
    "\n",
    "model2.summary()"
   ]
  },
  {
   "cell_type": "code",
   "execution_count": 107,
   "metadata": {},
   "outputs": [],
   "source": [
    "cp2 = ModelCheckpoint('model2/', save_best_only=True)\n",
    "model2.compile(loss=MeanSquaredError(), optimizer = Adam(learning_rate=0.005), metrics=[RootMeanSquaredError()])"
   ]
  },
  {
   "cell_type": "code",
   "execution_count": 108,
   "metadata": {},
   "outputs": [
    {
     "name": "stdout",
     "output_type": "stream",
     "text": [
      "Epoch 1/10\n",
      "24/24 [==============================] - 1s 9ms/step - loss: 20897.9258 - root_mean_squared_error: 144.5611 - val_loss: 9290.9180 - val_root_mean_squared_error: 96.3894\n",
      "INFO:tensorflow:Assets written to: model2/assets\n"
     ]
    },
    {
     "name": "stderr",
     "output_type": "stream",
     "text": [
      "INFO:tensorflow:Assets written to: model2/assets\n"
     ]
    },
    {
     "name": "stdout",
     "output_type": "stream",
     "text": [
      "Epoch 2/10\n",
      "24/24 [==============================] - 0s 6ms/step - loss: 1078.0240 - root_mean_squared_error: 32.8333 - val_loss: 685.8765 - val_root_mean_squared_error: 26.1892\n",
      "INFO:tensorflow:Assets written to: model2/assets\n"
     ]
    },
    {
     "name": "stderr",
     "output_type": "stream",
     "text": [
      "INFO:tensorflow:Assets written to: model2/assets\n"
     ]
    },
    {
     "name": "stdout",
     "output_type": "stream",
     "text": [
      "Epoch 3/10\n",
      "24/24 [==============================] - 0s 6ms/step - loss: 290.5757 - root_mean_squared_error: 17.0463 - val_loss: 418.6009 - val_root_mean_squared_error: 20.4597\n",
      "INFO:tensorflow:Assets written to: model2/assets\n"
     ]
    },
    {
     "name": "stderr",
     "output_type": "stream",
     "text": [
      "INFO:tensorflow:Assets written to: model2/assets\n"
     ]
    },
    {
     "name": "stdout",
     "output_type": "stream",
     "text": [
      "Epoch 4/10\n",
      "24/24 [==============================] - 0s 6ms/step - loss: 238.1458 - root_mean_squared_error: 15.4320 - val_loss: 261.4579 - val_root_mean_squared_error: 16.1697\n",
      "INFO:tensorflow:Assets written to: model2/assets\n"
     ]
    },
    {
     "name": "stderr",
     "output_type": "stream",
     "text": [
      "INFO:tensorflow:Assets written to: model2/assets\n"
     ]
    },
    {
     "name": "stdout",
     "output_type": "stream",
     "text": [
      "Epoch 5/10\n",
      "24/24 [==============================] - 0s 3ms/step - loss: 179.7215 - root_mean_squared_error: 13.4060 - val_loss: 140.9467 - val_root_mean_squared_error: 11.8721\n",
      "INFO:tensorflow:Assets written to: model2/assets\n"
     ]
    },
    {
     "name": "stderr",
     "output_type": "stream",
     "text": [
      "INFO:tensorflow:Assets written to: model2/assets\n"
     ]
    },
    {
     "name": "stdout",
     "output_type": "stream",
     "text": [
      "Epoch 6/10\n",
      "24/24 [==============================] - 0s 5ms/step - loss: 148.1757 - root_mean_squared_error: 12.1727 - val_loss: 116.3317 - val_root_mean_squared_error: 10.7857\n",
      "INFO:tensorflow:Assets written to: model2/assets\n"
     ]
    },
    {
     "name": "stderr",
     "output_type": "stream",
     "text": [
      "INFO:tensorflow:Assets written to: model2/assets\n"
     ]
    },
    {
     "name": "stdout",
     "output_type": "stream",
     "text": [
      "Epoch 7/10\n",
      "24/24 [==============================] - 0s 8ms/step - loss: 211.9986 - root_mean_squared_error: 14.5602 - val_loss: 389.0677 - val_root_mean_squared_error: 19.7248\n",
      "Epoch 8/10\n",
      "24/24 [==============================] - 0s 6ms/step - loss: 145.2684 - root_mean_squared_error: 12.0527 - val_loss: 190.5031 - val_root_mean_squared_error: 13.8023\n",
      "Epoch 9/10\n",
      "24/24 [==============================] - 0s 5ms/step - loss: 127.6335 - root_mean_squared_error: 11.2975 - val_loss: 74.2643 - val_root_mean_squared_error: 8.6177\n",
      "INFO:tensorflow:Assets written to: model2/assets\n"
     ]
    },
    {
     "name": "stderr",
     "output_type": "stream",
     "text": [
      "INFO:tensorflow:Assets written to: model2/assets\n"
     ]
    },
    {
     "name": "stdout",
     "output_type": "stream",
     "text": [
      "Epoch 10/10\n",
      "24/24 [==============================] - 0s 6ms/step - loss: 138.0618 - root_mean_squared_error: 11.7500 - val_loss: 123.1415 - val_root_mean_squared_error: 11.0969\n"
     ]
    }
   ],
   "source": [
    "history = (model2.fit(X_train, y_train, validation_data=(X_val, y_val), epochs=10, callbacks=[cp2]))"
   ]
  },
  {
   "cell_type": "code",
   "execution_count": 109,
   "metadata": {},
   "outputs": [
    {
     "data": {
      "text/html": [
       "<div>\n",
       "<style scoped>\n",
       "    .dataframe tbody tr th:only-of-type {\n",
       "        vertical-align: middle;\n",
       "    }\n",
       "\n",
       "    .dataframe tbody tr th {\n",
       "        vertical-align: top;\n",
       "    }\n",
       "\n",
       "    .dataframe thead th {\n",
       "        text-align: right;\n",
       "    }\n",
       "</style>\n",
       "<table border=\"1\" class=\"dataframe\">\n",
       "  <thead>\n",
       "    <tr style=\"text-align: right;\">\n",
       "      <th></th>\n",
       "      <th>loss</th>\n",
       "      <th>root_mean_squared_error</th>\n",
       "      <th>val_loss</th>\n",
       "      <th>val_root_mean_squared_error</th>\n",
       "    </tr>\n",
       "  </thead>\n",
       "  <tbody>\n",
       "    <tr>\n",
       "      <th>0</th>\n",
       "      <td>20897.925781</td>\n",
       "      <td>144.561142</td>\n",
       "      <td>9290.917969</td>\n",
       "      <td>96.389404</td>\n",
       "    </tr>\n",
       "    <tr>\n",
       "      <th>1</th>\n",
       "      <td>1078.024048</td>\n",
       "      <td>32.833275</td>\n",
       "      <td>685.876465</td>\n",
       "      <td>26.189243</td>\n",
       "    </tr>\n",
       "    <tr>\n",
       "      <th>2</th>\n",
       "      <td>290.575714</td>\n",
       "      <td>17.046282</td>\n",
       "      <td>418.600861</td>\n",
       "      <td>20.459738</td>\n",
       "    </tr>\n",
       "    <tr>\n",
       "      <th>3</th>\n",
       "      <td>238.145767</td>\n",
       "      <td>15.431973</td>\n",
       "      <td>261.457916</td>\n",
       "      <td>16.169661</td>\n",
       "    </tr>\n",
       "    <tr>\n",
       "      <th>4</th>\n",
       "      <td>179.721497</td>\n",
       "      <td>13.406025</td>\n",
       "      <td>140.946732</td>\n",
       "      <td>11.872099</td>\n",
       "    </tr>\n",
       "    <tr>\n",
       "      <th>5</th>\n",
       "      <td>148.175690</td>\n",
       "      <td>12.172744</td>\n",
       "      <td>116.331741</td>\n",
       "      <td>10.785719</td>\n",
       "    </tr>\n",
       "    <tr>\n",
       "      <th>6</th>\n",
       "      <td>211.998642</td>\n",
       "      <td>14.560173</td>\n",
       "      <td>389.067657</td>\n",
       "      <td>19.724798</td>\n",
       "    </tr>\n",
       "    <tr>\n",
       "      <th>7</th>\n",
       "      <td>145.268372</td>\n",
       "      <td>12.052733</td>\n",
       "      <td>190.503113</td>\n",
       "      <td>13.802286</td>\n",
       "    </tr>\n",
       "    <tr>\n",
       "      <th>8</th>\n",
       "      <td>127.633492</td>\n",
       "      <td>11.297500</td>\n",
       "      <td>74.264336</td>\n",
       "      <td>8.617676</td>\n",
       "    </tr>\n",
       "    <tr>\n",
       "      <th>9</th>\n",
       "      <td>138.061798</td>\n",
       "      <td>11.749970</td>\n",
       "      <td>123.141525</td>\n",
       "      <td>11.096915</td>\n",
       "    </tr>\n",
       "  </tbody>\n",
       "</table>\n",
       "</div>"
      ],
      "text/plain": [
       "           loss  root_mean_squared_error     val_loss  \\\n",
       "0  20897.925781               144.561142  9290.917969   \n",
       "1   1078.024048                32.833275   685.876465   \n",
       "2    290.575714                17.046282   418.600861   \n",
       "3    238.145767                15.431973   261.457916   \n",
       "4    179.721497                13.406025   140.946732   \n",
       "5    148.175690                12.172744   116.331741   \n",
       "6    211.998642                14.560173   389.067657   \n",
       "7    145.268372                12.052733   190.503113   \n",
       "8    127.633492                11.297500    74.264336   \n",
       "9    138.061798                11.749970   123.141525   \n",
       "\n",
       "   val_root_mean_squared_error  \n",
       "0                    96.389404  \n",
       "1                    26.189243  \n",
       "2                    20.459738  \n",
       "3                    16.169661  \n",
       "4                    11.872099  \n",
       "5                    10.785719  \n",
       "6                    19.724798  \n",
       "7                    13.802286  \n",
       "8                     8.617676  \n",
       "9                    11.096915  "
      ]
     },
     "execution_count": 109,
     "metadata": {},
     "output_type": "execute_result"
    }
   ],
   "source": [
    "history_df = pd.DataFrame(history.history)\n",
    "history_df"
   ]
  },
  {
   "cell_type": "code",
   "execution_count": 110,
   "metadata": {},
   "outputs": [
    {
     "data": {
      "image/png": "[encoded data removed]",
      "text/plain": [
       "<Figure size 432x288 with 1 Axes>"
      ]
     },
     "metadata": {
      "needs_background": "light"
     },
     "output_type": "display_data"
    }
   ],
   "source": [
    "history_df.filter(like='loss').plot();\n",
    "plt.title(\"CNN MSE Loss\", fontsize=16)\n",
    "plt.savefig('fig6.png')"
   ]
  },
  {
   "cell_type": "code",
   "execution_count": 113,
   "metadata": {},
   "outputs": [
    {
     "data": {
      "text/plain": [
       "(     Predictions  Actuals\n",
       " 0      20.169910     19.5\n",
       " 1      20.169910     19.5\n",
       " 2      20.169910     19.5\n",
       " 3      20.169910     19.5\n",
       " 4      20.169910     19.5\n",
       " ..           ...      ...\n",
       " 184   287.957764    304.5\n",
       " 185   306.009949    306.5\n",
       " 186   313.843414    333.0\n",
       " 187   336.673462    345.5\n",
       " 188   352.282867    345.5\n",
       " \n",
       " [189 rows x 2 columns],\n",
       " 169.38069044413407)"
      ]
     },
     "execution_count": 113,
     "metadata": {},
     "output_type": "execute_result"
    },
    {
     "data": {
      "image/png": "[encoded data removed]",
      "text/plain": [
       "<Figure size 720x576 with 1 Axes>"
      ]
     },
     "metadata": {
      "needs_background": "light"
     },
     "output_type": "display_data"
    }
   ],
   "source": [
    "plot_predictions1('cnn', model2, X_test, y_test)"
   ]
  },
  {
   "cell_type": "code",
   "execution_count": 52,
   "metadata": {},
   "outputs": [
    {
     "name": "stdout",
     "output_type": "stream",
     "text": [
      "Model: \"sequential_2\"\n",
      "_________________________________________________________________\n",
      "Layer (type)                 Output Shape              Param #   \n",
      "=================================================================\n",
      "gru (GRU)                    (None, 64)                12864     \n",
      "_________________________________________________________________\n",
      "dense_4 (Dense)              (None, 8)                 520       \n",
      "_________________________________________________________________\n",
      "dense_5 (Dense)              (None, 1)                 9         \n",
      "=================================================================\n",
      "Total params: 13,393\n",
      "Trainable params: 13,393\n",
      "Non-trainable params: 0\n",
      "_________________________________________________________________\n"
     ]
    }
   ],
   "source": [
    "model3 = Sequential()\n",
    "model3.add(InputLayer((5,1)))\n",
    "model3.add(GRU(64))\n",
    "model3.add(Dense(8, 'relu'))\n",
    "model3.add(Dense(1, 'linear'))\n",
    "model3.summary()"
   ]
  },
  {
   "cell_type": "code",
   "execution_count": 53,
   "metadata": {},
   "outputs": [],
   "source": [
    "cp3 = ModelCheckpoint('model3/', save_best_only=True)\n",
    "model3.compile(loss=MeanSquaredError(), optimizer = Adam(learning_rate=0.005), metrics=[RootMeanSquaredError()])"
   ]
  },
  {
   "cell_type": "code",
   "execution_count": 54,
   "metadata": {},
   "outputs": [
    {
     "name": "stdout",
     "output_type": "stream",
     "text": [
      "Epoch 1/10\n",
      "24/24 [==============================] - 5s 35ms/step - loss: 41299.8086 - root_mean_squared_error: 203.2235 - val_loss: 65123.3438 - val_root_mean_squared_error: 255.1928\n"
     ]
    },
    {
     "name": "stderr",
     "output_type": "stream",
     "text": [
      "WARNING:absl:Found untraced functions such as gru_cell_layer_call_and_return_conditional_losses, gru_cell_layer_call_fn, gru_cell_layer_call_fn, gru_cell_layer_call_and_return_conditional_losses, gru_cell_layer_call_and_return_conditional_losses while saving (showing 5 of 5). These functions will not be directly callable after loading.\n"
     ]
    },
    {
     "name": "stdout",
     "output_type": "stream",
     "text": [
      "INFO:tensorflow:Assets written to: model3/assets\n"
     ]
    },
    {
     "name": "stderr",
     "output_type": "stream",
     "text": [
      "INFO:tensorflow:Assets written to: model3/assets\n"
     ]
    },
    {
     "name": "stdout",
     "output_type": "stream",
     "text": [
      "Epoch 2/10\n",
      "24/24 [==============================] - 0s 7ms/step - loss: 35854.0391 - root_mean_squared_error: 189.3516 - val_loss: 54911.6367 - val_root_mean_squared_error: 234.3323\n"
     ]
    },
    {
     "name": "stderr",
     "output_type": "stream",
     "text": [
      "WARNING:absl:Found untraced functions such as gru_cell_layer_call_and_return_conditional_losses, gru_cell_layer_call_fn, gru_cell_layer_call_fn, gru_cell_layer_call_and_return_conditional_losses, gru_cell_layer_call_and_return_conditional_losses while saving (showing 5 of 5). These functions will not be directly callable after loading.\n"
     ]
    },
    {
     "name": "stdout",
     "output_type": "stream",
     "text": [
      "INFO:tensorflow:Assets written to: model3/assets\n"
     ]
    },
    {
     "name": "stderr",
     "output_type": "stream",
     "text": [
      "INFO:tensorflow:Assets written to: model3/assets\n"
     ]
    },
    {
     "name": "stdout",
     "output_type": "stream",
     "text": [
      "Epoch 3/10\n",
      "24/24 [==============================] - 0s 6ms/step - loss: 27754.2285 - root_mean_squared_error: 166.5960 - val_loss: 41288.4883 - val_root_mean_squared_error: 203.1957\n"
     ]
    },
    {
     "name": "stderr",
     "output_type": "stream",
     "text": [
      "WARNING:absl:Found untraced functions such as gru_cell_layer_call_and_return_conditional_losses, gru_cell_layer_call_fn, gru_cell_layer_call_fn, gru_cell_layer_call_and_return_conditional_losses, gru_cell_layer_call_and_return_conditional_losses while saving (showing 5 of 5). These functions will not be directly callable after loading.\n"
     ]
    },
    {
     "name": "stdout",
     "output_type": "stream",
     "text": [
      "INFO:tensorflow:Assets written to: model3/assets\n"
     ]
    },
    {
     "name": "stderr",
     "output_type": "stream",
     "text": [
      "INFO:tensorflow:Assets written to: model3/assets\n"
     ]
    },
    {
     "name": "stdout",
     "output_type": "stream",
     "text": [
      "Epoch 4/10\n",
      "24/24 [==============================] - 0s 9ms/step - loss: 18115.6270 - root_mean_squared_error: 134.5943 - val_loss: 26679.3320 - val_root_mean_squared_error: 163.3381\n"
     ]
    },
    {
     "name": "stderr",
     "output_type": "stream",
     "text": [
      "WARNING:absl:Found untraced functions such as gru_cell_layer_call_and_return_conditional_losses, gru_cell_layer_call_fn, gru_cell_layer_call_fn, gru_cell_layer_call_and_return_conditional_losses, gru_cell_layer_call_and_return_conditional_losses while saving (showing 5 of 5). These functions will not be directly callable after loading.\n"
     ]
    },
    {
     "name": "stdout",
     "output_type": "stream",
     "text": [
      "INFO:tensorflow:Assets written to: model3/assets\n"
     ]
    },
    {
     "name": "stderr",
     "output_type": "stream",
     "text": [
      "INFO:tensorflow:Assets written to: model3/assets\n"
     ]
    },
    {
     "name": "stdout",
     "output_type": "stream",
     "text": [
      "Epoch 5/10\n",
      "24/24 [==============================] - 0s 16ms/step - loss: 9940.7422 - root_mean_squared_error: 99.7033 - val_loss: 15187.6240 - val_root_mean_squared_error: 123.2381\n"
     ]
    },
    {
     "name": "stderr",
     "output_type": "stream",
     "text": [
      "WARNING:absl:Found untraced functions such as gru_cell_layer_call_and_return_conditional_losses, gru_cell_layer_call_fn, gru_cell_layer_call_fn, gru_cell_layer_call_and_return_conditional_losses, gru_cell_layer_call_and_return_conditional_losses while saving (showing 5 of 5). These functions will not be directly callable after loading.\n"
     ]
    },
    {
     "name": "stdout",
     "output_type": "stream",
     "text": [
      "INFO:tensorflow:Assets written to: model3/assets\n"
     ]
    },
    {
     "name": "stderr",
     "output_type": "stream",
     "text": [
      "INFO:tensorflow:Assets written to: model3/assets\n"
     ]
    },
    {
     "name": "stdout",
     "output_type": "stream",
     "text": [
      "Epoch 6/10\n",
      "24/24 [==============================] - 0s 8ms/step - loss: 5037.4448 - root_mean_squared_error: 70.9750 - val_loss: 8457.5273 - val_root_mean_squared_error: 91.9648\n"
     ]
    },
    {
     "name": "stderr",
     "output_type": "stream",
     "text": [
      "WARNING:absl:Found untraced functions such as gru_cell_layer_call_and_return_conditional_losses, gru_cell_layer_call_fn, gru_cell_layer_call_fn, gru_cell_layer_call_and_return_conditional_losses, gru_cell_layer_call_and_return_conditional_losses while saving (showing 5 of 5). These functions will not be directly callable after loading.\n"
     ]
    },
    {
     "name": "stdout",
     "output_type": "stream",
     "text": [
      "INFO:tensorflow:Assets written to: model3/assets\n"
     ]
    },
    {
     "name": "stderr",
     "output_type": "stream",
     "text": [
      "INFO:tensorflow:Assets written to: model3/assets\n"
     ]
    },
    {
     "name": "stdout",
     "output_type": "stream",
     "text": [
      "Epoch 7/10\n",
      "24/24 [==============================] - 0s 6ms/step - loss: 2715.6389 - root_mean_squared_error: 52.1118 - val_loss: 5149.4023 - val_root_mean_squared_error: 71.7593\n"
     ]
    },
    {
     "name": "stderr",
     "output_type": "stream",
     "text": [
      "WARNING:absl:Found untraced functions such as gru_cell_layer_call_and_return_conditional_losses, gru_cell_layer_call_fn, gru_cell_layer_call_fn, gru_cell_layer_call_and_return_conditional_losses, gru_cell_layer_call_and_return_conditional_losses while saving (showing 5 of 5). These functions will not be directly callable after loading.\n"
     ]
    },
    {
     "name": "stdout",
     "output_type": "stream",
     "text": [
      "INFO:tensorflow:Assets written to: model3/assets\n"
     ]
    },
    {
     "name": "stderr",
     "output_type": "stream",
     "text": [
      "INFO:tensorflow:Assets written to: model3/assets\n"
     ]
    },
    {
     "name": "stdout",
     "output_type": "stream",
     "text": [
      "Epoch 8/10\n",
      "24/24 [==============================] - 0s 9ms/step - loss: 1680.1128 - root_mean_squared_error: 40.9892 - val_loss: 3252.1091 - val_root_mean_squared_error: 57.0273\n"
     ]
    },
    {
     "name": "stderr",
     "output_type": "stream",
     "text": [
      "WARNING:absl:Found untraced functions such as gru_cell_layer_call_and_return_conditional_losses, gru_cell_layer_call_fn, gru_cell_layer_call_fn, gru_cell_layer_call_and_return_conditional_losses, gru_cell_layer_call_and_return_conditional_losses while saving (showing 5 of 5). These functions will not be directly callable after loading.\n"
     ]
    },
    {
     "name": "stdout",
     "output_type": "stream",
     "text": [
      "INFO:tensorflow:Assets written to: model3/assets\n"
     ]
    },
    {
     "name": "stderr",
     "output_type": "stream",
     "text": [
      "INFO:tensorflow:Assets written to: model3/assets\n"
     ]
    },
    {
     "name": "stdout",
     "output_type": "stream",
     "text": [
      "Epoch 9/10\n",
      "24/24 [==============================] - 0s 7ms/step - loss: 1124.5314 - root_mean_squared_error: 33.5340 - val_loss: 2017.2086 - val_root_mean_squared_error: 44.9133\n"
     ]
    },
    {
     "name": "stderr",
     "output_type": "stream",
     "text": [
      "WARNING:absl:Found untraced functions such as gru_cell_layer_call_and_return_conditional_losses, gru_cell_layer_call_fn, gru_cell_layer_call_fn, gru_cell_layer_call_and_return_conditional_losses, gru_cell_layer_call_and_return_conditional_losses while saving (showing 5 of 5). These functions will not be directly callable after loading.\n"
     ]
    },
    {
     "name": "stdout",
     "output_type": "stream",
     "text": [
      "INFO:tensorflow:Assets written to: model3/assets\n"
     ]
    },
    {
     "name": "stderr",
     "output_type": "stream",
     "text": [
      "INFO:tensorflow:Assets written to: model3/assets\n"
     ]
    },
    {
     "name": "stdout",
     "output_type": "stream",
     "text": [
      "Epoch 10/10\n",
      "24/24 [==============================] - 0s 7ms/step - loss: 757.1889 - root_mean_squared_error: 27.5171 - val_loss: 1287.0112 - val_root_mean_squared_error: 35.8749\n"
     ]
    },
    {
     "name": "stderr",
     "output_type": "stream",
     "text": [
      "WARNING:absl:Found untraced functions such as gru_cell_layer_call_and_return_conditional_losses, gru_cell_layer_call_fn, gru_cell_layer_call_fn, gru_cell_layer_call_and_return_conditional_losses, gru_cell_layer_call_and_return_conditional_losses while saving (showing 5 of 5). These functions will not be directly callable after loading.\n"
     ]
    },
    {
     "name": "stdout",
     "output_type": "stream",
     "text": [
      "INFO:tensorflow:Assets written to: model3/assets\n"
     ]
    },
    {
     "name": "stderr",
     "output_type": "stream",
     "text": [
      "INFO:tensorflow:Assets written to: model3/assets\n"
     ]
    }
   ],
   "source": [
    "history = (model3.fit(X_train, y_train, validation_data=(X_val, y_val), epochs=10, callbacks=[cp3]))"
   ]
  },
  {
   "cell_type": "code",
   "execution_count": 55,
   "metadata": {},
   "outputs": [
    {
     "data": {
      "text/plain": [
       "(     Predictions  Actuals\n",
       " 0      23.218063     19.5\n",
       " 1      23.218063     19.5\n",
       " 2      23.218063     19.5\n",
       " 3      23.218063     19.5\n",
       " 4      23.218063     19.5\n",
       " ..           ...      ...\n",
       " 184   295.305084    304.5\n",
       " 185   299.502472    306.5\n",
       " 186   299.608063    333.0\n",
       " 187   300.464447    345.5\n",
       " 188   300.543915    345.5\n",
       " \n",
       " [189 rows x 2 columns],\n",
       " 192.33709352112936)"
      ]
     },
     "execution_count": 55,
     "metadata": {},
     "output_type": "execute_result"
    },
    {
     "data": {
      "image/png": "[encoded data removed]",
      "text/plain": [
       "<Figure size 720x576 with 1 Axes>"
      ]
     },
     "metadata": {
      "needs_background": "light"
     },
     "output_type": "display_data"
    }
   ],
   "source": [
    "plot_predictions1(7, model3, X_test, y_test)"
   ]
  },
  {
   "cell_type": "code",
   "execution_count": 56,
   "metadata": {},
   "outputs": [
    {
     "data": {
      "text/html": [
       "<div>\n",
       "<style scoped>\n",
       "    .dataframe tbody tr th:only-of-type {\n",
       "        vertical-align: middle;\n",
       "    }\n",
       "\n",
       "    .dataframe tbody tr th {\n",
       "        vertical-align: top;\n",
       "    }\n",
       "\n",
       "    .dataframe thead th {\n",
       "        text-align: right;\n",
       "    }\n",
       "</style>\n",
       "<table border=\"1\" class=\"dataframe\">\n",
       "  <thead>\n",
       "    <tr style=\"text-align: right;\">\n",
       "      <th></th>\n",
       "      <th>loss</th>\n",
       "      <th>root_mean_squared_error</th>\n",
       "      <th>val_loss</th>\n",
       "      <th>val_root_mean_squared_error</th>\n",
       "    </tr>\n",
       "  </thead>\n",
       "  <tbody>\n",
       "    <tr>\n",
       "      <th>0</th>\n",
       "      <td>41299.808594</td>\n",
       "      <td>203.223541</td>\n",
       "      <td>65123.343750</td>\n",
       "      <td>255.192764</td>\n",
       "    </tr>\n",
       "    <tr>\n",
       "      <th>1</th>\n",
       "      <td>35854.039062</td>\n",
       "      <td>189.351624</td>\n",
       "      <td>54911.636719</td>\n",
       "      <td>234.332321</td>\n",
       "    </tr>\n",
       "    <tr>\n",
       "      <th>2</th>\n",
       "      <td>27754.228516</td>\n",
       "      <td>166.596008</td>\n",
       "      <td>41288.488281</td>\n",
       "      <td>203.195694</td>\n",
       "    </tr>\n",
       "    <tr>\n",
       "      <th>3</th>\n",
       "      <td>18115.626953</td>\n",
       "      <td>134.594299</td>\n",
       "      <td>26679.332031</td>\n",
       "      <td>163.338089</td>\n",
       "    </tr>\n",
       "    <tr>\n",
       "      <th>4</th>\n",
       "      <td>9940.742188</td>\n",
       "      <td>99.703270</td>\n",
       "      <td>15187.624023</td>\n",
       "      <td>123.238075</td>\n",
       "    </tr>\n",
       "    <tr>\n",
       "      <th>5</th>\n",
       "      <td>5037.444824</td>\n",
       "      <td>70.974960</td>\n",
       "      <td>8457.527344</td>\n",
       "      <td>91.964813</td>\n",
       "    </tr>\n",
       "    <tr>\n",
       "      <th>6</th>\n",
       "      <td>2715.638916</td>\n",
       "      <td>52.111794</td>\n",
       "      <td>5149.402344</td>\n",
       "      <td>71.759338</td>\n",
       "    </tr>\n",
       "    <tr>\n",
       "      <th>7</th>\n",
       "      <td>1680.112793</td>\n",
       "      <td>40.989178</td>\n",
       "      <td>3252.109131</td>\n",
       "      <td>57.027267</td>\n",
       "    </tr>\n",
       "    <tr>\n",
       "      <th>8</th>\n",
       "      <td>1124.531372</td>\n",
       "      <td>33.534035</td>\n",
       "      <td>2017.208618</td>\n",
       "      <td>44.913345</td>\n",
       "    </tr>\n",
       "    <tr>\n",
       "      <th>9</th>\n",
       "      <td>757.188904</td>\n",
       "      <td>27.517065</td>\n",
       "      <td>1287.011230</td>\n",
       "      <td>35.874939</td>\n",
       "    </tr>\n",
       "  </tbody>\n",
       "</table>\n",
       "</div>"
      ],
      "text/plain": [
       "           loss  root_mean_squared_error      val_loss  \\\n",
       "0  41299.808594               203.223541  65123.343750   \n",
       "1  35854.039062               189.351624  54911.636719   \n",
       "2  27754.228516               166.596008  41288.488281   \n",
       "3  18115.626953               134.594299  26679.332031   \n",
       "4   9940.742188                99.703270  15187.624023   \n",
       "5   5037.444824                70.974960   8457.527344   \n",
       "6   2715.638916                52.111794   5149.402344   \n",
       "7   1680.112793                40.989178   3252.109131   \n",
       "8   1124.531372                33.534035   2017.208618   \n",
       "9    757.188904                27.517065   1287.011230   \n",
       "\n",
       "   val_root_mean_squared_error  \n",
       "0                   255.192764  \n",
       "1                   234.332321  \n",
       "2                   203.195694  \n",
       "3                   163.338089  \n",
       "4                   123.238075  \n",
       "5                    91.964813  \n",
       "6                    71.759338  \n",
       "7                    57.027267  \n",
       "8                    44.913345  \n",
       "9                    35.874939  "
      ]
     },
     "execution_count": 56,
     "metadata": {},
     "output_type": "execute_result"
    }
   ],
   "source": [
    "history_df = pd.DataFrame(history.history)\n",
    "history_df"
   ]
  },
  {
   "cell_type": "code",
   "execution_count": 57,
   "metadata": {},
   "outputs": [
    {
     "data": {
      "image/png": "[encoded data removed]",
      "text/plain": [
       "<Figure size 432x288 with 1 Axes>"
      ]
     },
     "metadata": {
      "needs_background": "light"
     },
     "output_type": "display_data"
    }
   ],
   "source": [
    "history_df.filter(like='loss').plot();\n",
    "plt.title(\"GRU MSE Loss\", fontsize=16)\n",
    "plt.savefig('fig8.png')"
   ]
  },
  {
   "cell_type": "code",
   "execution_count": 58,
   "metadata": {},
   "outputs": [
    {
     "data": {
      "text/html": [
       "<div>\n",
       "<style scoped>\n",
       "    .dataframe tbody tr th:only-of-type {\n",
       "        vertical-align: middle;\n",
       "    }\n",
       "\n",
       "    .dataframe tbody tr th {\n",
       "        vertical-align: top;\n",
       "    }\n",
       "\n",
       "    .dataframe thead th {\n",
       "        text-align: right;\n",
       "    }\n",
       "</style>\n",
       "<table border=\"1\" class=\"dataframe\">\n",
       "  <thead>\n",
       "    <tr style=\"text-align: right;\">\n",
       "      <th></th>\n",
       "      <th>DSCI</th>\n",
       "      <th>Seconds</th>\n",
       "      <th>year sin</th>\n",
       "      <th>year cos</th>\n",
       "    </tr>\n",
       "    <tr>\n",
       "      <th>ValidEnd</th>\n",
       "      <th></th>\n",
       "      <th></th>\n",
       "      <th></th>\n",
       "      <th></th>\n",
       "    </tr>\n",
       "  </thead>\n",
       "  <tbody>\n",
       "    <tr>\n",
       "      <th>2001-01-01</th>\n",
       "      <td>0.0</td>\n",
       "      <td>9.783072e+08</td>\n",
       "      <td>0.008300</td>\n",
       "      <td>0.999966</td>\n",
       "    </tr>\n",
       "    <tr>\n",
       "      <th>2001-01-08</th>\n",
       "      <td>15.5</td>\n",
       "      <td>9.789120e+08</td>\n",
       "      <td>0.128365</td>\n",
       "      <td>0.991727</td>\n",
       "    </tr>\n",
       "    <tr>\n",
       "      <th>2001-01-15</th>\n",
       "      <td>29.5</td>\n",
       "      <td>9.795168e+08</td>\n",
       "      <td>0.246570</td>\n",
       "      <td>0.969125</td>\n",
       "    </tr>\n",
       "    <tr>\n",
       "      <th>2001-01-22</th>\n",
       "      <td>15.0</td>\n",
       "      <td>9.801216e+08</td>\n",
       "      <td>0.361204</td>\n",
       "      <td>0.932487</td>\n",
       "    </tr>\n",
       "    <tr>\n",
       "      <th>2001-01-29</th>\n",
       "      <td>28.5</td>\n",
       "      <td>9.807264e+08</td>\n",
       "      <td>0.470607</td>\n",
       "      <td>0.882343</td>\n",
       "    </tr>\n",
       "    <tr>\n",
       "      <th>...</th>\n",
       "      <td>...</td>\n",
       "      <td>...</td>\n",
       "      <td>...</td>\n",
       "      <td>...</td>\n",
       "    </tr>\n",
       "    <tr>\n",
       "      <th>2020-11-30</th>\n",
       "      <td>304.5</td>\n",
       "      <td>1.606694e+09</td>\n",
       "      <td>-0.513800</td>\n",
       "      <td>0.857910</td>\n",
       "    </tr>\n",
       "    <tr>\n",
       "      <th>2020-12-07</th>\n",
       "      <td>306.5</td>\n",
       "      <td>1.607299e+09</td>\n",
       "      <td>-0.407020</td>\n",
       "      <td>0.913419</td>\n",
       "    </tr>\n",
       "    <tr>\n",
       "      <th>2020-12-14</th>\n",
       "      <td>333.0</td>\n",
       "      <td>1.607904e+09</td>\n",
       "      <td>-0.294344</td>\n",
       "      <td>0.955699</td>\n",
       "    </tr>\n",
       "    <tr>\n",
       "      <th>2020-12-21</th>\n",
       "      <td>345.5</td>\n",
       "      <td>1.608509e+09</td>\n",
       "      <td>-0.177406</td>\n",
       "      <td>0.984138</td>\n",
       "    </tr>\n",
       "    <tr>\n",
       "      <th>2020-12-28</th>\n",
       "      <td>345.5</td>\n",
       "      <td>1.609114e+09</td>\n",
       "      <td>-0.057898</td>\n",
       "      <td>0.998323</td>\n",
       "    </tr>\n",
       "  </tbody>\n",
       "</table>\n",
       "<p>1044 rows × 4 columns</p>\n",
       "</div>"
      ],
      "text/plain": [
       "             DSCI       Seconds  year sin  year cos\n",
       "ValidEnd                                           \n",
       "2001-01-01    0.0  9.783072e+08  0.008300  0.999966\n",
       "2001-01-08   15.5  9.789120e+08  0.128365  0.991727\n",
       "2001-01-15   29.5  9.795168e+08  0.246570  0.969125\n",
       "2001-01-22   15.0  9.801216e+08  0.361204  0.932487\n",
       "2001-01-29   28.5  9.807264e+08  0.470607  0.882343\n",
       "...           ...           ...       ...       ...\n",
       "2020-11-30  304.5  1.606694e+09 -0.513800  0.857910\n",
       "2020-12-07  306.5  1.607299e+09 -0.407020  0.913419\n",
       "2020-12-14  333.0  1.607904e+09 -0.294344  0.955699\n",
       "2020-12-21  345.5  1.608509e+09 -0.177406  0.984138\n",
       "2020-12-28  345.5  1.609114e+09 -0.057898  0.998323\n",
       "\n",
       "[1044 rows x 4 columns]"
      ]
     },
     "execution_count": 58,
     "metadata": {},
     "output_type": "execute_result"
    }
   ],
   "source": [
    "dsci_df = pd.DataFrame({'DSCI':west['DSCI']})\n",
    "dsci_df['Seconds']=dsci_df.index.map(pd.Timestamp.timestamp)\n",
    "\n",
    "day = 60*60*24\n",
    "year = 365.2425*day\n",
    "dsci_df['year sin'] = np.sin(dsci_df['Seconds'] * (2*np.pi/year))\n",
    "dsci_df['year cos'] = np.cos(dsci_df['Seconds'] * (2*np.pi/year))\n",
    "dsci_df"
   ]
  },
  {
   "cell_type": "code",
   "execution_count": 59,
   "metadata": {},
   "outputs": [],
   "source": [
    "dsci_df.drop('Seconds', axis=1, inplace=True)"
   ]
  },
  {
   "cell_type": "code",
   "execution_count": 60,
   "metadata": {},
   "outputs": [],
   "source": [
    "def df_to_X_y2(df, windowsize=6):\n",
    "    df_as_np = df.to_numpy()\n",
    "    X = []\n",
    "    y = []\n",
    "    for i in range(len(df_as_np)-windowsize):\n",
    "        row = [r for r in df_as_np[i:i+windowsize]]\n",
    "        X.append(row)\n",
    "        label = df_as_np[i+5][0]\n",
    "        y.append(label)\n",
    "    return np.array(X), np.array(y)"
   ]
  },
  {
   "cell_type": "code",
   "execution_count": 61,
   "metadata": {},
   "outputs": [
    {
     "data": {
      "text/plain": [
       "((1038, 6, 3), (1038,))"
      ]
     },
     "execution_count": 61,
     "metadata": {},
     "output_type": "execute_result"
    }
   ],
   "source": [
    "X2, y2 = df_to_X_y2(dsci_df)\n",
    "X2.shape, y2.shape"
   ]
  },
  {
   "cell_type": "code",
   "execution_count": 62,
   "metadata": {},
   "outputs": [],
   "source": [
    "X2_train, y2_train = X2[:750], y2[:750]\n",
    "X2_val, y2_val = X2[750:850], y2[750:850]\n",
    "X2_test, y2_test = X2[850:], y2[850:]"
   ]
  },
  {
   "cell_type": "code",
   "execution_count": 63,
   "metadata": {},
   "outputs": [],
   "source": [
    "dsci_training_mean = np.mean(X2_train[:, :, 0])\n",
    "temp_training_sd = np.std(X2_train[:, :, 0])\n",
    "\n",
    "def preprocess(X):\n",
    "    X[:, :, 0] = (X[:, :, 0] - dsci_training_mean/temp_training_sd)\n",
    "    return X\n"
   ]
  },
  {
   "cell_type": "code",
   "execution_count": 64,
   "metadata": {},
   "outputs": [
    {
     "data": {
      "text/plain": [
       "array([[[ 1.79446130e+01,  9.65598082e-01, -2.60039120e-01],\n",
       "        [ 1.79446130e+01,  9.27367405e-01, -3.74151970e-01],\n",
       "        [ 1.79446130e+01,  8.75705362e-01, -4.82845853e-01],\n",
       "        [ 1.79446130e+01,  8.11360193e-01, -5.84546523e-01],\n",
       "        [ 1.79446130e+01,  7.35263828e-01, -6.77781014e-01],\n",
       "        [ 1.79446130e+01,  6.48518397e-01, -7.61198981e-01]],\n",
       "\n",
       "       [[ 1.79446130e+01,  9.27367405e-01, -3.74151970e-01],\n",
       "        [ 1.79446130e+01,  8.75705362e-01, -4.82845853e-01],\n",
       "        [ 1.79446130e+01,  8.11360193e-01, -5.84546523e-01],\n",
       "        [ 1.79446130e+01,  7.35263828e-01, -6.77781014e-01],\n",
       "        [ 1.79446130e+01,  6.48518397e-01, -7.61198981e-01],\n",
       "        [ 1.79446130e+01,  5.52380262e-01, -8.33592254e-01]],\n",
       "\n",
       "       [[ 1.79446130e+01,  8.75705362e-01, -4.82845853e-01],\n",
       "        [ 1.79446130e+01,  8.11360193e-01, -5.84546523e-01],\n",
       "        [ 1.79446130e+01,  7.35263828e-01, -6.77781014e-01],\n",
       "        [ 1.79446130e+01,  6.48518397e-01, -7.61198981e-01],\n",
       "        [ 1.79446130e+01,  5.52380262e-01, -8.33592254e-01],\n",
       "        [ 1.79446130e+01,  4.48241823e-01, -8.93912338e-01]],\n",
       "\n",
       "       ...,\n",
       "\n",
       "       [[ 2.69944613e+02, -8.52780297e-01,  5.22269820e-01],\n",
       "        [ 2.69944613e+02, -7.83865196e-01,  6.20931038e-01],\n",
       "        [ 2.80944613e+02, -7.03597120e-01,  7.10599109e-01],\n",
       "        [ 2.80444613e+02, -6.13138616e-01,  7.89975340e-01],\n",
       "        [ 3.02944613e+02, -5.13799825e-01,  8.57910100e-01],\n",
       "        [ 3.04944613e+02, -4.07019503e-01,  9.13419468e-01]],\n",
       "\n",
       "       [[ 2.69944613e+02, -7.83865196e-01,  6.20931038e-01],\n",
       "        [ 2.80944613e+02, -7.03597120e-01,  7.10599109e-01],\n",
       "        [ 2.80444613e+02, -6.13138616e-01,  7.89975340e-01],\n",
       "        [ 3.02944613e+02, -5.13799825e-01,  8.57910100e-01],\n",
       "        [ 3.04944613e+02, -4.07019503e-01,  9.13419468e-01],\n",
       "        [ 3.31444613e+02, -2.94344185e-01,  9.55699483e-01]],\n",
       "\n",
       "       [[ 2.80944613e+02, -7.03597120e-01,  7.10599109e-01],\n",
       "        [ 2.80444613e+02, -6.13138616e-01,  7.89975340e-01],\n",
       "        [ 3.02944613e+02, -5.13799825e-01,  8.57910100e-01],\n",
       "        [ 3.04944613e+02, -4.07019503e-01,  9.13419468e-01],\n",
       "        [ 3.31444613e+02, -2.94344185e-01,  9.55699483e-01],\n",
       "        [ 3.43944613e+02, -1.77405783e-01,  9.84137789e-01]]])"
      ]
     },
     "execution_count": 64,
     "metadata": {},
     "output_type": "execute_result"
    }
   ],
   "source": [
    "preprocess(X2_train)\n",
    "preprocess(X2_val)\n",
    "preprocess(X2_test)"
   ]
  },
  {
   "cell_type": "code",
   "execution_count": 65,
   "metadata": {},
   "outputs": [
    {
     "name": "stdout",
     "output_type": "stream",
     "text": [
      "Model: \"sequential_3\"\n",
      "_________________________________________________________________\n",
      "Layer (type)                 Output Shape              Param #   \n",
      "=================================================================\n",
      "lstm_1 (LSTM)                (None, 64)                17408     \n",
      "_________________________________________________________________\n",
      "dense_6 (Dense)              (None, 8)                 520       \n",
      "_________________________________________________________________\n",
      "dense_7 (Dense)              (None, 1)                 9         \n",
      "=================================================================\n",
      "Total params: 17,937\n",
      "Trainable params: 17,937\n",
      "Non-trainable params: 0\n",
      "_________________________________________________________________\n"
     ]
    }
   ],
   "source": [
    "model4 = Sequential()\n",
    "model4.add(InputLayer((5,3)))\n",
    "model4.add(LSTM(64))\n",
    "model4.add(Dense(8, 'relu'))\n",
    "model4.add(Dense(1, 'linear'))\n",
    "model4.summary()"
   ]
  },
  {
   "cell_type": "code",
   "execution_count": 66,
   "metadata": {},
   "outputs": [],
   "source": [
    "cp4 = ModelCheckpoint('model4/', save_best_only=True)\n",
    "model4.compile(loss=MeanSquaredError(), optimizer = Adam(learning_rate=0.005), metrics=[RootMeanSquaredError()])"
   ]
  },
  {
   "cell_type": "code",
   "execution_count": 67,
   "metadata": {},
   "outputs": [
    {
     "name": "stdout",
     "output_type": "stream",
     "text": [
      "Epoch 1/10\n",
      "WARNING:tensorflow:Model was constructed with shape (None, 5, 3) for input KerasTensor(type_spec=TensorSpec(shape=(None, 5, 3), dtype=tf.float32, name='input_4'), name='input_4', description=\"created by layer 'input_4'\"), but it was called on an input with incompatible shape (None, 6, 3).\n"
     ]
    },
    {
     "name": "stderr",
     "output_type": "stream",
     "text": [
      "WARNING:tensorflow:Model was constructed with shape (None, 5, 3) for input KerasTensor(type_spec=TensorSpec(shape=(None, 5, 3), dtype=tf.float32, name='input_4'), name='input_4', description=\"created by layer 'input_4'\"), but it was called on an input with incompatible shape (None, 6, 3).\n"
     ]
    },
    {
     "name": "stdout",
     "output_type": "stream",
     "text": [
      "WARNING:tensorflow:Model was constructed with shape (None, 5, 3) for input KerasTensor(type_spec=TensorSpec(shape=(None, 5, 3), dtype=tf.float32, name='input_4'), name='input_4', description=\"created by layer 'input_4'\"), but it was called on an input with incompatible shape (None, 6, 3).\n"
     ]
    },
    {
     "name": "stderr",
     "output_type": "stream",
     "text": [
      "WARNING:tensorflow:Model was constructed with shape (None, 5, 3) for input KerasTensor(type_spec=TensorSpec(shape=(None, 5, 3), dtype=tf.float32, name='input_4'), name='input_4', description=\"created by layer 'input_4'\"), but it was called on an input with incompatible shape (None, 6, 3).\n"
     ]
    },
    {
     "name": "stdout",
     "output_type": "stream",
     "text": [
      "21/24 [=========================>....] - ETA: 0s - loss: 41854.6992 - root_mean_squared_error: 204.5842WARNING:tensorflow:Model was constructed with shape (None, 5, 3) for input KerasTensor(type_spec=TensorSpec(shape=(None, 5, 3), dtype=tf.float32, name='input_4'), name='input_4', description=\"created by layer 'input_4'\"), but it was called on an input with incompatible shape (None, 6, 3).\n"
     ]
    },
    {
     "name": "stderr",
     "output_type": "stream",
     "text": [
      "WARNING:tensorflow:Model was constructed with shape (None, 5, 3) for input KerasTensor(type_spec=TensorSpec(shape=(None, 5, 3), dtype=tf.float32, name='input_4'), name='input_4', description=\"created by layer 'input_4'\"), but it was called on an input with incompatible shape (None, 6, 3).\n"
     ]
    },
    {
     "name": "stdout",
     "output_type": "stream",
     "text": [
      "24/24 [==============================] - 3s 40ms/step - loss: 41002.3750 - root_mean_squared_error: 202.4904 - val_loss: 61010.0117 - val_root_mean_squared_error: 247.0020\n"
     ]
    },
    {
     "name": "stderr",
     "output_type": "stream",
     "text": [
      "WARNING:absl:Found untraced functions such as lstm_cell_2_layer_call_and_return_conditional_losses, lstm_cell_2_layer_call_fn, lstm_cell_2_layer_call_fn, lstm_cell_2_layer_call_and_return_conditional_losses, lstm_cell_2_layer_call_and_return_conditional_losses while saving (showing 5 of 5). These functions will not be directly callable after loading.\n"
     ]
    },
    {
     "name": "stdout",
     "output_type": "stream",
     "text": [
      "INFO:tensorflow:Assets written to: model4/assets\n"
     ]
    },
    {
     "name": "stderr",
     "output_type": "stream",
     "text": [
      "INFO:tensorflow:Assets written to: model4/assets\n"
     ]
    },
    {
     "name": "stdout",
     "output_type": "stream",
     "text": [
      "Epoch 2/10\n",
      "24/24 [==============================] - 0s 6ms/step - loss: 31322.9902 - root_mean_squared_error: 176.9830 - val_loss: 46844.3516 - val_root_mean_squared_error: 216.4356\n"
     ]
    },
    {
     "name": "stderr",
     "output_type": "stream",
     "text": [
      "WARNING:absl:Found untraced functions such as lstm_cell_2_layer_call_and_return_conditional_losses, lstm_cell_2_layer_call_fn, lstm_cell_2_layer_call_fn, lstm_cell_2_layer_call_and_return_conditional_losses, lstm_cell_2_layer_call_and_return_conditional_losses while saving (showing 5 of 5). These functions will not be directly callable after loading.\n"
     ]
    },
    {
     "name": "stdout",
     "output_type": "stream",
     "text": [
      "INFO:tensorflow:Assets written to: model4/assets\n"
     ]
    },
    {
     "name": "stderr",
     "output_type": "stream",
     "text": [
      "INFO:tensorflow:Assets written to: model4/assets\n"
     ]
    },
    {
     "name": "stdout",
     "output_type": "stream",
     "text": [
      "Epoch 3/10\n",
      "24/24 [==============================] - 0s 7ms/step - loss: 22093.4551 - root_mean_squared_error: 148.6387 - val_loss: 32939.1836 - val_root_mean_squared_error: 181.4915\n"
     ]
    },
    {
     "name": "stderr",
     "output_type": "stream",
     "text": [
      "WARNING:absl:Found untraced functions such as lstm_cell_2_layer_call_and_return_conditional_losses, lstm_cell_2_layer_call_fn, lstm_cell_2_layer_call_fn, lstm_cell_2_layer_call_and_return_conditional_losses, lstm_cell_2_layer_call_and_return_conditional_losses while saving (showing 5 of 5). These functions will not be directly callable after loading.\n"
     ]
    },
    {
     "name": "stdout",
     "output_type": "stream",
     "text": [
      "INFO:tensorflow:Assets written to: model4/assets\n"
     ]
    },
    {
     "name": "stderr",
     "output_type": "stream",
     "text": [
      "INFO:tensorflow:Assets written to: model4/assets\n"
     ]
    },
    {
     "name": "stdout",
     "output_type": "stream",
     "text": [
      "Epoch 4/10\n",
      "24/24 [==============================] - 0s 7ms/step - loss: 13570.2578 - root_mean_squared_error: 116.4914 - val_loss: 20617.1973 - val_root_mean_squared_error: 143.5869\n"
     ]
    },
    {
     "name": "stderr",
     "output_type": "stream",
     "text": [
      "WARNING:absl:Found untraced functions such as lstm_cell_2_layer_call_and_return_conditional_losses, lstm_cell_2_layer_call_fn, lstm_cell_2_layer_call_fn, lstm_cell_2_layer_call_and_return_conditional_losses, lstm_cell_2_layer_call_and_return_conditional_losses while saving (showing 5 of 5). These functions will not be directly callable after loading.\n"
     ]
    },
    {
     "name": "stdout",
     "output_type": "stream",
     "text": [
      "INFO:tensorflow:Assets written to: model4/assets\n"
     ]
    },
    {
     "name": "stderr",
     "output_type": "stream",
     "text": [
      "INFO:tensorflow:Assets written to: model4/assets\n"
     ]
    },
    {
     "name": "stdout",
     "output_type": "stream",
     "text": [
      "Epoch 5/10\n",
      "24/24 [==============================] - 0s 7ms/step - loss: 7434.5361 - root_mean_squared_error: 86.2238 - val_loss: 12182.2998 - val_root_mean_squared_error: 110.3735\n"
     ]
    },
    {
     "name": "stderr",
     "output_type": "stream",
     "text": [
      "WARNING:absl:Found untraced functions such as lstm_cell_2_layer_call_and_return_conditional_losses, lstm_cell_2_layer_call_fn, lstm_cell_2_layer_call_fn, lstm_cell_2_layer_call_and_return_conditional_losses, lstm_cell_2_layer_call_and_return_conditional_losses while saving (showing 5 of 5). These functions will not be directly callable after loading.\n"
     ]
    },
    {
     "name": "stdout",
     "output_type": "stream",
     "text": [
      "INFO:tensorflow:Assets written to: model4/assets\n"
     ]
    },
    {
     "name": "stderr",
     "output_type": "stream",
     "text": [
      "INFO:tensorflow:Assets written to: model4/assets\n"
     ]
    },
    {
     "name": "stdout",
     "output_type": "stream",
     "text": [
      "Epoch 6/10\n",
      "24/24 [==============================] - 0s 9ms/step - loss: 4045.6116 - root_mean_squared_error: 63.6051 - val_loss: 7264.4551 - val_root_mean_squared_error: 85.2318\n"
     ]
    },
    {
     "name": "stderr",
     "output_type": "stream",
     "text": [
      "WARNING:absl:Found untraced functions such as lstm_cell_2_layer_call_and_return_conditional_losses, lstm_cell_2_layer_call_fn, lstm_cell_2_layer_call_fn, lstm_cell_2_layer_call_and_return_conditional_losses, lstm_cell_2_layer_call_and_return_conditional_losses while saving (showing 5 of 5). These functions will not be directly callable after loading.\n"
     ]
    },
    {
     "name": "stdout",
     "output_type": "stream",
     "text": [
      "INFO:tensorflow:Assets written to: model4/assets\n"
     ]
    },
    {
     "name": "stderr",
     "output_type": "stream",
     "text": [
      "INFO:tensorflow:Assets written to: model4/assets\n"
     ]
    },
    {
     "name": "stdout",
     "output_type": "stream",
     "text": [
      "Epoch 7/10\n",
      "24/24 [==============================] - 0s 7ms/step - loss: 2324.6133 - root_mean_squared_error: 48.2142 - val_loss: 4580.9487 - val_root_mean_squared_error: 67.6827\n"
     ]
    },
    {
     "name": "stderr",
     "output_type": "stream",
     "text": [
      "WARNING:absl:Found untraced functions such as lstm_cell_2_layer_call_and_return_conditional_losses, lstm_cell_2_layer_call_fn, lstm_cell_2_layer_call_fn, lstm_cell_2_layer_call_and_return_conditional_losses, lstm_cell_2_layer_call_and_return_conditional_losses while saving (showing 5 of 5). These functions will not be directly callable after loading.\n"
     ]
    },
    {
     "name": "stdout",
     "output_type": "stream",
     "text": [
      "INFO:tensorflow:Assets written to: model4/assets\n"
     ]
    },
    {
     "name": "stderr",
     "output_type": "stream",
     "text": [
      "INFO:tensorflow:Assets written to: model4/assets\n"
     ]
    },
    {
     "name": "stdout",
     "output_type": "stream",
     "text": [
      "Epoch 8/10\n",
      "24/24 [==============================] - 0s 9ms/step - loss: 1465.1245 - root_mean_squared_error: 38.2769 - val_loss: 2920.5369 - val_root_mean_squared_error: 54.0420\n"
     ]
    },
    {
     "name": "stderr",
     "output_type": "stream",
     "text": [
      "WARNING:absl:Found untraced functions such as lstm_cell_2_layer_call_and_return_conditional_losses, lstm_cell_2_layer_call_fn, lstm_cell_2_layer_call_fn, lstm_cell_2_layer_call_and_return_conditional_losses, lstm_cell_2_layer_call_and_return_conditional_losses while saving (showing 5 of 5). These functions will not be directly callable after loading.\n"
     ]
    },
    {
     "name": "stdout",
     "output_type": "stream",
     "text": [
      "INFO:tensorflow:Assets written to: model4/assets\n"
     ]
    },
    {
     "name": "stderr",
     "output_type": "stream",
     "text": [
      "INFO:tensorflow:Assets written to: model4/assets\n"
     ]
    },
    {
     "name": "stdout",
     "output_type": "stream",
     "text": [
      "Epoch 9/10\n",
      "24/24 [==============================] - 0s 7ms/step - loss: 946.2620 - root_mean_squared_error: 30.7614 - val_loss: 1789.3544 - val_root_mean_squared_error: 42.3008\n"
     ]
    },
    {
     "name": "stderr",
     "output_type": "stream",
     "text": [
      "WARNING:absl:Found untraced functions such as lstm_cell_2_layer_call_and_return_conditional_losses, lstm_cell_2_layer_call_fn, lstm_cell_2_layer_call_fn, lstm_cell_2_layer_call_and_return_conditional_losses, lstm_cell_2_layer_call_and_return_conditional_losses while saving (showing 5 of 5). These functions will not be directly callable after loading.\n"
     ]
    },
    {
     "name": "stdout",
     "output_type": "stream",
     "text": [
      "INFO:tensorflow:Assets written to: model4/assets\n"
     ]
    },
    {
     "name": "stderr",
     "output_type": "stream",
     "text": [
      "INFO:tensorflow:Assets written to: model4/assets\n"
     ]
    },
    {
     "name": "stdout",
     "output_type": "stream",
     "text": [
      "Epoch 10/10\n",
      "24/24 [==============================] - 0s 8ms/step - loss: 615.9543 - root_mean_squared_error: 24.8184 - val_loss: 1142.6392 - val_root_mean_squared_error: 33.8029\n"
     ]
    },
    {
     "name": "stderr",
     "output_type": "stream",
     "text": [
      "WARNING:absl:Found untraced functions such as lstm_cell_2_layer_call_and_return_conditional_losses, lstm_cell_2_layer_call_fn, lstm_cell_2_layer_call_fn, lstm_cell_2_layer_call_and_return_conditional_losses, lstm_cell_2_layer_call_and_return_conditional_losses while saving (showing 5 of 5). These functions will not be directly callable after loading.\n"
     ]
    },
    {
     "name": "stdout",
     "output_type": "stream",
     "text": [
      "INFO:tensorflow:Assets written to: model4/assets\n"
     ]
    },
    {
     "name": "stderr",
     "output_type": "stream",
     "text": [
      "INFO:tensorflow:Assets written to: model4/assets\n"
     ]
    }
   ],
   "source": [
    "history = (model4.fit(X2_train, y2_train, validation_data=(X2_val, y2_val), epochs=10, callbacks=[cp4]))"
   ]
  },
  {
   "cell_type": "code",
   "execution_count": 68,
   "metadata": {},
   "outputs": [
    {
     "name": "stdout",
     "output_type": "stream",
     "text": [
      "WARNING:tensorflow:Model was constructed with shape (None, 5, 3) for input KerasTensor(type_spec=TensorSpec(shape=(None, 5, 3), dtype=tf.float32, name='input_4'), name='input_4', description=\"created by layer 'input_4'\"), but it was called on an input with incompatible shape (None, 6, 3).\n"
     ]
    },
    {
     "name": "stderr",
     "output_type": "stream",
     "text": [
      "WARNING:tensorflow:Model was constructed with shape (None, 5, 3) for input KerasTensor(type_spec=TensorSpec(shape=(None, 5, 3), dtype=tf.float32, name='input_4'), name='input_4', description=\"created by layer 'input_4'\"), but it was called on an input with incompatible shape (None, 6, 3).\n"
     ]
    },
    {
     "data": {
      "text/plain": [
       "(     Predictions  Actuals\n",
       " 0      19.486830     19.5\n",
       " 1      19.464943     19.5\n",
       " 2      19.437305     19.5\n",
       " 3      19.403692     19.5\n",
       " 4      19.364075     19.5\n",
       " ..           ...      ...\n",
       " 183   284.228851    282.0\n",
       " 184   295.883026    304.5\n",
       " 185   299.340912    306.5\n",
       " 186   301.310089    333.0\n",
       " 187   301.637421    345.5\n",
       " \n",
       " [188 rows x 2 columns],\n",
       " 30.970152621879063)"
      ]
     },
     "execution_count": 68,
     "metadata": {},
     "output_type": "execute_result"
    },
    {
     "data": {
      "image/png": "[encoded data removed]",
      "text/plain": [
       "<Figure size 720x576 with 1 Axes>"
      ]
     },
     "metadata": {
      "needs_background": "light"
     },
     "output_type": "display_data"
    }
   ],
   "source": [
    "plot_predictions1(9, model4, X2_test, y2_test)"
   ]
  },
  {
   "cell_type": "code",
   "execution_count": 69,
   "metadata": {},
   "outputs": [
    {
     "data": {
      "text/html": [
       "<div>\n",
       "<style scoped>\n",
       "    .dataframe tbody tr th:only-of-type {\n",
       "        vertical-align: middle;\n",
       "    }\n",
       "\n",
       "    .dataframe tbody tr th {\n",
       "        vertical-align: top;\n",
       "    }\n",
       "\n",
       "    .dataframe thead th {\n",
       "        text-align: right;\n",
       "    }\n",
       "</style>\n",
       "<table border=\"1\" class=\"dataframe\">\n",
       "  <thead>\n",
       "    <tr style=\"text-align: right;\">\n",
       "      <th></th>\n",
       "      <th>loss</th>\n",
       "      <th>root_mean_squared_error</th>\n",
       "      <th>val_loss</th>\n",
       "      <th>val_root_mean_squared_error</th>\n",
       "    </tr>\n",
       "  </thead>\n",
       "  <tbody>\n",
       "    <tr>\n",
       "      <th>0</th>\n",
       "      <td>41002.375000</td>\n",
       "      <td>202.490433</td>\n",
       "      <td>61010.011719</td>\n",
       "      <td>247.002045</td>\n",
       "    </tr>\n",
       "    <tr>\n",
       "      <th>1</th>\n",
       "      <td>31322.990234</td>\n",
       "      <td>176.983017</td>\n",
       "      <td>46844.351562</td>\n",
       "      <td>216.435562</td>\n",
       "    </tr>\n",
       "    <tr>\n",
       "      <th>2</th>\n",
       "      <td>22093.455078</td>\n",
       "      <td>148.638672</td>\n",
       "      <td>32939.183594</td>\n",
       "      <td>181.491547</td>\n",
       "    </tr>\n",
       "    <tr>\n",
       "      <th>3</th>\n",
       "      <td>13570.257812</td>\n",
       "      <td>116.491447</td>\n",
       "      <td>20617.197266</td>\n",
       "      <td>143.586899</td>\n",
       "    </tr>\n",
       "    <tr>\n",
       "      <th>4</th>\n",
       "      <td>7434.536133</td>\n",
       "      <td>86.223755</td>\n",
       "      <td>12182.299805</td>\n",
       "      <td>110.373459</td>\n",
       "    </tr>\n",
       "    <tr>\n",
       "      <th>5</th>\n",
       "      <td>4045.611572</td>\n",
       "      <td>63.605122</td>\n",
       "      <td>7264.455078</td>\n",
       "      <td>85.231773</td>\n",
       "    </tr>\n",
       "    <tr>\n",
       "      <th>6</th>\n",
       "      <td>2324.613281</td>\n",
       "      <td>48.214245</td>\n",
       "      <td>4580.948730</td>\n",
       "      <td>67.682709</td>\n",
       "    </tr>\n",
       "    <tr>\n",
       "      <th>7</th>\n",
       "      <td>1465.124512</td>\n",
       "      <td>38.276943</td>\n",
       "      <td>2920.536865</td>\n",
       "      <td>54.041992</td>\n",
       "    </tr>\n",
       "    <tr>\n",
       "      <th>8</th>\n",
       "      <td>946.262024</td>\n",
       "      <td>30.761372</td>\n",
       "      <td>1789.354370</td>\n",
       "      <td>42.300762</td>\n",
       "    </tr>\n",
       "    <tr>\n",
       "      <th>9</th>\n",
       "      <td>615.954346</td>\n",
       "      <td>24.818428</td>\n",
       "      <td>1142.639160</td>\n",
       "      <td>33.802944</td>\n",
       "    </tr>\n",
       "  </tbody>\n",
       "</table>\n",
       "</div>"
      ],
      "text/plain": [
       "           loss  root_mean_squared_error      val_loss  \\\n",
       "0  41002.375000               202.490433  61010.011719   \n",
       "1  31322.990234               176.983017  46844.351562   \n",
       "2  22093.455078               148.638672  32939.183594   \n",
       "3  13570.257812               116.491447  20617.197266   \n",
       "4   7434.536133                86.223755  12182.299805   \n",
       "5   4045.611572                63.605122   7264.455078   \n",
       "6   2324.613281                48.214245   4580.948730   \n",
       "7   1465.124512                38.276943   2920.536865   \n",
       "8    946.262024                30.761372   1789.354370   \n",
       "9    615.954346                24.818428   1142.639160   \n",
       "\n",
       "   val_root_mean_squared_error  \n",
       "0                   247.002045  \n",
       "1                   216.435562  \n",
       "2                   181.491547  \n",
       "3                   143.586899  \n",
       "4                   110.373459  \n",
       "5                    85.231773  \n",
       "6                    67.682709  \n",
       "7                    54.041992  \n",
       "8                    42.300762  \n",
       "9                    33.802944  "
      ]
     },
     "execution_count": 69,
     "metadata": {},
     "output_type": "execute_result"
    }
   ],
   "source": [
    "history_df = pd.DataFrame(history.history)\n",
    "history_df"
   ]
  },
  {
   "cell_type": "code",
   "execution_count": 70,
   "metadata": {},
   "outputs": [
    {
     "data": {
      "image/png": "[encoded data removed]",
      "text/plain": [
       "<Figure size 432x288 with 1 Axes>"
      ]
     },
     "metadata": {
      "needs_background": "light"
     },
     "output_type": "display_data"
    }
   ],
   "source": [
    "history_df.filter(like='loss').plot();\n",
    "plt.title(\"LSTM MSE (Time Feature) Loss\", fontsize=16)\n",
    "plt.savefig('fig10.png')"
   ]
  },
  {
   "cell_type": "code",
   "execution_count": 71,
   "metadata": {},
   "outputs": [],
   "source": [
    "tmax_dsci_df = pd.concat([west['avg_tmax'], dsci_df], axis=1)"
   ]
  },
  {
   "cell_type": "code",
   "execution_count": 72,
   "metadata": {},
   "outputs": [],
   "source": [
    "prcp_dsci_df = pd.concat([west['total_avg_prcp_inches'], dsci_df], axis=1)"
   ]
  },
  {
   "cell_type": "code",
   "execution_count": 73,
   "metadata": {},
   "outputs": [
    {
     "data": {
      "text/html": [
       "<div>\n",
       "<style scoped>\n",
       "    .dataframe tbody tr th:only-of-type {\n",
       "        vertical-align: middle;\n",
       "    }\n",
       "\n",
       "    .dataframe tbody tr th {\n",
       "        vertical-align: top;\n",
       "    }\n",
       "\n",
       "    .dataframe thead th {\n",
       "        text-align: right;\n",
       "    }\n",
       "</style>\n",
       "<table border=\"1\" class=\"dataframe\">\n",
       "  <thead>\n",
       "    <tr style=\"text-align: right;\">\n",
       "      <th></th>\n",
       "      <th>avg_tmax</th>\n",
       "      <th>DSCI</th>\n",
       "      <th>year sin</th>\n",
       "      <th>year cos</th>\n",
       "    </tr>\n",
       "    <tr>\n",
       "      <th>ValidEnd</th>\n",
       "      <th></th>\n",
       "      <th></th>\n",
       "      <th></th>\n",
       "      <th></th>\n",
       "    </tr>\n",
       "  </thead>\n",
       "  <tbody>\n",
       "    <tr>\n",
       "      <th>2001-01-01</th>\n",
       "      <td>55.340909</td>\n",
       "      <td>0.0</td>\n",
       "      <td>0.008300</td>\n",
       "      <td>0.999966</td>\n",
       "    </tr>\n",
       "    <tr>\n",
       "      <th>2001-01-08</th>\n",
       "      <td>56.907792</td>\n",
       "      <td>15.5</td>\n",
       "      <td>0.128365</td>\n",
       "      <td>0.991727</td>\n",
       "    </tr>\n",
       "    <tr>\n",
       "      <th>2001-01-15</th>\n",
       "      <td>45.813312</td>\n",
       "      <td>29.5</td>\n",
       "      <td>0.246570</td>\n",
       "      <td>0.969125</td>\n",
       "    </tr>\n",
       "    <tr>\n",
       "      <th>2001-01-22</th>\n",
       "      <td>47.125649</td>\n",
       "      <td>15.0</td>\n",
       "      <td>0.361204</td>\n",
       "      <td>0.932487</td>\n",
       "    </tr>\n",
       "    <tr>\n",
       "      <th>2001-01-29</th>\n",
       "      <td>46.303571</td>\n",
       "      <td>28.5</td>\n",
       "      <td>0.470607</td>\n",
       "      <td>0.882343</td>\n",
       "    </tr>\n",
       "  </tbody>\n",
       "</table>\n",
       "</div>"
      ],
      "text/plain": [
       "             avg_tmax  DSCI  year sin  year cos\n",
       "ValidEnd                                       \n",
       "2001-01-01  55.340909   0.0  0.008300  0.999966\n",
       "2001-01-08  56.907792  15.5  0.128365  0.991727\n",
       "2001-01-15  45.813312  29.5  0.246570  0.969125\n",
       "2001-01-22  47.125649  15.0  0.361204  0.932487\n",
       "2001-01-29  46.303571  28.5  0.470607  0.882343"
      ]
     },
     "execution_count": 73,
     "metadata": {},
     "output_type": "execute_result"
    }
   ],
   "source": [
    "tmax_dsci_df.head()"
   ]
  },
  {
   "cell_type": "code",
   "execution_count": 74,
   "metadata": {},
   "outputs": [
    {
     "data": {
      "text/html": [
       "<div>\n",
       "<style scoped>\n",
       "    .dataframe tbody tr th:only-of-type {\n",
       "        vertical-align: middle;\n",
       "    }\n",
       "\n",
       "    .dataframe tbody tr th {\n",
       "        vertical-align: top;\n",
       "    }\n",
       "\n",
       "    .dataframe thead th {\n",
       "        text-align: right;\n",
       "    }\n",
       "</style>\n",
       "<table border=\"1\" class=\"dataframe\">\n",
       "  <thead>\n",
       "    <tr style=\"text-align: right;\">\n",
       "      <th></th>\n",
       "      <th>total_avg_prcp_inches</th>\n",
       "      <th>DSCI</th>\n",
       "      <th>year sin</th>\n",
       "      <th>year cos</th>\n",
       "    </tr>\n",
       "    <tr>\n",
       "      <th>ValidEnd</th>\n",
       "      <th></th>\n",
       "      <th></th>\n",
       "      <th></th>\n",
       "      <th></th>\n",
       "    </tr>\n",
       "  </thead>\n",
       "  <tbody>\n",
       "    <tr>\n",
       "      <th>2001-01-01</th>\n",
       "      <td>0.000000</td>\n",
       "      <td>0.0</td>\n",
       "      <td>0.008300</td>\n",
       "      <td>0.999966</td>\n",
       "    </tr>\n",
       "    <tr>\n",
       "      <th>2001-01-08</th>\n",
       "      <td>0.573636</td>\n",
       "      <td>15.5</td>\n",
       "      <td>0.128365</td>\n",
       "      <td>0.991727</td>\n",
       "    </tr>\n",
       "    <tr>\n",
       "      <th>2001-01-15</th>\n",
       "      <td>1.895909</td>\n",
       "      <td>29.5</td>\n",
       "      <td>0.246570</td>\n",
       "      <td>0.969125</td>\n",
       "    </tr>\n",
       "    <tr>\n",
       "      <th>2001-01-22</th>\n",
       "      <td>0.072500</td>\n",
       "      <td>15.0</td>\n",
       "      <td>0.361204</td>\n",
       "      <td>0.932487</td>\n",
       "    </tr>\n",
       "    <tr>\n",
       "      <th>2001-01-29</th>\n",
       "      <td>1.511818</td>\n",
       "      <td>28.5</td>\n",
       "      <td>0.470607</td>\n",
       "      <td>0.882343</td>\n",
       "    </tr>\n",
       "  </tbody>\n",
       "</table>\n",
       "</div>"
      ],
      "text/plain": [
       "            total_avg_prcp_inches  DSCI  year sin  year cos\n",
       "ValidEnd                                                   \n",
       "2001-01-01               0.000000   0.0  0.008300  0.999966\n",
       "2001-01-08               0.573636  15.5  0.128365  0.991727\n",
       "2001-01-15               1.895909  29.5  0.246570  0.969125\n",
       "2001-01-22               0.072500  15.0  0.361204  0.932487\n",
       "2001-01-29               1.511818  28.5  0.470607  0.882343"
      ]
     },
     "execution_count": 74,
     "metadata": {},
     "output_type": "execute_result"
    }
   ],
   "source": [
    "prcp_dsci_df.head()"
   ]
  },
  {
   "cell_type": "code",
   "execution_count": 75,
   "metadata": {},
   "outputs": [],
   "source": [
    "def df_to_X_y3(df, windowsize=7):\n",
    "    df_as_np = df.to_numpy()\n",
    "    X = []\n",
    "    y = []\n",
    "    for i in range(len(df_as_np)-windowsize):\n",
    "        row = [r for r in df_as_np[i:i+windowsize]]\n",
    "        X.append(row)\n",
    "        label = df_as_np[i+windowsize][0], df_as_np[i+windowsize][1]\n",
    "        y.append(label)\n",
    "    return np.array(X), np.array(y)"
   ]
  },
  {
   "cell_type": "code",
   "execution_count": 76,
   "metadata": {},
   "outputs": [
    {
     "data": {
      "text/plain": [
       "((1037, 7, 4), (1037, 2))"
      ]
     },
     "execution_count": 76,
     "metadata": {},
     "output_type": "execute_result"
    }
   ],
   "source": [
    "X3, y3 = df_to_X_y3(prcp_dsci_df)\n",
    "X3.shape, y3.shape"
   ]
  },
  {
   "cell_type": "code",
   "execution_count": 77,
   "metadata": {},
   "outputs": [],
   "source": [
    "X3_train, y3_train = X3[:750], y3[:750]\n",
    "X3_val, y3_val = X3[750:850], y3[750:850]\n",
    "X3_test, y3_test = X3[850:], y3[850:]"
   ]
  },
  {
   "cell_type": "code",
   "execution_count": 78,
   "metadata": {},
   "outputs": [],
   "source": [
    "#Standardizing for Preprocessing. Followed video instructions, but could try a MinMax scaler next time\n",
    "prcp_training_mean3 = np.mean(X3_train[:, :, 0])\n",
    "prcp_training_std3 = np.mean(X3_train[:, :, 0])\n",
    "\n",
    "dsci_training_mean3 = np.mean(X3_train[:, :, 1])\n",
    "dsci_training_sd3 = np.std(X3_train[:, :, 1])\n",
    "\n",
    "def preprocess3(X):\n",
    "    X[:, :, 0] = (X[:, :, 0] - prcp_training_mean3/prcp_training_std3)\n",
    "    X[:, :, 1] = (X[:, :,1] - dsci_training_mean3/dsci_training_sd3)\n",
    "    return X\n",
    "def preprocess_out(X):\n",
    "    X[:, 0] = (X[:, 0] - prcp_training_mean3/prcp_training_std3)\n",
    "    X[:, 1] = (X[:,1] - dsci_training_mean3/dsci_training_sd3)\n",
    "    return X\n",
    "\n"
   ]
  },
  {
   "cell_type": "code",
   "execution_count": 79,
   "metadata": {},
   "outputs": [
    {
     "data": {
      "text/plain": [
       "array([[[-3.33333333e-02,  1.79432586e+01,  9.65598082e-01,\n",
       "         -2.60039120e-01],\n",
       "        [-2.27500000e-01,  1.79432586e+01,  9.27367405e-01,\n",
       "         -3.74151970e-01],\n",
       "        [-7.27500000e-01,  1.79432586e+01,  8.75705362e-01,\n",
       "         -4.82845853e-01],\n",
       "        ...,\n",
       "        [-7.60000000e-01,  1.79432586e+01,  7.35263828e-01,\n",
       "         -6.77781014e-01],\n",
       "        [-7.49166667e-01,  1.79432586e+01,  6.48518397e-01,\n",
       "         -7.61198981e-01],\n",
       "        [-9.82500000e-01,  1.79432586e+01,  5.52380262e-01,\n",
       "         -8.33592254e-01]],\n",
       "\n",
       "       [[-2.27500000e-01,  1.79432586e+01,  9.27367405e-01,\n",
       "         -3.74151970e-01],\n",
       "        [-7.27500000e-01,  1.79432586e+01,  8.75705362e-01,\n",
       "         -4.82845853e-01],\n",
       "        [-5.22500000e-01,  1.79432586e+01,  8.11360193e-01,\n",
       "         -5.84546523e-01],\n",
       "        ...,\n",
       "        [-7.49166667e-01,  1.79432586e+01,  6.48518397e-01,\n",
       "         -7.61198981e-01],\n",
       "        [-9.82500000e-01,  1.79432586e+01,  5.52380262e-01,\n",
       "         -8.33592254e-01],\n",
       "        [-9.65000000e-01,  1.79432586e+01,  4.48241823e-01,\n",
       "         -8.93912338e-01]],\n",
       "\n",
       "       [[-7.27500000e-01,  1.79432586e+01,  8.75705362e-01,\n",
       "         -4.82845853e-01],\n",
       "        [-5.22500000e-01,  1.79432586e+01,  8.11360193e-01,\n",
       "         -5.84546523e-01],\n",
       "        [-7.60000000e-01,  1.79432586e+01,  7.35263828e-01,\n",
       "         -6.77781014e-01],\n",
       "        ...,\n",
       "        [-9.82500000e-01,  1.79432586e+01,  5.52380262e-01,\n",
       "         -8.33592254e-01],\n",
       "        [-9.65000000e-01,  1.79432586e+01,  4.48241823e-01,\n",
       "         -8.93912338e-01],\n",
       "        [-2.50833333e-01,  1.79432586e+01,  3.37611351e-01,\n",
       "         -9.41285597e-01]],\n",
       "\n",
       "       ...,\n",
       "\n",
       "       [[-9.83333333e-01,  2.69943259e+02, -9.09344302e-01,\n",
       "          4.16044398e-01],\n",
       "        [-1.00000000e+00,  2.69943259e+02, -8.52780297e-01,\n",
       "          5.22269820e-01],\n",
       "        [-2.33409091e-01,  2.69943259e+02, -7.83865196e-01,\n",
       "          6.20931038e-01],\n",
       "        ...,\n",
       "        [-3.73181818e-01,  2.80443259e+02, -6.13138616e-01,\n",
       "          7.89975340e-01],\n",
       "        [-9.21893939e-01,  3.02943259e+02, -5.13799825e-01,\n",
       "          8.57910100e-01],\n",
       "        [-9.24545455e-01,  3.04943259e+02, -4.07019503e-01,\n",
       "          9.13419468e-01]],\n",
       "\n",
       "       [[-1.00000000e+00,  2.69943259e+02, -8.52780297e-01,\n",
       "          5.22269820e-01],\n",
       "        [-2.33409091e-01,  2.69943259e+02, -7.83865196e-01,\n",
       "          6.20931038e-01],\n",
       "        [-4.62727273e-01,  2.80943259e+02, -7.03597120e-01,\n",
       "          7.10599109e-01],\n",
       "        ...,\n",
       "        [-9.21893939e-01,  3.02943259e+02, -5.13799825e-01,\n",
       "          8.57910100e-01],\n",
       "        [-9.24545455e-01,  3.04943259e+02, -4.07019503e-01,\n",
       "          9.13419468e-01],\n",
       "        [-9.25000000e-02,  3.31443259e+02, -2.94344185e-01,\n",
       "          9.55699483e-01]],\n",
       "\n",
       "       [[-2.33409091e-01,  2.69943259e+02, -7.83865196e-01,\n",
       "          6.20931038e-01],\n",
       "        [-4.62727273e-01,  2.80943259e+02, -7.03597120e-01,\n",
       "          7.10599109e-01],\n",
       "        [-3.73181818e-01,  2.80443259e+02, -6.13138616e-01,\n",
       "          7.89975340e-01],\n",
       "        ...,\n",
       "        [-9.24545455e-01,  3.04943259e+02, -4.07019503e-01,\n",
       "          9.13419468e-01],\n",
       "        [-9.25000000e-02,  3.31443259e+02, -2.94344185e-01,\n",
       "          9.55699483e-01],\n",
       "        [-2.74545455e-01,  3.43943259e+02, -1.77405783e-01,\n",
       "          9.84137789e-01]]])"
      ]
     },
     "execution_count": 79,
     "metadata": {},
     "output_type": "execute_result"
    }
   ],
   "source": [
    "preprocess3(X3_train)\n",
    "preprocess3(X3_val)\n",
    "preprocess3(X3_test)"
   ]
  },
  {
   "cell_type": "code",
   "execution_count": 80,
   "metadata": {},
   "outputs": [
    {
     "data": {
      "text/plain": [
       "array([[[-1.03333333e+00,  1.69432586e+01, -3.44019180e-02,\n",
       "         -1.26003912e+00],\n",
       "        [-1.78424143e+00,  1.63865171e+01, -6.29374023e-01,\n",
       "         -1.93089340e+00],\n",
       "        [-7.27500000e-01,  1.79432586e+01,  8.75705362e-01,\n",
       "         -4.82845853e-01],\n",
       "        ...,\n",
       "        [-7.60000000e-01,  1.79432586e+01,  7.35263828e-01,\n",
       "         -6.77781014e-01],\n",
       "        [-7.49166667e-01,  1.79432586e+01,  6.48518397e-01,\n",
       "         -7.61198981e-01],\n",
       "        [-9.82500000e-01,  1.79432586e+01,  5.52380262e-01,\n",
       "         -8.33592254e-01]],\n",
       "\n",
       "       [[-1.22750000e+00,  1.69432586e+01, -7.26325951e-02,\n",
       "         -1.37415197e+00],\n",
       "        [-2.28424143e+00,  1.63865171e+01, -6.81036065e-01,\n",
       "         -2.03958728e+00],\n",
       "        [-5.22500000e-01,  1.79432586e+01,  8.11360193e-01,\n",
       "         -5.84546523e-01],\n",
       "        ...,\n",
       "        [-7.49166667e-01,  1.79432586e+01,  6.48518397e-01,\n",
       "         -7.61198981e-01],\n",
       "        [-9.82500000e-01,  1.79432586e+01,  5.52380262e-01,\n",
       "         -8.33592254e-01],\n",
       "        [-9.65000000e-01,  1.79432586e+01,  4.48241823e-01,\n",
       "         -8.93912338e-01]],\n",
       "\n",
       "       [[-1.72750000e+00,  1.69432586e+01, -1.24294638e-01,\n",
       "         -1.48284585e+00],\n",
       "        [-2.07924143e+00,  1.63865171e+01, -7.45381235e-01,\n",
       "         -2.14128795e+00],\n",
       "        [-7.60000000e-01,  1.79432586e+01,  7.35263828e-01,\n",
       "         -6.77781014e-01],\n",
       "        ...,\n",
       "        [-9.82500000e-01,  1.79432586e+01,  5.52380262e-01,\n",
       "         -8.33592254e-01],\n",
       "        [-9.65000000e-01,  1.79432586e+01,  4.48241823e-01,\n",
       "         -8.93912338e-01],\n",
       "        [-2.50833333e-01,  1.79432586e+01,  3.37611351e-01,\n",
       "         -9.41285597e-01]],\n",
       "\n",
       "       ...,\n",
       "\n",
       "       [[-1.98333333e+00,  2.68943259e+02, -1.90934430e+00,\n",
       "         -5.83955602e-01],\n",
       "        [-2.55674143e+00,  2.68386517e+02, -2.40952172e+00,\n",
       "         -1.03447161e+00],\n",
       "        [-2.33409091e-01,  2.69943259e+02, -7.83865196e-01,\n",
       "          6.20931038e-01],\n",
       "        ...,\n",
       "        [-3.73181818e-01,  2.80443259e+02, -6.13138616e-01,\n",
       "          7.89975340e-01],\n",
       "        [-9.21893939e-01,  3.02943259e+02, -5.13799825e-01,\n",
       "          8.57910100e-01],\n",
       "        [-9.24545455e-01,  3.04943259e+02, -4.07019503e-01,\n",
       "          9.13419468e-01]],\n",
       "\n",
       "       [[-2.00000000e+00,  2.68943259e+02, -1.85278030e+00,\n",
       "         -4.77730180e-01],\n",
       "        [-1.79015052e+00,  2.68386517e+02, -2.34060662e+00,\n",
       "         -9.35810390e-01],\n",
       "        [-4.62727273e-01,  2.80943259e+02, -7.03597120e-01,\n",
       "          7.10599109e-01],\n",
       "        ...,\n",
       "        [-9.21893939e-01,  3.02943259e+02, -5.13799825e-01,\n",
       "          8.57910100e-01],\n",
       "        [-9.24545455e-01,  3.04943259e+02, -4.07019503e-01,\n",
       "          9.13419468e-01],\n",
       "        [-9.25000000e-02,  3.31443259e+02, -2.94344185e-01,\n",
       "          9.55699483e-01]],\n",
       "\n",
       "       [[-1.23340909e+00,  2.68943259e+02, -1.78386520e+00,\n",
       "         -3.79068962e-01],\n",
       "        [-2.01946870e+00,  2.79386517e+02, -2.26033855e+00,\n",
       "         -8.46142319e-01],\n",
       "        [-3.73181818e-01,  2.80443259e+02, -6.13138616e-01,\n",
       "          7.89975340e-01],\n",
       "        ...,\n",
       "        [-9.24545455e-01,  3.04943259e+02, -4.07019503e-01,\n",
       "          9.13419468e-01],\n",
       "        [-9.25000000e-02,  3.31443259e+02, -2.94344185e-01,\n",
       "          9.55699483e-01],\n",
       "        [-2.74545455e-01,  3.43943259e+02, -1.77405783e-01,\n",
       "          9.84137789e-01]]])"
      ]
     },
     "execution_count": 80,
     "metadata": {},
     "output_type": "execute_result"
    }
   ],
   "source": [
    "preprocess_out(X3_train)\n",
    "preprocess_out(X3_val)\n",
    "preprocess_out(X3_test)"
   ]
  },
  {
   "cell_type": "code",
   "execution_count": 81,
   "metadata": {},
   "outputs": [
    {
     "name": "stdout",
     "output_type": "stream",
     "text": [
      "Model: \"sequential_4\"\n",
      "_________________________________________________________________\n",
      "Layer (type)                 Output Shape              Param #   \n",
      "=================================================================\n",
      "lstm_2 (LSTM)                (None, 64)                17664     \n",
      "_________________________________________________________________\n",
      "dense_8 (Dense)              (None, 8)                 520       \n",
      "_________________________________________________________________\n",
      "dense_9 (Dense)              (None, 2)                 18        \n",
      "=================================================================\n",
      "Total params: 18,202\n",
      "Trainable params: 18,202\n",
      "Non-trainable params: 0\n",
      "_________________________________________________________________\n"
     ]
    }
   ],
   "source": [
    "model5 = Sequential()\n",
    "model5.add(InputLayer((7,4)))\n",
    "model5.add(LSTM(64))\n",
    "model5.add(Dense(8, 'relu'))\n",
    "model5.add(Dense(2, 'linear'))\n",
    "model5.summary()"
   ]
  },
  {
   "cell_type": "code",
   "execution_count": 82,
   "metadata": {},
   "outputs": [],
   "source": [
    "cp5 = ModelCheckpoint('model5/', save_best_only=True)\n",
    "model5.compile(loss=MeanSquaredError(), optimizer = Adam(learning_rate=0.005), metrics=[RootMeanSquaredError()])"
   ]
  },
  {
   "cell_type": "code",
   "execution_count": 83,
   "metadata": {},
   "outputs": [
    {
     "name": "stdout",
     "output_type": "stream",
     "text": [
      "Epoch 1/10\n",
      "24/24 [==============================] - 3s 34ms/step - loss: 21404.8809 - root_mean_squared_error: 146.3041 - val_loss: 32543.6191 - val_root_mean_squared_error: 180.3985\n"
     ]
    },
    {
     "name": "stderr",
     "output_type": "stream",
     "text": [
      "WARNING:absl:Found untraced functions such as lstm_cell_3_layer_call_and_return_conditional_losses, lstm_cell_3_layer_call_fn, lstm_cell_3_layer_call_fn, lstm_cell_3_layer_call_and_return_conditional_losses, lstm_cell_3_layer_call_and_return_conditional_losses while saving (showing 5 of 5). These functions will not be directly callable after loading.\n"
     ]
    },
    {
     "name": "stdout",
     "output_type": "stream",
     "text": [
      "INFO:tensorflow:Assets written to: model5/assets\n"
     ]
    },
    {
     "name": "stderr",
     "output_type": "stream",
     "text": [
      "INFO:tensorflow:Assets written to: model5/assets\n"
     ]
    },
    {
     "name": "stdout",
     "output_type": "stream",
     "text": [
      "Epoch 2/10\n",
      "24/24 [==============================] - 0s 7ms/step - loss: 19334.0684 - root_mean_squared_error: 139.0470 - val_loss: 28721.3730 - val_root_mean_squared_error: 169.4738\n"
     ]
    },
    {
     "name": "stderr",
     "output_type": "stream",
     "text": [
      "WARNING:absl:Found untraced functions such as lstm_cell_3_layer_call_and_return_conditional_losses, lstm_cell_3_layer_call_fn, lstm_cell_3_layer_call_fn, lstm_cell_3_layer_call_and_return_conditional_losses, lstm_cell_3_layer_call_and_return_conditional_losses while saving (showing 5 of 5). These functions will not be directly callable after loading.\n"
     ]
    },
    {
     "name": "stdout",
     "output_type": "stream",
     "text": [
      "INFO:tensorflow:Assets written to: model5/assets\n"
     ]
    },
    {
     "name": "stderr",
     "output_type": "stream",
     "text": [
      "INFO:tensorflow:Assets written to: model5/assets\n"
     ]
    },
    {
     "name": "stdout",
     "output_type": "stream",
     "text": [
      "Epoch 3/10\n",
      "24/24 [==============================] - 0s 7ms/step - loss: 16271.3711 - root_mean_squared_error: 127.5593 - val_loss: 23807.4355 - val_root_mean_squared_error: 154.2966\n"
     ]
    },
    {
     "name": "stderr",
     "output_type": "stream",
     "text": [
      "WARNING:absl:Found untraced functions such as lstm_cell_3_layer_call_and_return_conditional_losses, lstm_cell_3_layer_call_fn, lstm_cell_3_layer_call_fn, lstm_cell_3_layer_call_and_return_conditional_losses, lstm_cell_3_layer_call_and_return_conditional_losses while saving (showing 5 of 5). These functions will not be directly callable after loading.\n"
     ]
    },
    {
     "name": "stdout",
     "output_type": "stream",
     "text": [
      "INFO:tensorflow:Assets written to: model5/assets\n"
     ]
    },
    {
     "name": "stderr",
     "output_type": "stream",
     "text": [
      "INFO:tensorflow:Assets written to: model5/assets\n"
     ]
    },
    {
     "name": "stdout",
     "output_type": "stream",
     "text": [
      "Epoch 4/10\n",
      "24/24 [==============================] - 0s 9ms/step - loss: 12360.0449 - root_mean_squared_error: 111.1758 - val_loss: 17912.3105 - val_root_mean_squared_error: 133.8369\n"
     ]
    },
    {
     "name": "stderr",
     "output_type": "stream",
     "text": [
      "WARNING:absl:Found untraced functions such as lstm_cell_3_layer_call_and_return_conditional_losses, lstm_cell_3_layer_call_fn, lstm_cell_3_layer_call_fn, lstm_cell_3_layer_call_and_return_conditional_losses, lstm_cell_3_layer_call_and_return_conditional_losses while saving (showing 5 of 5). These functions will not be directly callable after loading.\n"
     ]
    },
    {
     "name": "stdout",
     "output_type": "stream",
     "text": [
      "INFO:tensorflow:Assets written to: model5/assets\n"
     ]
    },
    {
     "name": "stderr",
     "output_type": "stream",
     "text": [
      "INFO:tensorflow:Assets written to: model5/assets\n"
     ]
    },
    {
     "name": "stdout",
     "output_type": "stream",
     "text": [
      "Epoch 5/10\n",
      "24/24 [==============================] - 0s 8ms/step - loss: 8369.9990 - root_mean_squared_error: 91.4877 - val_loss: 12202.3076 - val_root_mean_squared_error: 110.4641\n"
     ]
    },
    {
     "name": "stderr",
     "output_type": "stream",
     "text": [
      "WARNING:absl:Found untraced functions such as lstm_cell_3_layer_call_and_return_conditional_losses, lstm_cell_3_layer_call_fn, lstm_cell_3_layer_call_fn, lstm_cell_3_layer_call_and_return_conditional_losses, lstm_cell_3_layer_call_and_return_conditional_losses while saving (showing 5 of 5). These functions will not be directly callable after loading.\n"
     ]
    },
    {
     "name": "stdout",
     "output_type": "stream",
     "text": [
      "INFO:tensorflow:Assets written to: model5/assets\n"
     ]
    },
    {
     "name": "stderr",
     "output_type": "stream",
     "text": [
      "INFO:tensorflow:Assets written to: model5/assets\n"
     ]
    },
    {
     "name": "stdout",
     "output_type": "stream",
     "text": [
      "Epoch 6/10\n",
      "24/24 [==============================] - 0s 7ms/step - loss: 5111.2622 - root_mean_squared_error: 71.4931 - val_loss: 7717.8569 - val_root_mean_squared_error: 87.8513\n"
     ]
    },
    {
     "name": "stderr",
     "output_type": "stream",
     "text": [
      "WARNING:absl:Found untraced functions such as lstm_cell_3_layer_call_and_return_conditional_losses, lstm_cell_3_layer_call_fn, lstm_cell_3_layer_call_fn, lstm_cell_3_layer_call_and_return_conditional_losses, lstm_cell_3_layer_call_and_return_conditional_losses while saving (showing 5 of 5). These functions will not be directly callable after loading.\n"
     ]
    },
    {
     "name": "stdout",
     "output_type": "stream",
     "text": [
      "INFO:tensorflow:Assets written to: model5/assets\n"
     ]
    },
    {
     "name": "stderr",
     "output_type": "stream",
     "text": [
      "INFO:tensorflow:Assets written to: model5/assets\n"
     ]
    },
    {
     "name": "stdout",
     "output_type": "stream",
     "text": [
      "Epoch 7/10\n",
      "24/24 [==============================] - 0s 11ms/step - loss: 2925.5034 - root_mean_squared_error: 54.0879 - val_loss: 4756.3271 - val_root_mean_squared_error: 68.9661\n"
     ]
    },
    {
     "name": "stderr",
     "output_type": "stream",
     "text": [
      "WARNING:absl:Found untraced functions such as lstm_cell_3_layer_call_and_return_conditional_losses, lstm_cell_3_layer_call_fn, lstm_cell_3_layer_call_fn, lstm_cell_3_layer_call_and_return_conditional_losses, lstm_cell_3_layer_call_and_return_conditional_losses while saving (showing 5 of 5). These functions will not be directly callable after loading.\n"
     ]
    },
    {
     "name": "stdout",
     "output_type": "stream",
     "text": [
      "INFO:tensorflow:Assets written to: model5/assets\n"
     ]
    },
    {
     "name": "stderr",
     "output_type": "stream",
     "text": [
      "INFO:tensorflow:Assets written to: model5/assets\n"
     ]
    },
    {
     "name": "stdout",
     "output_type": "stream",
     "text": [
      "Epoch 8/10\n",
      "24/24 [==============================] - 0s 11ms/step - loss: 1748.5962 - root_mean_squared_error: 41.8162 - val_loss: 3040.1179 - val_root_mean_squared_error: 55.1373\n"
     ]
    },
    {
     "name": "stderr",
     "output_type": "stream",
     "text": [
      "WARNING:absl:Found untraced functions such as lstm_cell_3_layer_call_and_return_conditional_losses, lstm_cell_3_layer_call_fn, lstm_cell_3_layer_call_fn, lstm_cell_3_layer_call_and_return_conditional_losses, lstm_cell_3_layer_call_and_return_conditional_losses while saving (showing 5 of 5). These functions will not be directly callable after loading.\n"
     ]
    },
    {
     "name": "stdout",
     "output_type": "stream",
     "text": [
      "INFO:tensorflow:Assets written to: model5/assets\n"
     ]
    },
    {
     "name": "stderr",
     "output_type": "stream",
     "text": [
      "INFO:tensorflow:Assets written to: model5/assets\n"
     ]
    },
    {
     "name": "stdout",
     "output_type": "stream",
     "text": [
      "Epoch 9/10\n",
      "24/24 [==============================] - 0s 14ms/step - loss: 1136.5333 - root_mean_squared_error: 33.7125 - val_loss: 2005.4036 - val_root_mean_squared_error: 44.7817\n"
     ]
    },
    {
     "name": "stderr",
     "output_type": "stream",
     "text": [
      "WARNING:absl:Found untraced functions such as lstm_cell_3_layer_call_and_return_conditional_losses, lstm_cell_3_layer_call_fn, lstm_cell_3_layer_call_fn, lstm_cell_3_layer_call_and_return_conditional_losses, lstm_cell_3_layer_call_and_return_conditional_losses while saving (showing 5 of 5). These functions will not be directly callable after loading.\n"
     ]
    },
    {
     "name": "stdout",
     "output_type": "stream",
     "text": [
      "INFO:tensorflow:Assets written to: model5/assets\n"
     ]
    },
    {
     "name": "stderr",
     "output_type": "stream",
     "text": [
      "INFO:tensorflow:Assets written to: model5/assets\n"
     ]
    },
    {
     "name": "stdout",
     "output_type": "stream",
     "text": [
      "Epoch 10/10\n",
      "24/24 [==============================] - 0s 11ms/step - loss: 775.8739 - root_mean_squared_error: 27.8545 - val_loss: 1392.3666 - val_root_mean_squared_error: 37.3144\n"
     ]
    },
    {
     "name": "stderr",
     "output_type": "stream",
     "text": [
      "WARNING:absl:Found untraced functions such as lstm_cell_3_layer_call_and_return_conditional_losses, lstm_cell_3_layer_call_fn, lstm_cell_3_layer_call_fn, lstm_cell_3_layer_call_and_return_conditional_losses, lstm_cell_3_layer_call_and_return_conditional_losses while saving (showing 5 of 5). These functions will not be directly callable after loading.\n"
     ]
    },
    {
     "name": "stdout",
     "output_type": "stream",
     "text": [
      "INFO:tensorflow:Assets written to: model5/assets\n"
     ]
    },
    {
     "name": "stderr",
     "output_type": "stream",
     "text": [
      "INFO:tensorflow:Assets written to: model5/assets\n"
     ]
    }
   ],
   "source": [
    "history = (model5.fit(X3_train, y3_train, validation_data=(X3_val, y3_val), epochs=10, callbacks=[cp5]))"
   ]
  },
  {
   "cell_type": "code",
   "execution_count": 84,
   "metadata": {},
   "outputs": [],
   "source": [
    "def plot_predictions2(fignum, model, X, y, start=0, end = 100):\n",
    "    predictions = model.predict(X)\n",
    "    prcp_preds, dsci_preds = predictions[:, 0], predictions[:, 1]\n",
    "    prcp_actuals, dsci_actuals = y[:, 0], y[:, 1]\n",
    "    df = pd.DataFrame(data= {\n",
    "        'Precipitation Predictions': prcp_preds, \n",
    "        'Precipitation Actuals': prcp_actuals,\n",
    "        'DSCI Pred': dsci_preds,\n",
    "        'DSCI Actuals': dsci_actuals\n",
    "        })\n",
    "    plt.plot(df['Precipitation Predictions'][start:end], label='Precipitation Pred')\n",
    "    plt.plot(df['Precipitation Actuals'][start:end], label='Precipitation Actual')\n",
    "    plt.plot(df['DSCI Pred'][start:end], label = 'DSCI Predictions')\n",
    "    plt.plot(df['DSCI Actuals'][start:end], label = 'DSCI Actuals')\n",
    "    plt.legend(loc= 'upper left')\n",
    "    plt.savefig(f'fig{fignum}.png')\n",
    "\n",
    "    return df[start:end]\n"
   ]
  },
  {
   "cell_type": "code",
   "execution_count": 85,
   "metadata": {},
   "outputs": [
    {
     "data": {
      "text/html": [
       "<div>\n",
       "<style scoped>\n",
       "    .dataframe tbody tr th:only-of-type {\n",
       "        vertical-align: middle;\n",
       "    }\n",
       "\n",
       "    .dataframe tbody tr th {\n",
       "        vertical-align: top;\n",
       "    }\n",
       "\n",
       "    .dataframe thead th {\n",
       "        text-align: right;\n",
       "    }\n",
       "</style>\n",
       "<table border=\"1\" class=\"dataframe\">\n",
       "  <thead>\n",
       "    <tr style=\"text-align: right;\">\n",
       "      <th></th>\n",
       "      <th>Precipitation Predictions</th>\n",
       "      <th>Precipitation Actuals</th>\n",
       "      <th>DSCI Pred</th>\n",
       "      <th>DSCI Actuals</th>\n",
       "    </tr>\n",
       "  </thead>\n",
       "  <tbody>\n",
       "    <tr>\n",
       "      <th>0</th>\n",
       "      <td>1.068794</td>\n",
       "      <td>0.035000</td>\n",
       "      <td>22.132324</td>\n",
       "      <td>19.5</td>\n",
       "    </tr>\n",
       "    <tr>\n",
       "      <th>1</th>\n",
       "      <td>1.076991</td>\n",
       "      <td>0.749167</td>\n",
       "      <td>22.029446</td>\n",
       "      <td>19.5</td>\n",
       "    </tr>\n",
       "    <tr>\n",
       "      <th>2</th>\n",
       "      <td>1.103547</td>\n",
       "      <td>0.023333</td>\n",
       "      <td>19.092878</td>\n",
       "      <td>19.5</td>\n",
       "    </tr>\n",
       "    <tr>\n",
       "      <th>3</th>\n",
       "      <td>1.088433</td>\n",
       "      <td>0.010000</td>\n",
       "      <td>21.819117</td>\n",
       "      <td>19.5</td>\n",
       "    </tr>\n",
       "    <tr>\n",
       "      <th>4</th>\n",
       "      <td>1.092771</td>\n",
       "      <td>0.005000</td>\n",
       "      <td>22.046520</td>\n",
       "      <td>19.5</td>\n",
       "    </tr>\n",
       "    <tr>\n",
       "      <th>...</th>\n",
       "      <td>...</td>\n",
       "      <td>...</td>\n",
       "      <td>...</td>\n",
       "      <td>...</td>\n",
       "    </tr>\n",
       "    <tr>\n",
       "      <th>95</th>\n",
       "      <td>1.083592</td>\n",
       "      <td>0.760000</td>\n",
       "      <td>20.634214</td>\n",
       "      <td>8.5</td>\n",
       "    </tr>\n",
       "    <tr>\n",
       "      <th>96</th>\n",
       "      <td>1.043587</td>\n",
       "      <td>1.267500</td>\n",
       "      <td>7.266689</td>\n",
       "      <td>8.5</td>\n",
       "    </tr>\n",
       "    <tr>\n",
       "      <th>97</th>\n",
       "      <td>0.879029</td>\n",
       "      <td>0.435000</td>\n",
       "      <td>6.112929</td>\n",
       "      <td>3.5</td>\n",
       "    </tr>\n",
       "    <tr>\n",
       "      <th>98</th>\n",
       "      <td>0.789618</td>\n",
       "      <td>0.490000</td>\n",
       "      <td>4.986223</td>\n",
       "      <td>3.0</td>\n",
       "    </tr>\n",
       "    <tr>\n",
       "      <th>99</th>\n",
       "      <td>0.778521</td>\n",
       "      <td>0.037500</td>\n",
       "      <td>4.831802</td>\n",
       "      <td>3.0</td>\n",
       "    </tr>\n",
       "  </tbody>\n",
       "</table>\n",
       "<p>100 rows × 4 columns</p>\n",
       "</div>"
      ],
      "text/plain": [
       "    Precipitation Predictions  Precipitation Actuals  DSCI Pred  DSCI Actuals\n",
       "0                    1.068794               0.035000  22.132324          19.5\n",
       "1                    1.076991               0.749167  22.029446          19.5\n",
       "2                    1.103547               0.023333  19.092878          19.5\n",
       "3                    1.088433               0.010000  21.819117          19.5\n",
       "4                    1.092771               0.005000  22.046520          19.5\n",
       "..                        ...                    ...        ...           ...\n",
       "95                   1.083592               0.760000  20.634214           8.5\n",
       "96                   1.043587               1.267500   7.266689           8.5\n",
       "97                   0.879029               0.435000   6.112929           3.5\n",
       "98                   0.789618               0.490000   4.986223           3.0\n",
       "99                   0.778521               0.037500   4.831802           3.0\n",
       "\n",
       "[100 rows x 4 columns]"
      ]
     },
     "execution_count": 85,
     "metadata": {},
     "output_type": "execute_result"
    },
    {
     "data": {
      "image/png": "[encoded data removed]",
      "text/plain": [
       "<Figure size 432x288 with 1 Axes>"
      ]
     },
     "metadata": {
      "needs_background": "light"
     },
     "output_type": "display_data"
    }
   ],
   "source": [
    "plot_predictions2(11, model5, X3_test, y3_test)"
   ]
  },
  {
   "cell_type": "markdown",
   "metadata": {},
   "source": []
  },
  {
   "cell_type": "code",
   "execution_count": 86,
   "metadata": {},
   "outputs": [],
   "source": [
    "def postprocess_dsci(arr):\n",
    "    arr = (arr*dsci_training_sd3) + dsci_training_mean3\n",
    "    return arr\n",
    "\n",
    "def postprocess_prcp(arr):\n",
    "    arr = (arr*prcp_training_std3) + prcp_training_mean3\n",
    "    return arr"
   ]
  },
  {
   "cell_type": "code",
   "execution_count": 87,
   "metadata": {},
   "outputs": [],
   "source": [
    "def plot_predictions2(fignum, model, X, y, start=0, end = 100):\n",
    "    predictions = model.predict(X)\n",
    "    prcp_preds, dsci_preds = postprocess_prcp(predictions[:, 0]), postprocess_dsci(predictions[:, 1])\n",
    "    prcp_actuals, dsci_actuals = postprocess_prcp(y[:, 0]), postprocess_dsci(y[:, 1])\n",
    "    df = pd.DataFrame(data= {\n",
    "        'Precipitation Predictions': prcp_preds, \n",
    "        'Precipitation Actuals': prcp_actuals,\n",
    "        'DSCI Pred': dsci_preds,\n",
    "        'DSCI Actuals': dsci_actuals\n",
    "        })\n",
    "    plt.plot(df['Precipitation Predictions'][start:end])\n",
    "    plt.plot(df['Precipitation Actuals'][start:end])\n",
    "    plt.plot(df['DSCI Pred'][start:end])\n",
    "    plt.plot(df['DSCI Actuals'][start:end])\n",
    "    plt.savefig(f'fig{str(fignum)}.png')\n",
    "    return df[start:end]"
   ]
  },
  {
   "cell_type": "code",
   "execution_count": 88,
   "metadata": {},
   "outputs": [
    {
     "data": {
      "image/png": "[encoded data removed]",
      "text/plain": [
       "<Figure size 432x288 with 1 Axes>"
      ]
     },
     "metadata": {
      "needs_background": "light"
     },
     "output_type": "display_data"
    }
   ],
   "source": [
    "post_processed_df = plot_predictions2(12, model5, X3_test, y3_test)"
   ]
  },
  {
   "cell_type": "code",
   "execution_count": 89,
   "metadata": {},
   "outputs": [
    {
     "data": {
      "text/plain": [
       "[<matplotlib.lines.Line2D at 0x14d90c7f0>]"
      ]
     },
     "execution_count": 89,
     "metadata": {},
     "output_type": "execute_result"
    },
    {
     "data": {
      "image/png": "[encoded data removed]",
      "text/plain": [
       "<Figure size 432x288 with 1 Axes>"
      ]
     },
     "metadata": {
      "needs_background": "light"
     },
     "output_type": "display_data"
    }
   ],
   "source": [
    "start, end = 0, 100\n",
    "plt.plot(post_processed_df['DSCI Pred'][start: end])\n",
    "plt.plot(post_processed_df['DSCI Actuals'][start: end])"
   ]
  },
  {
   "cell_type": "code",
   "execution_count": 90,
   "metadata": {},
   "outputs": [
    {
     "data": {
      "text/plain": [
       "[<matplotlib.lines.Line2D at 0x14de74730>]"
      ]
     },
     "execution_count": 90,
     "metadata": {},
     "output_type": "execute_result"
    },
    {
     "data": {
      "image/png": "[encoded data removed]",
      "text/plain": [
       "<Figure size 432x288 with 1 Axes>"
      ]
     },
     "metadata": {
      "needs_background": "light"
     },
     "output_type": "display_data"
    }
   ],
   "source": [
    "start, end = 0, 100\n",
    "plt.plot(post_processed_df['Precipitation Predictions'][start: end])\n",
    "plt.plot(post_processed_df['Precipitation Actuals'][start: end])"
   ]
  },
  {
   "cell_type": "code",
   "execution_count": 91,
   "metadata": {},
   "outputs": [
    {
     "data": {
      "text/html": [
       "<div>\n",
       "<style scoped>\n",
       "    .dataframe tbody tr th:only-of-type {\n",
       "        vertical-align: middle;\n",
       "    }\n",
       "\n",
       "    .dataframe tbody tr th {\n",
       "        vertical-align: top;\n",
       "    }\n",
       "\n",
       "    .dataframe thead th {\n",
       "        text-align: right;\n",
       "    }\n",
       "</style>\n",
       "<table border=\"1\" class=\"dataframe\">\n",
       "  <thead>\n",
       "    <tr style=\"text-align: right;\">\n",
       "      <th></th>\n",
       "      <th>loss</th>\n",
       "      <th>root_mean_squared_error</th>\n",
       "      <th>val_loss</th>\n",
       "      <th>val_root_mean_squared_error</th>\n",
       "    </tr>\n",
       "  </thead>\n",
       "  <tbody>\n",
       "    <tr>\n",
       "      <th>0</th>\n",
       "      <td>21404.880859</td>\n",
       "      <td>146.304077</td>\n",
       "      <td>32543.619141</td>\n",
       "      <td>180.398499</td>\n",
       "    </tr>\n",
       "    <tr>\n",
       "      <th>1</th>\n",
       "      <td>19334.068359</td>\n",
       "      <td>139.047012</td>\n",
       "      <td>28721.373047</td>\n",
       "      <td>169.473816</td>\n",
       "    </tr>\n",
       "    <tr>\n",
       "      <th>2</th>\n",
       "      <td>16271.371094</td>\n",
       "      <td>127.559288</td>\n",
       "      <td>23807.435547</td>\n",
       "      <td>154.296585</td>\n",
       "    </tr>\n",
       "    <tr>\n",
       "      <th>3</th>\n",
       "      <td>12360.044922</td>\n",
       "      <td>111.175751</td>\n",
       "      <td>17912.310547</td>\n",
       "      <td>133.836884</td>\n",
       "    </tr>\n",
       "    <tr>\n",
       "      <th>4</th>\n",
       "      <td>8369.999023</td>\n",
       "      <td>91.487701</td>\n",
       "      <td>12202.307617</td>\n",
       "      <td>110.464058</td>\n",
       "    </tr>\n",
       "    <tr>\n",
       "      <th>5</th>\n",
       "      <td>5111.262207</td>\n",
       "      <td>71.493095</td>\n",
       "      <td>7717.856934</td>\n",
       "      <td>87.851334</td>\n",
       "    </tr>\n",
       "    <tr>\n",
       "      <th>6</th>\n",
       "      <td>2925.503418</td>\n",
       "      <td>54.087921</td>\n",
       "      <td>4756.327148</td>\n",
       "      <td>68.966133</td>\n",
       "    </tr>\n",
       "    <tr>\n",
       "      <th>7</th>\n",
       "      <td>1748.596191</td>\n",
       "      <td>41.816219</td>\n",
       "      <td>3040.117920</td>\n",
       "      <td>55.137264</td>\n",
       "    </tr>\n",
       "    <tr>\n",
       "      <th>8</th>\n",
       "      <td>1136.533325</td>\n",
       "      <td>33.712509</td>\n",
       "      <td>2005.403564</td>\n",
       "      <td>44.781734</td>\n",
       "    </tr>\n",
       "    <tr>\n",
       "      <th>9</th>\n",
       "      <td>775.873901</td>\n",
       "      <td>27.854513</td>\n",
       "      <td>1392.366577</td>\n",
       "      <td>37.314430</td>\n",
       "    </tr>\n",
       "  </tbody>\n",
       "</table>\n",
       "</div>"
      ],
      "text/plain": [
       "           loss  root_mean_squared_error      val_loss  \\\n",
       "0  21404.880859               146.304077  32543.619141   \n",
       "1  19334.068359               139.047012  28721.373047   \n",
       "2  16271.371094               127.559288  23807.435547   \n",
       "3  12360.044922               111.175751  17912.310547   \n",
       "4   8369.999023                91.487701  12202.307617   \n",
       "5   5111.262207                71.493095   7717.856934   \n",
       "6   2925.503418                54.087921   4756.327148   \n",
       "7   1748.596191                41.816219   3040.117920   \n",
       "8   1136.533325                33.712509   2005.403564   \n",
       "9    775.873901                27.854513   1392.366577   \n",
       "\n",
       "   val_root_mean_squared_error  \n",
       "0                   180.398499  \n",
       "1                   169.473816  \n",
       "2                   154.296585  \n",
       "3                   133.836884  \n",
       "4                   110.464058  \n",
       "5                    87.851334  \n",
       "6                    68.966133  \n",
       "7                    55.137264  \n",
       "8                    44.781734  \n",
       "9                    37.314430  "
      ]
     },
     "execution_count": 91,
     "metadata": {},
     "output_type": "execute_result"
    }
   ],
   "source": [
    "history_df = pd.DataFrame(history.history)\n",
    "history_df"
   ]
  },
  {
   "cell_type": "code",
   "execution_count": 92,
   "metadata": {},
   "outputs": [
    {
     "data": {
      "image/png": "[encoded data removed]",
      "text/plain": [
       "<Figure size 432x288 with 1 Axes>"
      ]
     },
     "metadata": {
      "needs_background": "light"
     },
     "output_type": "display_data"
    }
   ],
   "source": [
    "history_df.filter(like='loss').plot();\n",
    "plt.title(\"LSTM MSE Loss (Precipitation & Time Features)\", fontsize=16)\n",
    "plt.savefig('fig13.png')"
   ]
  },
  {
   "cell_type": "code",
   "execution_count": 93,
   "metadata": {},
   "outputs": [
    {
     "data": {
      "text/plain": [
       "((1037, 7, 4), (1037, 2))"
      ]
     },
     "execution_count": 93,
     "metadata": {},
     "output_type": "execute_result"
    }
   ],
   "source": [
    "X4, y4 = df_to_X_y3(tmax_dsci_df)\n",
    "X4.shape, y4.shape"
   ]
  },
  {
   "cell_type": "code",
   "execution_count": 94,
   "metadata": {},
   "outputs": [],
   "source": [
    "X4_train, y4_train = X4[:750], y4[:750]\n",
    "X4_val, y4_val = X4[750:850], y4[750:850]\n",
    "X4_test, y4_test = X4[850:], y4[850:]"
   ]
  },
  {
   "cell_type": "code",
   "execution_count": 95,
   "metadata": {},
   "outputs": [
    {
     "data": {
      "text/plain": [
       "array([[[ 6.48452381e+01,  1.79432586e+01,  9.65598082e-01,\n",
       "         -2.60039120e-01],\n",
       "        [ 6.68095238e+01,  1.79432586e+01,  9.27367405e-01,\n",
       "         -3.74151970e-01],\n",
       "        [ 6.71130952e+01,  1.79432586e+01,  8.75705362e-01,\n",
       "         -4.82845853e-01],\n",
       "        ...,\n",
       "        [ 7.00535714e+01,  1.79432586e+01,  7.35263828e-01,\n",
       "         -6.77781014e-01],\n",
       "        [ 7.27797619e+01,  1.79432586e+01,  6.48518397e-01,\n",
       "         -7.61198981e-01],\n",
       "        [ 7.89464286e+01,  1.79432586e+01,  5.52380262e-01,\n",
       "         -8.33592254e-01]],\n",
       "\n",
       "       [[ 6.68095238e+01,  1.79432586e+01,  9.27367405e-01,\n",
       "         -3.74151970e-01],\n",
       "        [ 6.71130952e+01,  1.79432586e+01,  8.75705362e-01,\n",
       "         -4.82845853e-01],\n",
       "        [ 7.46130952e+01,  1.79432586e+01,  8.11360193e-01,\n",
       "         -5.84546523e-01],\n",
       "        ...,\n",
       "        [ 7.27797619e+01,  1.79432586e+01,  6.48518397e-01,\n",
       "         -7.61198981e-01],\n",
       "        [ 7.89464286e+01,  1.79432586e+01,  5.52380262e-01,\n",
       "         -8.33592254e-01],\n",
       "        [ 8.20535714e+01,  1.79432586e+01,  4.48241823e-01,\n",
       "         -8.93912338e-01]],\n",
       "\n",
       "       [[ 6.71130952e+01,  1.79432586e+01,  8.75705362e-01,\n",
       "         -4.82845853e-01],\n",
       "        [ 7.46130952e+01,  1.79432586e+01,  8.11360193e-01,\n",
       "         -5.84546523e-01],\n",
       "        [ 7.00535714e+01,  1.79432586e+01,  7.35263828e-01,\n",
       "         -6.77781014e-01],\n",
       "        ...,\n",
       "        [ 7.89464286e+01,  1.79432586e+01,  5.52380262e-01,\n",
       "         -8.33592254e-01],\n",
       "        [ 8.20535714e+01,  1.79432586e+01,  4.48241823e-01,\n",
       "         -8.93912338e-01],\n",
       "        [ 7.52559524e+01,  1.79432586e+01,  3.37611351e-01,\n",
       "         -9.41285597e-01]],\n",
       "\n",
       "       ...,\n",
       "\n",
       "       [[ 6.73023810e+01,  2.69943259e+02, -9.09344302e-01,\n",
       "          4.16044398e-01],\n",
       "        [ 7.28821429e+01,  2.69943259e+02, -8.52780297e-01,\n",
       "          5.22269820e-01],\n",
       "        [ 6.23613636e+01,  2.69943259e+02, -7.83865196e-01,\n",
       "          6.20931038e-01],\n",
       "        ...,\n",
       "        [ 5.82387987e+01,  2.80443259e+02, -6.13138616e-01,\n",
       "          7.89975340e-01],\n",
       "        [ 5.53215368e+01,  3.02943259e+02, -5.13799825e-01,\n",
       "          8.57910100e-01],\n",
       "        [ 5.64415584e+01,  3.04943259e+02, -4.07019503e-01,\n",
       "          9.13419468e-01]],\n",
       "\n",
       "       [[ 7.28821429e+01,  2.69943259e+02, -8.52780297e-01,\n",
       "          5.22269820e-01],\n",
       "        [ 6.23613636e+01,  2.69943259e+02, -7.83865196e-01,\n",
       "          6.20931038e-01],\n",
       "        [ 5.68425325e+01,  2.80943259e+02, -7.03597120e-01,\n",
       "          7.10599109e-01],\n",
       "        ...,\n",
       "        [ 5.53215368e+01,  3.02943259e+02, -5.13799825e-01,\n",
       "          8.57910100e-01],\n",
       "        [ 5.64415584e+01,  3.04943259e+02, -4.07019503e-01,\n",
       "          9.13419468e-01],\n",
       "        [ 5.15245671e+01,  3.31443259e+02, -2.94344185e-01,\n",
       "          9.55699483e-01]],\n",
       "\n",
       "       [[ 6.23613636e+01,  2.69943259e+02, -7.83865196e-01,\n",
       "          6.20931038e-01],\n",
       "        [ 5.68425325e+01,  2.80943259e+02, -7.03597120e-01,\n",
       "          7.10599109e-01],\n",
       "        [ 5.82387987e+01,  2.80443259e+02, -6.13138616e-01,\n",
       "          7.89975340e-01],\n",
       "        ...,\n",
       "        [ 5.64415584e+01,  3.04943259e+02, -4.07019503e-01,\n",
       "          9.13419468e-01],\n",
       "        [ 5.15245671e+01,  3.31443259e+02, -2.94344185e-01,\n",
       "          9.55699483e-01],\n",
       "        [ 5.25560065e+01,  3.43943259e+02, -1.77405783e-01,\n",
       "          9.84137789e-01]]])"
      ]
     },
     "execution_count": 95,
     "metadata": {},
     "output_type": "execute_result"
    }
   ],
   "source": [
    "preprocess3(X4_train)\n",
    "preprocess3(X4_val)\n",
    "preprocess3(X4_test)"
   ]
  },
  {
   "cell_type": "code",
   "execution_count": 96,
   "metadata": {},
   "outputs": [
    {
     "data": {
      "text/plain": [
       "array([[[ 6.38452381e+01,  1.69432586e+01, -3.44019180e-02,\n",
       "         -1.26003912e+00],\n",
       "        [ 6.52527824e+01,  1.63865171e+01, -6.29374023e-01,\n",
       "         -1.93089340e+00],\n",
       "        [ 6.71130952e+01,  1.79432586e+01,  8.75705362e-01,\n",
       "         -4.82845853e-01],\n",
       "        ...,\n",
       "        [ 7.00535714e+01,  1.79432586e+01,  7.35263828e-01,\n",
       "         -6.77781014e-01],\n",
       "        [ 7.27797619e+01,  1.79432586e+01,  6.48518397e-01,\n",
       "         -7.61198981e-01],\n",
       "        [ 7.89464286e+01,  1.79432586e+01,  5.52380262e-01,\n",
       "         -8.33592254e-01]],\n",
       "\n",
       "       [[ 6.58095238e+01,  1.69432586e+01, -7.26325951e-02,\n",
       "         -1.37415197e+00],\n",
       "        [ 6.55563538e+01,  1.63865171e+01, -6.81036065e-01,\n",
       "         -2.03958728e+00],\n",
       "        [ 7.46130952e+01,  1.79432586e+01,  8.11360193e-01,\n",
       "         -5.84546523e-01],\n",
       "        ...,\n",
       "        [ 7.27797619e+01,  1.79432586e+01,  6.48518397e-01,\n",
       "         -7.61198981e-01],\n",
       "        [ 7.89464286e+01,  1.79432586e+01,  5.52380262e-01,\n",
       "         -8.33592254e-01],\n",
       "        [ 8.20535714e+01,  1.79432586e+01,  4.48241823e-01,\n",
       "         -8.93912338e-01]],\n",
       "\n",
       "       [[ 6.61130952e+01,  1.69432586e+01, -1.24294638e-01,\n",
       "         -1.48284585e+00],\n",
       "        [ 7.30563538e+01,  1.63865171e+01, -7.45381235e-01,\n",
       "         -2.14128795e+00],\n",
       "        [ 7.00535714e+01,  1.79432586e+01,  7.35263828e-01,\n",
       "         -6.77781014e-01],\n",
       "        ...,\n",
       "        [ 7.89464286e+01,  1.79432586e+01,  5.52380262e-01,\n",
       "         -8.33592254e-01],\n",
       "        [ 8.20535714e+01,  1.79432586e+01,  4.48241823e-01,\n",
       "         -8.93912338e-01],\n",
       "        [ 7.52559524e+01,  1.79432586e+01,  3.37611351e-01,\n",
       "         -9.41285597e-01]],\n",
       "\n",
       "       ...,\n",
       "\n",
       "       [[ 6.63023810e+01,  2.68943259e+02, -1.90934430e+00,\n",
       "         -5.83955602e-01],\n",
       "        [ 7.13254014e+01,  2.68386517e+02, -2.40952172e+00,\n",
       "         -1.03447161e+00],\n",
       "        [ 6.23613636e+01,  2.69943259e+02, -7.83865196e-01,\n",
       "          6.20931038e-01],\n",
       "        ...,\n",
       "        [ 5.82387987e+01,  2.80443259e+02, -6.13138616e-01,\n",
       "          7.89975340e-01],\n",
       "        [ 5.53215368e+01,  3.02943259e+02, -5.13799825e-01,\n",
       "          8.57910100e-01],\n",
       "        [ 5.64415584e+01,  3.04943259e+02, -4.07019503e-01,\n",
       "          9.13419468e-01]],\n",
       "\n",
       "       [[ 7.18821429e+01,  2.68943259e+02, -1.85278030e+00,\n",
       "         -4.77730180e-01],\n",
       "        [ 6.08046222e+01,  2.68386517e+02, -2.34060662e+00,\n",
       "         -9.35810390e-01],\n",
       "        [ 5.68425325e+01,  2.80943259e+02, -7.03597120e-01,\n",
       "          7.10599109e-01],\n",
       "        ...,\n",
       "        [ 5.53215368e+01,  3.02943259e+02, -5.13799825e-01,\n",
       "          8.57910100e-01],\n",
       "        [ 5.64415584e+01,  3.04943259e+02, -4.07019503e-01,\n",
       "          9.13419468e-01],\n",
       "        [ 5.15245671e+01,  3.31443259e+02, -2.94344185e-01,\n",
       "          9.55699483e-01]],\n",
       "\n",
       "       [[ 6.13613636e+01,  2.68943259e+02, -1.78386520e+00,\n",
       "         -3.79068962e-01],\n",
       "        [ 5.52857910e+01,  2.79386517e+02, -2.26033855e+00,\n",
       "         -8.46142319e-01],\n",
       "        [ 5.82387987e+01,  2.80443259e+02, -6.13138616e-01,\n",
       "          7.89975340e-01],\n",
       "        ...,\n",
       "        [ 5.64415584e+01,  3.04943259e+02, -4.07019503e-01,\n",
       "          9.13419468e-01],\n",
       "        [ 5.15245671e+01,  3.31443259e+02, -2.94344185e-01,\n",
       "          9.55699483e-01],\n",
       "        [ 5.25560065e+01,  3.43943259e+02, -1.77405783e-01,\n",
       "          9.84137789e-01]]])"
      ]
     },
     "execution_count": 96,
     "metadata": {},
     "output_type": "execute_result"
    }
   ],
   "source": [
    "preprocess_out(X4_train)\n",
    "preprocess_out(X4_val)\n",
    "preprocess_out(X4_test)"
   ]
  },
  {
   "cell_type": "code",
   "execution_count": 114,
   "metadata": {},
   "outputs": [
    {
     "name": "stdout",
     "output_type": "stream",
     "text": [
      "Model: \"sequential_7\"\n",
      "_________________________________________________________________\n",
      "Layer (type)                 Output Shape              Param #   \n",
      "=================================================================\n",
      "lstm_4 (LSTM)                (None, 64)                17664     \n",
      "_________________________________________________________________\n",
      "dense_14 (Dense)             (None, 8)                 520       \n",
      "_________________________________________________________________\n",
      "dense_15 (Dense)             (None, 2)                 18        \n",
      "=================================================================\n",
      "Total params: 18,202\n",
      "Trainable params: 18,202\n",
      "Non-trainable params: 0\n",
      "_________________________________________________________________\n"
     ]
    }
   ],
   "source": [
    "model6 = Sequential()\n",
    "model6.add(InputLayer((7,4)))\n",
    "model6.add(LSTM(64))\n",
    "model6.add(Dense(8, 'relu'))\n",
    "model6.add(Dense(2, 'linear'))\n",
    "model6.summary()"
   ]
  },
  {
   "cell_type": "code",
   "execution_count": 123,
   "metadata": {},
   "outputs": [],
   "source": [
    "cp6 = ModelCheckpoint('model6/', save_best_only=True)\n",
    "model6.compile(loss=MeanSquaredError(), optimizer = Adam(learning_rate=0.005), metrics=[RootMeanSquaredError()])"
   ]
  },
  {
   "cell_type": "code",
   "execution_count": 124,
   "metadata": {},
   "outputs": [
    {
     "name": "stdout",
     "output_type": "stream",
     "text": [
      "Epoch 1/10\n",
      "24/24 [==============================] - 3s 32ms/step - loss: 21683.0000 - root_mean_squared_error: 147.2515 - val_loss: 32188.4551 - val_root_mean_squared_error: 179.4114\n"
     ]
    },
    {
     "name": "stderr",
     "output_type": "stream",
     "text": [
      "WARNING:absl:Found untraced functions such as lstm_cell_5_layer_call_and_return_conditional_losses, lstm_cell_5_layer_call_fn, lstm_cell_5_layer_call_fn, lstm_cell_5_layer_call_and_return_conditional_losses, lstm_cell_5_layer_call_and_return_conditional_losses while saving (showing 5 of 5). These functions will not be directly callable after loading.\n"
     ]
    },
    {
     "name": "stdout",
     "output_type": "stream",
     "text": [
      "INFO:tensorflow:Assets written to: model6/assets\n"
     ]
    },
    {
     "name": "stderr",
     "output_type": "stream",
     "text": [
      "INFO:tensorflow:Assets written to: model6/assets\n"
     ]
    },
    {
     "name": "stdout",
     "output_type": "stream",
     "text": [
      "Epoch 2/10\n",
      "24/24 [==============================] - 0s 10ms/step - loss: 19840.3984 - root_mean_squared_error: 140.8559 - val_loss: 29693.2773 - val_root_mean_squared_error: 172.3174\n"
     ]
    },
    {
     "name": "stderr",
     "output_type": "stream",
     "text": [
      "WARNING:absl:Found untraced functions such as lstm_cell_5_layer_call_and_return_conditional_losses, lstm_cell_5_layer_call_fn, lstm_cell_5_layer_call_fn, lstm_cell_5_layer_call_and_return_conditional_losses, lstm_cell_5_layer_call_and_return_conditional_losses while saving (showing 5 of 5). These functions will not be directly callable after loading.\n"
     ]
    },
    {
     "name": "stdout",
     "output_type": "stream",
     "text": [
      "INFO:tensorflow:Assets written to: model6/assets\n"
     ]
    },
    {
     "name": "stderr",
     "output_type": "stream",
     "text": [
      "INFO:tensorflow:Assets written to: model6/assets\n"
     ]
    },
    {
     "name": "stdout",
     "output_type": "stream",
     "text": [
      "Epoch 3/10\n",
      "24/24 [==============================] - 0s 8ms/step - loss: 17817.6992 - root_mean_squared_error: 133.4830 - val_loss: 26937.7070 - val_root_mean_squared_error: 164.1271\n"
     ]
    },
    {
     "name": "stderr",
     "output_type": "stream",
     "text": [
      "WARNING:absl:Found untraced functions such as lstm_cell_5_layer_call_and_return_conditional_losses, lstm_cell_5_layer_call_fn, lstm_cell_5_layer_call_fn, lstm_cell_5_layer_call_and_return_conditional_losses, lstm_cell_5_layer_call_and_return_conditional_losses while saving (showing 5 of 5). These functions will not be directly callable after loading.\n"
     ]
    },
    {
     "name": "stdout",
     "output_type": "stream",
     "text": [
      "INFO:tensorflow:Assets written to: model6/assets\n"
     ]
    },
    {
     "name": "stderr",
     "output_type": "stream",
     "text": [
      "INFO:tensorflow:Assets written to: model6/assets\n"
     ]
    },
    {
     "name": "stdout",
     "output_type": "stream",
     "text": [
      "Epoch 4/10\n",
      "24/24 [==============================] - 0s 9ms/step - loss: 15714.7812 - root_mean_squared_error: 125.3586 - val_loss: 24068.6484 - val_root_mean_squared_error: 155.1407\n"
     ]
    },
    {
     "name": "stderr",
     "output_type": "stream",
     "text": [
      "WARNING:absl:Found untraced functions such as lstm_cell_5_layer_call_and_return_conditional_losses, lstm_cell_5_layer_call_fn, lstm_cell_5_layer_call_fn, lstm_cell_5_layer_call_and_return_conditional_losses, lstm_cell_5_layer_call_and_return_conditional_losses while saving (showing 5 of 5). These functions will not be directly callable after loading.\n"
     ]
    },
    {
     "name": "stdout",
     "output_type": "stream",
     "text": [
      "INFO:tensorflow:Assets written to: model6/assets\n"
     ]
    },
    {
     "name": "stderr",
     "output_type": "stream",
     "text": [
      "INFO:tensorflow:Assets written to: model6/assets\n"
     ]
    },
    {
     "name": "stdout",
     "output_type": "stream",
     "text": [
      "Epoch 5/10\n",
      "24/24 [==============================] - 0s 9ms/step - loss: 13719.2197 - root_mean_squared_error: 117.1291 - val_loss: 21293.8281 - val_root_mean_squared_error: 145.9240\n"
     ]
    },
    {
     "name": "stderr",
     "output_type": "stream",
     "text": [
      "WARNING:absl:Found untraced functions such as lstm_cell_5_layer_call_and_return_conditional_losses, lstm_cell_5_layer_call_fn, lstm_cell_5_layer_call_fn, lstm_cell_5_layer_call_and_return_conditional_losses, lstm_cell_5_layer_call_and_return_conditional_losses while saving (showing 5 of 5). These functions will not be directly callable after loading.\n"
     ]
    },
    {
     "name": "stdout",
     "output_type": "stream",
     "text": [
      "INFO:tensorflow:Assets written to: model6/assets\n"
     ]
    },
    {
     "name": "stderr",
     "output_type": "stream",
     "text": [
      "INFO:tensorflow:Assets written to: model6/assets\n"
     ]
    },
    {
     "name": "stdout",
     "output_type": "stream",
     "text": [
      "Epoch 6/10\n",
      "24/24 [==============================] - 0s 20ms/step - loss: 11861.9502 - root_mean_squared_error: 108.9126 - val_loss: 18486.1816 - val_root_mean_squared_error: 135.9639\n"
     ]
    },
    {
     "name": "stderr",
     "output_type": "stream",
     "text": [
      "WARNING:absl:Found untraced functions such as lstm_cell_5_layer_call_and_return_conditional_losses, lstm_cell_5_layer_call_fn, lstm_cell_5_layer_call_fn, lstm_cell_5_layer_call_and_return_conditional_losses, lstm_cell_5_layer_call_and_return_conditional_losses while saving (showing 5 of 5). These functions will not be directly callable after loading.\n"
     ]
    },
    {
     "name": "stdout",
     "output_type": "stream",
     "text": [
      "INFO:tensorflow:Assets written to: model6/assets\n"
     ]
    },
    {
     "name": "stderr",
     "output_type": "stream",
     "text": [
      "INFO:tensorflow:Assets written to: model6/assets\n"
     ]
    },
    {
     "name": "stdout",
     "output_type": "stream",
     "text": [
      "Epoch 7/10\n",
      "24/24 [==============================] - 0s 11ms/step - loss: 9838.7754 - root_mean_squared_error: 99.1906 - val_loss: 15576.6113 - val_root_mean_squared_error: 124.8063\n"
     ]
    },
    {
     "name": "stderr",
     "output_type": "stream",
     "text": [
      "WARNING:absl:Found untraced functions such as lstm_cell_5_layer_call_and_return_conditional_losses, lstm_cell_5_layer_call_fn, lstm_cell_5_layer_call_fn, lstm_cell_5_layer_call_and_return_conditional_losses, lstm_cell_5_layer_call_and_return_conditional_losses while saving (showing 5 of 5). These functions will not be directly callable after loading.\n"
     ]
    },
    {
     "name": "stdout",
     "output_type": "stream",
     "text": [
      "INFO:tensorflow:Assets written to: model6/assets\n"
     ]
    },
    {
     "name": "stderr",
     "output_type": "stream",
     "text": [
      "INFO:tensorflow:Assets written to: model6/assets\n"
     ]
    },
    {
     "name": "stdout",
     "output_type": "stream",
     "text": [
      "Epoch 8/10\n",
      "24/24 [==============================] - 0s 13ms/step - loss: 7910.4600 - root_mean_squared_error: 88.9408 - val_loss: 12787.5674 - val_root_mean_squared_error: 113.0821\n"
     ]
    },
    {
     "name": "stderr",
     "output_type": "stream",
     "text": [
      "WARNING:absl:Found untraced functions such as lstm_cell_5_layer_call_and_return_conditional_losses, lstm_cell_5_layer_call_fn, lstm_cell_5_layer_call_fn, lstm_cell_5_layer_call_and_return_conditional_losses, lstm_cell_5_layer_call_and_return_conditional_losses while saving (showing 5 of 5). These functions will not be directly callable after loading.\n"
     ]
    },
    {
     "name": "stdout",
     "output_type": "stream",
     "text": [
      "INFO:tensorflow:Assets written to: model6/assets\n"
     ]
    },
    {
     "name": "stderr",
     "output_type": "stream",
     "text": [
      "INFO:tensorflow:Assets written to: model6/assets\n"
     ]
    },
    {
     "name": "stdout",
     "output_type": "stream",
     "text": [
      "Epoch 9/10\n",
      "24/24 [==============================] - 0s 9ms/step - loss: 6156.9741 - root_mean_squared_error: 78.4664 - val_loss: 10156.6260 - val_root_mean_squared_error: 100.7801\n"
     ]
    },
    {
     "name": "stderr",
     "output_type": "stream",
     "text": [
      "WARNING:absl:Found untraced functions such as lstm_cell_5_layer_call_and_return_conditional_losses, lstm_cell_5_layer_call_fn, lstm_cell_5_layer_call_fn, lstm_cell_5_layer_call_and_return_conditional_losses, lstm_cell_5_layer_call_and_return_conditional_losses while saving (showing 5 of 5). These functions will not be directly callable after loading.\n"
     ]
    },
    {
     "name": "stdout",
     "output_type": "stream",
     "text": [
      "INFO:tensorflow:Assets written to: model6/assets\n"
     ]
    },
    {
     "name": "stderr",
     "output_type": "stream",
     "text": [
      "INFO:tensorflow:Assets written to: model6/assets\n"
     ]
    },
    {
     "name": "stdout",
     "output_type": "stream",
     "text": [
      "Epoch 10/10\n",
      "24/24 [==============================] - 0s 9ms/step - loss: 4628.3232 - root_mean_squared_error: 68.0318 - val_loss: 8033.2837 - val_root_mean_squared_error: 89.6286\n"
     ]
    },
    {
     "name": "stderr",
     "output_type": "stream",
     "text": [
      "WARNING:absl:Found untraced functions such as lstm_cell_5_layer_call_and_return_conditional_losses, lstm_cell_5_layer_call_fn, lstm_cell_5_layer_call_fn, lstm_cell_5_layer_call_and_return_conditional_losses, lstm_cell_5_layer_call_and_return_conditional_losses while saving (showing 5 of 5). These functions will not be directly callable after loading.\n"
     ]
    },
    {
     "name": "stdout",
     "output_type": "stream",
     "text": [
      "INFO:tensorflow:Assets written to: model6/assets\n"
     ]
    },
    {
     "name": "stderr",
     "output_type": "stream",
     "text": [
      "INFO:tensorflow:Assets written to: model6/assets\n"
     ]
    }
   ],
   "source": [
    "history = (model6.fit(X4_train, y4_train, validation_data=(X4_val, y4_val), epochs=10, callbacks=[cp6]))"
   ]
  },
  {
   "cell_type": "code",
   "execution_count": 125,
   "metadata": {},
   "outputs": [],
   "source": [
    "def plot_predictions3(fignum, model, X, y, start=0, end = 100):\n",
    "    predictions = model.predict(X)\n",
    "    temp_preds, dsci_preds = predictions[:, 0], predictions[:, 1]\n",
    "    temp_actuals, dsci_actuals = y[:, 0], y[:, 1]\n",
    "    df = pd.DataFrame(data= {\n",
    "        'High Temperature Predictions': temp_preds, \n",
    "        'High Temperature Actuals': temp_actuals,\n",
    "        'DSCI Pred': dsci_preds,\n",
    "        'DSCI Actuals': dsci_actuals\n",
    "        })\n",
    "    plt.figure(figsize = (10,8))\n",
    "    plt.plot(df['High Temperature Predictions'][start:end], label='High Temperature Predictions')\n",
    "    plt.plot(df['High Temperature Actuals'][start:end], label='High Temperature Actuals')\n",
    "    plt.plot(df['DSCI Pred'][start:end], label = 'DSCI Predictions')\n",
    "    plt.plot(df['DSCI Actuals'][start:end], label = 'DSCI Actuals')\n",
    "    plt.legend(loc= 'upper left')\n",
    "    \n",
    "    plt.savefig(f'fig{fignum}.png')\n",
    "\n",
    "    return df[start:end]"
   ]
  },
  {
   "cell_type": "code",
   "execution_count": 126,
   "metadata": {},
   "outputs": [
    {
     "data": {
      "image/png": "[encoded data removed]",
      "text/plain": [
       "<Figure size 720x576 with 1 Axes>"
      ]
     },
     "metadata": {
      "needs_background": "light"
     },
     "output_type": "display_data"
    }
   ],
   "source": [
    "post_processed_df2 = plot_predictions3(16, model6, X4_test, y4_test)"
   ]
  },
  {
   "cell_type": "code",
   "execution_count": 127,
   "metadata": {},
   "outputs": [
    {
     "data": {
      "image/png": "[encoded data removed]",
      "text/plain": [
       "<Figure size 432x288 with 1 Axes>"
      ]
     },
     "metadata": {
      "needs_background": "light"
     },
     "output_type": "display_data"
    }
   ],
   "source": [
    "start, end = 0, 100\n",
    "plt.plot(post_processed_df2['DSCI Pred'][start: end])\n",
    "plt.plot(post_processed_df2['DSCI Actuals'][start: end])\n",
    "plt.savefig('fig15.png')"
   ]
  },
  {
   "cell_type": "code",
   "execution_count": 128,
   "metadata": {},
   "outputs": [
    {
     "data": {
      "text/plain": [
       "[<matplotlib.lines.Line2D at 0x14e09bf10>]"
      ]
     },
     "execution_count": 128,
     "metadata": {},
     "output_type": "execute_result"
    },
    {
     "data": {
      "image/png": "[encoded data removed]",
      "text/plain": [
       "<Figure size 432x288 with 1 Axes>"
      ]
     },
     "metadata": {
      "needs_background": "light"
     },
     "output_type": "display_data"
    }
   ],
   "source": [
    "start, end = 0, 100\n",
    "plt.plot(post_processed_df2['High Temperature Predictions'][start: end])\n",
    "plt.plot(post_processed_df2['High Temperature Actuals'][start: end])"
   ]
  },
  {
   "cell_type": "code",
   "execution_count": 129,
   "metadata": {},
   "outputs": [
    {
     "data": {
      "text/html": [
       "<div>\n",
       "<style scoped>\n",
       "    .dataframe tbody tr th:only-of-type {\n",
       "        vertical-align: middle;\n",
       "    }\n",
       "\n",
       "    .dataframe tbody tr th {\n",
       "        vertical-align: top;\n",
       "    }\n",
       "\n",
       "    .dataframe thead th {\n",
       "        text-align: right;\n",
       "    }\n",
       "</style>\n",
       "<table border=\"1\" class=\"dataframe\">\n",
       "  <thead>\n",
       "    <tr style=\"text-align: right;\">\n",
       "      <th></th>\n",
       "      <th>loss</th>\n",
       "      <th>root_mean_squared_error</th>\n",
       "      <th>val_loss</th>\n",
       "      <th>val_root_mean_squared_error</th>\n",
       "    </tr>\n",
       "  </thead>\n",
       "  <tbody>\n",
       "    <tr>\n",
       "      <th>0</th>\n",
       "      <td>21683.000000</td>\n",
       "      <td>147.251480</td>\n",
       "      <td>32188.455078</td>\n",
       "      <td>179.411407</td>\n",
       "    </tr>\n",
       "    <tr>\n",
       "      <th>1</th>\n",
       "      <td>19840.398438</td>\n",
       "      <td>140.855942</td>\n",
       "      <td>29693.277344</td>\n",
       "      <td>172.317368</td>\n",
       "    </tr>\n",
       "    <tr>\n",
       "      <th>2</th>\n",
       "      <td>17817.699219</td>\n",
       "      <td>133.482956</td>\n",
       "      <td>26937.707031</td>\n",
       "      <td>164.127106</td>\n",
       "    </tr>\n",
       "    <tr>\n",
       "      <th>3</th>\n",
       "      <td>15714.781250</td>\n",
       "      <td>125.358612</td>\n",
       "      <td>24068.648438</td>\n",
       "      <td>155.140732</td>\n",
       "    </tr>\n",
       "    <tr>\n",
       "      <th>4</th>\n",
       "      <td>13719.219727</td>\n",
       "      <td>117.129074</td>\n",
       "      <td>21293.828125</td>\n",
       "      <td>145.924042</td>\n",
       "    </tr>\n",
       "    <tr>\n",
       "      <th>5</th>\n",
       "      <td>11861.950195</td>\n",
       "      <td>108.912582</td>\n",
       "      <td>18486.181641</td>\n",
       "      <td>135.963898</td>\n",
       "    </tr>\n",
       "    <tr>\n",
       "      <th>6</th>\n",
       "      <td>9838.775391</td>\n",
       "      <td>99.190605</td>\n",
       "      <td>15576.611328</td>\n",
       "      <td>124.806297</td>\n",
       "    </tr>\n",
       "    <tr>\n",
       "      <th>7</th>\n",
       "      <td>7910.459961</td>\n",
       "      <td>88.940773</td>\n",
       "      <td>12787.567383</td>\n",
       "      <td>113.082130</td>\n",
       "    </tr>\n",
       "    <tr>\n",
       "      <th>8</th>\n",
       "      <td>6156.974121</td>\n",
       "      <td>78.466393</td>\n",
       "      <td>10156.625977</td>\n",
       "      <td>100.780090</td>\n",
       "    </tr>\n",
       "    <tr>\n",
       "      <th>9</th>\n",
       "      <td>4628.323242</td>\n",
       "      <td>68.031784</td>\n",
       "      <td>8033.283691</td>\n",
       "      <td>89.628593</td>\n",
       "    </tr>\n",
       "  </tbody>\n",
       "</table>\n",
       "</div>"
      ],
      "text/plain": [
       "           loss  root_mean_squared_error      val_loss  \\\n",
       "0  21683.000000               147.251480  32188.455078   \n",
       "1  19840.398438               140.855942  29693.277344   \n",
       "2  17817.699219               133.482956  26937.707031   \n",
       "3  15714.781250               125.358612  24068.648438   \n",
       "4  13719.219727               117.129074  21293.828125   \n",
       "5  11861.950195               108.912582  18486.181641   \n",
       "6   9838.775391                99.190605  15576.611328   \n",
       "7   7910.459961                88.940773  12787.567383   \n",
       "8   6156.974121                78.466393  10156.625977   \n",
       "9   4628.323242                68.031784   8033.283691   \n",
       "\n",
       "   val_root_mean_squared_error  \n",
       "0                   179.411407  \n",
       "1                   172.317368  \n",
       "2                   164.127106  \n",
       "3                   155.140732  \n",
       "4                   145.924042  \n",
       "5                   135.963898  \n",
       "6                   124.806297  \n",
       "7                   113.082130  \n",
       "8                   100.780090  \n",
       "9                    89.628593  "
      ]
     },
     "execution_count": 129,
     "metadata": {},
     "output_type": "execute_result"
    }
   ],
   "source": [
    "history_df = pd.DataFrame(history.history)\n",
    "history_df"
   ]
  },
  {
   "cell_type": "code",
   "execution_count": 130,
   "metadata": {},
   "outputs": [
    {
     "data": {
      "image/png": "[encoded data removed]",
      "text/plain": [
       "<Figure size 432x288 with 1 Axes>"
      ]
     },
     "metadata": {
      "needs_background": "light"
     },
     "output_type": "display_data"
    }
   ],
   "source": [
    "history_df.filter(like='loss').plot();\n",
    "plt.title(\"LSTM MSE Loss (High Temp & Time Features)\", fontsize=16)\n",
    "plt.savefig('fig17.png')"
   ]
  },
  {
   "cell_type": "markdown",
   "metadata": {},
   "source": [
    "#### Model Summary"
   ]
  },
  {
   "cell_type": "markdown",
   "metadata": {},
   "source": [
    "Model|MSE|Val Loss|RMSE|\n",
    "|---|---|---|---|\n",
    "|LSTM|544.09|760.45|27.57|\n",
    "|CNN|138.06|123.14|11.75|\n",
    "|GRU|757.87|1187.01|44.91|\n",
    "|LSTM M.V.|615.95|1142.63|33.8|\n",
    "|LSTM Precip.|757.87|2000.4|44.7|\n",
    "|LSTM Temp|4628.32|8033.28|89.62|"
   ]
  },
  {
   "cell_type": "markdown",
   "metadata": {},
   "source": []
  }
 ],
 "metadata": {
  "interpreter": {
   "hash": "3cb97f1d83f7509b06d804007dcb96c6ab417962c4fd7570dc4f1a7dc82dce2f"
  },
  "kernelspec": {
   "display_name": "Python 3.8.8 64-bit ('dsi-111': conda)",
   "language": "python",
   "name": "python3"
  },
  "language_info": {
   "codemirror_mode": {
    "name": "ipython",
    "version": 3
   },
   "file_extension": ".py",
   "mimetype": "text/x-python",
   "name": "python",
   "nbconvert_exporter": "python",
   "pygments_lexer": "ipython3",
   "version": "3.8.8"
  },
  "orig_nbformat": 4
 },
 "nbformat": 4,
 "nbformat_minor": 2
}
