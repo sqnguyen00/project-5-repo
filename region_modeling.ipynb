{
 "cells": [
  {
   "cell_type": "code",
   "execution_count": null,
   "metadata": {},
   "outputs": [],
   "source": [
    "# Code by Son Nguyen"
   ]
  },
  {
   "cell_type": "code",
   "execution_count": 1,
   "metadata": {},
   "outputs": [],
   "source": [
    "import pandas as pd\n",
    "import tensorflow as tf\n",
    "import os\n",
    "import numpy as np\n",
    "import matplotlib.pyplot as plt\n",
    "import time\n",
    "from sklearn.preprocessing import StandardScaler"
   ]
  },
  {
   "cell_type": "code",
   "execution_count": 2,
   "metadata": {},
   "outputs": [],
   "source": [
    "drought = pd.read_csv('temperature and precipitation/final_drought_temp_data.csv')"
   ]
  },
  {
   "cell_type": "code",
   "execution_count": 3,
   "metadata": {},
   "outputs": [],
   "source": [
    "drought['climate_regions']=drought['Name']"
   ]
  },
  {
   "cell_type": "markdown",
   "metadata": {},
   "source": [
    "#### David's Code"
   ]
  },
  {
   "cell_type": "code",
   "execution_count": 4,
   "metadata": {},
   "outputs": [],
   "source": [
    "oh='Ohio Valley'\n",
    "ohio_valley=dict.fromkeys(['Illinois','Indiana','Kentucky','Missouri',\n",
    "             'Ohio','Tennessee','West Virginia'],oh)\n",
    "#https://stackoverflow.com/questions/11977730/creating-a-dictionary-with-same-values"
   ]
  },
  {
   "cell_type": "code",
   "execution_count": 5,
   "metadata": {},
   "outputs": [],
   "source": [
    "oh_list=['Illinois','Indiana','Kentucky','Missouri',\n",
    "             'Ohio','Tennessee','West Virginia']"
   ]
  },
  {
   "cell_type": "code",
   "execution_count": 6,
   "metadata": {},
   "outputs": [],
   "source": [
    "def state_region_dict(list_states,string_region):\n",
    "    return dict.fromkeys(list_states,string_region)\n",
    "#function to combine states and region into dictionary\n"
   ]
  },
  {
   "cell_type": "code",
   "execution_count": 7,
   "metadata": {},
   "outputs": [],
   "source": [
    "um_list=['Iowa', 'Michigan', 'Minnesota', 'Wisconsin']\n",
    "um_region='Upper Midwest'\n",
    "upper_midwest=state_region_dict(um_list,um_region)\n"
   ]
  },
  {
   "cell_type": "code",
   "execution_count": 8,
   "metadata": {},
   "outputs": [],
   "source": [
    "ne_list=['Connecticut','Delaware','Maine','Maryland','Massachusetts', 'New Hampshire', 'New Jersey',\n",
    "        'New York', 'Pennsylvania','Rhode Island','Vermont']\n",
    "ne_region='Northeast'\n",
    "north_east=state_region_dict(ne_list,ne_region)"
   ]
  },
  {
   "cell_type": "code",
   "execution_count": 9,
   "metadata": {},
   "outputs": [],
   "source": [
    "nw_list=['Idaho','Oregon','Washington']\n",
    "nw_region='Northwest'\n",
    "north_west=state_region_dict(nw_list,nw_region)\n",
    "\n",
    "s_list=['Arkansas','Kansas','Louisiana','Mississippi','Oklahoma','Texas']\n",
    "s_region='South'\n",
    "south=state_region_dict(s_list,s_region)\n",
    "\n",
    "se_list=['Alabama','Florida','Georgia','North Carolina','South Carolina','Virginia']\n",
    "se_region='Southeast'\n",
    "south_east=state_region_dict(se_list,se_region)\n",
    "\n",
    "sw_list=['Arizona','Colorado','New Mexico','Utah']\n",
    "sw_region='Southwest'\n",
    "south_west=state_region_dict(sw_list,sw_region)\n",
    "\n",
    "w_list=['California','Nevada']\n",
    "w_region='West'\n",
    "west=state_region_dict(w_list,w_region)\n",
    "\n",
    "wnc_list=['Montana','Nebraska','North Dakota','South Dakota','Wyoming']\n",
    "wnc_region='Northern Rockies and Plains'\n",
    "northern_rockies=state_region_dict(wnc_list,wnc_region)"
   ]
  },
  {
   "cell_type": "code",
   "execution_count": 10,
   "metadata": {},
   "outputs": [],
   "source": [
    "final_dict={**ohio_valley,**upper_midwest,**north_east,**north_west,**south,\n",
    "            **south_east,**south_west,**west,**northern_rockies}\n",
    "#combine multiple dictionaries into one\n",
    "#https://towardsdatascience.com/merge-dictionaries-in-python-d4e9ce137374"
   ]
  },
  {
   "cell_type": "code",
   "execution_count": 11,
   "metadata": {},
   "outputs": [],
   "source": [
    "drought['climate_regions']=drought['Name']"
   ]
  },
  {
   "cell_type": "code",
   "execution_count": 12,
   "metadata": {},
   "outputs": [],
   "source": [
    "#Replaced initial values with dictionary region values\n",
    "drought.replace({'climate_regions':final_dict},inplace=True)\n",
    "#https://sparkbyexamples.com/pandas/pandas-remap-values-in-column-with-a-dictionary-dict/"
   ]
  },
  {
   "cell_type": "code",
   "execution_count": 13,
   "metadata": {},
   "outputs": [],
   "source": [
    "drought['ValidEnd'] = pd.to_datetime(drought['ValidEnd'])"
   ]
  },
  {
   "cell_type": "code",
   "execution_count": 14,
   "metadata": {},
   "outputs": [],
   "source": [
    "drought = drought[drought['ValidEnd']<'2021-01-01']"
   ]
  },
  {
   "cell_type": "code",
   "execution_count": 15,
   "metadata": {},
   "outputs": [],
   "source": [
    "ohio_valley = drought[drought['climate_regions'] == 'Ohio Valley']"
   ]
  },
  {
   "cell_type": "code",
   "execution_count": 16,
   "metadata": {},
   "outputs": [],
   "source": [
    "west = drought[drought['climate_regions'] == 'West']"
   ]
  },
  {
   "cell_type": "code",
   "execution_count": 17,
   "metadata": {},
   "outputs": [],
   "source": [
    "up_mid = drought[drought['climate_regions'] == 'Upper Midwest']"
   ]
  },
  {
   "cell_type": "code",
   "execution_count": 18,
   "metadata": {},
   "outputs": [],
   "source": [
    "nrp = drought[drought['climate_regions'] == 'Northern Rockies and Plains']"
   ]
  },
  {
   "cell_type": "code",
   "execution_count": 19,
   "metadata": {},
   "outputs": [],
   "source": [
    "ne = drought[drought['climate_regions'] == 'Northeast']"
   ]
  },
  {
   "cell_type": "code",
   "execution_count": 20,
   "metadata": {},
   "outputs": [],
   "source": [
    "nw = drought[drought['climate_regions'] == 'Northwest']"
   ]
  },
  {
   "cell_type": "code",
   "execution_count": 21,
   "metadata": {},
   "outputs": [],
   "source": [
    "south = drought[drought['climate_regions'] == 'South']"
   ]
  },
  {
   "cell_type": "code",
   "execution_count": 22,
   "metadata": {},
   "outputs": [],
   "source": [
    "sw = drought[drought['climate_regions'] == 'Southwest']"
   ]
  },
  {
   "cell_type": "code",
   "execution_count": 23,
   "metadata": {},
   "outputs": [],
   "source": [
    "se = sw = drought[drought['climate_regions'] == 'Southeast']"
   ]
  },
  {
   "cell_type": "code",
   "execution_count": 24,
   "metadata": {},
   "outputs": [
    {
     "data": {
      "text/html": [
       "<div>\n",
       "<style scoped>\n",
       "    .dataframe tbody tr th:only-of-type {\n",
       "        vertical-align: middle;\n",
       "    }\n",
       "\n",
       "    .dataframe tbody tr th {\n",
       "        vertical-align: top;\n",
       "    }\n",
       "\n",
       "    .dataframe thead th {\n",
       "        text-align: right;\n",
       "    }\n",
       "</style>\n",
       "<table border=\"1\" class=\"dataframe\">\n",
       "  <thead>\n",
       "    <tr style=\"text-align: right;\">\n",
       "      <th></th>\n",
       "      <th>ValidEnd</th>\n",
       "      <th>Name</th>\n",
       "      <th>state</th>\n",
       "      <th>area_none</th>\n",
       "      <th>area_d0</th>\n",
       "      <th>area_d1</th>\n",
       "      <th>area_d2</th>\n",
       "      <th>area_d3</th>\n",
       "      <th>area_d4</th>\n",
       "      <th>population_none</th>\n",
       "      <th>...</th>\n",
       "      <th>population_d3</th>\n",
       "      <th>population_d4</th>\n",
       "      <th>DSCI</th>\n",
       "      <th>total_area</th>\n",
       "      <th>total_population</th>\n",
       "      <th>avg_tmax</th>\n",
       "      <th>avg_tmin</th>\n",
       "      <th>total_avg_prcp_inches</th>\n",
       "      <th>total_avg_prcp_mm</th>\n",
       "      <th>climate_regions</th>\n",
       "    </tr>\n",
       "  </thead>\n",
       "  <tbody>\n",
       "    <tr>\n",
       "      <th>10451</th>\n",
       "      <td>2020-12-28</td>\n",
       "      <td>Illinois</td>\n",
       "      <td>IL</td>\n",
       "      <td>33454.57</td>\n",
       "      <td>15550.66</td>\n",
       "      <td>6236.48</td>\n",
       "      <td>1140.83</td>\n",
       "      <td>0.0</td>\n",
       "      <td>0.0</td>\n",
       "      <td>8875219.25</td>\n",
       "      <td>...</td>\n",
       "      <td>0.0</td>\n",
       "      <td>0.0</td>\n",
       "      <td>56</td>\n",
       "      <td>56382.54</td>\n",
       "      <td>12847389.79</td>\n",
       "      <td>38.465714</td>\n",
       "      <td>17.117143</td>\n",
       "      <td>0.108000</td>\n",
       "      <td>2.743200</td>\n",
       "      <td>Ohio Valley</td>\n",
       "    </tr>\n",
       "    <tr>\n",
       "      <th>10452</th>\n",
       "      <td>2020-12-21</td>\n",
       "      <td>Illinois</td>\n",
       "      <td>IL</td>\n",
       "      <td>33454.57</td>\n",
       "      <td>15550.66</td>\n",
       "      <td>6236.48</td>\n",
       "      <td>1140.83</td>\n",
       "      <td>0.0</td>\n",
       "      <td>0.0</td>\n",
       "      <td>8875219.25</td>\n",
       "      <td>...</td>\n",
       "      <td>0.0</td>\n",
       "      <td>0.0</td>\n",
       "      <td>56</td>\n",
       "      <td>56382.54</td>\n",
       "      <td>12847389.79</td>\n",
       "      <td>39.528571</td>\n",
       "      <td>26.411429</td>\n",
       "      <td>0.006000</td>\n",
       "      <td>0.152400</td>\n",
       "      <td>Ohio Valley</td>\n",
       "    </tr>\n",
       "    <tr>\n",
       "      <th>10453</th>\n",
       "      <td>2020-12-14</td>\n",
       "      <td>Illinois</td>\n",
       "      <td>IL</td>\n",
       "      <td>32814.14</td>\n",
       "      <td>16191.10</td>\n",
       "      <td>6236.48</td>\n",
       "      <td>1140.83</td>\n",
       "      <td>0.0</td>\n",
       "      <td>0.0</td>\n",
       "      <td>8839298.46</td>\n",
       "      <td>...</td>\n",
       "      <td>0.0</td>\n",
       "      <td>0.0</td>\n",
       "      <td>57</td>\n",
       "      <td>56382.55</td>\n",
       "      <td>12847389.79</td>\n",
       "      <td>44.220000</td>\n",
       "      <td>29.057143</td>\n",
       "      <td>1.026000</td>\n",
       "      <td>26.060400</td>\n",
       "      <td>Ohio Valley</td>\n",
       "    </tr>\n",
       "    <tr>\n",
       "      <th>10454</th>\n",
       "      <td>2020-12-07</td>\n",
       "      <td>Illinois</td>\n",
       "      <td>IL</td>\n",
       "      <td>32794.13</td>\n",
       "      <td>18023.24</td>\n",
       "      <td>4619.65</td>\n",
       "      <td>945.53</td>\n",
       "      <td>0.0</td>\n",
       "      <td>0.0</td>\n",
       "      <td>8650968.46</td>\n",
       "      <td>...</td>\n",
       "      <td>0.0</td>\n",
       "      <td>0.0</td>\n",
       "      <td>53</td>\n",
       "      <td>56382.55</td>\n",
       "      <td>12847389.80</td>\n",
       "      <td>43.485714</td>\n",
       "      <td>24.954286</td>\n",
       "      <td>0.000000</td>\n",
       "      <td>0.000000</td>\n",
       "      <td>Ohio Valley</td>\n",
       "    </tr>\n",
       "    <tr>\n",
       "      <th>10455</th>\n",
       "      <td>2020-11-30</td>\n",
       "      <td>Illinois</td>\n",
       "      <td>IL</td>\n",
       "      <td>28067.62</td>\n",
       "      <td>21244.44</td>\n",
       "      <td>6124.95</td>\n",
       "      <td>945.53</td>\n",
       "      <td>0.0</td>\n",
       "      <td>0.0</td>\n",
       "      <td>8375517.01</td>\n",
       "      <td>...</td>\n",
       "      <td>0.0</td>\n",
       "      <td>0.0</td>\n",
       "      <td>64</td>\n",
       "      <td>56382.54</td>\n",
       "      <td>12847389.80</td>\n",
       "      <td>46.328571</td>\n",
       "      <td>32.782857</td>\n",
       "      <td>1.082000</td>\n",
       "      <td>27.482800</td>\n",
       "      <td>Ohio Valley</td>\n",
       "    </tr>\n",
       "    <tr>\n",
       "      <th>...</th>\n",
       "      <td>...</td>\n",
       "      <td>...</td>\n",
       "      <td>...</td>\n",
       "      <td>...</td>\n",
       "      <td>...</td>\n",
       "      <td>...</td>\n",
       "      <td>...</td>\n",
       "      <td>...</td>\n",
       "      <td>...</td>\n",
       "      <td>...</td>\n",
       "      <td>...</td>\n",
       "      <td>...</td>\n",
       "      <td>...</td>\n",
       "      <td>...</td>\n",
       "      <td>...</td>\n",
       "      <td>...</td>\n",
       "      <td>...</td>\n",
       "      <td>...</td>\n",
       "      <td>...</td>\n",
       "      <td>...</td>\n",
       "      <td>...</td>\n",
       "    </tr>\n",
       "    <tr>\n",
       "      <th>45975</th>\n",
       "      <td>2001-01-29</td>\n",
       "      <td>West Virginia</td>\n",
       "      <td>WV</td>\n",
       "      <td>3547.74</td>\n",
       "      <td>19253.58</td>\n",
       "      <td>1403.34</td>\n",
       "      <td>0.00</td>\n",
       "      <td>0.0</td>\n",
       "      <td>0.0</td>\n",
       "      <td>261876.40</td>\n",
       "      <td>...</td>\n",
       "      <td>0.0</td>\n",
       "      <td>0.0</td>\n",
       "      <td>91</td>\n",
       "      <td>24204.66</td>\n",
       "      <td>1852994.01</td>\n",
       "      <td>40.380952</td>\n",
       "      <td>19.880952</td>\n",
       "      <td>0.223333</td>\n",
       "      <td>5.672667</td>\n",
       "      <td>Ohio Valley</td>\n",
       "    </tr>\n",
       "    <tr>\n",
       "      <th>45976</th>\n",
       "      <td>2001-01-22</td>\n",
       "      <td>West Virginia</td>\n",
       "      <td>WV</td>\n",
       "      <td>5496.60</td>\n",
       "      <td>14287.99</td>\n",
       "      <td>3143.43</td>\n",
       "      <td>1276.64</td>\n",
       "      <td>0.0</td>\n",
       "      <td>0.0</td>\n",
       "      <td>443651.89</td>\n",
       "      <td>...</td>\n",
       "      <td>0.0</td>\n",
       "      <td>0.0</td>\n",
       "      <td>101</td>\n",
       "      <td>24204.66</td>\n",
       "      <td>1852994.00</td>\n",
       "      <td>35.142857</td>\n",
       "      <td>23.095238</td>\n",
       "      <td>1.165000</td>\n",
       "      <td>29.591000</td>\n",
       "      <td>Ohio Valley</td>\n",
       "    </tr>\n",
       "    <tr>\n",
       "      <th>45977</th>\n",
       "      <td>2001-01-15</td>\n",
       "      <td>West Virginia</td>\n",
       "      <td>WV</td>\n",
       "      <td>7763.39</td>\n",
       "      <td>12021.20</td>\n",
       "      <td>3143.44</td>\n",
       "      <td>1276.64</td>\n",
       "      <td>0.0</td>\n",
       "      <td>0.0</td>\n",
       "      <td>664684.83</td>\n",
       "      <td>...</td>\n",
       "      <td>0.0</td>\n",
       "      <td>0.0</td>\n",
       "      <td>91</td>\n",
       "      <td>24204.67</td>\n",
       "      <td>1852994.00</td>\n",
       "      <td>43.904762</td>\n",
       "      <td>24.714286</td>\n",
       "      <td>0.008333</td>\n",
       "      <td>0.211667</td>\n",
       "      <td>Ohio Valley</td>\n",
       "    </tr>\n",
       "    <tr>\n",
       "      <th>45978</th>\n",
       "      <td>2001-01-08</td>\n",
       "      <td>West Virginia</td>\n",
       "      <td>WV</td>\n",
       "      <td>7763.16</td>\n",
       "      <td>12391.29</td>\n",
       "      <td>3670.41</td>\n",
       "      <td>379.81</td>\n",
       "      <td>0.0</td>\n",
       "      <td>0.0</td>\n",
       "      <td>664647.42</td>\n",
       "      <td>...</td>\n",
       "      <td>0.0</td>\n",
       "      <td>0.0</td>\n",
       "      <td>86</td>\n",
       "      <td>24204.67</td>\n",
       "      <td>1852993.99</td>\n",
       "      <td>33.119048</td>\n",
       "      <td>21.452381</td>\n",
       "      <td>0.055000</td>\n",
       "      <td>1.397000</td>\n",
       "      <td>Ohio Valley</td>\n",
       "    </tr>\n",
       "    <tr>\n",
       "      <th>45979</th>\n",
       "      <td>2001-01-01</td>\n",
       "      <td>West Virginia</td>\n",
       "      <td>WV</td>\n",
       "      <td>7763.16</td>\n",
       "      <td>12391.31</td>\n",
       "      <td>3670.42</td>\n",
       "      <td>379.79</td>\n",
       "      <td>0.0</td>\n",
       "      <td>0.0</td>\n",
       "      <td>664647.42</td>\n",
       "      <td>...</td>\n",
       "      <td>0.0</td>\n",
       "      <td>0.0</td>\n",
       "      <td>86</td>\n",
       "      <td>24204.68</td>\n",
       "      <td>1852994.00</td>\n",
       "      <td>24.000000</td>\n",
       "      <td>18.333333</td>\n",
       "      <td>0.000000</td>\n",
       "      <td>0.000000</td>\n",
       "      <td>Ohio Valley</td>\n",
       "    </tr>\n",
       "  </tbody>\n",
       "</table>\n",
       "<p>7308 rows × 23 columns</p>\n",
       "</div>"
      ],
      "text/plain": [
       "        ValidEnd           Name state  area_none   area_d0  area_d1  area_d2  \\\n",
       "10451 2020-12-28       Illinois    IL   33454.57  15550.66  6236.48  1140.83   \n",
       "10452 2020-12-21       Illinois    IL   33454.57  15550.66  6236.48  1140.83   \n",
       "10453 2020-12-14       Illinois    IL   32814.14  16191.10  6236.48  1140.83   \n",
       "10454 2020-12-07       Illinois    IL   32794.13  18023.24  4619.65   945.53   \n",
       "10455 2020-11-30       Illinois    IL   28067.62  21244.44  6124.95   945.53   \n",
       "...          ...            ...   ...        ...       ...      ...      ...   \n",
       "45975 2001-01-29  West Virginia    WV    3547.74  19253.58  1403.34     0.00   \n",
       "45976 2001-01-22  West Virginia    WV    5496.60  14287.99  3143.43  1276.64   \n",
       "45977 2001-01-15  West Virginia    WV    7763.39  12021.20  3143.44  1276.64   \n",
       "45978 2001-01-08  West Virginia    WV    7763.16  12391.29  3670.41   379.81   \n",
       "45979 2001-01-01  West Virginia    WV    7763.16  12391.31  3670.42   379.79   \n",
       "\n",
       "       area_d3  area_d4  population_none  ...  population_d3  population_d4  \\\n",
       "10451      0.0      0.0       8875219.25  ...            0.0            0.0   \n",
       "10452      0.0      0.0       8875219.25  ...            0.0            0.0   \n",
       "10453      0.0      0.0       8839298.46  ...            0.0            0.0   \n",
       "10454      0.0      0.0       8650968.46  ...            0.0            0.0   \n",
       "10455      0.0      0.0       8375517.01  ...            0.0            0.0   \n",
       "...        ...      ...              ...  ...            ...            ...   \n",
       "45975      0.0      0.0        261876.40  ...            0.0            0.0   \n",
       "45976      0.0      0.0        443651.89  ...            0.0            0.0   \n",
       "45977      0.0      0.0        664684.83  ...            0.0            0.0   \n",
       "45978      0.0      0.0        664647.42  ...            0.0            0.0   \n",
       "45979      0.0      0.0        664647.42  ...            0.0            0.0   \n",
       "\n",
       "       DSCI  total_area  total_population   avg_tmax   avg_tmin  \\\n",
       "10451    56    56382.54       12847389.79  38.465714  17.117143   \n",
       "10452    56    56382.54       12847389.79  39.528571  26.411429   \n",
       "10453    57    56382.55       12847389.79  44.220000  29.057143   \n",
       "10454    53    56382.55       12847389.80  43.485714  24.954286   \n",
       "10455    64    56382.54       12847389.80  46.328571  32.782857   \n",
       "...     ...         ...               ...        ...        ...   \n",
       "45975    91    24204.66        1852994.01  40.380952  19.880952   \n",
       "45976   101    24204.66        1852994.00  35.142857  23.095238   \n",
       "45977    91    24204.67        1852994.00  43.904762  24.714286   \n",
       "45978    86    24204.67        1852993.99  33.119048  21.452381   \n",
       "45979    86    24204.68        1852994.00  24.000000  18.333333   \n",
       "\n",
       "       total_avg_prcp_inches  total_avg_prcp_mm  climate_regions  \n",
       "10451               0.108000           2.743200      Ohio Valley  \n",
       "10452               0.006000           0.152400      Ohio Valley  \n",
       "10453               1.026000          26.060400      Ohio Valley  \n",
       "10454               0.000000           0.000000      Ohio Valley  \n",
       "10455               1.082000          27.482800      Ohio Valley  \n",
       "...                      ...                ...              ...  \n",
       "45975               0.223333           5.672667      Ohio Valley  \n",
       "45976               1.165000          29.591000      Ohio Valley  \n",
       "45977               0.008333           0.211667      Ohio Valley  \n",
       "45978               0.055000           1.397000      Ohio Valley  \n",
       "45979               0.000000           0.000000      Ohio Valley  \n",
       "\n",
       "[7308 rows x 23 columns]"
      ]
     },
     "execution_count": 24,
     "metadata": {},
     "output_type": "execute_result"
    }
   ],
   "source": [
    "ohio_valley"
   ]
  },
  {
   "cell_type": "markdown",
   "metadata": {},
   "source": [
    "#### Julio's Code"
   ]
  },
  {
   "cell_type": "code",
   "execution_count": 25,
   "metadata": {},
   "outputs": [],
   "source": [
    "#julio's code\n",
    "west=west.groupby('ValidEnd').agg({'area_none':'sum','area_d0':'sum','area_d1':'sum','area_d2':'sum','area_d3':'sum','area_d4':'sum',\n",
    "                                                  'population_none':'sum','population_d0':'sum','population_d1':'sum','population_d2':'sum','population_d3':'sum',\n",
    "                                                  'population_d4':'sum','DSCI':'mean','total_population':'sum','total_area':'sum', 'avg_tmax': 'mean', 'avg_tmin': 'mean', 'total_avg_prcp_inches':'sum', 'total_avg_prcp_mm': 'sum'})"
   ]
  },
  {
   "cell_type": "code",
   "execution_count": 26,
   "metadata": {},
   "outputs": [
    {
     "data": {
      "text/html": [
       "<div>\n",
       "<style scoped>\n",
       "    .dataframe tbody tr th:only-of-type {\n",
       "        vertical-align: middle;\n",
       "    }\n",
       "\n",
       "    .dataframe tbody tr th {\n",
       "        vertical-align: top;\n",
       "    }\n",
       "\n",
       "    .dataframe thead th {\n",
       "        text-align: right;\n",
       "    }\n",
       "</style>\n",
       "<table border=\"1\" class=\"dataframe\">\n",
       "  <thead>\n",
       "    <tr style=\"text-align: right;\">\n",
       "      <th></th>\n",
       "      <th>area_none</th>\n",
       "      <th>area_d0</th>\n",
       "      <th>area_d1</th>\n",
       "      <th>area_d2</th>\n",
       "      <th>area_d3</th>\n",
       "      <th>area_d4</th>\n",
       "      <th>population_none</th>\n",
       "      <th>population_d0</th>\n",
       "      <th>population_d1</th>\n",
       "      <th>population_d2</th>\n",
       "      <th>population_d3</th>\n",
       "      <th>population_d4</th>\n",
       "      <th>DSCI</th>\n",
       "      <th>total_population</th>\n",
       "      <th>total_area</th>\n",
       "      <th>avg_tmax</th>\n",
       "      <th>avg_tmin</th>\n",
       "      <th>total_avg_prcp_inches</th>\n",
       "      <th>total_avg_prcp_mm</th>\n",
       "    </tr>\n",
       "    <tr>\n",
       "      <th>ValidEnd</th>\n",
       "      <th></th>\n",
       "      <th></th>\n",
       "      <th></th>\n",
       "      <th></th>\n",
       "      <th></th>\n",
       "      <th></th>\n",
       "      <th></th>\n",
       "      <th></th>\n",
       "      <th></th>\n",
       "      <th></th>\n",
       "      <th></th>\n",
       "      <th></th>\n",
       "      <th></th>\n",
       "      <th></th>\n",
       "      <th></th>\n",
       "      <th></th>\n",
       "      <th></th>\n",
       "      <th></th>\n",
       "      <th></th>\n",
       "    </tr>\n",
       "  </thead>\n",
       "  <tbody>\n",
       "    <tr>\n",
       "      <th>2001-01-01</th>\n",
       "      <td>268682.71</td>\n",
       "      <td>0.00</td>\n",
       "      <td>0.00</td>\n",
       "      <td>0.00</td>\n",
       "      <td>0.00</td>\n",
       "      <td>0.00</td>\n",
       "      <td>39954507.39</td>\n",
       "      <td>0.00</td>\n",
       "      <td>0.00</td>\n",
       "      <td>0.00</td>\n",
       "      <td>0.00</td>\n",
       "      <td>0.00</td>\n",
       "      <td>0.0</td>\n",
       "      <td>39954507.39</td>\n",
       "      <td>268682.71</td>\n",
       "      <td>55.340909</td>\n",
       "      <td>25.125000</td>\n",
       "      <td>0.000000</td>\n",
       "      <td>0.000000</td>\n",
       "    </tr>\n",
       "    <tr>\n",
       "      <th>2001-01-08</th>\n",
       "      <td>219867.53</td>\n",
       "      <td>48815.18</td>\n",
       "      <td>0.00</td>\n",
       "      <td>0.00</td>\n",
       "      <td>0.00</td>\n",
       "      <td>0.00</td>\n",
       "      <td>19148835.12</td>\n",
       "      <td>20805672.27</td>\n",
       "      <td>0.00</td>\n",
       "      <td>0.00</td>\n",
       "      <td>0.00</td>\n",
       "      <td>0.00</td>\n",
       "      <td>15.5</td>\n",
       "      <td>39954507.39</td>\n",
       "      <td>268682.71</td>\n",
       "      <td>56.907792</td>\n",
       "      <td>26.157468</td>\n",
       "      <td>0.573636</td>\n",
       "      <td>14.570364</td>\n",
       "    </tr>\n",
       "    <tr>\n",
       "      <th>2001-01-15</th>\n",
       "      <td>183369.34</td>\n",
       "      <td>85313.37</td>\n",
       "      <td>0.00</td>\n",
       "      <td>0.00</td>\n",
       "      <td>0.00</td>\n",
       "      <td>0.00</td>\n",
       "      <td>19147061.90</td>\n",
       "      <td>20807445.49</td>\n",
       "      <td>0.00</td>\n",
       "      <td>0.00</td>\n",
       "      <td>0.00</td>\n",
       "      <td>0.00</td>\n",
       "      <td>29.5</td>\n",
       "      <td>39954507.39</td>\n",
       "      <td>268682.71</td>\n",
       "      <td>45.813312</td>\n",
       "      <td>28.798701</td>\n",
       "      <td>1.895909</td>\n",
       "      <td>48.156091</td>\n",
       "    </tr>\n",
       "    <tr>\n",
       "      <th>2001-01-22</th>\n",
       "      <td>229132.27</td>\n",
       "      <td>39550.44</td>\n",
       "      <td>0.00</td>\n",
       "      <td>0.00</td>\n",
       "      <td>0.00</td>\n",
       "      <td>0.00</td>\n",
       "      <td>38419211.81</td>\n",
       "      <td>1535295.58</td>\n",
       "      <td>0.00</td>\n",
       "      <td>0.00</td>\n",
       "      <td>0.00</td>\n",
       "      <td>0.00</td>\n",
       "      <td>15.0</td>\n",
       "      <td>39954507.39</td>\n",
       "      <td>268682.71</td>\n",
       "      <td>47.125649</td>\n",
       "      <td>23.713312</td>\n",
       "      <td>0.072500</td>\n",
       "      <td>1.841500</td>\n",
       "    </tr>\n",
       "    <tr>\n",
       "      <th>2001-01-29</th>\n",
       "      <td>193653.20</td>\n",
       "      <td>75029.51</td>\n",
       "      <td>0.00</td>\n",
       "      <td>0.00</td>\n",
       "      <td>0.00</td>\n",
       "      <td>0.00</td>\n",
       "      <td>38179628.97</td>\n",
       "      <td>1774878.42</td>\n",
       "      <td>0.00</td>\n",
       "      <td>0.00</td>\n",
       "      <td>0.00</td>\n",
       "      <td>0.00</td>\n",
       "      <td>28.5</td>\n",
       "      <td>39954507.39</td>\n",
       "      <td>268682.71</td>\n",
       "      <td>46.303571</td>\n",
       "      <td>27.376623</td>\n",
       "      <td>1.511818</td>\n",
       "      <td>38.400182</td>\n",
       "    </tr>\n",
       "    <tr>\n",
       "      <th>...</th>\n",
       "      <td>...</td>\n",
       "      <td>...</td>\n",
       "      <td>...</td>\n",
       "      <td>...</td>\n",
       "      <td>...</td>\n",
       "      <td>...</td>\n",
       "      <td>...</td>\n",
       "      <td>...</td>\n",
       "      <td>...</td>\n",
       "      <td>...</td>\n",
       "      <td>...</td>\n",
       "      <td>...</td>\n",
       "      <td>...</td>\n",
       "      <td>...</td>\n",
       "      <td>...</td>\n",
       "      <td>...</td>\n",
       "      <td>...</td>\n",
       "      <td>...</td>\n",
       "      <td>...</td>\n",
       "    </tr>\n",
       "    <tr>\n",
       "      <th>2020-11-30</th>\n",
       "      <td>5542.04</td>\n",
       "      <td>34654.88</td>\n",
       "      <td>60303.12</td>\n",
       "      <td>60478.93</td>\n",
       "      <td>88304.37</td>\n",
       "      <td>19399.37</td>\n",
       "      <td>5547783.11</td>\n",
       "      <td>14970129.93</td>\n",
       "      <td>5063039.47</td>\n",
       "      <td>10253169.73</td>\n",
       "      <td>2805310.34</td>\n",
       "      <td>1315074.81</td>\n",
       "      <td>304.5</td>\n",
       "      <td>39954507.39</td>\n",
       "      <td>268682.71</td>\n",
       "      <td>56.321537</td>\n",
       "      <td>27.510931</td>\n",
       "      <td>0.078106</td>\n",
       "      <td>1.983894</td>\n",
       "    </tr>\n",
       "    <tr>\n",
       "      <th>2020-12-07</th>\n",
       "      <td>5473.73</td>\n",
       "      <td>34723.19</td>\n",
       "      <td>60303.12</td>\n",
       "      <td>60312.51</td>\n",
       "      <td>84406.25</td>\n",
       "      <td>23463.92</td>\n",
       "      <td>5523003.27</td>\n",
       "      <td>14994909.77</td>\n",
       "      <td>5063039.47</td>\n",
       "      <td>10252697.32</td>\n",
       "      <td>2798285.43</td>\n",
       "      <td>1322572.14</td>\n",
       "      <td>306.5</td>\n",
       "      <td>39954507.40</td>\n",
       "      <td>268682.72</td>\n",
       "      <td>57.441558</td>\n",
       "      <td>25.848864</td>\n",
       "      <td>0.075455</td>\n",
       "      <td>1.916545</td>\n",
       "    </tr>\n",
       "    <tr>\n",
       "      <th>2020-12-14</th>\n",
       "      <td>0.00</td>\n",
       "      <td>7958.10</td>\n",
       "      <td>54374.95</td>\n",
       "      <td>93821.89</td>\n",
       "      <td>89063.85</td>\n",
       "      <td>23463.92</td>\n",
       "      <td>0.00</td>\n",
       "      <td>6801658.18</td>\n",
       "      <td>16499875.50</td>\n",
       "      <td>12485483.68</td>\n",
       "      <td>2844917.89</td>\n",
       "      <td>1322572.14</td>\n",
       "      <td>333.0</td>\n",
       "      <td>39954507.39</td>\n",
       "      <td>268682.71</td>\n",
       "      <td>52.524567</td>\n",
       "      <td>28.696212</td>\n",
       "      <td>0.907500</td>\n",
       "      <td>23.050500</td>\n",
       "    </tr>\n",
       "    <tr>\n",
       "      <th>2020-12-21</th>\n",
       "      <td>0.00</td>\n",
       "      <td>7958.10</td>\n",
       "      <td>42367.07</td>\n",
       "      <td>84858.59</td>\n",
       "      <td>105442.72</td>\n",
       "      <td>28056.24</td>\n",
       "      <td>0.00</td>\n",
       "      <td>6801658.18</td>\n",
       "      <td>14056405.16</td>\n",
       "      <td>13318555.30</td>\n",
       "      <td>3622545.92</td>\n",
       "      <td>2155342.83</td>\n",
       "      <td>345.5</td>\n",
       "      <td>39954507.39</td>\n",
       "      <td>268682.72</td>\n",
       "      <td>53.556006</td>\n",
       "      <td>30.579545</td>\n",
       "      <td>0.725455</td>\n",
       "      <td>18.426545</td>\n",
       "    </tr>\n",
       "    <tr>\n",
       "      <th>2020-12-28</th>\n",
       "      <td>0.00</td>\n",
       "      <td>7958.10</td>\n",
       "      <td>42368.85</td>\n",
       "      <td>84856.81</td>\n",
       "      <td>105442.72</td>\n",
       "      <td>28056.24</td>\n",
       "      <td>0.00</td>\n",
       "      <td>6801657.29</td>\n",
       "      <td>14056474.71</td>\n",
       "      <td>13318486.65</td>\n",
       "      <td>3622545.92</td>\n",
       "      <td>2155342.83</td>\n",
       "      <td>345.5</td>\n",
       "      <td>39954507.40</td>\n",
       "      <td>268682.72</td>\n",
       "      <td>50.110714</td>\n",
       "      <td>28.344102</td>\n",
       "      <td>0.749848</td>\n",
       "      <td>19.046152</td>\n",
       "    </tr>\n",
       "  </tbody>\n",
       "</table>\n",
       "<p>1044 rows × 19 columns</p>\n",
       "</div>"
      ],
      "text/plain": [
       "            area_none   area_d0   area_d1   area_d2    area_d3   area_d4  \\\n",
       "ValidEnd                                                                   \n",
       "2001-01-01  268682.71      0.00      0.00      0.00       0.00      0.00   \n",
       "2001-01-08  219867.53  48815.18      0.00      0.00       0.00      0.00   \n",
       "2001-01-15  183369.34  85313.37      0.00      0.00       0.00      0.00   \n",
       "2001-01-22  229132.27  39550.44      0.00      0.00       0.00      0.00   \n",
       "2001-01-29  193653.20  75029.51      0.00      0.00       0.00      0.00   \n",
       "...               ...       ...       ...       ...        ...       ...   \n",
       "2020-11-30    5542.04  34654.88  60303.12  60478.93   88304.37  19399.37   \n",
       "2020-12-07    5473.73  34723.19  60303.12  60312.51   84406.25  23463.92   \n",
       "2020-12-14       0.00   7958.10  54374.95  93821.89   89063.85  23463.92   \n",
       "2020-12-21       0.00   7958.10  42367.07  84858.59  105442.72  28056.24   \n",
       "2020-12-28       0.00   7958.10  42368.85  84856.81  105442.72  28056.24   \n",
       "\n",
       "            population_none  population_d0  population_d1  population_d2  \\\n",
       "ValidEnd                                                                   \n",
       "2001-01-01      39954507.39           0.00           0.00           0.00   \n",
       "2001-01-08      19148835.12    20805672.27           0.00           0.00   \n",
       "2001-01-15      19147061.90    20807445.49           0.00           0.00   \n",
       "2001-01-22      38419211.81     1535295.58           0.00           0.00   \n",
       "2001-01-29      38179628.97     1774878.42           0.00           0.00   \n",
       "...                     ...            ...            ...            ...   \n",
       "2020-11-30       5547783.11    14970129.93     5063039.47    10253169.73   \n",
       "2020-12-07       5523003.27    14994909.77     5063039.47    10252697.32   \n",
       "2020-12-14             0.00     6801658.18    16499875.50    12485483.68   \n",
       "2020-12-21             0.00     6801658.18    14056405.16    13318555.30   \n",
       "2020-12-28             0.00     6801657.29    14056474.71    13318486.65   \n",
       "\n",
       "            population_d3  population_d4   DSCI  total_population  total_area  \\\n",
       "ValidEnd                                                                        \n",
       "2001-01-01           0.00           0.00    0.0       39954507.39   268682.71   \n",
       "2001-01-08           0.00           0.00   15.5       39954507.39   268682.71   \n",
       "2001-01-15           0.00           0.00   29.5       39954507.39   268682.71   \n",
       "2001-01-22           0.00           0.00   15.0       39954507.39   268682.71   \n",
       "2001-01-29           0.00           0.00   28.5       39954507.39   268682.71   \n",
       "...                   ...            ...    ...               ...         ...   \n",
       "2020-11-30     2805310.34     1315074.81  304.5       39954507.39   268682.71   \n",
       "2020-12-07     2798285.43     1322572.14  306.5       39954507.40   268682.72   \n",
       "2020-12-14     2844917.89     1322572.14  333.0       39954507.39   268682.71   \n",
       "2020-12-21     3622545.92     2155342.83  345.5       39954507.39   268682.72   \n",
       "2020-12-28     3622545.92     2155342.83  345.5       39954507.40   268682.72   \n",
       "\n",
       "             avg_tmax   avg_tmin  total_avg_prcp_inches  total_avg_prcp_mm  \n",
       "ValidEnd                                                                    \n",
       "2001-01-01  55.340909  25.125000               0.000000           0.000000  \n",
       "2001-01-08  56.907792  26.157468               0.573636          14.570364  \n",
       "2001-01-15  45.813312  28.798701               1.895909          48.156091  \n",
       "2001-01-22  47.125649  23.713312               0.072500           1.841500  \n",
       "2001-01-29  46.303571  27.376623               1.511818          38.400182  \n",
       "...               ...        ...                    ...                ...  \n",
       "2020-11-30  56.321537  27.510931               0.078106           1.983894  \n",
       "2020-12-07  57.441558  25.848864               0.075455           1.916545  \n",
       "2020-12-14  52.524567  28.696212               0.907500          23.050500  \n",
       "2020-12-21  53.556006  30.579545               0.725455          18.426545  \n",
       "2020-12-28  50.110714  28.344102               0.749848          19.046152  \n",
       "\n",
       "[1044 rows x 19 columns]"
      ]
     },
     "execution_count": 26,
     "metadata": {},
     "output_type": "execute_result"
    }
   ],
   "source": [
    "west"
   ]
  },
  {
   "cell_type": "markdown",
   "metadata": {},
   "source": [
    "#### Son's Code"
   ]
  },
  {
   "cell_type": "code",
   "execution_count": 27,
   "metadata": {},
   "outputs": [],
   "source": [
    "#plotting Drought history\n",
    "def plot_dsci(region, name):\n",
    "    region['DSCI'].plot(figsize = (10, 8))\n",
    "    plt.xlabel(\"Year\")\n",
    "    plt.ylabel(\"DSCI (Severity Level)\")\n",
    "    plt.title(f'{name} Region Drought Severity 2001-2020')\n",
    "    plt.savefig('fig.png')"
   ]
  },
  {
   "cell_type": "code",
   "execution_count": 28,
   "metadata": {},
   "outputs": [
    {
     "data": {
      "image/png": "[encoded data removed]",
      "text/plain": [
       "<Figure size 720x576 with 1 Axes>"
      ]
     },
     "metadata": {
      "needs_background": "light"
     },
     "output_type": "display_data"
    }
   ],
   "source": [
    "plot_dsci(west, 'West')"
   ]
  },
  {
   "cell_type": "code",
   "execution_count": 29,
   "metadata": {},
   "outputs": [],
   "source": [
    "#creating function to create window size and DF input. window size or kernal size \n",
    "#is used by NN to make predictions on next iteration.\n",
    "# Code modified from Greg Hogg https://www.youtube.com/watch?v=kGdbPnMCdOg\n",
    "def df_to_X_y(df, windowsize=5):\n",
    "    df_as_np = df.to_numpy()\n",
    "    X = []\n",
    "    y = []\n",
    "    for i in range(len(df_as_np)-windowsize):\n",
    "        row = [[a] for a in df_as_np[i:i+5]]\n",
    "        X.append(row)\n",
    "        label = df_as_np[i+5]\n",
    "        y.append(label)\n",
    "    return np.array(X), np.array(y)"
   ]
  },
  {
   "cell_type": "code",
   "execution_count": 30,
   "metadata": {},
   "outputs": [
    {
     "data": {
      "text/plain": [
       "((1039, 5, 1), (1039,))"
      ]
     },
     "execution_count": 30,
     "metadata": {},
     "output_type": "execute_result"
    }
   ],
   "source": [
    "WINDOW_SIZE = 5\n",
    "X, y = df_to_X_y(west['DSCI'], WINDOW_SIZE)\n",
    "X.shape, y.shape"
   ]
  },
  {
   "cell_type": "code",
   "execution_count": 31,
   "metadata": {},
   "outputs": [],
   "source": [
    "#Creating training, val, and test set\n",
    "X_train, y_train = X[:750], y[:750]\n",
    "X_val, y_val = X[750:850], y[750:850]\n",
    "X_test, y_test = X[850:], y[850:]"
   ]
  },
  {
   "cell_type": "code",
   "execution_count": 32,
   "metadata": {},
   "outputs": [
    {
     "name": "stdout",
     "output_type": "stream",
     "text": [
      "Model: \"sequential\"\n",
      "_________________________________________________________________\n",
      "Layer (type)                 Output Shape              Param #   \n",
      "=================================================================\n",
      "lstm (LSTM)                  (None, 64)                16896     \n",
      "_________________________________________________________________\n",
      "dense (Dense)                (None, 8)                 520       \n",
      "_________________________________________________________________\n",
      "dense_1 (Dense)              (None, 1)                 9         \n",
      "=================================================================\n",
      "Total params: 17,425\n",
      "Trainable params: 17,425\n",
      "Non-trainable params: 0\n",
      "_________________________________________________________________\n"
     ]
    }
   ],
   "source": [
    "#imports\n",
    "from tensorflow.keras.models import Sequential\n",
    "from tensorflow.keras.layers import * \n",
    "from tensorflow.keras.layers import Conv1D\n",
    "from tensorflow.keras.callbacks import ModelCheckpoint\n",
    "from tensorflow.keras.losses import MeanSquaredError\n",
    "from tensorflow.keras.metrics import RootMeanSquaredError\n",
    "from tensorflow.keras.optimizers import Adam\n",
    "\n",
    "model1 = Sequential()\n",
    "model1.add(InputLayer((5,1)))\n",
    "model1.add(LSTM(64))\n",
    "model1.add(Dense(8, 'relu'))\n",
    "model1.add(Dense(1, 'linear'))\n",
    "model1.summary()"
   ]
  },
  {
   "cell_type": "code",
   "execution_count": 33,
   "metadata": {},
   "outputs": [],
   "source": [
    "#Model checkpoint, saving best model. \n",
    "#Loss function is measured on MSE and metrics used is RMSE\n",
    "cp = ModelCheckpoint('model1/', save_best_only=True)\n",
    "model1.compile(loss=MeanSquaredError(), optimizer = Adam(learning_rate=0.005), metrics=[RootMeanSquaredError()])"
   ]
  },
  {
   "cell_type": "code",
   "execution_count": 34,
   "metadata": {},
   "outputs": [
    {
     "name": "stdout",
     "output_type": "stream",
     "text": [
      "Epoch 1/10\n",
      "24/24 [==============================] - 4s 35ms/step - loss: 42249.7852 - root_mean_squared_error: 205.5475 - val_loss: 66924.7188 - val_root_mean_squared_error: 258.6981\n"
     ]
    },
    {
     "name": "stderr",
     "output_type": "stream",
     "text": [
      "WARNING:absl:Found untraced functions such as lstm_cell_layer_call_and_return_conditional_losses, lstm_cell_layer_call_fn, lstm_cell_layer_call_fn, lstm_cell_layer_call_and_return_conditional_losses, lstm_cell_layer_call_and_return_conditional_losses while saving (showing 5 of 5). These functions will not be directly callable after loading.\n"
     ]
    },
    {
     "name": "stdout",
     "output_type": "stream",
     "text": [
      "INFO:tensorflow:Assets written to: model1/assets\n"
     ]
    },
    {
     "name": "stderr",
     "output_type": "stream",
     "text": [
      "INFO:tensorflow:Assets written to: model1/assets\n"
     ]
    },
    {
     "name": "stdout",
     "output_type": "stream",
     "text": [
      "Epoch 2/10\n",
      "24/24 [==============================] - 0s 7ms/step - loss: 38227.5977 - root_mean_squared_error: 195.5188 - val_loss: 60298.3711 - val_root_mean_squared_error: 245.5573\n"
     ]
    },
    {
     "name": "stderr",
     "output_type": "stream",
     "text": [
      "WARNING:absl:Found untraced functions such as lstm_cell_layer_call_and_return_conditional_losses, lstm_cell_layer_call_fn, lstm_cell_layer_call_fn, lstm_cell_layer_call_and_return_conditional_losses, lstm_cell_layer_call_and_return_conditional_losses while saving (showing 5 of 5). These functions will not be directly callable after loading.\n"
     ]
    },
    {
     "name": "stdout",
     "output_type": "stream",
     "text": [
      "INFO:tensorflow:Assets written to: model1/assets\n"
     ]
    },
    {
     "name": "stderr",
     "output_type": "stream",
     "text": [
      "INFO:tensorflow:Assets written to: model1/assets\n"
     ]
    },
    {
     "name": "stdout",
     "output_type": "stream",
     "text": [
      "Epoch 3/10\n",
      "24/24 [==============================] - 0s 15ms/step - loss: 33277.7773 - root_mean_squared_error: 182.4220 - val_loss: 52437.2500 - val_root_mean_squared_error: 228.9918\n"
     ]
    },
    {
     "name": "stderr",
     "output_type": "stream",
     "text": [
      "WARNING:absl:Found untraced functions such as lstm_cell_layer_call_and_return_conditional_losses, lstm_cell_layer_call_fn, lstm_cell_layer_call_fn, lstm_cell_layer_call_and_return_conditional_losses, lstm_cell_layer_call_and_return_conditional_losses while saving (showing 5 of 5). These functions will not be directly callable after loading.\n"
     ]
    },
    {
     "name": "stdout",
     "output_type": "stream",
     "text": [
      "INFO:tensorflow:Assets written to: model1/assets\n"
     ]
    },
    {
     "name": "stderr",
     "output_type": "stream",
     "text": [
      "INFO:tensorflow:Assets written to: model1/assets\n"
     ]
    },
    {
     "name": "stdout",
     "output_type": "stream",
     "text": [
      "Epoch 4/10\n",
      "24/24 [==============================] - 0s 6ms/step - loss: 27427.6348 - root_mean_squared_error: 165.6129 - val_loss: 43570.8984 - val_root_mean_squared_error: 208.7364\n"
     ]
    },
    {
     "name": "stderr",
     "output_type": "stream",
     "text": [
      "WARNING:absl:Found untraced functions such as lstm_cell_layer_call_and_return_conditional_losses, lstm_cell_layer_call_fn, lstm_cell_layer_call_fn, lstm_cell_layer_call_and_return_conditional_losses, lstm_cell_layer_call_and_return_conditional_losses while saving (showing 5 of 5). These functions will not be directly callable after loading.\n"
     ]
    },
    {
     "name": "stdout",
     "output_type": "stream",
     "text": [
      "INFO:tensorflow:Assets written to: model1/assets\n"
     ]
    },
    {
     "name": "stderr",
     "output_type": "stream",
     "text": [
      "INFO:tensorflow:Assets written to: model1/assets\n"
     ]
    },
    {
     "name": "stdout",
     "output_type": "stream",
     "text": [
      "Epoch 5/10\n",
      "24/24 [==============================] - 0s 6ms/step - loss: 21352.2441 - root_mean_squared_error: 146.1241 - val_loss: 34419.6797 - val_root_mean_squared_error: 185.5254\n"
     ]
    },
    {
     "name": "stderr",
     "output_type": "stream",
     "text": [
      "WARNING:absl:Found untraced functions such as lstm_cell_layer_call_and_return_conditional_losses, lstm_cell_layer_call_fn, lstm_cell_layer_call_fn, lstm_cell_layer_call_and_return_conditional_losses, lstm_cell_layer_call_and_return_conditional_losses while saving (showing 5 of 5). These functions will not be directly callable after loading.\n"
     ]
    },
    {
     "name": "stdout",
     "output_type": "stream",
     "text": [
      "INFO:tensorflow:Assets written to: model1/assets\n"
     ]
    },
    {
     "name": "stderr",
     "output_type": "stream",
     "text": [
      "INFO:tensorflow:Assets written to: model1/assets\n"
     ]
    },
    {
     "name": "stdout",
     "output_type": "stream",
     "text": [
      "Epoch 6/10\n",
      "24/24 [==============================] - 0s 8ms/step - loss: 15633.7451 - root_mean_squared_error: 125.0350 - val_loss: 25900.6680 - val_root_mean_squared_error: 160.9368\n"
     ]
    },
    {
     "name": "stderr",
     "output_type": "stream",
     "text": [
      "WARNING:absl:Found untraced functions such as lstm_cell_layer_call_and_return_conditional_losses, lstm_cell_layer_call_fn, lstm_cell_layer_call_fn, lstm_cell_layer_call_and_return_conditional_losses, lstm_cell_layer_call_and_return_conditional_losses while saving (showing 5 of 5). These functions will not be directly callable after loading.\n"
     ]
    },
    {
     "name": "stdout",
     "output_type": "stream",
     "text": [
      "INFO:tensorflow:Assets written to: model1/assets\n"
     ]
    },
    {
     "name": "stderr",
     "output_type": "stream",
     "text": [
      "INFO:tensorflow:Assets written to: model1/assets\n"
     ]
    },
    {
     "name": "stdout",
     "output_type": "stream",
     "text": [
      "Epoch 7/10\n",
      "24/24 [==============================] - 1s 32ms/step - loss: 10778.3721 - root_mean_squared_error: 103.8189 - val_loss: 18604.8770 - val_root_mean_squared_error: 136.3997\n"
     ]
    },
    {
     "name": "stderr",
     "output_type": "stream",
     "text": [
      "WARNING:absl:Found untraced functions such as lstm_cell_layer_call_and_return_conditional_losses, lstm_cell_layer_call_fn, lstm_cell_layer_call_fn, lstm_cell_layer_call_and_return_conditional_losses, lstm_cell_layer_call_and_return_conditional_losses while saving (showing 5 of 5). These functions will not be directly callable after loading.\n"
     ]
    },
    {
     "name": "stdout",
     "output_type": "stream",
     "text": [
      "INFO:tensorflow:Assets written to: model1/assets\n"
     ]
    },
    {
     "name": "stderr",
     "output_type": "stream",
     "text": [
      "INFO:tensorflow:Assets written to: model1/assets\n"
     ]
    },
    {
     "name": "stdout",
     "output_type": "stream",
     "text": [
      "Epoch 8/10\n",
      "24/24 [==============================] - 0s 7ms/step - loss: 7124.5815 - root_mean_squared_error: 84.4072 - val_loss: 12826.8076 - val_root_mean_squared_error: 113.2555\n"
     ]
    },
    {
     "name": "stderr",
     "output_type": "stream",
     "text": [
      "WARNING:absl:Found untraced functions such as lstm_cell_layer_call_and_return_conditional_losses, lstm_cell_layer_call_fn, lstm_cell_layer_call_fn, lstm_cell_layer_call_and_return_conditional_losses, lstm_cell_layer_call_and_return_conditional_losses while saving (showing 5 of 5). These functions will not be directly callable after loading.\n"
     ]
    },
    {
     "name": "stdout",
     "output_type": "stream",
     "text": [
      "INFO:tensorflow:Assets written to: model1/assets\n"
     ]
    },
    {
     "name": "stderr",
     "output_type": "stream",
     "text": [
      "INFO:tensorflow:Assets written to: model1/assets\n"
     ]
    },
    {
     "name": "stdout",
     "output_type": "stream",
     "text": [
      "Epoch 9/10\n",
      "24/24 [==============================] - 0s 12ms/step - loss: 4608.3052 - root_mean_squared_error: 67.8845 - val_loss: 8962.2314 - val_root_mean_squared_error: 94.6691\n"
     ]
    },
    {
     "name": "stderr",
     "output_type": "stream",
     "text": [
      "WARNING:absl:Found untraced functions such as lstm_cell_layer_call_and_return_conditional_losses, lstm_cell_layer_call_fn, lstm_cell_layer_call_fn, lstm_cell_layer_call_and_return_conditional_losses, lstm_cell_layer_call_and_return_conditional_losses while saving (showing 5 of 5). These functions will not be directly callable after loading.\n"
     ]
    },
    {
     "name": "stdout",
     "output_type": "stream",
     "text": [
      "INFO:tensorflow:Assets written to: model1/assets\n"
     ]
    },
    {
     "name": "stderr",
     "output_type": "stream",
     "text": [
      "INFO:tensorflow:Assets written to: model1/assets\n"
     ]
    },
    {
     "name": "stdout",
     "output_type": "stream",
     "text": [
      "Epoch 10/10\n",
      "24/24 [==============================] - 0s 10ms/step - loss: 3157.8044 - root_mean_squared_error: 56.1943 - val_loss: 6505.5474 - val_root_mean_squared_error: 80.6570\n"
     ]
    },
    {
     "name": "stderr",
     "output_type": "stream",
     "text": [
      "WARNING:absl:Found untraced functions such as lstm_cell_layer_call_and_return_conditional_losses, lstm_cell_layer_call_fn, lstm_cell_layer_call_fn, lstm_cell_layer_call_and_return_conditional_losses, lstm_cell_layer_call_and_return_conditional_losses while saving (showing 5 of 5). These functions will not be directly callable after loading.\n"
     ]
    },
    {
     "name": "stdout",
     "output_type": "stream",
     "text": [
      "INFO:tensorflow:Assets written to: model1/assets\n"
     ]
    },
    {
     "name": "stderr",
     "output_type": "stream",
     "text": [
      "INFO:tensorflow:Assets written to: model1/assets\n"
     ]
    }
   ],
   "source": [
    "#Saving history to view loss\n",
    "history = (model1.fit(X_train, y_train, validation_data=(X_val, y_val), epochs=10, callbacks=[cp]))"
   ]
  },
  {
   "cell_type": "code",
   "execution_count": 35,
   "metadata": {},
   "outputs": [
    {
     "data": {
      "text/html": [
       "<div>\n",
       "<style scoped>\n",
       "    .dataframe tbody tr th:only-of-type {\n",
       "        vertical-align: middle;\n",
       "    }\n",
       "\n",
       "    .dataframe tbody tr th {\n",
       "        vertical-align: top;\n",
       "    }\n",
       "\n",
       "    .dataframe thead th {\n",
       "        text-align: right;\n",
       "    }\n",
       "</style>\n",
       "<table border=\"1\" class=\"dataframe\">\n",
       "  <thead>\n",
       "    <tr style=\"text-align: right;\">\n",
       "      <th></th>\n",
       "      <th>loss</th>\n",
       "      <th>root_mean_squared_error</th>\n",
       "      <th>val_loss</th>\n",
       "      <th>val_root_mean_squared_error</th>\n",
       "    </tr>\n",
       "  </thead>\n",
       "  <tbody>\n",
       "    <tr>\n",
       "      <th>0</th>\n",
       "      <td>42249.785156</td>\n",
       "      <td>205.547531</td>\n",
       "      <td>66924.718750</td>\n",
       "      <td>258.698120</td>\n",
       "    </tr>\n",
       "    <tr>\n",
       "      <th>1</th>\n",
       "      <td>38227.597656</td>\n",
       "      <td>195.518784</td>\n",
       "      <td>60298.371094</td>\n",
       "      <td>245.557266</td>\n",
       "    </tr>\n",
       "    <tr>\n",
       "      <th>2</th>\n",
       "      <td>33277.777344</td>\n",
       "      <td>182.421982</td>\n",
       "      <td>52437.250000</td>\n",
       "      <td>228.991806</td>\n",
       "    </tr>\n",
       "    <tr>\n",
       "      <th>3</th>\n",
       "      <td>27427.634766</td>\n",
       "      <td>165.612900</td>\n",
       "      <td>43570.898438</td>\n",
       "      <td>208.736435</td>\n",
       "    </tr>\n",
       "    <tr>\n",
       "      <th>4</th>\n",
       "      <td>21352.244141</td>\n",
       "      <td>146.124069</td>\n",
       "      <td>34419.679688</td>\n",
       "      <td>185.525421</td>\n",
       "    </tr>\n",
       "    <tr>\n",
       "      <th>5</th>\n",
       "      <td>15633.745117</td>\n",
       "      <td>125.034973</td>\n",
       "      <td>25900.667969</td>\n",
       "      <td>160.936844</td>\n",
       "    </tr>\n",
       "    <tr>\n",
       "      <th>6</th>\n",
       "      <td>10778.372070</td>\n",
       "      <td>103.818939</td>\n",
       "      <td>18604.876953</td>\n",
       "      <td>136.399689</td>\n",
       "    </tr>\n",
       "    <tr>\n",
       "      <th>7</th>\n",
       "      <td>7124.581543</td>\n",
       "      <td>84.407234</td>\n",
       "      <td>12826.807617</td>\n",
       "      <td>113.255501</td>\n",
       "    </tr>\n",
       "    <tr>\n",
       "      <th>8</th>\n",
       "      <td>4608.305176</td>\n",
       "      <td>67.884499</td>\n",
       "      <td>8962.231445</td>\n",
       "      <td>94.669060</td>\n",
       "    </tr>\n",
       "    <tr>\n",
       "      <th>9</th>\n",
       "      <td>3157.804443</td>\n",
       "      <td>56.194344</td>\n",
       "      <td>6505.547363</td>\n",
       "      <td>80.656975</td>\n",
       "    </tr>\n",
       "  </tbody>\n",
       "</table>\n",
       "</div>"
      ],
      "text/plain": [
       "           loss  root_mean_squared_error      val_loss  \\\n",
       "0  42249.785156               205.547531  66924.718750   \n",
       "1  38227.597656               195.518784  60298.371094   \n",
       "2  33277.777344               182.421982  52437.250000   \n",
       "3  27427.634766               165.612900  43570.898438   \n",
       "4  21352.244141               146.124069  34419.679688   \n",
       "5  15633.745117               125.034973  25900.667969   \n",
       "6  10778.372070               103.818939  18604.876953   \n",
       "7   7124.581543                84.407234  12826.807617   \n",
       "8   4608.305176                67.884499   8962.231445   \n",
       "9   3157.804443                56.194344   6505.547363   \n",
       "\n",
       "   val_root_mean_squared_error  \n",
       "0                   258.698120  \n",
       "1                   245.557266  \n",
       "2                   228.991806  \n",
       "3                   208.736435  \n",
       "4                   185.525421  \n",
       "5                   160.936844  \n",
       "6                   136.399689  \n",
       "7                   113.255501  \n",
       "8                    94.669060  \n",
       "9                    80.656975  "
      ]
     },
     "execution_count": 35,
     "metadata": {},
     "output_type": "execute_result"
    }
   ],
   "source": [
    "#Creating DF for loss history\n",
    "history_df = pd.DataFrame(history.history)\n",
    "history_df"
   ]
  },
  {
   "cell_type": "code",
   "execution_count": 36,
   "metadata": {},
   "outputs": [
    {
     "data": {
      "image/png": "[encoded data removed]",
      "text/plain": [
       "<Figure size 432x288 with 1 Axes>"
      ]
     },
     "metadata": {
      "needs_background": "light"
     },
     "output_type": "display_data"
    }
   ],
   "source": [
    "#plotting loss\n",
    "history_df.filter(like='loss').plot()\n",
    "plt.title(\"LSTM MSE\", fontsize=16)\n",
    "plt.legend(loc='uppesr left')\n",
    "plt.savefig('fig2.png')"
   ]
  },
  {
   "cell_type": "code",
   "execution_count": 37,
   "metadata": {},
   "outputs": [],
   "source": [
    "from tensorflow.keras.models import load_model\n",
    "model1 = load_model(\"model1/\")"
   ]
  },
  {
   "cell_type": "code",
   "execution_count": 38,
   "metadata": {},
   "outputs": [
    {
     "data": {
      "text/html": [
       "<div>\n",
       "<style scoped>\n",
       "    .dataframe tbody tr th:only-of-type {\n",
       "        vertical-align: middle;\n",
       "    }\n",
       "\n",
       "    .dataframe tbody tr th {\n",
       "        vertical-align: top;\n",
       "    }\n",
       "\n",
       "    .dataframe thead th {\n",
       "        text-align: right;\n",
       "    }\n",
       "</style>\n",
       "<table border=\"1\" class=\"dataframe\">\n",
       "  <thead>\n",
       "    <tr style=\"text-align: right;\">\n",
       "      <th></th>\n",
       "      <th>Train Predictions</th>\n",
       "      <th>Actuals</th>\n",
       "    </tr>\n",
       "  </thead>\n",
       "  <tbody>\n",
       "    <tr>\n",
       "      <th>0</th>\n",
       "      <td>28.793245</td>\n",
       "      <td>25.5</td>\n",
       "    </tr>\n",
       "    <tr>\n",
       "      <th>1</th>\n",
       "      <td>31.577499</td>\n",
       "      <td>34.0</td>\n",
       "    </tr>\n",
       "    <tr>\n",
       "      <th>2</th>\n",
       "      <td>38.771011</td>\n",
       "      <td>37.0</td>\n",
       "    </tr>\n",
       "    <tr>\n",
       "      <th>3</th>\n",
       "      <td>42.849777</td>\n",
       "      <td>32.5</td>\n",
       "    </tr>\n",
       "    <tr>\n",
       "      <th>4</th>\n",
       "      <td>35.478924</td>\n",
       "      <td>36.0</td>\n",
       "    </tr>\n",
       "    <tr>\n",
       "      <th>...</th>\n",
       "      <td>...</td>\n",
       "      <td>...</td>\n",
       "    </tr>\n",
       "    <tr>\n",
       "      <th>745</th>\n",
       "      <td>226.539474</td>\n",
       "      <td>379.5</td>\n",
       "    </tr>\n",
       "    <tr>\n",
       "      <th>746</th>\n",
       "      <td>226.539490</td>\n",
       "      <td>380.0</td>\n",
       "    </tr>\n",
       "    <tr>\n",
       "      <th>747</th>\n",
       "      <td>226.539490</td>\n",
       "      <td>380.5</td>\n",
       "    </tr>\n",
       "    <tr>\n",
       "      <th>748</th>\n",
       "      <td>226.539505</td>\n",
       "      <td>382.0</td>\n",
       "    </tr>\n",
       "    <tr>\n",
       "      <th>749</th>\n",
       "      <td>226.539551</td>\n",
       "      <td>378.5</td>\n",
       "    </tr>\n",
       "  </tbody>\n",
       "</table>\n",
       "<p>750 rows × 2 columns</p>\n",
       "</div>"
      ],
      "text/plain": [
       "     Train Predictions  Actuals\n",
       "0            28.793245     25.5\n",
       "1            31.577499     34.0\n",
       "2            38.771011     37.0\n",
       "3            42.849777     32.5\n",
       "4            35.478924     36.0\n",
       "..                 ...      ...\n",
       "745         226.539474    379.5\n",
       "746         226.539490    380.0\n",
       "747         226.539490    380.5\n",
       "748         226.539505    382.0\n",
       "749         226.539551    378.5\n",
       "\n",
       "[750 rows x 2 columns]"
      ]
     },
     "execution_count": 38,
     "metadata": {},
     "output_type": "execute_result"
    }
   ],
   "source": [
    "#Predictions\n",
    "train_predictions = model1.predict(X_train).flatten()\n",
    "train_results = pd.DataFrame(data={'Train Predictions':train_predictions, 'Actuals': y_train})\n",
    "train_results"
   ]
  },
  {
   "cell_type": "code",
   "execution_count": 39,
   "metadata": {},
   "outputs": [
    {
     "data": {
      "image/png": "[encoded data removed]",
      "text/plain": [
       "<Figure size 720x576 with 1 Axes>"
      ]
     },
     "metadata": {
      "needs_background": "light"
     },
     "output_type": "display_data"
    }
   ],
   "source": [
    "#plot pred vs actuals\n",
    "import matplotlib.pyplot as plt\n",
    "plt.figure(figsize = (10,8))\n",
    "plt.plot(train_results['Train Predictions'][:400], label = 'DSCI Predictions')\n",
    "plt.plot(train_results['Actuals'][:400], label = \"DSCI Actuals\")\n",
    "plt.xlabel(\"Weeks\", fontsize=14)\n",
    "plt.ylabel(\"DSCI\", fontsize=14)\n",
    "plt.title(\"DSCI Predicitions vs Actuals\", fontsize=16)\n",
    "plt.legend(loc='upper left')\n",
    "plt.savefig('fig1.png')"
   ]
  },
  {
   "cell_type": "code",
   "execution_count": 40,
   "metadata": {},
   "outputs": [
    {
     "data": {
      "text/html": [
       "<div>\n",
       "<style scoped>\n",
       "    .dataframe tbody tr th:only-of-type {\n",
       "        vertical-align: middle;\n",
       "    }\n",
       "\n",
       "    .dataframe tbody tr th {\n",
       "        vertical-align: top;\n",
       "    }\n",
       "\n",
       "    .dataframe thead th {\n",
       "        text-align: right;\n",
       "    }\n",
       "</style>\n",
       "<table border=\"1\" class=\"dataframe\">\n",
       "  <thead>\n",
       "    <tr style=\"text-align: right;\">\n",
       "      <th></th>\n",
       "      <th>Val Predictions</th>\n",
       "      <th>Actuals</th>\n",
       "    </tr>\n",
       "  </thead>\n",
       "  <tbody>\n",
       "    <tr>\n",
       "      <th>0</th>\n",
       "      <td>226.539459</td>\n",
       "      <td>370.5</td>\n",
       "    </tr>\n",
       "    <tr>\n",
       "      <th>1</th>\n",
       "      <td>226.539124</td>\n",
       "      <td>370.5</td>\n",
       "    </tr>\n",
       "    <tr>\n",
       "      <th>2</th>\n",
       "      <td>226.539124</td>\n",
       "      <td>370.5</td>\n",
       "    </tr>\n",
       "    <tr>\n",
       "      <th>3</th>\n",
       "      <td>226.539093</td>\n",
       "      <td>370.5</td>\n",
       "    </tr>\n",
       "    <tr>\n",
       "      <th>4</th>\n",
       "      <td>226.539124</td>\n",
       "      <td>370.0</td>\n",
       "    </tr>\n",
       "    <tr>\n",
       "      <th>...</th>\n",
       "      <td>...</td>\n",
       "      <td>...</td>\n",
       "    </tr>\n",
       "    <tr>\n",
       "      <th>95</th>\n",
       "      <td>19.604027</td>\n",
       "      <td>19.5</td>\n",
       "    </tr>\n",
       "    <tr>\n",
       "      <th>96</th>\n",
       "      <td>19.604029</td>\n",
       "      <td>19.5</td>\n",
       "    </tr>\n",
       "    <tr>\n",
       "      <th>97</th>\n",
       "      <td>19.604029</td>\n",
       "      <td>19.5</td>\n",
       "    </tr>\n",
       "    <tr>\n",
       "      <th>98</th>\n",
       "      <td>19.604029</td>\n",
       "      <td>19.5</td>\n",
       "    </tr>\n",
       "    <tr>\n",
       "      <th>99</th>\n",
       "      <td>19.604029</td>\n",
       "      <td>19.5</td>\n",
       "    </tr>\n",
       "  </tbody>\n",
       "</table>\n",
       "<p>100 rows × 2 columns</p>\n",
       "</div>"
      ],
      "text/plain": [
       "    Val Predictions  Actuals\n",
       "0        226.539459    370.5\n",
       "1        226.539124    370.5\n",
       "2        226.539124    370.5\n",
       "3        226.539093    370.5\n",
       "4        226.539124    370.0\n",
       "..              ...      ...\n",
       "95        19.604027     19.5\n",
       "96        19.604029     19.5\n",
       "97        19.604029     19.5\n",
       "98        19.604029     19.5\n",
       "99        19.604029     19.5\n",
       "\n",
       "[100 rows x 2 columns]"
      ]
     },
     "execution_count": 40,
     "metadata": {},
     "output_type": "execute_result"
    }
   ],
   "source": [
    "#Validation set results\n",
    "val_predictions = model1.predict(X_val).flatten()\n",
    "val_results = pd.DataFrame(data={'Val Predictions':val_predictions, 'Actuals': y_val})\n",
    "val_results"
   ]
  },
  {
   "cell_type": "code",
   "execution_count": 41,
   "metadata": {},
   "outputs": [
    {
     "data": {
      "image/png": "[encoded data removed]",
      "text/plain": [
       "<Figure size 720x576 with 1 Axes>"
      ]
     },
     "metadata": {
      "needs_background": "light"
     },
     "output_type": "display_data"
    }
   ],
   "source": [
    "#plot validation set \n",
    "plt.figure(figsize = (10,8))\n",
    "plt.plot(val_results['Val Predictions'], label = 'DSCI Predictions')\n",
    "plt.plot(val_results['Actuals'], label = 'DSCI Actuals')\n",
    "plt.xlabel(\"Weeks\", fontsize=14)\n",
    "plt.ylabel(\"DSCI\", fontsize=14)\n",
    "plt.title(\"DSCI Predicitions vs Actuals, Validation\", fontsize=16)\n",
    "plt.legend()\n",
    "plt.savefig('fig3.png')"
   ]
  },
  {
   "cell_type": "code",
   "execution_count": 42,
   "metadata": {},
   "outputs": [
    {
     "data": {
      "text/html": [
       "<div>\n",
       "<style scoped>\n",
       "    .dataframe tbody tr th:only-of-type {\n",
       "        vertical-align: middle;\n",
       "    }\n",
       "\n",
       "    .dataframe tbody tr th {\n",
       "        vertical-align: top;\n",
       "    }\n",
       "\n",
       "    .dataframe thead th {\n",
       "        text-align: right;\n",
       "    }\n",
       "</style>\n",
       "<table border=\"1\" class=\"dataframe\">\n",
       "  <thead>\n",
       "    <tr style=\"text-align: right;\">\n",
       "      <th></th>\n",
       "      <th>Test Predictions</th>\n",
       "      <th>Actuals</th>\n",
       "    </tr>\n",
       "  </thead>\n",
       "  <tbody>\n",
       "    <tr>\n",
       "      <th>0</th>\n",
       "      <td>226.539459</td>\n",
       "      <td>370.5</td>\n",
       "    </tr>\n",
       "    <tr>\n",
       "      <th>1</th>\n",
       "      <td>226.539124</td>\n",
       "      <td>370.5</td>\n",
       "    </tr>\n",
       "    <tr>\n",
       "      <th>2</th>\n",
       "      <td>226.539124</td>\n",
       "      <td>370.5</td>\n",
       "    </tr>\n",
       "    <tr>\n",
       "      <th>3</th>\n",
       "      <td>226.539093</td>\n",
       "      <td>370.5</td>\n",
       "    </tr>\n",
       "    <tr>\n",
       "      <th>4</th>\n",
       "      <td>226.539124</td>\n",
       "      <td>370.0</td>\n",
       "    </tr>\n",
       "    <tr>\n",
       "      <th>...</th>\n",
       "      <td>...</td>\n",
       "      <td>...</td>\n",
       "    </tr>\n",
       "    <tr>\n",
       "      <th>95</th>\n",
       "      <td>19.604027</td>\n",
       "      <td>19.5</td>\n",
       "    </tr>\n",
       "    <tr>\n",
       "      <th>96</th>\n",
       "      <td>19.604029</td>\n",
       "      <td>19.5</td>\n",
       "    </tr>\n",
       "    <tr>\n",
       "      <th>97</th>\n",
       "      <td>19.604029</td>\n",
       "      <td>19.5</td>\n",
       "    </tr>\n",
       "    <tr>\n",
       "      <th>98</th>\n",
       "      <td>19.604029</td>\n",
       "      <td>19.5</td>\n",
       "    </tr>\n",
       "    <tr>\n",
       "      <th>99</th>\n",
       "      <td>19.604029</td>\n",
       "      <td>19.5</td>\n",
       "    </tr>\n",
       "  </tbody>\n",
       "</table>\n",
       "<p>100 rows × 2 columns</p>\n",
       "</div>"
      ],
      "text/plain": [
       "    Test Predictions  Actuals\n",
       "0         226.539459    370.5\n",
       "1         226.539124    370.5\n",
       "2         226.539124    370.5\n",
       "3         226.539093    370.5\n",
       "4         226.539124    370.0\n",
       "..               ...      ...\n",
       "95         19.604027     19.5\n",
       "96         19.604029     19.5\n",
       "97         19.604029     19.5\n",
       "98         19.604029     19.5\n",
       "99         19.604029     19.5\n",
       "\n",
       "[100 rows x 2 columns]"
      ]
     },
     "execution_count": 42,
     "metadata": {},
     "output_type": "execute_result"
    }
   ],
   "source": [
    "test_predictions = model1.predict(X_test).flatten()\n",
    "test_results = pd.DataFrame(data={'Test Predictions':val_predictions, 'Actuals': y_val})\n",
    "test_results"
   ]
  },
  {
   "cell_type": "code",
   "execution_count": 43,
   "metadata": {},
   "outputs": [
    {
     "data": {
      "image/png": "[encoded data removed]",
      "text/plain": [
       "<Figure size 720x576 with 1 Axes>"
      ]
     },
     "metadata": {
      "needs_background": "light"
     },
     "output_type": "display_data"
    }
   ],
   "source": [
    "plt.figure(figsize = (10,8))\n",
    "plt.plot(test_results['Test Predictions'], label = 'DSCI Predictions')\n",
    "plt.plot(test_results['Actuals'], label = 'DSCI Actuals')\n",
    "plt.xlabel(\"Weeks\", fontsize=14)\n",
    "plt.ylabel(\"DSCI\", fontsize=14)\n",
    "plt.title(\"DSCI Predicitions vs Actuals, Test Data\", fontsize=16)\n",
    "plt.legend()\n",
    "plt.savefig('fig4.png')"
   ]
  },
  {
   "cell_type": "code",
   "execution_count": 44,
   "metadata": {},
   "outputs": [],
   "source": [
    "#plotting predictions \n",
    "from sklearn.metrics import mean_squared_error as mse\n",
    "\n",
    "def plot_predictions1(fignum, model, X, y, start = 0, end=100):\n",
    "    predictions = model.predict(X).flatten()\n",
    "    df = pd.DataFrame(data={'Predictions':predictions, 'Actuals':y})\n",
    "    plt.figure(figsize = (10,8))\n",
    "    plt.plot(df['Predictions'][start:end], label = 'DSCI Predictions')\n",
    "    plt.plot(df['Actuals'][start:end], label = 'DSCI Actuals' )\n",
    "    plt.xlabel(\"Weeks\", fontsize=14)\n",
    "    plt.ylabel(\"DSCI\", fontsize=14)\n",
    "    plt.title(\"DSCI Predicitions vs Actuals\", fontsize=16)\n",
    "    plt.legend()\n",
    "    plt.savefig(f'fig{str(fignum)}.png')\n",
    "    return df, mse(y, predictions)"
   ]
  },
  {
   "cell_type": "code",
   "execution_count": 45,
   "metadata": {},
   "outputs": [
    {
     "data": {
      "text/plain": [
       "(     Predictions  Actuals\n",
       " 0      19.604029     19.5\n",
       " 1      19.604029     19.5\n",
       " 2      19.604029     19.5\n",
       " 3      19.604029     19.5\n",
       " 4      19.604029     19.5\n",
       " ..           ...      ...\n",
       " 184   226.442215    304.5\n",
       " 185   226.511841    306.5\n",
       " 186   226.515442    333.0\n",
       " 187   226.533569    345.5\n",
       " 188   226.536591    345.5\n",
       " \n",
       " [189 rows x 2 columns],\n",
       " 535.461774283853)"
      ]
     },
     "execution_count": 45,
     "metadata": {},
     "output_type": "execute_result"
    },
    {
     "data": {
      "image/png": "[encoded data removed]",
      "text/plain": [
       "<Figure size 720x576 with 1 Axes>"
      ]
     },
     "metadata": {
      "needs_background": "light"
     },
     "output_type": "display_data"
    }
   ],
   "source": [
    "plot_predictions1(5, model1, X_test, y_test)"
   ]
  },
  {
   "cell_type": "code",
   "execution_count": 46,
   "metadata": {},
   "outputs": [
    {
     "name": "stdout",
     "output_type": "stream",
     "text": [
      "Model: \"sequential_1\"\n",
      "_________________________________________________________________\n",
      "Layer (type)                 Output Shape              Param #   \n",
      "=================================================================\n",
      "conv1d (Conv1D)              (None, 4, 64)             192       \n",
      "_________________________________________________________________\n",
      "flatten (Flatten)            (None, 256)               0         \n",
      "_________________________________________________________________\n",
      "dense_2 (Dense)              (None, 8)                 2056      \n",
      "_________________________________________________________________\n",
      "dense_3 (Dense)              (None, 1)                 9         \n",
      "=================================================================\n",
      "Total params: 2,257\n",
      "Trainable params: 2,257\n",
      "Non-trainable params: 0\n",
      "_________________________________________________________________\n",
      "Model: \"sequential_1\"\n",
      "_________________________________________________________________\n",
      "Layer (type)                 Output Shape              Param #   \n",
      "=================================================================\n",
      "conv1d (Conv1D)              (None, 4, 64)             192       \n",
      "_________________________________________________________________\n",
      "flatten (Flatten)            (None, 256)               0         \n",
      "_________________________________________________________________\n",
      "dense_2 (Dense)              (None, 8)                 2056      \n",
      "_________________________________________________________________\n",
      "dense_3 (Dense)              (None, 1)                 9         \n",
      "=================================================================\n",
      "Total params: 2,257\n",
      "Trainable params: 2,257\n",
      "Non-trainable params: 0\n",
      "_________________________________________________________________\n"
     ]
    }
   ],
   "source": [
    "model2 = Sequential()\n",
    "model2.add(InputLayer((5,1)))\n",
    "model2.add(Conv1D(64, kernel_size=2))\n",
    "model2.add(Flatten())\n",
    "model2.add(Dense(8, 'relu'))\n",
    "model2.add(Dense(1, 'linear'))\n",
    "model2.summary()\n",
    "\n",
    "model2.summary()"
   ]
  },
  {
   "cell_type": "code",
   "execution_count": 47,
   "metadata": {},
   "outputs": [],
   "source": [
    "cp2 = ModelCheckpoint('model2/', save_best_only=True)\n",
    "model2.compile(loss=MeanSquaredError(), optimizer = Adam(learning_rate=0.005), metrics=[RootMeanSquaredError()])"
   ]
  },
  {
   "cell_type": "code",
   "execution_count": 48,
   "metadata": {},
   "outputs": [
    {
     "name": "stdout",
     "output_type": "stream",
     "text": [
      "Epoch 1/10\n",
      "24/24 [==============================] - 2s 18ms/step - loss: 5042.3530 - root_mean_squared_error: 71.0095 - val_loss: 1254.2239 - val_root_mean_squared_error: 35.4150\n",
      "INFO:tensorflow:Assets written to: model2/assets\n"
     ]
    },
    {
     "name": "stderr",
     "output_type": "stream",
     "text": [
      "INFO:tensorflow:Assets written to: model2/assets\n"
     ]
    },
    {
     "name": "stdout",
     "output_type": "stream",
     "text": [
      "Epoch 2/10\n",
      "24/24 [==============================] - 0s 6ms/step - loss: 430.8938 - root_mean_squared_error: 20.7580 - val_loss: 655.7206 - val_root_mean_squared_error: 25.6070\n",
      "INFO:tensorflow:Assets written to: model2/assets\n"
     ]
    },
    {
     "name": "stderr",
     "output_type": "stream",
     "text": [
      "INFO:tensorflow:Assets written to: model2/assets\n"
     ]
    },
    {
     "name": "stdout",
     "output_type": "stream",
     "text": [
      "Epoch 3/10\n",
      "24/24 [==============================] - 0s 5ms/step - loss: 268.2562 - root_mean_squared_error: 16.3785 - val_loss: 266.0456 - val_root_mean_squared_error: 16.3109\n",
      "INFO:tensorflow:Assets written to: model2/assets\n"
     ]
    },
    {
     "name": "stderr",
     "output_type": "stream",
     "text": [
      "INFO:tensorflow:Assets written to: model2/assets\n"
     ]
    },
    {
     "name": "stdout",
     "output_type": "stream",
     "text": [
      "Epoch 4/10\n",
      "24/24 [==============================] - 0s 6ms/step - loss: 234.0432 - root_mean_squared_error: 15.2985 - val_loss: 279.0562 - val_root_mean_squared_error: 16.7050\n",
      "Epoch 5/10\n",
      "24/24 [==============================] - 0s 8ms/step - loss: 214.1099 - root_mean_squared_error: 14.6325 - val_loss: 217.7237 - val_root_mean_squared_error: 14.7555\n",
      "INFO:tensorflow:Assets written to: model2/assets\n"
     ]
    },
    {
     "name": "stderr",
     "output_type": "stream",
     "text": [
      "INFO:tensorflow:Assets written to: model2/assets\n"
     ]
    },
    {
     "name": "stdout",
     "output_type": "stream",
     "text": [
      "Epoch 6/10\n",
      "24/24 [==============================] - 0s 5ms/step - loss: 194.3994 - root_mean_squared_error: 13.9427 - val_loss: 290.9766 - val_root_mean_squared_error: 17.0580\n",
      "Epoch 7/10\n",
      "24/24 [==============================] - 0s 7ms/step - loss: 176.1201 - root_mean_squared_error: 13.2710 - val_loss: 200.4177 - val_root_mean_squared_error: 14.1569\n",
      "INFO:tensorflow:Assets written to: model2/assets\n"
     ]
    },
    {
     "name": "stderr",
     "output_type": "stream",
     "text": [
      "INFO:tensorflow:Assets written to: model2/assets\n"
     ]
    },
    {
     "name": "stdout",
     "output_type": "stream",
     "text": [
      "Epoch 8/10\n",
      "24/24 [==============================] - 0s 5ms/step - loss: 195.4980 - root_mean_squared_error: 13.9821 - val_loss: 361.2017 - val_root_mean_squared_error: 19.0053\n",
      "Epoch 9/10\n",
      "24/24 [==============================] - 0s 5ms/step - loss: 151.2532 - root_mean_squared_error: 12.2985 - val_loss: 168.9374 - val_root_mean_squared_error: 12.9976\n",
      "INFO:tensorflow:Assets written to: model2/assets\n"
     ]
    },
    {
     "name": "stderr",
     "output_type": "stream",
     "text": [
      "INFO:tensorflow:Assets written to: model2/assets\n"
     ]
    },
    {
     "name": "stdout",
     "output_type": "stream",
     "text": [
      "Epoch 10/10\n",
      "24/24 [==============================] - 0s 7ms/step - loss: 135.4673 - root_mean_squared_error: 11.6390 - val_loss: 186.8507 - val_root_mean_squared_error: 13.6693\n"
     ]
    }
   ],
   "source": [
    "history = (model2.fit(X_train, y_train, validation_data=(X_val, y_val), epochs=10, callbacks=[cp2]))"
   ]
  },
  {
   "cell_type": "code",
   "execution_count": 49,
   "metadata": {},
   "outputs": [
    {
     "data": {
      "text/html": [
       "<div>\n",
       "<style scoped>\n",
       "    .dataframe tbody tr th:only-of-type {\n",
       "        vertical-align: middle;\n",
       "    }\n",
       "\n",
       "    .dataframe tbody tr th {\n",
       "        vertical-align: top;\n",
       "    }\n",
       "\n",
       "    .dataframe thead th {\n",
       "        text-align: right;\n",
       "    }\n",
       "</style>\n",
       "<table border=\"1\" class=\"dataframe\">\n",
       "  <thead>\n",
       "    <tr style=\"text-align: right;\">\n",
       "      <th></th>\n",
       "      <th>loss</th>\n",
       "      <th>root_mean_squared_error</th>\n",
       "      <th>val_loss</th>\n",
       "      <th>val_root_mean_squared_error</th>\n",
       "    </tr>\n",
       "  </thead>\n",
       "  <tbody>\n",
       "    <tr>\n",
       "      <th>0</th>\n",
       "      <td>5042.353027</td>\n",
       "      <td>71.009529</td>\n",
       "      <td>1254.223877</td>\n",
       "      <td>35.415024</td>\n",
       "    </tr>\n",
       "    <tr>\n",
       "      <th>1</th>\n",
       "      <td>430.893829</td>\n",
       "      <td>20.757982</td>\n",
       "      <td>655.720642</td>\n",
       "      <td>25.607042</td>\n",
       "    </tr>\n",
       "    <tr>\n",
       "      <th>2</th>\n",
       "      <td>268.256226</td>\n",
       "      <td>16.378529</td>\n",
       "      <td>266.045593</td>\n",
       "      <td>16.310904</td>\n",
       "    </tr>\n",
       "    <tr>\n",
       "      <th>3</th>\n",
       "      <td>234.043182</td>\n",
       "      <td>15.298470</td>\n",
       "      <td>279.056152</td>\n",
       "      <td>16.704973</td>\n",
       "    </tr>\n",
       "    <tr>\n",
       "      <th>4</th>\n",
       "      <td>214.109894</td>\n",
       "      <td>14.632494</td>\n",
       "      <td>217.723694</td>\n",
       "      <td>14.755464</td>\n",
       "    </tr>\n",
       "    <tr>\n",
       "      <th>5</th>\n",
       "      <td>194.399399</td>\n",
       "      <td>13.942719</td>\n",
       "      <td>290.976593</td>\n",
       "      <td>17.058037</td>\n",
       "    </tr>\n",
       "    <tr>\n",
       "      <th>6</th>\n",
       "      <td>176.120102</td>\n",
       "      <td>13.271025</td>\n",
       "      <td>200.417694</td>\n",
       "      <td>14.156896</td>\n",
       "    </tr>\n",
       "    <tr>\n",
       "      <th>7</th>\n",
       "      <td>195.498047</td>\n",
       "      <td>13.982061</td>\n",
       "      <td>361.201691</td>\n",
       "      <td>19.005306</td>\n",
       "    </tr>\n",
       "    <tr>\n",
       "      <th>8</th>\n",
       "      <td>151.253189</td>\n",
       "      <td>12.298504</td>\n",
       "      <td>168.937439</td>\n",
       "      <td>12.997594</td>\n",
       "    </tr>\n",
       "    <tr>\n",
       "      <th>9</th>\n",
       "      <td>135.467285</td>\n",
       "      <td>11.639041</td>\n",
       "      <td>186.850677</td>\n",
       "      <td>13.669333</td>\n",
       "    </tr>\n",
       "  </tbody>\n",
       "</table>\n",
       "</div>"
      ],
      "text/plain": [
       "          loss  root_mean_squared_error     val_loss  \\\n",
       "0  5042.353027                71.009529  1254.223877   \n",
       "1   430.893829                20.757982   655.720642   \n",
       "2   268.256226                16.378529   266.045593   \n",
       "3   234.043182                15.298470   279.056152   \n",
       "4   214.109894                14.632494   217.723694   \n",
       "5   194.399399                13.942719   290.976593   \n",
       "6   176.120102                13.271025   200.417694   \n",
       "7   195.498047                13.982061   361.201691   \n",
       "8   151.253189                12.298504   168.937439   \n",
       "9   135.467285                11.639041   186.850677   \n",
       "\n",
       "   val_root_mean_squared_error  \n",
       "0                    35.415024  \n",
       "1                    25.607042  \n",
       "2                    16.310904  \n",
       "3                    16.704973  \n",
       "4                    14.755464  \n",
       "5                    17.058037  \n",
       "6                    14.156896  \n",
       "7                    19.005306  \n",
       "8                    12.997594  \n",
       "9                    13.669333  "
      ]
     },
     "execution_count": 49,
     "metadata": {},
     "output_type": "execute_result"
    }
   ],
   "source": [
    "history_df = pd.DataFrame(history.history)\n",
    "history_df"
   ]
  },
  {
   "cell_type": "code",
   "execution_count": 50,
   "metadata": {},
   "outputs": [
    {
     "data": {
      "image/png": "[encoded data removed]",
      "text/plain": [
       "<Figure size 432x288 with 1 Axes>"
      ]
     },
     "metadata": {
      "needs_background": "light"
     },
     "output_type": "display_data"
    }
   ],
   "source": [
    "history_df.filter(like='loss').plot();\n",
    "plt.title(\"CNN MSE Loss\", fontsize=16)\n",
    "plt.savefig('fig6.png')"
   ]
  },
  {
   "cell_type": "code",
   "execution_count": 51,
   "metadata": {},
   "outputs": [
    {
     "name": "stdout",
     "output_type": "stream",
     "text": [
      "Model: \"sequential_2\"\n",
      "_________________________________________________________________\n",
      "Layer (type)                 Output Shape              Param #   \n",
      "=================================================================\n",
      "gru (GRU)                    (None, 64)                12864     \n",
      "_________________________________________________________________\n",
      "dense_4 (Dense)              (None, 8)                 520       \n",
      "_________________________________________________________________\n",
      "dense_5 (Dense)              (None, 1)                 9         \n",
      "=================================================================\n",
      "Total params: 13,393\n",
      "Trainable params: 13,393\n",
      "Non-trainable params: 0\n",
      "_________________________________________________________________\n"
     ]
    }
   ],
   "source": [
    "model3 = Sequential()\n",
    "model3.add(InputLayer((5,1)))\n",
    "model3.add(GRU(64))\n",
    "model3.add(Dense(8, 'relu'))\n",
    "model3.add(Dense(1, 'linear'))\n",
    "model3.summary()"
   ]
  },
  {
   "cell_type": "code",
   "execution_count": 52,
   "metadata": {},
   "outputs": [],
   "source": [
    "cp3 = ModelCheckpoint('model3/', save_best_only=True)\n",
    "model3.compile(loss=MeanSquaredError(), optimizer = Adam(learning_rate=0.005), metrics=[RootMeanSquaredError()])"
   ]
  },
  {
   "cell_type": "code",
   "execution_count": 53,
   "metadata": {},
   "outputs": [
    {
     "name": "stdout",
     "output_type": "stream",
     "text": [
      "Epoch 1/10\n",
      "24/24 [==============================] - 7s 35ms/step - loss: 39594.5664 - root_mean_squared_error: 198.9838 - val_loss: 59320.0938 - val_root_mean_squared_error: 243.5572\n"
     ]
    },
    {
     "name": "stderr",
     "output_type": "stream",
     "text": [
      "WARNING:absl:Found untraced functions such as gru_cell_layer_call_and_return_conditional_losses, gru_cell_layer_call_fn, gru_cell_layer_call_fn, gru_cell_layer_call_and_return_conditional_losses, gru_cell_layer_call_and_return_conditional_losses while saving (showing 5 of 5). These functions will not be directly callable after loading.\n"
     ]
    },
    {
     "name": "stdout",
     "output_type": "stream",
     "text": [
      "INFO:tensorflow:Assets written to: model3/assets\n"
     ]
    },
    {
     "name": "stderr",
     "output_type": "stream",
     "text": [
      "INFO:tensorflow:Assets written to: model3/assets\n"
     ]
    },
    {
     "name": "stdout",
     "output_type": "stream",
     "text": [
      "Epoch 2/10\n",
      "24/24 [==============================] - 1s 22ms/step - loss: 29447.8926 - root_mean_squared_error: 171.6039 - val_loss: 42416.2852 - val_root_mean_squared_error: 205.9521\n"
     ]
    },
    {
     "name": "stderr",
     "output_type": "stream",
     "text": [
      "WARNING:absl:Found untraced functions such as gru_cell_layer_call_and_return_conditional_losses, gru_cell_layer_call_fn, gru_cell_layer_call_fn, gru_cell_layer_call_and_return_conditional_losses, gru_cell_layer_call_and_return_conditional_losses while saving (showing 5 of 5). These functions will not be directly callable after loading.\n"
     ]
    },
    {
     "name": "stdout",
     "output_type": "stream",
     "text": [
      "INFO:tensorflow:Assets written to: model3/assets\n"
     ]
    },
    {
     "name": "stderr",
     "output_type": "stream",
     "text": [
      "INFO:tensorflow:Assets written to: model3/assets\n"
     ]
    },
    {
     "name": "stdout",
     "output_type": "stream",
     "text": [
      "Epoch 3/10\n",
      "24/24 [==============================] - 0s 11ms/step - loss: 18431.8848 - root_mean_squared_error: 135.7641 - val_loss: 26527.0898 - val_root_mean_squared_error: 162.8714\n"
     ]
    },
    {
     "name": "stderr",
     "output_type": "stream",
     "text": [
      "WARNING:absl:Found untraced functions such as gru_cell_layer_call_and_return_conditional_losses, gru_cell_layer_call_fn, gru_cell_layer_call_fn, gru_cell_layer_call_and_return_conditional_losses, gru_cell_layer_call_and_return_conditional_losses while saving (showing 5 of 5). These functions will not be directly callable after loading.\n"
     ]
    },
    {
     "name": "stdout",
     "output_type": "stream",
     "text": [
      "INFO:tensorflow:Assets written to: model3/assets\n"
     ]
    },
    {
     "name": "stderr",
     "output_type": "stream",
     "text": [
      "INFO:tensorflow:Assets written to: model3/assets\n"
     ]
    },
    {
     "name": "stdout",
     "output_type": "stream",
     "text": [
      "Epoch 4/10\n",
      "24/24 [==============================] - 0s 9ms/step - loss: 9667.7051 - root_mean_squared_error: 98.3245 - val_loss: 14575.0078 - val_root_mean_squared_error: 120.7270\n"
     ]
    },
    {
     "name": "stderr",
     "output_type": "stream",
     "text": [
      "WARNING:absl:Found untraced functions such as gru_cell_layer_call_and_return_conditional_losses, gru_cell_layer_call_fn, gru_cell_layer_call_fn, gru_cell_layer_call_and_return_conditional_losses, gru_cell_layer_call_and_return_conditional_losses while saving (showing 5 of 5). These functions will not be directly callable after loading.\n"
     ]
    },
    {
     "name": "stdout",
     "output_type": "stream",
     "text": [
      "INFO:tensorflow:Assets written to: model3/assets\n"
     ]
    },
    {
     "name": "stderr",
     "output_type": "stream",
     "text": [
      "INFO:tensorflow:Assets written to: model3/assets\n"
     ]
    },
    {
     "name": "stdout",
     "output_type": "stream",
     "text": [
      "Epoch 5/10\n",
      "24/24 [==============================] - 0s 9ms/step - loss: 4633.3032 - root_mean_squared_error: 68.0684 - val_loss: 7644.3086 - val_root_mean_squared_error: 87.4317\n"
     ]
    },
    {
     "name": "stderr",
     "output_type": "stream",
     "text": [
      "WARNING:absl:Found untraced functions such as gru_cell_layer_call_and_return_conditional_losses, gru_cell_layer_call_fn, gru_cell_layer_call_fn, gru_cell_layer_call_and_return_conditional_losses, gru_cell_layer_call_and_return_conditional_losses while saving (showing 5 of 5). These functions will not be directly callable after loading.\n"
     ]
    },
    {
     "name": "stdout",
     "output_type": "stream",
     "text": [
      "INFO:tensorflow:Assets written to: model3/assets\n"
     ]
    },
    {
     "name": "stderr",
     "output_type": "stream",
     "text": [
      "INFO:tensorflow:Assets written to: model3/assets\n"
     ]
    },
    {
     "name": "stdout",
     "output_type": "stream",
     "text": [
      "Epoch 6/10\n",
      "24/24 [==============================] - 0s 7ms/step - loss: 2430.1008 - root_mean_squared_error: 49.2961 - val_loss: 4506.8198 - val_root_mean_squared_error: 67.1329\n"
     ]
    },
    {
     "name": "stderr",
     "output_type": "stream",
     "text": [
      "WARNING:absl:Found untraced functions such as gru_cell_layer_call_and_return_conditional_losses, gru_cell_layer_call_fn, gru_cell_layer_call_fn, gru_cell_layer_call_and_return_conditional_losses, gru_cell_layer_call_and_return_conditional_losses while saving (showing 5 of 5). These functions will not be directly callable after loading.\n"
     ]
    },
    {
     "name": "stdout",
     "output_type": "stream",
     "text": [
      "INFO:tensorflow:Assets written to: model3/assets\n"
     ]
    },
    {
     "name": "stderr",
     "output_type": "stream",
     "text": [
      "INFO:tensorflow:Assets written to: model3/assets\n"
     ]
    },
    {
     "name": "stdout",
     "output_type": "stream",
     "text": [
      "Epoch 7/10\n",
      "24/24 [==============================] - 0s 7ms/step - loss: 1490.1039 - root_mean_squared_error: 38.6019 - val_loss: 2589.1069 - val_root_mean_squared_error: 50.8833\n"
     ]
    },
    {
     "name": "stderr",
     "output_type": "stream",
     "text": [
      "WARNING:absl:Found untraced functions such as gru_cell_layer_call_and_return_conditional_losses, gru_cell_layer_call_fn, gru_cell_layer_call_fn, gru_cell_layer_call_and_return_conditional_losses, gru_cell_layer_call_and_return_conditional_losses while saving (showing 5 of 5). These functions will not be directly callable after loading.\n"
     ]
    },
    {
     "name": "stdout",
     "output_type": "stream",
     "text": [
      "INFO:tensorflow:Assets written to: model3/assets\n"
     ]
    },
    {
     "name": "stderr",
     "output_type": "stream",
     "text": [
      "INFO:tensorflow:Assets written to: model3/assets\n"
     ]
    },
    {
     "name": "stdout",
     "output_type": "stream",
     "text": [
      "Epoch 8/10\n",
      "24/24 [==============================] - 0s 9ms/step - loss: 909.4549 - root_mean_squared_error: 30.1572 - val_loss: 1597.1847 - val_root_mean_squared_error: 39.9648\n"
     ]
    },
    {
     "name": "stderr",
     "output_type": "stream",
     "text": [
      "WARNING:absl:Found untraced functions such as gru_cell_layer_call_and_return_conditional_losses, gru_cell_layer_call_fn, gru_cell_layer_call_fn, gru_cell_layer_call_and_return_conditional_losses, gru_cell_layer_call_and_return_conditional_losses while saving (showing 5 of 5). These functions will not be directly callable after loading.\n"
     ]
    },
    {
     "name": "stdout",
     "output_type": "stream",
     "text": [
      "INFO:tensorflow:Assets written to: model3/assets\n"
     ]
    },
    {
     "name": "stderr",
     "output_type": "stream",
     "text": [
      "INFO:tensorflow:Assets written to: model3/assets\n"
     ]
    },
    {
     "name": "stdout",
     "output_type": "stream",
     "text": [
      "Epoch 9/10\n",
      "24/24 [==============================] - 0s 9ms/step - loss: 610.8624 - root_mean_squared_error: 24.7156 - val_loss: 917.9797 - val_root_mean_squared_error: 30.2982\n"
     ]
    },
    {
     "name": "stderr",
     "output_type": "stream",
     "text": [
      "WARNING:absl:Found untraced functions such as gru_cell_layer_call_and_return_conditional_losses, gru_cell_layer_call_fn, gru_cell_layer_call_fn, gru_cell_layer_call_and_return_conditional_losses, gru_cell_layer_call_and_return_conditional_losses while saving (showing 5 of 5). These functions will not be directly callable after loading.\n"
     ]
    },
    {
     "name": "stdout",
     "output_type": "stream",
     "text": [
      "INFO:tensorflow:Assets written to: model3/assets\n"
     ]
    },
    {
     "name": "stderr",
     "output_type": "stream",
     "text": [
      "INFO:tensorflow:Assets written to: model3/assets\n"
     ]
    },
    {
     "name": "stdout",
     "output_type": "stream",
     "text": [
      "Epoch 10/10\n",
      "24/24 [==============================] - 0s 9ms/step - loss: 421.3126 - root_mean_squared_error: 20.5259 - val_loss: 652.4337 - val_root_mean_squared_error: 25.5428\n"
     ]
    },
    {
     "name": "stderr",
     "output_type": "stream",
     "text": [
      "WARNING:absl:Found untraced functions such as gru_cell_layer_call_and_return_conditional_losses, gru_cell_layer_call_fn, gru_cell_layer_call_fn, gru_cell_layer_call_and_return_conditional_losses, gru_cell_layer_call_and_return_conditional_losses while saving (showing 5 of 5). These functions will not be directly callable after loading.\n"
     ]
    },
    {
     "name": "stdout",
     "output_type": "stream",
     "text": [
      "INFO:tensorflow:Assets written to: model3/assets\n"
     ]
    },
    {
     "name": "stderr",
     "output_type": "stream",
     "text": [
      "INFO:tensorflow:Assets written to: model3/assets\n"
     ]
    }
   ],
   "source": [
    "history = (model3.fit(X_train, y_train, validation_data=(X_val, y_val), epochs=10, callbacks=[cp3]))"
   ]
  },
  {
   "cell_type": "code",
   "execution_count": 54,
   "metadata": {},
   "outputs": [
    {
     "data": {
      "text/plain": [
       "(     Predictions  Actuals\n",
       " 0      21.667450     19.5\n",
       " 1      21.667450     19.5\n",
       " 2      21.667450     19.5\n",
       " 3      21.667450     19.5\n",
       " 4      21.667450     19.5\n",
       " ..           ...      ...\n",
       " 184   307.018463    304.5\n",
       " 185   317.092896    306.5\n",
       " 186   317.982574    333.0\n",
       " 187   322.054596    345.5\n",
       " 188   322.662537    345.5\n",
       " \n",
       " [189 rows x 2 columns],\n",
       " 160.91364023588307)"
      ]
     },
     "execution_count": 54,
     "metadata": {},
     "output_type": "execute_result"
    },
    {
     "data": {
      "image/png": "[encoded data removed]",
      "text/plain": [
       "<Figure size 720x576 with 1 Axes>"
      ]
     },
     "metadata": {
      "needs_background": "light"
     },
     "output_type": "display_data"
    }
   ],
   "source": [
    "plot_predictions1(7, model3, X_test, y_test)"
   ]
  },
  {
   "cell_type": "code",
   "execution_count": 55,
   "metadata": {},
   "outputs": [
    {
     "data": {
      "text/html": [
       "<div>\n",
       "<style scoped>\n",
       "    .dataframe tbody tr th:only-of-type {\n",
       "        vertical-align: middle;\n",
       "    }\n",
       "\n",
       "    .dataframe tbody tr th {\n",
       "        vertical-align: top;\n",
       "    }\n",
       "\n",
       "    .dataframe thead th {\n",
       "        text-align: right;\n",
       "    }\n",
       "</style>\n",
       "<table border=\"1\" class=\"dataframe\">\n",
       "  <thead>\n",
       "    <tr style=\"text-align: right;\">\n",
       "      <th></th>\n",
       "      <th>loss</th>\n",
       "      <th>root_mean_squared_error</th>\n",
       "      <th>val_loss</th>\n",
       "      <th>val_root_mean_squared_error</th>\n",
       "    </tr>\n",
       "  </thead>\n",
       "  <tbody>\n",
       "    <tr>\n",
       "      <th>0</th>\n",
       "      <td>39594.566406</td>\n",
       "      <td>198.983841</td>\n",
       "      <td>59320.093750</td>\n",
       "      <td>243.557175</td>\n",
       "    </tr>\n",
       "    <tr>\n",
       "      <th>1</th>\n",
       "      <td>29447.892578</td>\n",
       "      <td>171.603882</td>\n",
       "      <td>42416.285156</td>\n",
       "      <td>205.952148</td>\n",
       "    </tr>\n",
       "    <tr>\n",
       "      <th>2</th>\n",
       "      <td>18431.884766</td>\n",
       "      <td>135.764084</td>\n",
       "      <td>26527.089844</td>\n",
       "      <td>162.871384</td>\n",
       "    </tr>\n",
       "    <tr>\n",
       "      <th>3</th>\n",
       "      <td>9667.705078</td>\n",
       "      <td>98.324486</td>\n",
       "      <td>14575.007812</td>\n",
       "      <td>120.726997</td>\n",
       "    </tr>\n",
       "    <tr>\n",
       "      <th>4</th>\n",
       "      <td>4633.303223</td>\n",
       "      <td>68.068375</td>\n",
       "      <td>7644.308594</td>\n",
       "      <td>87.431740</td>\n",
       "    </tr>\n",
       "    <tr>\n",
       "      <th>5</th>\n",
       "      <td>2430.100830</td>\n",
       "      <td>49.296051</td>\n",
       "      <td>4506.819824</td>\n",
       "      <td>67.132851</td>\n",
       "    </tr>\n",
       "    <tr>\n",
       "      <th>6</th>\n",
       "      <td>1490.103882</td>\n",
       "      <td>38.601864</td>\n",
       "      <td>2589.106934</td>\n",
       "      <td>50.883266</td>\n",
       "    </tr>\n",
       "    <tr>\n",
       "      <th>7</th>\n",
       "      <td>909.454895</td>\n",
       "      <td>30.157169</td>\n",
       "      <td>1597.184692</td>\n",
       "      <td>39.964794</td>\n",
       "    </tr>\n",
       "    <tr>\n",
       "      <th>8</th>\n",
       "      <td>610.862427</td>\n",
       "      <td>24.715631</td>\n",
       "      <td>917.979675</td>\n",
       "      <td>30.298180</td>\n",
       "    </tr>\n",
       "    <tr>\n",
       "      <th>9</th>\n",
       "      <td>421.312592</td>\n",
       "      <td>20.525900</td>\n",
       "      <td>652.433716</td>\n",
       "      <td>25.542782</td>\n",
       "    </tr>\n",
       "  </tbody>\n",
       "</table>\n",
       "</div>"
      ],
      "text/plain": [
       "           loss  root_mean_squared_error      val_loss  \\\n",
       "0  39594.566406               198.983841  59320.093750   \n",
       "1  29447.892578               171.603882  42416.285156   \n",
       "2  18431.884766               135.764084  26527.089844   \n",
       "3   9667.705078                98.324486  14575.007812   \n",
       "4   4633.303223                68.068375   7644.308594   \n",
       "5   2430.100830                49.296051   4506.819824   \n",
       "6   1490.103882                38.601864   2589.106934   \n",
       "7    909.454895                30.157169   1597.184692   \n",
       "8    610.862427                24.715631    917.979675   \n",
       "9    421.312592                20.525900    652.433716   \n",
       "\n",
       "   val_root_mean_squared_error  \n",
       "0                   243.557175  \n",
       "1                   205.952148  \n",
       "2                   162.871384  \n",
       "3                   120.726997  \n",
       "4                    87.431740  \n",
       "5                    67.132851  \n",
       "6                    50.883266  \n",
       "7                    39.964794  \n",
       "8                    30.298180  \n",
       "9                    25.542782  "
      ]
     },
     "execution_count": 55,
     "metadata": {},
     "output_type": "execute_result"
    }
   ],
   "source": [
    "history_df = pd.DataFrame(history.history)\n",
    "history_df"
   ]
  },
  {
   "cell_type": "code",
   "execution_count": 56,
   "metadata": {},
   "outputs": [
    {
     "data": {
      "image/png": "[encoded data removed]",
      "text/plain": [
       "<Figure size 432x288 with 1 Axes>"
      ]
     },
     "metadata": {
      "needs_background": "light"
     },
     "output_type": "display_data"
    }
   ],
   "source": [
    "history_df.filter(like='loss').plot();\n",
    "plt.title(\"GRU MSE Loss\", fontsize=16)\n",
    "plt.savefig('fig8.png')"
   ]
  },
  {
   "cell_type": "code",
   "execution_count": 57,
   "metadata": {},
   "outputs": [
    {
     "data": {
      "text/html": [
       "<div>\n",
       "<style scoped>\n",
       "    .dataframe tbody tr th:only-of-type {\n",
       "        vertical-align: middle;\n",
       "    }\n",
       "\n",
       "    .dataframe tbody tr th {\n",
       "        vertical-align: top;\n",
       "    }\n",
       "\n",
       "    .dataframe thead th {\n",
       "        text-align: right;\n",
       "    }\n",
       "</style>\n",
       "<table border=\"1\" class=\"dataframe\">\n",
       "  <thead>\n",
       "    <tr style=\"text-align: right;\">\n",
       "      <th></th>\n",
       "      <th>DSCI</th>\n",
       "      <th>Seconds</th>\n",
       "      <th>year sin</th>\n",
       "      <th>year cos</th>\n",
       "    </tr>\n",
       "    <tr>\n",
       "      <th>ValidEnd</th>\n",
       "      <th></th>\n",
       "      <th></th>\n",
       "      <th></th>\n",
       "      <th></th>\n",
       "    </tr>\n",
       "  </thead>\n",
       "  <tbody>\n",
       "    <tr>\n",
       "      <th>2001-01-01</th>\n",
       "      <td>0.0</td>\n",
       "      <td>9.783072e+08</td>\n",
       "      <td>0.008300</td>\n",
       "      <td>0.999966</td>\n",
       "    </tr>\n",
       "    <tr>\n",
       "      <th>2001-01-08</th>\n",
       "      <td>15.5</td>\n",
       "      <td>9.789120e+08</td>\n",
       "      <td>0.128365</td>\n",
       "      <td>0.991727</td>\n",
       "    </tr>\n",
       "    <tr>\n",
       "      <th>2001-01-15</th>\n",
       "      <td>29.5</td>\n",
       "      <td>9.795168e+08</td>\n",
       "      <td>0.246570</td>\n",
       "      <td>0.969125</td>\n",
       "    </tr>\n",
       "    <tr>\n",
       "      <th>2001-01-22</th>\n",
       "      <td>15.0</td>\n",
       "      <td>9.801216e+08</td>\n",
       "      <td>0.361204</td>\n",
       "      <td>0.932487</td>\n",
       "    </tr>\n",
       "    <tr>\n",
       "      <th>2001-01-29</th>\n",
       "      <td>28.5</td>\n",
       "      <td>9.807264e+08</td>\n",
       "      <td>0.470607</td>\n",
       "      <td>0.882343</td>\n",
       "    </tr>\n",
       "    <tr>\n",
       "      <th>...</th>\n",
       "      <td>...</td>\n",
       "      <td>...</td>\n",
       "      <td>...</td>\n",
       "      <td>...</td>\n",
       "    </tr>\n",
       "    <tr>\n",
       "      <th>2020-11-30</th>\n",
       "      <td>304.5</td>\n",
       "      <td>1.606694e+09</td>\n",
       "      <td>-0.513800</td>\n",
       "      <td>0.857910</td>\n",
       "    </tr>\n",
       "    <tr>\n",
       "      <th>2020-12-07</th>\n",
       "      <td>306.5</td>\n",
       "      <td>1.607299e+09</td>\n",
       "      <td>-0.407020</td>\n",
       "      <td>0.913419</td>\n",
       "    </tr>\n",
       "    <tr>\n",
       "      <th>2020-12-14</th>\n",
       "      <td>333.0</td>\n",
       "      <td>1.607904e+09</td>\n",
       "      <td>-0.294344</td>\n",
       "      <td>0.955699</td>\n",
       "    </tr>\n",
       "    <tr>\n",
       "      <th>2020-12-21</th>\n",
       "      <td>345.5</td>\n",
       "      <td>1.608509e+09</td>\n",
       "      <td>-0.177406</td>\n",
       "      <td>0.984138</td>\n",
       "    </tr>\n",
       "    <tr>\n",
       "      <th>2020-12-28</th>\n",
       "      <td>345.5</td>\n",
       "      <td>1.609114e+09</td>\n",
       "      <td>-0.057898</td>\n",
       "      <td>0.998323</td>\n",
       "    </tr>\n",
       "  </tbody>\n",
       "</table>\n",
       "<p>1044 rows × 4 columns</p>\n",
       "</div>"
      ],
      "text/plain": [
       "             DSCI       Seconds  year sin  year cos\n",
       "ValidEnd                                           \n",
       "2001-01-01    0.0  9.783072e+08  0.008300  0.999966\n",
       "2001-01-08   15.5  9.789120e+08  0.128365  0.991727\n",
       "2001-01-15   29.5  9.795168e+08  0.246570  0.969125\n",
       "2001-01-22   15.0  9.801216e+08  0.361204  0.932487\n",
       "2001-01-29   28.5  9.807264e+08  0.470607  0.882343\n",
       "...           ...           ...       ...       ...\n",
       "2020-11-30  304.5  1.606694e+09 -0.513800  0.857910\n",
       "2020-12-07  306.5  1.607299e+09 -0.407020  0.913419\n",
       "2020-12-14  333.0  1.607904e+09 -0.294344  0.955699\n",
       "2020-12-21  345.5  1.608509e+09 -0.177406  0.984138\n",
       "2020-12-28  345.5  1.609114e+09 -0.057898  0.998323\n",
       "\n",
       "[1044 rows x 4 columns]"
      ]
     },
     "execution_count": 57,
     "metadata": {},
     "output_type": "execute_result"
    }
   ],
   "source": [
    "dsci_df = pd.DataFrame({'DSCI':west['DSCI']})\n",
    "dsci_df['Seconds']=dsci_df.index.map(pd.Timestamp.timestamp)\n",
    "\n",
    "day = 60*60*24\n",
    "year = 365.2425*day\n",
    "dsci_df['year sin'] = np.sin(dsci_df['Seconds'] * (2*np.pi/year))\n",
    "dsci_df['year cos'] = np.cos(dsci_df['Seconds'] * (2*np.pi/year))\n",
    "dsci_df"
   ]
  },
  {
   "cell_type": "code",
   "execution_count": 58,
   "metadata": {},
   "outputs": [],
   "source": [
    "dsci_df.drop('Seconds', axis=1, inplace=True)"
   ]
  },
  {
   "cell_type": "code",
   "execution_count": 59,
   "metadata": {},
   "outputs": [],
   "source": [
    "def df_to_X_y2(df, windowsize=6):\n",
    "    df_as_np = df.to_numpy()\n",
    "    X = []\n",
    "    y = []\n",
    "    for i in range(len(df_as_np)-windowsize):\n",
    "        row = [r for r in df_as_np[i:i+windowsize]]\n",
    "        X.append(row)\n",
    "        label = df_as_np[i+5][0]\n",
    "        y.append(label)\n",
    "    return np.array(X), np.array(y)"
   ]
  },
  {
   "cell_type": "code",
   "execution_count": 60,
   "metadata": {},
   "outputs": [
    {
     "data": {
      "text/plain": [
       "((1038, 6, 3), (1038,))"
      ]
     },
     "execution_count": 60,
     "metadata": {},
     "output_type": "execute_result"
    }
   ],
   "source": [
    "X2, y2 = df_to_X_y2(dsci_df)\n",
    "X2.shape, y2.shape"
   ]
  },
  {
   "cell_type": "code",
   "execution_count": 61,
   "metadata": {},
   "outputs": [],
   "source": [
    "X2_train, y2_train = X2[:750], y2[:750]\n",
    "X2_val, y2_val = X2[750:850], y2[750:850]\n",
    "X2_test, y2_test = X2[850:], y2[850:]"
   ]
  },
  {
   "cell_type": "code",
   "execution_count": 62,
   "metadata": {},
   "outputs": [],
   "source": [
    "dsci_training_mean = np.mean(X2_train[:, :, 0])\n",
    "temp_training_sd = np.std(X2_train[:, :, 0])\n",
    "\n",
    "def preprocess(X):\n",
    "    X[:, :, 0] = (X[:, :, 0] - dsci_training_mean/temp_training_sd)\n",
    "    return X\n"
   ]
  },
  {
   "cell_type": "code",
   "execution_count": 63,
   "metadata": {},
   "outputs": [
    {
     "data": {
      "text/plain": [
       "array([[[ 1.79446130e+01,  9.65598082e-01, -2.60039120e-01],\n",
       "        [ 1.79446130e+01,  9.27367405e-01, -3.74151970e-01],\n",
       "        [ 1.79446130e+01,  8.75705362e-01, -4.82845853e-01],\n",
       "        [ 1.79446130e+01,  8.11360193e-01, -5.84546523e-01],\n",
       "        [ 1.79446130e+01,  7.35263828e-01, -6.77781014e-01],\n",
       "        [ 1.79446130e+01,  6.48518397e-01, -7.61198981e-01]],\n",
       "\n",
       "       [[ 1.79446130e+01,  9.27367405e-01, -3.74151970e-01],\n",
       "        [ 1.79446130e+01,  8.75705362e-01, -4.82845853e-01],\n",
       "        [ 1.79446130e+01,  8.11360193e-01, -5.84546523e-01],\n",
       "        [ 1.79446130e+01,  7.35263828e-01, -6.77781014e-01],\n",
       "        [ 1.79446130e+01,  6.48518397e-01, -7.61198981e-01],\n",
       "        [ 1.79446130e+01,  5.52380262e-01, -8.33592254e-01]],\n",
       "\n",
       "       [[ 1.79446130e+01,  8.75705362e-01, -4.82845853e-01],\n",
       "        [ 1.79446130e+01,  8.11360193e-01, -5.84546523e-01],\n",
       "        [ 1.79446130e+01,  7.35263828e-01, -6.77781014e-01],\n",
       "        [ 1.79446130e+01,  6.48518397e-01, -7.61198981e-01],\n",
       "        [ 1.79446130e+01,  5.52380262e-01, -8.33592254e-01],\n",
       "        [ 1.79446130e+01,  4.48241823e-01, -8.93912338e-01]],\n",
       "\n",
       "       ...,\n",
       "\n",
       "       [[ 2.69944613e+02, -8.52780297e-01,  5.22269820e-01],\n",
       "        [ 2.69944613e+02, -7.83865196e-01,  6.20931038e-01],\n",
       "        [ 2.80944613e+02, -7.03597120e-01,  7.10599109e-01],\n",
       "        [ 2.80444613e+02, -6.13138616e-01,  7.89975340e-01],\n",
       "        [ 3.02944613e+02, -5.13799825e-01,  8.57910100e-01],\n",
       "        [ 3.04944613e+02, -4.07019503e-01,  9.13419468e-01]],\n",
       "\n",
       "       [[ 2.69944613e+02, -7.83865196e-01,  6.20931038e-01],\n",
       "        [ 2.80944613e+02, -7.03597120e-01,  7.10599109e-01],\n",
       "        [ 2.80444613e+02, -6.13138616e-01,  7.89975340e-01],\n",
       "        [ 3.02944613e+02, -5.13799825e-01,  8.57910100e-01],\n",
       "        [ 3.04944613e+02, -4.07019503e-01,  9.13419468e-01],\n",
       "        [ 3.31444613e+02, -2.94344185e-01,  9.55699483e-01]],\n",
       "\n",
       "       [[ 2.80944613e+02, -7.03597120e-01,  7.10599109e-01],\n",
       "        [ 2.80444613e+02, -6.13138616e-01,  7.89975340e-01],\n",
       "        [ 3.02944613e+02, -5.13799825e-01,  8.57910100e-01],\n",
       "        [ 3.04944613e+02, -4.07019503e-01,  9.13419468e-01],\n",
       "        [ 3.31444613e+02, -2.94344185e-01,  9.55699483e-01],\n",
       "        [ 3.43944613e+02, -1.77405783e-01,  9.84137789e-01]]])"
      ]
     },
     "execution_count": 63,
     "metadata": {},
     "output_type": "execute_result"
    }
   ],
   "source": [
    "preprocess(X2_train)\n",
    "preprocess(X2_val)\n",
    "preprocess(X2_test)"
   ]
  },
  {
   "cell_type": "code",
   "execution_count": 64,
   "metadata": {},
   "outputs": [
    {
     "name": "stdout",
     "output_type": "stream",
     "text": [
      "Model: \"sequential_3\"\n",
      "_________________________________________________________________\n",
      "Layer (type)                 Output Shape              Param #   \n",
      "=================================================================\n",
      "lstm_1 (LSTM)                (None, 64)                17408     \n",
      "_________________________________________________________________\n",
      "dense_6 (Dense)              (None, 8)                 520       \n",
      "_________________________________________________________________\n",
      "dense_7 (Dense)              (None, 1)                 9         \n",
      "=================================================================\n",
      "Total params: 17,937\n",
      "Trainable params: 17,937\n",
      "Non-trainable params: 0\n",
      "_________________________________________________________________\n"
     ]
    }
   ],
   "source": [
    "model4 = Sequential()\n",
    "model4.add(InputLayer((5,3)))\n",
    "model4.add(LSTM(64))\n",
    "model4.add(Dense(8, 'relu'))\n",
    "model4.add(Dense(1, 'linear'))\n",
    "model4.summary()"
   ]
  },
  {
   "cell_type": "code",
   "execution_count": 65,
   "metadata": {},
   "outputs": [],
   "source": [
    "cp4 = ModelCheckpoint('model3/', save_best_only=True)\n",
    "model4.compile(loss=MeanSquaredError(), optimizer = Adam(learning_rate=0.005), metrics=[RootMeanSquaredError()])"
   ]
  },
  {
   "cell_type": "code",
   "execution_count": 66,
   "metadata": {},
   "outputs": [
    {
     "name": "stdout",
     "output_type": "stream",
     "text": [
      "Epoch 1/10\n",
      "WARNING:tensorflow:Model was constructed with shape (None, 5, 3) for input KerasTensor(type_spec=TensorSpec(shape=(None, 5, 3), dtype=tf.float32, name='input_4'), name='input_4', description=\"created by layer 'input_4'\"), but it was called on an input with incompatible shape (None, 6, 3).\n"
     ]
    },
    {
     "name": "stderr",
     "output_type": "stream",
     "text": [
      "WARNING:tensorflow:Model was constructed with shape (None, 5, 3) for input KerasTensor(type_spec=TensorSpec(shape=(None, 5, 3), dtype=tf.float32, name='input_4'), name='input_4', description=\"created by layer 'input_4'\"), but it was called on an input with incompatible shape (None, 6, 3).\n"
     ]
    },
    {
     "name": "stdout",
     "output_type": "stream",
     "text": [
      "WARNING:tensorflow:Model was constructed with shape (None, 5, 3) for input KerasTensor(type_spec=TensorSpec(shape=(None, 5, 3), dtype=tf.float32, name='input_4'), name='input_4', description=\"created by layer 'input_4'\"), but it was called on an input with incompatible shape (None, 6, 3).\n"
     ]
    },
    {
     "name": "stderr",
     "output_type": "stream",
     "text": [
      "WARNING:tensorflow:Model was constructed with shape (None, 5, 3) for input KerasTensor(type_spec=TensorSpec(shape=(None, 5, 3), dtype=tf.float32, name='input_4'), name='input_4', description=\"created by layer 'input_4'\"), but it was called on an input with incompatible shape (None, 6, 3).\n"
     ]
    },
    {
     "name": "stdout",
     "output_type": "stream",
     "text": [
      "22/24 [==========================>...] - ETA: 0s - loss: 42492.0586 - root_mean_squared_error: 206.1360WARNING:tensorflow:Model was constructed with shape (None, 5, 3) for input KerasTensor(type_spec=TensorSpec(shape=(None, 5, 3), dtype=tf.float32, name='input_4'), name='input_4', description=\"created by layer 'input_4'\"), but it was called on an input with incompatible shape (None, 6, 3).\n"
     ]
    },
    {
     "name": "stderr",
     "output_type": "stream",
     "text": [
      "WARNING:tensorflow:Model was constructed with shape (None, 5, 3) for input KerasTensor(type_spec=TensorSpec(shape=(None, 5, 3), dtype=tf.float32, name='input_4'), name='input_4', description=\"created by layer 'input_4'\"), but it was called on an input with incompatible shape (None, 6, 3).\n"
     ]
    },
    {
     "name": "stdout",
     "output_type": "stream",
     "text": [
      "24/24 [==============================] - 6s 123ms/step - loss: 42558.6055 - root_mean_squared_error: 206.2974 - val_loss: 68257.5312 - val_root_mean_squared_error: 261.2614\n"
     ]
    },
    {
     "name": "stderr",
     "output_type": "stream",
     "text": [
      "WARNING:absl:Found untraced functions such as lstm_cell_2_layer_call_and_return_conditional_losses, lstm_cell_2_layer_call_fn, lstm_cell_2_layer_call_fn, lstm_cell_2_layer_call_and_return_conditional_losses, lstm_cell_2_layer_call_and_return_conditional_losses while saving (showing 5 of 5). These functions will not be directly callable after loading.\n"
     ]
    },
    {
     "name": "stdout",
     "output_type": "stream",
     "text": [
      "INFO:tensorflow:Assets written to: model3/assets\n"
     ]
    },
    {
     "name": "stderr",
     "output_type": "stream",
     "text": [
      "INFO:tensorflow:Assets written to: model3/assets\n"
     ]
    },
    {
     "name": "stdout",
     "output_type": "stream",
     "text": [
      "Epoch 2/10\n",
      "24/24 [==============================] - 0s 6ms/step - loss: 39163.0430 - root_mean_squared_error: 197.8965 - val_loss: 60993.1133 - val_root_mean_squared_error: 246.9678\n"
     ]
    },
    {
     "name": "stderr",
     "output_type": "stream",
     "text": [
      "WARNING:absl:Found untraced functions such as lstm_cell_2_layer_call_and_return_conditional_losses, lstm_cell_2_layer_call_fn, lstm_cell_2_layer_call_fn, lstm_cell_2_layer_call_and_return_conditional_losses, lstm_cell_2_layer_call_and_return_conditional_losses while saving (showing 5 of 5). These functions will not be directly callable after loading.\n"
     ]
    },
    {
     "name": "stdout",
     "output_type": "stream",
     "text": [
      "INFO:tensorflow:Assets written to: model3/assets\n"
     ]
    },
    {
     "name": "stderr",
     "output_type": "stream",
     "text": [
      "INFO:tensorflow:Assets written to: model3/assets\n"
     ]
    },
    {
     "name": "stdout",
     "output_type": "stream",
     "text": [
      "Epoch 3/10\n",
      "24/24 [==============================] - 0s 12ms/step - loss: 32905.7617 - root_mean_squared_error: 181.3995 - val_loss: 50679.4961 - val_root_mean_squared_error: 225.1211\n"
     ]
    },
    {
     "name": "stderr",
     "output_type": "stream",
     "text": [
      "WARNING:absl:Found untraced functions such as lstm_cell_2_layer_call_and_return_conditional_losses, lstm_cell_2_layer_call_fn, lstm_cell_2_layer_call_fn, lstm_cell_2_layer_call_and_return_conditional_losses, lstm_cell_2_layer_call_and_return_conditional_losses while saving (showing 5 of 5). These functions will not be directly callable after loading.\n"
     ]
    },
    {
     "name": "stdout",
     "output_type": "stream",
     "text": [
      "INFO:tensorflow:Assets written to: model3/assets\n"
     ]
    },
    {
     "name": "stderr",
     "output_type": "stream",
     "text": [
      "INFO:tensorflow:Assets written to: model3/assets\n"
     ]
    },
    {
     "name": "stdout",
     "output_type": "stream",
     "text": [
      "Epoch 4/10\n",
      "24/24 [==============================] - 0s 9ms/step - loss: 25311.7812 - root_mean_squared_error: 159.0968 - val_loss: 38705.8242 - val_root_mean_squared_error: 196.7380\n"
     ]
    },
    {
     "name": "stderr",
     "output_type": "stream",
     "text": [
      "WARNING:absl:Found untraced functions such as lstm_cell_2_layer_call_and_return_conditional_losses, lstm_cell_2_layer_call_fn, lstm_cell_2_layer_call_fn, lstm_cell_2_layer_call_and_return_conditional_losses, lstm_cell_2_layer_call_and_return_conditional_losses while saving (showing 5 of 5). These functions will not be directly callable after loading.\n"
     ]
    },
    {
     "name": "stdout",
     "output_type": "stream",
     "text": [
      "INFO:tensorflow:Assets written to: model3/assets\n"
     ]
    },
    {
     "name": "stderr",
     "output_type": "stream",
     "text": [
      "INFO:tensorflow:Assets written to: model3/assets\n"
     ]
    },
    {
     "name": "stdout",
     "output_type": "stream",
     "text": [
      "Epoch 5/10\n",
      "24/24 [==============================] - 0s 8ms/step - loss: 17434.9727 - root_mean_squared_error: 132.0415 - val_loss: 27034.5898 - val_root_mean_squared_error: 164.4220\n"
     ]
    },
    {
     "name": "stderr",
     "output_type": "stream",
     "text": [
      "WARNING:absl:Found untraced functions such as lstm_cell_2_layer_call_and_return_conditional_losses, lstm_cell_2_layer_call_fn, lstm_cell_2_layer_call_fn, lstm_cell_2_layer_call_and_return_conditional_losses, lstm_cell_2_layer_call_and_return_conditional_losses while saving (showing 5 of 5). These functions will not be directly callable after loading.\n"
     ]
    },
    {
     "name": "stdout",
     "output_type": "stream",
     "text": [
      "INFO:tensorflow:Assets written to: model3/assets\n"
     ]
    },
    {
     "name": "stderr",
     "output_type": "stream",
     "text": [
      "INFO:tensorflow:Assets written to: model3/assets\n"
     ]
    },
    {
     "name": "stdout",
     "output_type": "stream",
     "text": [
      "Epoch 6/10\n",
      "24/24 [==============================] - 0s 7ms/step - loss: 10687.6230 - root_mean_squared_error: 103.3810 - val_loss: 17318.3730 - val_root_mean_squared_error: 131.5993\n"
     ]
    },
    {
     "name": "stderr",
     "output_type": "stream",
     "text": [
      "WARNING:absl:Found untraced functions such as lstm_cell_2_layer_call_and_return_conditional_losses, lstm_cell_2_layer_call_fn, lstm_cell_2_layer_call_fn, lstm_cell_2_layer_call_and_return_conditional_losses, lstm_cell_2_layer_call_and_return_conditional_losses while saving (showing 5 of 5). These functions will not be directly callable after loading.\n"
     ]
    },
    {
     "name": "stdout",
     "output_type": "stream",
     "text": [
      "INFO:tensorflow:Assets written to: model3/assets\n"
     ]
    },
    {
     "name": "stderr",
     "output_type": "stream",
     "text": [
      "INFO:tensorflow:Assets written to: model3/assets\n"
     ]
    },
    {
     "name": "stdout",
     "output_type": "stream",
     "text": [
      "Epoch 7/10\n",
      "24/24 [==============================] - 0s 7ms/step - loss: 6107.7026 - root_mean_squared_error: 78.1518 - val_loss: 10661.2178 - val_root_mean_squared_error: 103.2532\n"
     ]
    },
    {
     "name": "stderr",
     "output_type": "stream",
     "text": [
      "WARNING:absl:Found untraced functions such as lstm_cell_2_layer_call_and_return_conditional_losses, lstm_cell_2_layer_call_fn, lstm_cell_2_layer_call_fn, lstm_cell_2_layer_call_and_return_conditional_losses, lstm_cell_2_layer_call_and_return_conditional_losses while saving (showing 5 of 5). These functions will not be directly callable after loading.\n"
     ]
    },
    {
     "name": "stdout",
     "output_type": "stream",
     "text": [
      "INFO:tensorflow:Assets written to: model3/assets\n"
     ]
    },
    {
     "name": "stderr",
     "output_type": "stream",
     "text": [
      "INFO:tensorflow:Assets written to: model3/assets\n"
     ]
    },
    {
     "name": "stdout",
     "output_type": "stream",
     "text": [
      "Epoch 8/10\n",
      "24/24 [==============================] - 0s 7ms/step - loss: 3523.5938 - root_mean_squared_error: 59.3599 - val_loss: 6744.3027 - val_root_mean_squared_error: 82.1237\n"
     ]
    },
    {
     "name": "stderr",
     "output_type": "stream",
     "text": [
      "WARNING:absl:Found untraced functions such as lstm_cell_2_layer_call_and_return_conditional_losses, lstm_cell_2_layer_call_fn, lstm_cell_2_layer_call_fn, lstm_cell_2_layer_call_and_return_conditional_losses, lstm_cell_2_layer_call_and_return_conditional_losses while saving (showing 5 of 5). These functions will not be directly callable after loading.\n"
     ]
    },
    {
     "name": "stdout",
     "output_type": "stream",
     "text": [
      "INFO:tensorflow:Assets written to: model3/assets\n"
     ]
    },
    {
     "name": "stderr",
     "output_type": "stream",
     "text": [
      "INFO:tensorflow:Assets written to: model3/assets\n"
     ]
    },
    {
     "name": "stdout",
     "output_type": "stream",
     "text": [
      "Epoch 9/10\n",
      "24/24 [==============================] - 0s 7ms/step - loss: 2187.2126 - root_mean_squared_error: 46.7676 - val_loss: 4476.2520 - val_root_mean_squared_error: 66.9048\n"
     ]
    },
    {
     "name": "stderr",
     "output_type": "stream",
     "text": [
      "WARNING:absl:Found untraced functions such as lstm_cell_2_layer_call_and_return_conditional_losses, lstm_cell_2_layer_call_fn, lstm_cell_2_layer_call_fn, lstm_cell_2_layer_call_and_return_conditional_losses, lstm_cell_2_layer_call_and_return_conditional_losses while saving (showing 5 of 5). These functions will not be directly callable after loading.\n"
     ]
    },
    {
     "name": "stdout",
     "output_type": "stream",
     "text": [
      "INFO:tensorflow:Assets written to: model3/assets\n"
     ]
    },
    {
     "name": "stderr",
     "output_type": "stream",
     "text": [
      "INFO:tensorflow:Assets written to: model3/assets\n"
     ]
    },
    {
     "name": "stdout",
     "output_type": "stream",
     "text": [
      "Epoch 10/10\n",
      "24/24 [==============================] - 0s 10ms/step - loss: 1450.4860 - root_mean_squared_error: 38.0852 - val_loss: 2889.6331 - val_root_mean_squared_error: 53.7553\n"
     ]
    },
    {
     "name": "stderr",
     "output_type": "stream",
     "text": [
      "WARNING:absl:Found untraced functions such as lstm_cell_2_layer_call_and_return_conditional_losses, lstm_cell_2_layer_call_fn, lstm_cell_2_layer_call_fn, lstm_cell_2_layer_call_and_return_conditional_losses, lstm_cell_2_layer_call_and_return_conditional_losses while saving (showing 5 of 5). These functions will not be directly callable after loading.\n"
     ]
    },
    {
     "name": "stdout",
     "output_type": "stream",
     "text": [
      "INFO:tensorflow:Assets written to: model3/assets\n"
     ]
    },
    {
     "name": "stderr",
     "output_type": "stream",
     "text": [
      "INFO:tensorflow:Assets written to: model3/assets\n"
     ]
    }
   ],
   "source": [
    "history = (model4.fit(X2_train, y2_train, validation_data=(X2_val, y2_val), epochs=10, callbacks=[cp4]))"
   ]
  },
  {
   "cell_type": "code",
   "execution_count": 67,
   "metadata": {},
   "outputs": [
    {
     "name": "stdout",
     "output_type": "stream",
     "text": [
      "WARNING:tensorflow:Model was constructed with shape (None, 5, 3) for input KerasTensor(type_spec=TensorSpec(shape=(None, 5, 3), dtype=tf.float32, name='input_4'), name='input_4', description=\"created by layer 'input_4'\"), but it was called on an input with incompatible shape (None, 6, 3).\n"
     ]
    },
    {
     "name": "stderr",
     "output_type": "stream",
     "text": [
      "WARNING:tensorflow:Model was constructed with shape (None, 5, 3) for input KerasTensor(type_spec=TensorSpec(shape=(None, 5, 3), dtype=tf.float32, name='input_4'), name='input_4', description=\"created by layer 'input_4'\"), but it was called on an input with incompatible shape (None, 6, 3).\n"
     ]
    },
    {
     "data": {
      "text/plain": [
       "(     Predictions  Actuals\n",
       " 0      17.339216     19.5\n",
       " 1      17.392010     19.5\n",
       " 2      17.439886     19.5\n",
       " 3      17.481955     19.5\n",
       " 4      17.517344     19.5\n",
       " ..           ...      ...\n",
       " 183   266.854950    282.0\n",
       " 184   267.403107    304.5\n",
       " 185   267.445587    306.5\n",
       " 186   267.519897    333.0\n",
       " 187   267.529297    345.5\n",
       " \n",
       " [188 rows x 2 columns],\n",
       " 84.33220022911595)"
      ]
     },
     "execution_count": 67,
     "metadata": {},
     "output_type": "execute_result"
    },
    {
     "data": {
      "image/png": "[encoded data removed]",
      "text/plain": [
       "<Figure size 720x576 with 1 Axes>"
      ]
     },
     "metadata": {
      "needs_background": "light"
     },
     "output_type": "display_data"
    }
   ],
   "source": [
    "plot_predictions1(9, model4, X2_test, y2_test)"
   ]
  },
  {
   "cell_type": "code",
   "execution_count": 68,
   "metadata": {},
   "outputs": [
    {
     "data": {
      "text/html": [
       "<div>\n",
       "<style scoped>\n",
       "    .dataframe tbody tr th:only-of-type {\n",
       "        vertical-align: middle;\n",
       "    }\n",
       "\n",
       "    .dataframe tbody tr th {\n",
       "        vertical-align: top;\n",
       "    }\n",
       "\n",
       "    .dataframe thead th {\n",
       "        text-align: right;\n",
       "    }\n",
       "</style>\n",
       "<table border=\"1\" class=\"dataframe\">\n",
       "  <thead>\n",
       "    <tr style=\"text-align: right;\">\n",
       "      <th></th>\n",
       "      <th>loss</th>\n",
       "      <th>root_mean_squared_error</th>\n",
       "      <th>val_loss</th>\n",
       "      <th>val_root_mean_squared_error</th>\n",
       "    </tr>\n",
       "  </thead>\n",
       "  <tbody>\n",
       "    <tr>\n",
       "      <th>0</th>\n",
       "      <td>42558.605469</td>\n",
       "      <td>206.297379</td>\n",
       "      <td>68257.531250</td>\n",
       "      <td>261.261414</td>\n",
       "    </tr>\n",
       "    <tr>\n",
       "      <th>1</th>\n",
       "      <td>39163.042969</td>\n",
       "      <td>197.896545</td>\n",
       "      <td>60993.113281</td>\n",
       "      <td>246.967834</td>\n",
       "    </tr>\n",
       "    <tr>\n",
       "      <th>2</th>\n",
       "      <td>32905.761719</td>\n",
       "      <td>181.399460</td>\n",
       "      <td>50679.496094</td>\n",
       "      <td>225.121063</td>\n",
       "    </tr>\n",
       "    <tr>\n",
       "      <th>3</th>\n",
       "      <td>25311.781250</td>\n",
       "      <td>159.096771</td>\n",
       "      <td>38705.824219</td>\n",
       "      <td>196.737961</td>\n",
       "    </tr>\n",
       "    <tr>\n",
       "      <th>4</th>\n",
       "      <td>17434.972656</td>\n",
       "      <td>132.041550</td>\n",
       "      <td>27034.589844</td>\n",
       "      <td>164.421982</td>\n",
       "    </tr>\n",
       "    <tr>\n",
       "      <th>5</th>\n",
       "      <td>10687.623047</td>\n",
       "      <td>103.380959</td>\n",
       "      <td>17318.373047</td>\n",
       "      <td>131.599289</td>\n",
       "    </tr>\n",
       "    <tr>\n",
       "      <th>6</th>\n",
       "      <td>6107.702637</td>\n",
       "      <td>78.151794</td>\n",
       "      <td>10661.217773</td>\n",
       "      <td>103.253174</td>\n",
       "    </tr>\n",
       "    <tr>\n",
       "      <th>7</th>\n",
       "      <td>3523.593750</td>\n",
       "      <td>59.359867</td>\n",
       "      <td>6744.302734</td>\n",
       "      <td>82.123703</td>\n",
       "    </tr>\n",
       "    <tr>\n",
       "      <th>8</th>\n",
       "      <td>2187.212646</td>\n",
       "      <td>46.767647</td>\n",
       "      <td>4476.251953</td>\n",
       "      <td>66.904800</td>\n",
       "    </tr>\n",
       "    <tr>\n",
       "      <th>9</th>\n",
       "      <td>1450.485962</td>\n",
       "      <td>38.085247</td>\n",
       "      <td>2889.633057</td>\n",
       "      <td>53.755306</td>\n",
       "    </tr>\n",
       "  </tbody>\n",
       "</table>\n",
       "</div>"
      ],
      "text/plain": [
       "           loss  root_mean_squared_error      val_loss  \\\n",
       "0  42558.605469               206.297379  68257.531250   \n",
       "1  39163.042969               197.896545  60993.113281   \n",
       "2  32905.761719               181.399460  50679.496094   \n",
       "3  25311.781250               159.096771  38705.824219   \n",
       "4  17434.972656               132.041550  27034.589844   \n",
       "5  10687.623047               103.380959  17318.373047   \n",
       "6   6107.702637                78.151794  10661.217773   \n",
       "7   3523.593750                59.359867   6744.302734   \n",
       "8   2187.212646                46.767647   4476.251953   \n",
       "9   1450.485962                38.085247   2889.633057   \n",
       "\n",
       "   val_root_mean_squared_error  \n",
       "0                   261.261414  \n",
       "1                   246.967834  \n",
       "2                   225.121063  \n",
       "3                   196.737961  \n",
       "4                   164.421982  \n",
       "5                   131.599289  \n",
       "6                   103.253174  \n",
       "7                    82.123703  \n",
       "8                    66.904800  \n",
       "9                    53.755306  "
      ]
     },
     "execution_count": 68,
     "metadata": {},
     "output_type": "execute_result"
    }
   ],
   "source": [
    "history_df = pd.DataFrame(history.history)\n",
    "history_df"
   ]
  },
  {
   "cell_type": "code",
   "execution_count": 69,
   "metadata": {},
   "outputs": [
    {
     "data": {
      "image/png": "[encoded data removed]",
      "text/plain": [
       "<Figure size 432x288 with 1 Axes>"
      ]
     },
     "metadata": {
      "needs_background": "light"
     },
     "output_type": "display_data"
    }
   ],
   "source": [
    "history_df.filter(like='loss').plot();\n",
    "plt.title(\"LSTM MSE (Time Feature) Loss\", fontsize=16)\n",
    "plt.savefig('fig10.png')"
   ]
  },
  {
   "cell_type": "code",
   "execution_count": 70,
   "metadata": {},
   "outputs": [],
   "source": [
    "tmax_dsci_df = pd.concat([west['avg_tmax'], dsci_df], axis=1)"
   ]
  },
  {
   "cell_type": "code",
   "execution_count": 71,
   "metadata": {},
   "outputs": [],
   "source": [
    "prcp_dsci_df = pd.concat([west['total_avg_prcp_inches'], dsci_df], axis=1)"
   ]
  },
  {
   "cell_type": "code",
   "execution_count": 72,
   "metadata": {},
   "outputs": [
    {
     "data": {
      "text/html": [
       "<div>\n",
       "<style scoped>\n",
       "    .dataframe tbody tr th:only-of-type {\n",
       "        vertical-align: middle;\n",
       "    }\n",
       "\n",
       "    .dataframe tbody tr th {\n",
       "        vertical-align: top;\n",
       "    }\n",
       "\n",
       "    .dataframe thead th {\n",
       "        text-align: right;\n",
       "    }\n",
       "</style>\n",
       "<table border=\"1\" class=\"dataframe\">\n",
       "  <thead>\n",
       "    <tr style=\"text-align: right;\">\n",
       "      <th></th>\n",
       "      <th>avg_tmax</th>\n",
       "      <th>DSCI</th>\n",
       "      <th>year sin</th>\n",
       "      <th>year cos</th>\n",
       "    </tr>\n",
       "    <tr>\n",
       "      <th>ValidEnd</th>\n",
       "      <th></th>\n",
       "      <th></th>\n",
       "      <th></th>\n",
       "      <th></th>\n",
       "    </tr>\n",
       "  </thead>\n",
       "  <tbody>\n",
       "    <tr>\n",
       "      <th>2001-01-01</th>\n",
       "      <td>55.340909</td>\n",
       "      <td>0.0</td>\n",
       "      <td>0.008300</td>\n",
       "      <td>0.999966</td>\n",
       "    </tr>\n",
       "    <tr>\n",
       "      <th>2001-01-08</th>\n",
       "      <td>56.907792</td>\n",
       "      <td>15.5</td>\n",
       "      <td>0.128365</td>\n",
       "      <td>0.991727</td>\n",
       "    </tr>\n",
       "    <tr>\n",
       "      <th>2001-01-15</th>\n",
       "      <td>45.813312</td>\n",
       "      <td>29.5</td>\n",
       "      <td>0.246570</td>\n",
       "      <td>0.969125</td>\n",
       "    </tr>\n",
       "    <tr>\n",
       "      <th>2001-01-22</th>\n",
       "      <td>47.125649</td>\n",
       "      <td>15.0</td>\n",
       "      <td>0.361204</td>\n",
       "      <td>0.932487</td>\n",
       "    </tr>\n",
       "    <tr>\n",
       "      <th>2001-01-29</th>\n",
       "      <td>46.303571</td>\n",
       "      <td>28.5</td>\n",
       "      <td>0.470607</td>\n",
       "      <td>0.882343</td>\n",
       "    </tr>\n",
       "  </tbody>\n",
       "</table>\n",
       "</div>"
      ],
      "text/plain": [
       "             avg_tmax  DSCI  year sin  year cos\n",
       "ValidEnd                                       \n",
       "2001-01-01  55.340909   0.0  0.008300  0.999966\n",
       "2001-01-08  56.907792  15.5  0.128365  0.991727\n",
       "2001-01-15  45.813312  29.5  0.246570  0.969125\n",
       "2001-01-22  47.125649  15.0  0.361204  0.932487\n",
       "2001-01-29  46.303571  28.5  0.470607  0.882343"
      ]
     },
     "execution_count": 72,
     "metadata": {},
     "output_type": "execute_result"
    }
   ],
   "source": [
    "tmax_dsci_df.head()"
   ]
  },
  {
   "cell_type": "code",
   "execution_count": 73,
   "metadata": {},
   "outputs": [
    {
     "data": {
      "text/html": [
       "<div>\n",
       "<style scoped>\n",
       "    .dataframe tbody tr th:only-of-type {\n",
       "        vertical-align: middle;\n",
       "    }\n",
       "\n",
       "    .dataframe tbody tr th {\n",
       "        vertical-align: top;\n",
       "    }\n",
       "\n",
       "    .dataframe thead th {\n",
       "        text-align: right;\n",
       "    }\n",
       "</style>\n",
       "<table border=\"1\" class=\"dataframe\">\n",
       "  <thead>\n",
       "    <tr style=\"text-align: right;\">\n",
       "      <th></th>\n",
       "      <th>total_avg_prcp_inches</th>\n",
       "      <th>DSCI</th>\n",
       "      <th>year sin</th>\n",
       "      <th>year cos</th>\n",
       "    </tr>\n",
       "    <tr>\n",
       "      <th>ValidEnd</th>\n",
       "      <th></th>\n",
       "      <th></th>\n",
       "      <th></th>\n",
       "      <th></th>\n",
       "    </tr>\n",
       "  </thead>\n",
       "  <tbody>\n",
       "    <tr>\n",
       "      <th>2001-01-01</th>\n",
       "      <td>0.000000</td>\n",
       "      <td>0.0</td>\n",
       "      <td>0.008300</td>\n",
       "      <td>0.999966</td>\n",
       "    </tr>\n",
       "    <tr>\n",
       "      <th>2001-01-08</th>\n",
       "      <td>0.573636</td>\n",
       "      <td>15.5</td>\n",
       "      <td>0.128365</td>\n",
       "      <td>0.991727</td>\n",
       "    </tr>\n",
       "    <tr>\n",
       "      <th>2001-01-15</th>\n",
       "      <td>1.895909</td>\n",
       "      <td>29.5</td>\n",
       "      <td>0.246570</td>\n",
       "      <td>0.969125</td>\n",
       "    </tr>\n",
       "    <tr>\n",
       "      <th>2001-01-22</th>\n",
       "      <td>0.072500</td>\n",
       "      <td>15.0</td>\n",
       "      <td>0.361204</td>\n",
       "      <td>0.932487</td>\n",
       "    </tr>\n",
       "    <tr>\n",
       "      <th>2001-01-29</th>\n",
       "      <td>1.511818</td>\n",
       "      <td>28.5</td>\n",
       "      <td>0.470607</td>\n",
       "      <td>0.882343</td>\n",
       "    </tr>\n",
       "  </tbody>\n",
       "</table>\n",
       "</div>"
      ],
      "text/plain": [
       "            total_avg_prcp_inches  DSCI  year sin  year cos\n",
       "ValidEnd                                                   \n",
       "2001-01-01               0.000000   0.0  0.008300  0.999966\n",
       "2001-01-08               0.573636  15.5  0.128365  0.991727\n",
       "2001-01-15               1.895909  29.5  0.246570  0.969125\n",
       "2001-01-22               0.072500  15.0  0.361204  0.932487\n",
       "2001-01-29               1.511818  28.5  0.470607  0.882343"
      ]
     },
     "execution_count": 73,
     "metadata": {},
     "output_type": "execute_result"
    }
   ],
   "source": [
    "prcp_dsci_df.head()"
   ]
  },
  {
   "cell_type": "code",
   "execution_count": 74,
   "metadata": {},
   "outputs": [],
   "source": [
    "def df_to_X_y3(df, windowsize=7):\n",
    "    df_as_np = df.to_numpy()\n",
    "    X = []\n",
    "    y = []\n",
    "    for i in range(len(df_as_np)-windowsize):\n",
    "        row = [r for r in df_as_np[i:i+windowsize]]\n",
    "        X.append(row)\n",
    "        label = df_as_np[i+windowsize][0], df_as_np[i+windowsize][1]\n",
    "        y.append(label)\n",
    "    return np.array(X), np.array(y)"
   ]
  },
  {
   "cell_type": "code",
   "execution_count": 75,
   "metadata": {},
   "outputs": [
    {
     "data": {
      "text/plain": [
       "((1037, 7, 4), (1037, 2))"
      ]
     },
     "execution_count": 75,
     "metadata": {},
     "output_type": "execute_result"
    }
   ],
   "source": [
    "X3, y3 = df_to_X_y3(prcp_dsci_df)\n",
    "X3.shape, y3.shape"
   ]
  },
  {
   "cell_type": "code",
   "execution_count": 76,
   "metadata": {},
   "outputs": [],
   "source": [
    "X3_train, y3_train = X3[:750], y3[:750]\n",
    "X3_val, y3_val = X3[750:850], y3[750:850]\n",
    "X3_test, y3_test = X3[850:], y3[850:]"
   ]
  },
  {
   "cell_type": "code",
   "execution_count": 77,
   "metadata": {},
   "outputs": [],
   "source": [
    "#Standardizing for Preprocessing. Followed video instructions, but could try a MinMax scaler next time\n",
    "prcp_training_mean3 = np.mean(X3_train[:, :, 0])\n",
    "prcp_training_std3 = np.mean(X3_train[:, :, 0])\n",
    "\n",
    "dsci_training_mean3 = np.mean(X3_train[:, :, 1])\n",
    "dsci_training_sd3 = np.std(X3_train[:, :, 1])\n",
    "\n",
    "def preprocess3(X):\n",
    "    X[:, :, 0] = (X[:, :, 0] - prcp_training_mean3/prcp_training_std3)\n",
    "    X[:, :, 1] = (X[:, :,1] - dsci_training_mean3/dsci_training_sd3)\n",
    "    return X\n",
    "def preprocess_out(X):\n",
    "    X[:, 0] = (X[:, 0] - prcp_training_mean3/prcp_training_std3)\n",
    "    X[:, 1] = (X[:,1] - dsci_training_mean3/dsci_training_sd3)\n",
    "    return X\n",
    "\n"
   ]
  },
  {
   "cell_type": "code",
   "execution_count": 78,
   "metadata": {},
   "outputs": [
    {
     "data": {
      "text/plain": [
       "array([[[-3.33333333e-02,  1.79432586e+01,  9.65598082e-01,\n",
       "         -2.60039120e-01],\n",
       "        [-2.27500000e-01,  1.79432586e+01,  9.27367405e-01,\n",
       "         -3.74151970e-01],\n",
       "        [-7.27500000e-01,  1.79432586e+01,  8.75705362e-01,\n",
       "         -4.82845853e-01],\n",
       "        ...,\n",
       "        [-7.60000000e-01,  1.79432586e+01,  7.35263828e-01,\n",
       "         -6.77781014e-01],\n",
       "        [-7.49166667e-01,  1.79432586e+01,  6.48518397e-01,\n",
       "         -7.61198981e-01],\n",
       "        [-9.82500000e-01,  1.79432586e+01,  5.52380262e-01,\n",
       "         -8.33592254e-01]],\n",
       "\n",
       "       [[-2.27500000e-01,  1.79432586e+01,  9.27367405e-01,\n",
       "         -3.74151970e-01],\n",
       "        [-7.27500000e-01,  1.79432586e+01,  8.75705362e-01,\n",
       "         -4.82845853e-01],\n",
       "        [-5.22500000e-01,  1.79432586e+01,  8.11360193e-01,\n",
       "         -5.84546523e-01],\n",
       "        ...,\n",
       "        [-7.49166667e-01,  1.79432586e+01,  6.48518397e-01,\n",
       "         -7.61198981e-01],\n",
       "        [-9.82500000e-01,  1.79432586e+01,  5.52380262e-01,\n",
       "         -8.33592254e-01],\n",
       "        [-9.65000000e-01,  1.79432586e+01,  4.48241823e-01,\n",
       "         -8.93912338e-01]],\n",
       "\n",
       "       [[-7.27500000e-01,  1.79432586e+01,  8.75705362e-01,\n",
       "         -4.82845853e-01],\n",
       "        [-5.22500000e-01,  1.79432586e+01,  8.11360193e-01,\n",
       "         -5.84546523e-01],\n",
       "        [-7.60000000e-01,  1.79432586e+01,  7.35263828e-01,\n",
       "         -6.77781014e-01],\n",
       "        ...,\n",
       "        [-9.82500000e-01,  1.79432586e+01,  5.52380262e-01,\n",
       "         -8.33592254e-01],\n",
       "        [-9.65000000e-01,  1.79432586e+01,  4.48241823e-01,\n",
       "         -8.93912338e-01],\n",
       "        [-2.50833333e-01,  1.79432586e+01,  3.37611351e-01,\n",
       "         -9.41285597e-01]],\n",
       "\n",
       "       ...,\n",
       "\n",
       "       [[-9.83333333e-01,  2.69943259e+02, -9.09344302e-01,\n",
       "          4.16044398e-01],\n",
       "        [-1.00000000e+00,  2.69943259e+02, -8.52780297e-01,\n",
       "          5.22269820e-01],\n",
       "        [-2.33409091e-01,  2.69943259e+02, -7.83865196e-01,\n",
       "          6.20931038e-01],\n",
       "        ...,\n",
       "        [-3.73181818e-01,  2.80443259e+02, -6.13138616e-01,\n",
       "          7.89975340e-01],\n",
       "        [-9.21893939e-01,  3.02943259e+02, -5.13799825e-01,\n",
       "          8.57910100e-01],\n",
       "        [-9.24545455e-01,  3.04943259e+02, -4.07019503e-01,\n",
       "          9.13419468e-01]],\n",
       "\n",
       "       [[-1.00000000e+00,  2.69943259e+02, -8.52780297e-01,\n",
       "          5.22269820e-01],\n",
       "        [-2.33409091e-01,  2.69943259e+02, -7.83865196e-01,\n",
       "          6.20931038e-01],\n",
       "        [-4.62727273e-01,  2.80943259e+02, -7.03597120e-01,\n",
       "          7.10599109e-01],\n",
       "        ...,\n",
       "        [-9.21893939e-01,  3.02943259e+02, -5.13799825e-01,\n",
       "          8.57910100e-01],\n",
       "        [-9.24545455e-01,  3.04943259e+02, -4.07019503e-01,\n",
       "          9.13419468e-01],\n",
       "        [-9.25000000e-02,  3.31443259e+02, -2.94344185e-01,\n",
       "          9.55699483e-01]],\n",
       "\n",
       "       [[-2.33409091e-01,  2.69943259e+02, -7.83865196e-01,\n",
       "          6.20931038e-01],\n",
       "        [-4.62727273e-01,  2.80943259e+02, -7.03597120e-01,\n",
       "          7.10599109e-01],\n",
       "        [-3.73181818e-01,  2.80443259e+02, -6.13138616e-01,\n",
       "          7.89975340e-01],\n",
       "        ...,\n",
       "        [-9.24545455e-01,  3.04943259e+02, -4.07019503e-01,\n",
       "          9.13419468e-01],\n",
       "        [-9.25000000e-02,  3.31443259e+02, -2.94344185e-01,\n",
       "          9.55699483e-01],\n",
       "        [-2.74545455e-01,  3.43943259e+02, -1.77405783e-01,\n",
       "          9.84137789e-01]]])"
      ]
     },
     "execution_count": 78,
     "metadata": {},
     "output_type": "execute_result"
    }
   ],
   "source": [
    "preprocess3(X3_train)\n",
    "preprocess3(X3_val)\n",
    "preprocess3(X3_test)"
   ]
  },
  {
   "cell_type": "code",
   "execution_count": 79,
   "metadata": {},
   "outputs": [
    {
     "data": {
      "text/plain": [
       "array([[[-1.03333333e+00,  1.69432586e+01, -3.44019180e-02,\n",
       "         -1.26003912e+00],\n",
       "        [-1.78424143e+00,  1.63865171e+01, -6.29374023e-01,\n",
       "         -1.93089340e+00],\n",
       "        [-7.27500000e-01,  1.79432586e+01,  8.75705362e-01,\n",
       "         -4.82845853e-01],\n",
       "        ...,\n",
       "        [-7.60000000e-01,  1.79432586e+01,  7.35263828e-01,\n",
       "         -6.77781014e-01],\n",
       "        [-7.49166667e-01,  1.79432586e+01,  6.48518397e-01,\n",
       "         -7.61198981e-01],\n",
       "        [-9.82500000e-01,  1.79432586e+01,  5.52380262e-01,\n",
       "         -8.33592254e-01]],\n",
       "\n",
       "       [[-1.22750000e+00,  1.69432586e+01, -7.26325951e-02,\n",
       "         -1.37415197e+00],\n",
       "        [-2.28424143e+00,  1.63865171e+01, -6.81036065e-01,\n",
       "         -2.03958728e+00],\n",
       "        [-5.22500000e-01,  1.79432586e+01,  8.11360193e-01,\n",
       "         -5.84546523e-01],\n",
       "        ...,\n",
       "        [-7.49166667e-01,  1.79432586e+01,  6.48518397e-01,\n",
       "         -7.61198981e-01],\n",
       "        [-9.82500000e-01,  1.79432586e+01,  5.52380262e-01,\n",
       "         -8.33592254e-01],\n",
       "        [-9.65000000e-01,  1.79432586e+01,  4.48241823e-01,\n",
       "         -8.93912338e-01]],\n",
       "\n",
       "       [[-1.72750000e+00,  1.69432586e+01, -1.24294638e-01,\n",
       "         -1.48284585e+00],\n",
       "        [-2.07924143e+00,  1.63865171e+01, -7.45381235e-01,\n",
       "         -2.14128795e+00],\n",
       "        [-7.60000000e-01,  1.79432586e+01,  7.35263828e-01,\n",
       "         -6.77781014e-01],\n",
       "        ...,\n",
       "        [-9.82500000e-01,  1.79432586e+01,  5.52380262e-01,\n",
       "         -8.33592254e-01],\n",
       "        [-9.65000000e-01,  1.79432586e+01,  4.48241823e-01,\n",
       "         -8.93912338e-01],\n",
       "        [-2.50833333e-01,  1.79432586e+01,  3.37611351e-01,\n",
       "         -9.41285597e-01]],\n",
       "\n",
       "       ...,\n",
       "\n",
       "       [[-1.98333333e+00,  2.68943259e+02, -1.90934430e+00,\n",
       "         -5.83955602e-01],\n",
       "        [-2.55674143e+00,  2.68386517e+02, -2.40952172e+00,\n",
       "         -1.03447161e+00],\n",
       "        [-2.33409091e-01,  2.69943259e+02, -7.83865196e-01,\n",
       "          6.20931038e-01],\n",
       "        ...,\n",
       "        [-3.73181818e-01,  2.80443259e+02, -6.13138616e-01,\n",
       "          7.89975340e-01],\n",
       "        [-9.21893939e-01,  3.02943259e+02, -5.13799825e-01,\n",
       "          8.57910100e-01],\n",
       "        [-9.24545455e-01,  3.04943259e+02, -4.07019503e-01,\n",
       "          9.13419468e-01]],\n",
       "\n",
       "       [[-2.00000000e+00,  2.68943259e+02, -1.85278030e+00,\n",
       "         -4.77730180e-01],\n",
       "        [-1.79015052e+00,  2.68386517e+02, -2.34060662e+00,\n",
       "         -9.35810390e-01],\n",
       "        [-4.62727273e-01,  2.80943259e+02, -7.03597120e-01,\n",
       "          7.10599109e-01],\n",
       "        ...,\n",
       "        [-9.21893939e-01,  3.02943259e+02, -5.13799825e-01,\n",
       "          8.57910100e-01],\n",
       "        [-9.24545455e-01,  3.04943259e+02, -4.07019503e-01,\n",
       "          9.13419468e-01],\n",
       "        [-9.25000000e-02,  3.31443259e+02, -2.94344185e-01,\n",
       "          9.55699483e-01]],\n",
       "\n",
       "       [[-1.23340909e+00,  2.68943259e+02, -1.78386520e+00,\n",
       "         -3.79068962e-01],\n",
       "        [-2.01946870e+00,  2.79386517e+02, -2.26033855e+00,\n",
       "         -8.46142319e-01],\n",
       "        [-3.73181818e-01,  2.80443259e+02, -6.13138616e-01,\n",
       "          7.89975340e-01],\n",
       "        ...,\n",
       "        [-9.24545455e-01,  3.04943259e+02, -4.07019503e-01,\n",
       "          9.13419468e-01],\n",
       "        [-9.25000000e-02,  3.31443259e+02, -2.94344185e-01,\n",
       "          9.55699483e-01],\n",
       "        [-2.74545455e-01,  3.43943259e+02, -1.77405783e-01,\n",
       "          9.84137789e-01]]])"
      ]
     },
     "execution_count": 79,
     "metadata": {},
     "output_type": "execute_result"
    }
   ],
   "source": [
    "preprocess_out(X3_train)\n",
    "preprocess_out(X3_val)\n",
    "preprocess_out(X3_test)"
   ]
  },
  {
   "cell_type": "code",
   "execution_count": 80,
   "metadata": {},
   "outputs": [
    {
     "name": "stdout",
     "output_type": "stream",
     "text": [
      "Model: \"sequential_4\"\n",
      "_________________________________________________________________\n",
      "Layer (type)                 Output Shape              Param #   \n",
      "=================================================================\n",
      "lstm_2 (LSTM)                (None, 64)                17664     \n",
      "_________________________________________________________________\n",
      "dense_8 (Dense)              (None, 8)                 520       \n",
      "_________________________________________________________________\n",
      "dense_9 (Dense)              (None, 2)                 18        \n",
      "=================================================================\n",
      "Total params: 18,202\n",
      "Trainable params: 18,202\n",
      "Non-trainable params: 0\n",
      "_________________________________________________________________\n"
     ]
    }
   ],
   "source": [
    "model5 = Sequential()\n",
    "model5.add(InputLayer((7,4)))\n",
    "model5.add(LSTM(64))\n",
    "model5.add(Dense(8, 'relu'))\n",
    "model5.add(Dense(2, 'linear'))\n",
    "model5.summary()"
   ]
  },
  {
   "cell_type": "code",
   "execution_count": 81,
   "metadata": {},
   "outputs": [],
   "source": [
    "cp5 = ModelCheckpoint('model5/', save_best_only=True)\n",
    "model5.compile(loss=MeanSquaredError(), optimizer = Adam(learning_rate=0.005), metrics=[RootMeanSquaredError()])"
   ]
  },
  {
   "cell_type": "code",
   "execution_count": 82,
   "metadata": {},
   "outputs": [
    {
     "name": "stdout",
     "output_type": "stream",
     "text": [
      "Epoch 1/10\n",
      "24/24 [==============================] - 8s 33ms/step - loss: 21283.2637 - root_mean_squared_error: 145.8878 - val_loss: 32320.3809 - val_root_mean_squared_error: 179.7787\n"
     ]
    },
    {
     "name": "stderr",
     "output_type": "stream",
     "text": [
      "WARNING:absl:Found untraced functions such as lstm_cell_3_layer_call_and_return_conditional_losses, lstm_cell_3_layer_call_fn, lstm_cell_3_layer_call_fn, lstm_cell_3_layer_call_and_return_conditional_losses, lstm_cell_3_layer_call_and_return_conditional_losses while saving (showing 5 of 5). These functions will not be directly callable after loading.\n"
     ]
    },
    {
     "name": "stdout",
     "output_type": "stream",
     "text": [
      "INFO:tensorflow:Assets written to: model5/assets\n"
     ]
    },
    {
     "name": "stderr",
     "output_type": "stream",
     "text": [
      "INFO:tensorflow:Assets written to: model5/assets\n"
     ]
    },
    {
     "name": "stdout",
     "output_type": "stream",
     "text": [
      "Epoch 2/10\n",
      "24/24 [==============================] - 0s 9ms/step - loss: 19300.5098 - root_mean_squared_error: 138.9263 - val_loss: 28471.3496 - val_root_mean_squared_error: 168.7346\n"
     ]
    },
    {
     "name": "stderr",
     "output_type": "stream",
     "text": [
      "WARNING:absl:Found untraced functions such as lstm_cell_3_layer_call_and_return_conditional_losses, lstm_cell_3_layer_call_fn, lstm_cell_3_layer_call_fn, lstm_cell_3_layer_call_and_return_conditional_losses, lstm_cell_3_layer_call_and_return_conditional_losses while saving (showing 5 of 5). These functions will not be directly callable after loading.\n"
     ]
    },
    {
     "name": "stdout",
     "output_type": "stream",
     "text": [
      "INFO:tensorflow:Assets written to: model5/assets\n"
     ]
    },
    {
     "name": "stderr",
     "output_type": "stream",
     "text": [
      "INFO:tensorflow:Assets written to: model5/assets\n"
     ]
    },
    {
     "name": "stdout",
     "output_type": "stream",
     "text": [
      "Epoch 3/10\n",
      "24/24 [==============================] - 0s 12ms/step - loss: 16023.6885 - root_mean_squared_error: 126.5847 - val_loss: 23167.6797 - val_root_mean_squared_error: 152.2093\n"
     ]
    },
    {
     "name": "stderr",
     "output_type": "stream",
     "text": [
      "WARNING:absl:Found untraced functions such as lstm_cell_3_layer_call_and_return_conditional_losses, lstm_cell_3_layer_call_fn, lstm_cell_3_layer_call_fn, lstm_cell_3_layer_call_and_return_conditional_losses, lstm_cell_3_layer_call_and_return_conditional_losses while saving (showing 5 of 5). These functions will not be directly callable after loading.\n"
     ]
    },
    {
     "name": "stdout",
     "output_type": "stream",
     "text": [
      "INFO:tensorflow:Assets written to: model5/assets\n"
     ]
    },
    {
     "name": "stderr",
     "output_type": "stream",
     "text": [
      "INFO:tensorflow:Assets written to: model5/assets\n"
     ]
    },
    {
     "name": "stdout",
     "output_type": "stream",
     "text": [
      "Epoch 4/10\n",
      "24/24 [==============================] - 0s 13ms/step - loss: 11853.0596 - root_mean_squared_error: 108.8718 - val_loss: 16968.9395 - val_root_mean_squared_error: 130.2649\n"
     ]
    },
    {
     "name": "stderr",
     "output_type": "stream",
     "text": [
      "WARNING:absl:Found untraced functions such as lstm_cell_3_layer_call_and_return_conditional_losses, lstm_cell_3_layer_call_fn, lstm_cell_3_layer_call_fn, lstm_cell_3_layer_call_and_return_conditional_losses, lstm_cell_3_layer_call_and_return_conditional_losses while saving (showing 5 of 5). These functions will not be directly callable after loading.\n"
     ]
    },
    {
     "name": "stdout",
     "output_type": "stream",
     "text": [
      "INFO:tensorflow:Assets written to: model5/assets\n"
     ]
    },
    {
     "name": "stderr",
     "output_type": "stream",
     "text": [
      "INFO:tensorflow:Assets written to: model5/assets\n"
     ]
    },
    {
     "name": "stdout",
     "output_type": "stream",
     "text": [
      "Epoch 5/10\n",
      "24/24 [==============================] - 1s 21ms/step - loss: 7782.1484 - root_mean_squared_error: 88.2165 - val_loss: 11246.2529 - val_root_mean_squared_error: 106.0484\n"
     ]
    },
    {
     "name": "stderr",
     "output_type": "stream",
     "text": [
      "WARNING:absl:Found untraced functions such as lstm_cell_3_layer_call_and_return_conditional_losses, lstm_cell_3_layer_call_fn, lstm_cell_3_layer_call_fn, lstm_cell_3_layer_call_and_return_conditional_losses, lstm_cell_3_layer_call_and_return_conditional_losses while saving (showing 5 of 5). These functions will not be directly callable after loading.\n"
     ]
    },
    {
     "name": "stdout",
     "output_type": "stream",
     "text": [
      "INFO:tensorflow:Assets written to: model5/assets\n"
     ]
    },
    {
     "name": "stderr",
     "output_type": "stream",
     "text": [
      "INFO:tensorflow:Assets written to: model5/assets\n"
     ]
    },
    {
     "name": "stdout",
     "output_type": "stream",
     "text": [
      "Epoch 6/10\n",
      "24/24 [==============================] - 0s 11ms/step - loss: 4594.5215 - root_mean_squared_error: 67.7829 - val_loss: 6964.7427 - val_root_mean_squared_error: 83.4550\n"
     ]
    },
    {
     "name": "stderr",
     "output_type": "stream",
     "text": [
      "WARNING:absl:Found untraced functions such as lstm_cell_3_layer_call_and_return_conditional_losses, lstm_cell_3_layer_call_fn, lstm_cell_3_layer_call_fn, lstm_cell_3_layer_call_and_return_conditional_losses, lstm_cell_3_layer_call_and_return_conditional_losses while saving (showing 5 of 5). These functions will not be directly callable after loading.\n"
     ]
    },
    {
     "name": "stdout",
     "output_type": "stream",
     "text": [
      "INFO:tensorflow:Assets written to: model5/assets\n"
     ]
    },
    {
     "name": "stderr",
     "output_type": "stream",
     "text": [
      "INFO:tensorflow:Assets written to: model5/assets\n"
     ]
    },
    {
     "name": "stdout",
     "output_type": "stream",
     "text": [
      "Epoch 7/10\n",
      "24/24 [==============================] - 0s 9ms/step - loss: 2629.0383 - root_mean_squared_error: 51.2741 - val_loss: 4322.3633 - val_root_mean_squared_error: 65.7447\n"
     ]
    },
    {
     "name": "stderr",
     "output_type": "stream",
     "text": [
      "WARNING:absl:Found untraced functions such as lstm_cell_3_layer_call_and_return_conditional_losses, lstm_cell_3_layer_call_fn, lstm_cell_3_layer_call_fn, lstm_cell_3_layer_call_and_return_conditional_losses, lstm_cell_3_layer_call_and_return_conditional_losses while saving (showing 5 of 5). These functions will not be directly callable after loading.\n"
     ]
    },
    {
     "name": "stdout",
     "output_type": "stream",
     "text": [
      "INFO:tensorflow:Assets written to: model5/assets\n"
     ]
    },
    {
     "name": "stderr",
     "output_type": "stream",
     "text": [
      "INFO:tensorflow:Assets written to: model5/assets\n"
     ]
    },
    {
     "name": "stdout",
     "output_type": "stream",
     "text": [
      "Epoch 8/10\n",
      "24/24 [==============================] - 0s 9ms/step - loss: 1560.7157 - root_mean_squared_error: 39.5059 - val_loss: 2793.1843 - val_root_mean_squared_error: 52.8506\n"
     ]
    },
    {
     "name": "stderr",
     "output_type": "stream",
     "text": [
      "WARNING:absl:Found untraced functions such as lstm_cell_3_layer_call_and_return_conditional_losses, lstm_cell_3_layer_call_fn, lstm_cell_3_layer_call_fn, lstm_cell_3_layer_call_and_return_conditional_losses, lstm_cell_3_layer_call_and_return_conditional_losses while saving (showing 5 of 5). These functions will not be directly callable after loading.\n"
     ]
    },
    {
     "name": "stdout",
     "output_type": "stream",
     "text": [
      "INFO:tensorflow:Assets written to: model5/assets\n"
     ]
    },
    {
     "name": "stderr",
     "output_type": "stream",
     "text": [
      "INFO:tensorflow:Assets written to: model5/assets\n"
     ]
    },
    {
     "name": "stdout",
     "output_type": "stream",
     "text": [
      "Epoch 9/10\n",
      "24/24 [==============================] - 0s 8ms/step - loss: 1019.0264 - root_mean_squared_error: 31.9222 - val_loss: 1895.8572 - val_root_mean_squared_error: 43.5414\n"
     ]
    },
    {
     "name": "stderr",
     "output_type": "stream",
     "text": [
      "WARNING:absl:Found untraced functions such as lstm_cell_3_layer_call_and_return_conditional_losses, lstm_cell_3_layer_call_fn, lstm_cell_3_layer_call_fn, lstm_cell_3_layer_call_and_return_conditional_losses, lstm_cell_3_layer_call_and_return_conditional_losses while saving (showing 5 of 5). These functions will not be directly callable after loading.\n"
     ]
    },
    {
     "name": "stdout",
     "output_type": "stream",
     "text": [
      "INFO:tensorflow:Assets written to: model5/assets\n"
     ]
    },
    {
     "name": "stderr",
     "output_type": "stream",
     "text": [
      "INFO:tensorflow:Assets written to: model5/assets\n"
     ]
    },
    {
     "name": "stdout",
     "output_type": "stream",
     "text": [
      "Epoch 10/10\n",
      "24/24 [==============================] - 0s 8ms/step - loss: 714.6318 - root_mean_squared_error: 26.7326 - val_loss: 1245.6741 - val_root_mean_squared_error: 35.2941\n"
     ]
    },
    {
     "name": "stderr",
     "output_type": "stream",
     "text": [
      "WARNING:absl:Found untraced functions such as lstm_cell_3_layer_call_and_return_conditional_losses, lstm_cell_3_layer_call_fn, lstm_cell_3_layer_call_fn, lstm_cell_3_layer_call_and_return_conditional_losses, lstm_cell_3_layer_call_and_return_conditional_losses while saving (showing 5 of 5). These functions will not be directly callable after loading.\n"
     ]
    },
    {
     "name": "stdout",
     "output_type": "stream",
     "text": [
      "INFO:tensorflow:Assets written to: model5/assets\n"
     ]
    },
    {
     "name": "stderr",
     "output_type": "stream",
     "text": [
      "INFO:tensorflow:Assets written to: model5/assets\n"
     ]
    }
   ],
   "source": [
    "history = (model5.fit(X3_train, y3_train, validation_data=(X3_val, y3_val), epochs=10, callbacks=[cp5]))"
   ]
  },
  {
   "cell_type": "code",
   "execution_count": 83,
   "metadata": {},
   "outputs": [],
   "source": [
    "def plot_predictions2(fignum, model, X, y, start=0, end = 100):\n",
    "    predictions = model.predict(X)\n",
    "    prcp_preds, dsci_preds = predictions[:, 0], predictions[:, 1]\n",
    "    prcp_actuals, dsci_actuals = y[:, 0], y[:, 1]\n",
    "    df = pd.DataFrame(data= {\n",
    "        'Precipitation Predictions': prcp_preds, \n",
    "        'Precipitation Actuals': prcp_actuals,\n",
    "        'DSCI Pred': dsci_preds,\n",
    "        'DSCI Actuals': dsci_actuals\n",
    "        })\n",
    "    plt.plot(df['Precipitation Predictions'][start:end], label='Precipitation Pred')\n",
    "    plt.plot(df['Precipitation Actuals'][start:end], label='Precipitation Actual')\n",
    "    plt.plot(df['DSCI Pred'][start:end], label = 'DSCI Predictions')\n",
    "    plt.plot(df['DSCI Actuals'][start:end], label = 'DSCI Actuals')\n",
    "    plt.legend(loc= 'upper left')\n",
    "    plt.savefig(f'fig{fignum}.png')\n",
    "\n",
    "    return df[start:end]\n"
   ]
  },
  {
   "cell_type": "code",
   "execution_count": 84,
   "metadata": {},
   "outputs": [
    {
     "data": {
      "text/html": [
       "<div>\n",
       "<style scoped>\n",
       "    .dataframe tbody tr th:only-of-type {\n",
       "        vertical-align: middle;\n",
       "    }\n",
       "\n",
       "    .dataframe tbody tr th {\n",
       "        vertical-align: top;\n",
       "    }\n",
       "\n",
       "    .dataframe thead th {\n",
       "        text-align: right;\n",
       "    }\n",
       "</style>\n",
       "<table border=\"1\" class=\"dataframe\">\n",
       "  <thead>\n",
       "    <tr style=\"text-align: right;\">\n",
       "      <th></th>\n",
       "      <th>Precipitation Predictions</th>\n",
       "      <th>Precipitation Actuals</th>\n",
       "      <th>DSCI Pred</th>\n",
       "      <th>DSCI Actuals</th>\n",
       "    </tr>\n",
       "  </thead>\n",
       "  <tbody>\n",
       "    <tr>\n",
       "      <th>0</th>\n",
       "      <td>0.350201</td>\n",
       "      <td>0.035000</td>\n",
       "      <td>18.129025</td>\n",
       "      <td>19.5</td>\n",
       "    </tr>\n",
       "    <tr>\n",
       "      <th>1</th>\n",
       "      <td>0.354329</td>\n",
       "      <td>0.749167</td>\n",
       "      <td>18.066074</td>\n",
       "      <td>19.5</td>\n",
       "    </tr>\n",
       "    <tr>\n",
       "      <th>2</th>\n",
       "      <td>0.377148</td>\n",
       "      <td>0.023333</td>\n",
       "      <td>14.055846</td>\n",
       "      <td>19.5</td>\n",
       "    </tr>\n",
       "    <tr>\n",
       "      <th>3</th>\n",
       "      <td>0.345724</td>\n",
       "      <td>0.010000</td>\n",
       "      <td>15.287726</td>\n",
       "      <td>19.5</td>\n",
       "    </tr>\n",
       "    <tr>\n",
       "      <th>4</th>\n",
       "      <td>0.352279</td>\n",
       "      <td>0.005000</td>\n",
       "      <td>18.002151</td>\n",
       "      <td>19.5</td>\n",
       "    </tr>\n",
       "    <tr>\n",
       "      <th>...</th>\n",
       "      <td>...</td>\n",
       "      <td>...</td>\n",
       "      <td>...</td>\n",
       "      <td>...</td>\n",
       "    </tr>\n",
       "    <tr>\n",
       "      <th>95</th>\n",
       "      <td>0.422576</td>\n",
       "      <td>0.760000</td>\n",
       "      <td>5.003932</td>\n",
       "      <td>8.5</td>\n",
       "    </tr>\n",
       "    <tr>\n",
       "      <th>96</th>\n",
       "      <td>0.338372</td>\n",
       "      <td>1.267500</td>\n",
       "      <td>5.227018</td>\n",
       "      <td>8.5</td>\n",
       "    </tr>\n",
       "    <tr>\n",
       "      <th>97</th>\n",
       "      <td>0.318854</td>\n",
       "      <td>0.435000</td>\n",
       "      <td>7.683122</td>\n",
       "      <td>3.5</td>\n",
       "    </tr>\n",
       "    <tr>\n",
       "      <th>98</th>\n",
       "      <td>0.304457</td>\n",
       "      <td>0.490000</td>\n",
       "      <td>2.925890</td>\n",
       "      <td>3.0</td>\n",
       "    </tr>\n",
       "    <tr>\n",
       "      <th>99</th>\n",
       "      <td>0.255826</td>\n",
       "      <td>0.037500</td>\n",
       "      <td>3.268897</td>\n",
       "      <td>3.0</td>\n",
       "    </tr>\n",
       "  </tbody>\n",
       "</table>\n",
       "<p>100 rows × 4 columns</p>\n",
       "</div>"
      ],
      "text/plain": [
       "    Precipitation Predictions  Precipitation Actuals  DSCI Pred  DSCI Actuals\n",
       "0                    0.350201               0.035000  18.129025          19.5\n",
       "1                    0.354329               0.749167  18.066074          19.5\n",
       "2                    0.377148               0.023333  14.055846          19.5\n",
       "3                    0.345724               0.010000  15.287726          19.5\n",
       "4                    0.352279               0.005000  18.002151          19.5\n",
       "..                        ...                    ...        ...           ...\n",
       "95                   0.422576               0.760000   5.003932           8.5\n",
       "96                   0.338372               1.267500   5.227018           8.5\n",
       "97                   0.318854               0.435000   7.683122           3.5\n",
       "98                   0.304457               0.490000   2.925890           3.0\n",
       "99                   0.255826               0.037500   3.268897           3.0\n",
       "\n",
       "[100 rows x 4 columns]"
      ]
     },
     "execution_count": 84,
     "metadata": {},
     "output_type": "execute_result"
    },
    {
     "data": {
      "image/png": "[encoded data removed]",
      "text/plain": [
       "<Figure size 432x288 with 1 Axes>"
      ]
     },
     "metadata": {
      "needs_background": "light"
     },
     "output_type": "display_data"
    }
   ],
   "source": [
    "plot_predictions2(11, model5, X3_test, y3_test)"
   ]
  },
  {
   "cell_type": "markdown",
   "metadata": {},
   "source": []
  },
  {
   "cell_type": "code",
   "execution_count": 85,
   "metadata": {},
   "outputs": [],
   "source": [
    "def postprocess_dsci(arr):\n",
    "    arr = (arr*dsci_training_sd3) + dsci_training_mean3\n",
    "    return arr\n",
    "\n",
    "def postprocess_prcp(arr):\n",
    "    arr = (arr*prcp_training_std3) + prcp_training_mean3\n",
    "    return arr"
   ]
  },
  {
   "cell_type": "code",
   "execution_count": 86,
   "metadata": {},
   "outputs": [],
   "source": [
    "def plot_predictions2(fignum, model, X, y, start=0, end = 100):\n",
    "    predictions = model.predict(X)\n",
    "    prcp_preds, dsci_preds = postprocess_prcp(predictions[:, 0]), postprocess_dsci(predictions[:, 1])\n",
    "    prcp_actuals, dsci_actuals = postprocess_prcp(y[:, 0]), postprocess_dsci(y[:, 1])\n",
    "    df = pd.DataFrame(data= {\n",
    "        'Precipitation Predictions': prcp_preds, \n",
    "        'Precipitation Actuals': prcp_actuals,\n",
    "        'DSCI Pred': dsci_preds,\n",
    "        'DSCI Actuals': dsci_actuals\n",
    "        })\n",
    "    plt.plot(df['Precipitation Predictions'][start:end])\n",
    "    plt.plot(df['Precipitation Actuals'][start:end])\n",
    "    plt.plot(df['DSCI Pred'][start:end])\n",
    "    plt.plot(df['DSCI Actuals'][start:end])\n",
    "    plt.savefig(f'fig{str(fignum)}.png')\n",
    "    return df[start:end]"
   ]
  },
  {
   "cell_type": "code",
   "execution_count": 87,
   "metadata": {},
   "outputs": [
    {
     "data": {
      "image/png": "[encoded data removed]",
      "text/plain": [
       "<Figure size 432x288 with 1 Axes>"
      ]
     },
     "metadata": {
      "needs_background": "light"
     },
     "output_type": "display_data"
    }
   ],
   "source": [
    "post_processed_df = plot_predictions2(12, model5, X3_test, y3_test)"
   ]
  },
  {
   "cell_type": "code",
   "execution_count": 88,
   "metadata": {},
   "outputs": [
    {
     "data": {
      "text/plain": [
       "[<matplotlib.lines.Line2D at 0x1565de940>]"
      ]
     },
     "execution_count": 88,
     "metadata": {},
     "output_type": "execute_result"
    },
    {
     "data": {
      "image/png": "[encoded data removed]",
      "text/plain": [
       "<Figure size 432x288 with 1 Axes>"
      ]
     },
     "metadata": {
      "needs_background": "light"
     },
     "output_type": "display_data"
    }
   ],
   "source": [
    "start, end = 0, 100\n",
    "plt.plot(post_processed_df['DSCI Pred'][start: end])\n",
    "plt.plot(post_processed_df['DSCI Actuals'][start: end])"
   ]
  },
  {
   "cell_type": "code",
   "execution_count": 89,
   "metadata": {},
   "outputs": [
    {
     "data": {
      "text/plain": [
       "[<matplotlib.lines.Line2D at 0x155794130>]"
      ]
     },
     "execution_count": 89,
     "metadata": {},
     "output_type": "execute_result"
    },
    {
     "data": {
      "image/png": "[encoded data removed]",
      "text/plain": [
       "<Figure size 432x288 with 1 Axes>"
      ]
     },
     "metadata": {
      "needs_background": "light"
     },
     "output_type": "display_data"
    }
   ],
   "source": [
    "start, end = 0, 100\n",
    "plt.plot(post_processed_df['Precipitation Predictions'][start: end])\n",
    "plt.plot(post_processed_df['Precipitation Actuals'][start: end])"
   ]
  },
  {
   "cell_type": "code",
   "execution_count": 90,
   "metadata": {},
   "outputs": [
    {
     "data": {
      "text/html": [
       "<div>\n",
       "<style scoped>\n",
       "    .dataframe tbody tr th:only-of-type {\n",
       "        vertical-align: middle;\n",
       "    }\n",
       "\n",
       "    .dataframe tbody tr th {\n",
       "        vertical-align: top;\n",
       "    }\n",
       "\n",
       "    .dataframe thead th {\n",
       "        text-align: right;\n",
       "    }\n",
       "</style>\n",
       "<table border=\"1\" class=\"dataframe\">\n",
       "  <thead>\n",
       "    <tr style=\"text-align: right;\">\n",
       "      <th></th>\n",
       "      <th>loss</th>\n",
       "      <th>root_mean_squared_error</th>\n",
       "      <th>val_loss</th>\n",
       "      <th>val_root_mean_squared_error</th>\n",
       "    </tr>\n",
       "  </thead>\n",
       "  <tbody>\n",
       "    <tr>\n",
       "      <th>0</th>\n",
       "      <td>21283.263672</td>\n",
       "      <td>145.887848</td>\n",
       "      <td>32320.380859</td>\n",
       "      <td>179.778687</td>\n",
       "    </tr>\n",
       "    <tr>\n",
       "      <th>1</th>\n",
       "      <td>19300.509766</td>\n",
       "      <td>138.926270</td>\n",
       "      <td>28471.349609</td>\n",
       "      <td>168.734573</td>\n",
       "    </tr>\n",
       "    <tr>\n",
       "      <th>2</th>\n",
       "      <td>16023.688477</td>\n",
       "      <td>126.584694</td>\n",
       "      <td>23167.679688</td>\n",
       "      <td>152.209320</td>\n",
       "    </tr>\n",
       "    <tr>\n",
       "      <th>3</th>\n",
       "      <td>11853.059570</td>\n",
       "      <td>108.871758</td>\n",
       "      <td>16968.939453</td>\n",
       "      <td>130.264893</td>\n",
       "    </tr>\n",
       "    <tr>\n",
       "      <th>4</th>\n",
       "      <td>7782.148438</td>\n",
       "      <td>88.216484</td>\n",
       "      <td>11246.252930</td>\n",
       "      <td>106.048355</td>\n",
       "    </tr>\n",
       "    <tr>\n",
       "      <th>5</th>\n",
       "      <td>4594.521484</td>\n",
       "      <td>67.782898</td>\n",
       "      <td>6964.742676</td>\n",
       "      <td>83.455032</td>\n",
       "    </tr>\n",
       "    <tr>\n",
       "      <th>6</th>\n",
       "      <td>2629.038330</td>\n",
       "      <td>51.274147</td>\n",
       "      <td>4322.363281</td>\n",
       "      <td>65.744682</td>\n",
       "    </tr>\n",
       "    <tr>\n",
       "      <th>7</th>\n",
       "      <td>1560.715698</td>\n",
       "      <td>39.505890</td>\n",
       "      <td>2793.184326</td>\n",
       "      <td>52.850586</td>\n",
       "    </tr>\n",
       "    <tr>\n",
       "      <th>8</th>\n",
       "      <td>1019.026428</td>\n",
       "      <td>31.922194</td>\n",
       "      <td>1895.857178</td>\n",
       "      <td>43.541439</td>\n",
       "    </tr>\n",
       "    <tr>\n",
       "      <th>9</th>\n",
       "      <td>714.631836</td>\n",
       "      <td>26.732599</td>\n",
       "      <td>1245.674072</td>\n",
       "      <td>35.294109</td>\n",
       "    </tr>\n",
       "  </tbody>\n",
       "</table>\n",
       "</div>"
      ],
      "text/plain": [
       "           loss  root_mean_squared_error      val_loss  \\\n",
       "0  21283.263672               145.887848  32320.380859   \n",
       "1  19300.509766               138.926270  28471.349609   \n",
       "2  16023.688477               126.584694  23167.679688   \n",
       "3  11853.059570               108.871758  16968.939453   \n",
       "4   7782.148438                88.216484  11246.252930   \n",
       "5   4594.521484                67.782898   6964.742676   \n",
       "6   2629.038330                51.274147   4322.363281   \n",
       "7   1560.715698                39.505890   2793.184326   \n",
       "8   1019.026428                31.922194   1895.857178   \n",
       "9    714.631836                26.732599   1245.674072   \n",
       "\n",
       "   val_root_mean_squared_error  \n",
       "0                   179.778687  \n",
       "1                   168.734573  \n",
       "2                   152.209320  \n",
       "3                   130.264893  \n",
       "4                   106.048355  \n",
       "5                    83.455032  \n",
       "6                    65.744682  \n",
       "7                    52.850586  \n",
       "8                    43.541439  \n",
       "9                    35.294109  "
      ]
     },
     "execution_count": 90,
     "metadata": {},
     "output_type": "execute_result"
    }
   ],
   "source": [
    "history_df = pd.DataFrame(history.history)\n",
    "history_df"
   ]
  },
  {
   "cell_type": "code",
   "execution_count": 91,
   "metadata": {},
   "outputs": [
    {
     "data": {
      "image/png": "[encoded data removed]",
      "text/plain": [
       "<Figure size 432x288 with 1 Axes>"
      ]
     },
     "metadata": {
      "needs_background": "light"
     },
     "output_type": "display_data"
    }
   ],
   "source": [
    "history_df.filter(like='loss').plot();\n",
    "plt.title(\"LSTM MSE Loss (Precipitation & Time Features)\", fontsize=16)\n",
    "plt.savefig('fig13.png')"
   ]
  },
  {
   "cell_type": "code",
   "execution_count": null,
   "metadata": {},
   "outputs": [],
   "source": []
  }
 ],
 "metadata": {
  "interpreter": {
   "hash": "3cb97f1d83f7509b06d804007dcb96c6ab417962c4fd7570dc4f1a7dc82dce2f"
  },
  "kernelspec": {
   "display_name": "Python 3.8.8 64-bit ('dsi-111': conda)",
   "language": "python",
   "name": "python3"
  },
  "language_info": {
   "codemirror_mode": {
    "name": "ipython",
    "version": 3
   },
   "file_extension": ".py",
   "mimetype": "text/x-python",
   "name": "python",
   "nbconvert_exporter": "python",
   "pygments_lexer": "ipython3",
   "version": "3.8.8"
  },
  "orig_nbformat": 4
 },
 "nbformat": 4,
 "nbformat_minor": 2
}
